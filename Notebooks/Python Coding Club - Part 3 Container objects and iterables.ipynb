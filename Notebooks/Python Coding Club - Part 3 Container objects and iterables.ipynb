{
 "cells": [
  {
   "attachments": {
    "image.png": {
     "image/png": "[encoded data removed]"
    }
   },
   "cell_type": "markdown",
   "metadata": {
    "nbpresent": {
     "id": "e757f315-bfd0-42b8-afab-0c1a9873bfc9"
    }
   },
   "source": [
    "![image.png](attachment:image.png)\n",
    "\n",
    "\n",
    "# Python Coding Club\n",
    "\n",
    "This series is to introduce Python as a programming language to be used for data analysis, scientific computing and plotting. It is by __no means comprehensive__ but will provide a basis for further investigation and exploration into this powerful language. These notes are __best visualised__ in a __Jupyter Notebook__ and I encourage you to __follow along__ in your __preferred IDE__."
   ]
  },
  {
   "cell_type": "markdown",
   "metadata": {},
   "source": [
    "# Part 3: Container objects and iterables\n",
    "\n",
    "Part 3 of this series will cover data structures or containers in Python including `list`s, `tuple`s, `set`s and `dict`s (dictionaries). The concept of an iterable will be introduced and afterwards, `for` loops will be explained.\n",
    "\n",
    "This part will first give an **introduction** to data containers, then it will introduce the `list`, `tuple`, `set` and `dict` container types and then will introduce ways to **iterate** over each **element** inside the structures.\n",
    "\n",
    "Remember to press **Shift+Enter** in the cells containing code to execute the code and see what it does."
   ]
  },
  {
   "cell_type": "markdown",
   "metadata": {},
   "source": [
    "## Part 3.1 Container introduction"
   ]
  },
  {
   "cell_type": "markdown",
   "metadata": {},
   "source": [
    "Part 2 introduced the concepts of **keywords**, **variables**, **operators** and **objects**. These will all be used in this section. \n",
    "\n",
    "Containers or data structures are ways to **organise variables**. In Python these variables can relate to **any type of object**. \n",
    "\n",
    "Containers are particularly useful in scientific computing as **all the data points** of a graph can be **contained** within a container object such as a `list`.\n",
    "\n",
    "This removes the need to type out specific variables for each data point and instead **encapsulates** the data into a singular data structure. \n",
    "\n",
    "For instance:"
   ]
  },
  {
   "cell_type": "code",
   "execution_count": null,
   "metadata": {},
   "outputs": [],
   "source": [
    "x = [0,1,3,4,6,7,3,5,2] # List of 'x' values\n",
    "y = [10,3,6,3,2,3,5,7,5] # List of 'y' values\n",
    "\n",
    "data = [x,y] # List of 'x' and 'y' values together\n",
    "\n",
    "print(f\"x has {len(x)} elements\\ny has {len(y)} elements\\ndata has {len(data)} elements\")\n",
    "print(data)"
   ]
  },
  {
   "cell_type": "markdown",
   "metadata": {},
   "source": [
    "The code above utilises the `[]` square brackets to **construct** a `list` object with the arbitrary values shown above and assigns it to the variable `x`. A similar line of code assigns another `list` to `y`. \n",
    "\n",
    "The `data` variable is assigned to a `list` object (denoted by `[]`) of the `x` and `y` `list`s. This makes `list`s `x` and `y` have 9 **elements** in total, whilst `data` has 2; the first element being `x` and the second being `y`.\n",
    "\n",
    "In this way the `data` has been assigned to a single variable that holds all the `x` and `y` data together. \n",
    "\n",
    "Utilising data containers can become very powerful when using large amounts of data.\n",
    "\n",
    "There are **four** main data containers in Python, namely:\n",
    "\n",
    "- **Lists** or `list`: An **ordered**, **indexed** and **mutable** container that **allows duplicates**.\n",
    "- **Tuples** or `tuple`: An **ordered**, **indexed** and **immutable** container that **allows duplicates**.\n",
    "- **Sets** or `set`: An **unordered**, **unindexed** and **mutable** container that **does not allow duplicates**.\n",
    "- **Dictionaries** or `dict`: An **unordered**, **indexed** and **mutable** container that **does not allow duplicates**.\n",
    "\n",
    "**Ordered** means that the **order** of the data is important, i.e. `x = [x0, x1, x2]` are ordered.\n",
    "\n",
    "**Indexed** means that the data can be *accessed* using an **index**. In Python, indexed containers are **zero-indexed** meaning that the first element is classed as the **0th element** in the container, i.e. the 0th element in the `x` list is `x0`. \n",
    "\n",
    "**Mutable** means that the container can be **altered** in some way, i.e. adding an element, removing an element etc.\n",
    "\n",
    "**Allowing duplicates** means that the container **duplicate objects** as **elements**, i.e. `x = [2, 4, 2]` is allowed and `2` is in `x` twice.\n",
    "<br>\n",
    "<br><br>\n",
    "Each data container has their own set of **methods** and **functionality** and therefore their use depends heavily on the dataset being used. \n",
    "\n",
    "The first data container we will consider is the `list`."
   ]
  },
  {
   "cell_type": "markdown",
   "metadata": {},
   "source": [
    "## Part 3.2 Lists"
   ]
  },
  {
   "cell_type": "markdown",
   "metadata": {},
   "source": [
    "### Constructing lists"
   ]
  },
  {
   "cell_type": "markdown",
   "metadata": {},
   "source": [
    "A `list` is a **fundamental** and useful data container in Python. \n",
    "\n",
    "A list can be **constructed** in two different ways, either using `[]` **square brackets** to contain the elements or by using the `list()` **constructor method** and passing in the **elements of the list** in **brackets as the parameter**. \n",
    "\n",
    "Note that each element of a Python list is separated with a `,` comma.\n",
    "\n",
    ">**Technincally** the second method is converting a `tuple` - denoted by `()` - into a `list` with the `list()` constructor. More on this later.\n",
    "\n",
    "This second method is similar to how we used `float()` and `int()` or `str()` in part 2. "
   ]
  },
  {
   "cell_type": "code",
   "execution_count": null,
   "metadata": {},
   "outputs": [],
   "source": [
    "fruits = ['apples', 'pears', 'lemons']  # Constructing a list with square brackets\n",
    "fruits2 = list(('apples', 'pears', 'lemons')) # Constructing a list with the list() constructor method.\n",
    "\n",
    "print(fruits)\n",
    "print(fruits2)\n",
    "print(type(fruits))\n",
    "print(type(fruits2))"
   ]
  },
  {
   "cell_type": "markdown",
   "metadata": {},
   "source": [
    "As shown above, these two methods are equivalent.\n",
    "\n",
    "**Note** that the `type` of the `list` object says `<class 'list'>`. This means that the `type` or `class` of the `fruits` variable is `'list'`. The output is different to Part 2 where we used `type()` on `str` objects to get `str` as here the `print()` function is being used. \n",
    "\n",
    "For instance:"
   ]
  },
  {
   "cell_type": "code",
   "execution_count": null,
   "metadata": {},
   "outputs": [],
   "source": [
    "hello_str = 'Hello'\n",
    "hello_list = [hello_str]\n",
    "\n",
    "print(type(hello_str)) # This line includes the 'class' word\n",
    "print(type(hello_list))# This line includes the 'class' word\n",
    "type(hello_str) # This simply outputs the name of whatever 'class' the object is to the notebook"
   ]
  },
  {
   "cell_type": "markdown",
   "metadata": {},
   "source": [
    "This is simply a feature of jupyter notebooks to show the output of code typed into code snippets, typing `type(<var_name>)` into your **IDE** will not produce output like that shown **unless** the `print()` function is used. "
   ]
  },
  {
   "cell_type": "markdown",
   "metadata": {},
   "source": [
    "Also, note that above in **Part 3.1** we created a `list` of `int` values, however above we have created a `list` of `str` objects or strings. Python is very versatile and can contain **different object types** within the same list."
   ]
  },
  {
   "cell_type": "code",
   "execution_count": null,
   "metadata": {},
   "outputs": [],
   "source": [
    "jumbled_list = ['apples', 34, 7.0, 3+4j, True] # List of different data types\n",
    "\n",
    "for element in jumbled_list: # For loop iterates over each element of the list\n",
    "    print(element,'\\t', type(element))"
   ]
  },
  {
   "cell_type": "markdown",
   "metadata": {},
   "source": [
    "Above the `jumbled_list` contains objects of various types introduced in part 2. This shows the versatility of Python containers. \n",
    "\n",
    "Note a `for` loop was used here to iterate over each element of the `jumbled_list`. These types of loop will be properly introduced later. "
   ]
  },
  {
   "cell_type": "markdown",
   "metadata": {},
   "source": [
    "### Accessing lists"
   ]
  },
  {
   "cell_type": "markdown",
   "metadata": {},
   "source": [
    "Since lists are **ordered** and **indexed**, the elements of a `list` can be accessed using the **index** next to the list name."
   ]
  },
  {
   "cell_type": "markdown",
   "metadata": {},
   "source": [
    "Since data structures in Python are zero-indexed, `jumbled_list[0]` accesses the *first* or **0th** element in the list."
   ]
  },
  {
   "cell_type": "code",
   "execution_count": null,
   "metadata": {},
   "outputs": [],
   "source": [
    "print(jumbled_list[0]) # This accesses the '0th' element in the list\n",
    "print(jumbled_list[1])\n",
    "print(jumbled_list[2])\n",
    "print(jumbled_list[3])\n",
    "print(jumbled_list[4])"
   ]
  },
  {
   "cell_type": "markdown",
   "metadata": {},
   "source": [
    "Note if we try use an index that is not in the `list` (i.e. `5`) we get an `IndexError`."
   ]
  },
  {
   "cell_type": "code",
   "execution_count": null,
   "metadata": {},
   "outputs": [],
   "source": [
    "print(jumbled_list[5])"
   ]
  },
  {
   "cell_type": "markdown",
   "metadata": {},
   "source": [
    "This means that there is no **'5th'** index as the indices go from 0-4 in this list."
   ]
  },
  {
   "cell_type": "markdown",
   "metadata": {},
   "source": [
    "We can also access from the 'last' element in the list by indexing with negative numbers, starting from '-1'."
   ]
  },
  {
   "cell_type": "code",
   "execution_count": null,
   "metadata": {},
   "outputs": [],
   "source": [
    "print(jumbled_list[-1])\n",
    "print(jumbled_list[-2])\n",
    "print(jumbled_list[-3])\n",
    "print(jumbled_list[-4])\n",
    "print(jumbled_list[-5])"
   ]
  },
  {
   "cell_type": "markdown",
   "metadata": {},
   "source": [
    "Lists can also be accessed in **slices** by using similar notation.\n",
    "\n",
    "Here, the `[n:m]` means access the items **from and including** `n` **to and not-including** `m`."
   ]
  },
  {
   "cell_type": "code",
   "execution_count": null,
   "metadata": {},
   "outputs": [],
   "source": [
    "print(jumbled_list[1:4])"
   ]
  },
  {
   "cell_type": "markdown",
   "metadata": {},
   "source": [
    "Note how element `4` which is the `bool` value `True` was no accessed as **slice** notation is **non inclusive**. \n",
    "\n",
    "Leaving `n` blank defaults to the **0th element** and leaving `m` blank defaults to the **-1th element** (i.e. the last in the list). \n",
    "\n",
    "Slice notation can also work fully in negative indices."
   ]
  },
  {
   "cell_type": "code",
   "execution_count": null,
   "metadata": {},
   "outputs": [],
   "source": [
    "print(jumbled_list[:3])\n",
    "print(jumbled_list[2:])"
   ]
  },
  {
   "cell_type": "markdown",
   "metadata": {},
   "source": [
    "Slice notation can be modified to select a 'step' value. \n",
    "\n",
    "For instance `[n:m:i]` means select the elements from `n` to `m` in steps of `i`. Again, leaving `n` and `m` blank defaults to the beginning and end respectively."
   ]
  },
  {
   "cell_type": "code",
   "execution_count": null,
   "metadata": {},
   "outputs": [],
   "source": [
    "print(jumbled_list)\n",
    "print(jumbled_list[::2])"
   ]
  },
  {
   "cell_type": "markdown",
   "metadata": {},
   "source": [
    "Variables can also be assigned via **unpacking** of containers. This requires prior knowledge of the number of container elements (i.e. the container length or `len()`. \n",
    "\n",
    "For instance:"
   ]
  },
  {
   "cell_type": "markdown",
   "metadata": {},
   "source": [
    "The number of elements in the list can also be found by using the built-in `len()` function and passing the `list` as a parameter. "
   ]
  },
  {
   "cell_type": "code",
   "execution_count": null,
   "metadata": {},
   "outputs": [],
   "source": [
    "print(len(jumbled_list))\n",
    "print(len(jumbled_list[2:]))"
   ]
  },
  {
   "cell_type": "code",
   "execution_count": null,
   "metadata": {},
   "outputs": [],
   "source": [
    "var1, var2, var3, var4, var5 = jumbled_list # 'Unpacking' the list into 5 seperate variables in order of assignment.\n",
    "\n",
    "print(var1)\n",
    "print(var2)\n",
    "print(var3)\n",
    "print(var4)\n",
    "print(var5)"
   ]
  },
  {
   "cell_type": "markdown",
   "metadata": {},
   "source": [
    "Unpacking the wrong number of objects obtains a `ValueError`. This `Error` is saying that it is expecting 2 values in the list `jumbled_list` but there were more than 2 items in the list."
   ]
  },
  {
   "cell_type": "code",
   "execution_count": null,
   "metadata": {},
   "outputs": [],
   "source": [
    "var1, var2 = jumbled_list\n",
    "print(var1)\n",
    "print(var2)"
   ]
  },
  {
   "cell_type": "markdown",
   "metadata": {},
   "source": [
    "**Lists** can also **contain other** `list` **objects**."
   ]
  },
  {
   "cell_type": "code",
   "execution_count": null,
   "metadata": {},
   "outputs": [],
   "source": [
    "pos1 = [45, 234, 23456]\n",
    "pos2 = [800, 2, 6]\n",
    "pos3 = [9, 24, 234]\n",
    "\n",
    "positions = [pos1, pos2, pos3]\n",
    "print(positions)"
   ]
  },
  {
   "cell_type": "markdown",
   "metadata": {},
   "source": [
    "### Altering list elements"
   ]
  },
  {
   "cell_type": "markdown",
   "metadata": {},
   "source": [
    "Since lists are **changeable** there are numerous ways to **replace**, **add**, **insert** and **remove** elements.\n",
    "\n",
    "List elements can be altered by accessing elements using **slice** notation and the assignment operator `=`.  "
   ]
  },
  {
   "cell_type": "code",
   "execution_count": null,
   "metadata": {},
   "outputs": [],
   "source": [
    "jumbled_list[4] = False\n",
    "print(jumbled_list)"
   ]
  },
  {
   "cell_type": "markdown",
   "metadata": {},
   "source": [
    "This code has accessed the '4th' element (5th item in the list) and then set it equal to `False`. \n",
    "\n",
    "The same can be done for a range. The code below replaces all the elements from 0-2 (3 is non-inclusive) to a single element list of `[3.0]`. "
   ]
  },
  {
   "cell_type": "code",
   "execution_count": null,
   "metadata": {},
   "outputs": [],
   "source": [
    "jumbled_list[:3] = [3.0]\n",
    "print(jumbled_list)"
   ]
  },
  {
   "cell_type": "markdown",
   "metadata": {},
   "source": [
    "If you wanted to keep the total number of elements the same, this can be done using:"
   ]
  },
  {
   "cell_type": "code",
   "execution_count": null,
   "metadata": {},
   "outputs": [],
   "source": [
    "jumbled_list = ['apples', 34, 7.0, 3+4j, True]\n",
    "print(jumbled_list)\n",
    "jumbled_list[:2] = [3.0]*len(jumbled_list[:2])\n",
    "print(jumbled_list)"
   ]
  },
  {
   "cell_type": "markdown",
   "metadata": {},
   "source": [
    "This sets the elements from 0-1 to a list of `[3.0]*2`. Operations on `list`s will be covered shortly.\n",
    "\n",
    "Note that the `[3.0]` is itself a single element list. \n",
    "\n",
    "Similarly a multi-element list can be used to replace the sliced fields:"
   ]
  },
  {
   "cell_type": "code",
   "execution_count": null,
   "metadata": {},
   "outputs": [],
   "source": [
    "jumbled_list = ['apples', 34, 7.0, 3+4j, True]\n",
    "print(jumbled_list)\n",
    "\n",
    "jumbled_list[:2] = [3.0, 5.3, 'hello']\n",
    "print(jumbled_list)"
   ]
  },
  {
   "cell_type": "markdown",
   "metadata": {},
   "source": [
    "Note the list is now one element longer since we replaced two elements with three elements."
   ]
  },
  {
   "cell_type": "markdown",
   "metadata": {},
   "source": [
    "#### Adding elements"
   ]
  },
  {
   "cell_type": "markdown",
   "metadata": {},
   "source": [
    "Elements can also be **added** to a list in different ways.\n",
    "\n",
    "Firstly using the `list.append()` method. This method takes one parameter (the element to add) and adds it at the end of the list.\n",
    "\n",
    "Note the `append()` method takes a singular parameter, but this parameter could itself be a list."
   ]
  },
  {
   "cell_type": "code",
   "execution_count": null,
   "metadata": {},
   "outputs": [],
   "source": [
    "jumbled_list.append('new element')\n",
    "print(jumbled_list)"
   ]
  },
  {
   "cell_type": "code",
   "execution_count": null,
   "metadata": {},
   "outputs": [],
   "source": [
    "jumbled_list.append(fruits)\n",
    "print(jumbled_list)"
   ]
  },
  {
   "cell_type": "markdown",
   "metadata": {},
   "source": [
    "Now the last element in `jumbled_list` is the `fruits` list, therefore we have a list in a list. "
   ]
  },
  {
   "cell_type": "markdown",
   "metadata": {},
   "source": [
    "Lists can also be **added to other lists** rather than **appending** by using concatenation using the `+` operator."
   ]
  },
  {
   "cell_type": "code",
   "execution_count": null,
   "metadata": {},
   "outputs": [],
   "source": [
    "vegetables = ['peas', 'carrots', 'mushrooms']\n",
    "fruit_n_veg = fruits + vegetables\n",
    "print(fruit_n_veg)"
   ]
  },
  {
   "cell_type": "markdown",
   "metadata": {},
   "source": [
    "This can also be achieved using the `list.extend()` method which takes **one parameter** which is another container and appends the elements of the second container on the end of the `list`. "
   ]
  },
  {
   "cell_type": "code",
   "execution_count": null,
   "metadata": {},
   "outputs": [],
   "source": [
    "list1 = [1,4,5,2,True]\n",
    "list2 = [24,2453,False, 'hello']\n",
    "\n",
    "list1.extend(list2)\n",
    "print(list1)"
   ]
  },
  {
   "cell_type": "markdown",
   "metadata": {},
   "source": [
    "The `*` operator can also be used as well.\n",
    "\n",
    "The below code adds the `list` `fruits` to itself 3 times to create the variable `more_fruits`. "
   ]
  },
  {
   "cell_type": "code",
   "execution_count": null,
   "metadata": {},
   "outputs": [],
   "source": [
    "more_fruits = fruits*3\n",
    "print(more_fruits)"
   ]
  },
  {
   "cell_type": "markdown",
   "metadata": {},
   "source": [
    "Note the action of the `*` and `+` operators on lists is the same when using lists of **numeric data types** such as `float`s and `int`s. Therefore having an `x` list of data and multiplying the list by a value **does not** multiply each element by that number, it simply concatenates the list. \n",
    "\n",
    "There are ways to use **element-wise operations** using either `for` **loops** or by using a **data container** that has element-wise operations supported, such as a NumPy `array` from the NumPy package. More on NumPy in later Parts."
   ]
  },
  {
   "cell_type": "markdown",
   "metadata": {},
   "source": [
    "#### Inserting elements into lists\n",
    "\n",
    "To **insert** a value into a specific **index** of a list can use the `list.insert()` method.\n",
    "\n",
    "This method takes two parameters, first the index of which to add the element, and second the element to be added."
   ]
  },
  {
   "cell_type": "code",
   "execution_count": null,
   "metadata": {},
   "outputs": [],
   "source": [
    "print(fruits)\n",
    "fruits.insert(2, 'limes')\n",
    "print(fruits)"
   ]
  },
  {
   "cell_type": "markdown",
   "metadata": {},
   "source": [
    "The above code adds the `str` `'limes'` to the '2nd' element in the list. \n",
    "\n",
    "Note this is different to slice assignment as this **does not** replace the elements, it simply inserts them."
   ]
  },
  {
   "cell_type": "markdown",
   "metadata": {},
   "source": [
    "#### Removing elements from a list"
   ]
  },
  {
   "cell_type": "markdown",
   "metadata": {},
   "source": [
    "Elements can be removed from a list by using the `list.remove()` method. \n",
    "\n",
    "This method takes one parameter, which is the list element desired to be removed."
   ]
  },
  {
   "cell_type": "code",
   "execution_count": null,
   "metadata": {},
   "outputs": [],
   "source": [
    "fruits.remove('limes')\n",
    "print(fruits)"
   ]
  },
  {
   "cell_type": "markdown",
   "metadata": {},
   "source": [
    "The `list.pop()` method removes the last element of the list if no parameters are given, otherwise it removes the element with the index passed into the method.\n",
    "\n",
    "Note the `list.pop()` method **returns the removed element**."
   ]
  },
  {
   "cell_type": "code",
   "execution_count": null,
   "metadata": {},
   "outputs": [],
   "source": [
    "a_fruit = fruits.pop() # This removes and returns the last element of the list.\n",
    "print(fruits)\n",
    "print(a_fruit)"
   ]
  },
  {
   "cell_type": "code",
   "execution_count": null,
   "metadata": {},
   "outputs": [],
   "source": [
    "vegetables = ['carrots', 'mushrooms', 'tomatoes', 'peas', 'peppers']\n",
    "\n",
    "a_veg = vegetables.pop(2) # This removes and returns the '2nd' element of the vegetables list.\n",
    "print(vegetables)\n",
    "print(a_veg)"
   ]
  },
  {
   "cell_type": "markdown",
   "metadata": {},
   "source": [
    "The `del` keyword fully deletes either the list element or the list."
   ]
  },
  {
   "cell_type": "code",
   "execution_count": null,
   "metadata": {},
   "outputs": [],
   "source": [
    "del vegetables[1]\n",
    "print(vegetables)"
   ]
  },
  {
   "cell_type": "code",
   "execution_count": null,
   "metadata": {},
   "outputs": [],
   "source": [
    "del vegetables\n",
    "print(vegetables)"
   ]
  },
  {
   "cell_type": "markdown",
   "metadata": {},
   "source": [
    "The `NameError` is due to the variable vegetables being deleted and therefore not being defined anymore. "
   ]
  },
  {
   "cell_type": "markdown",
   "metadata": {},
   "source": [
    "Lastly, the `list.clear()` method deletes all the elements in the list, returning an empty list."
   ]
  },
  {
   "cell_type": "code",
   "execution_count": null,
   "metadata": {},
   "outputs": [],
   "source": [
    "fruits.clear()\n",
    "print(fruits)"
   ]
  },
  {
   "cell_type": "markdown",
   "metadata": {},
   "source": [
    "#### List methods\n",
    "\n",
    "The full table of `list` methods available are shown in the table below. Many of these have been discussed but can all be used via the\n",
    ">`<list_object>.<method_name>()` \n",
    "\n",
    "notation."
   ]
  },
  {
   "cell_type": "markdown",
   "metadata": {},
   "source": [
    "**Method**|**Description**\n",
    ":-----|:-----\n",
    "`append()`|Adds an element at the end of the list\n",
    "`clear()`|Removes all the elements from the list\n",
    "`copy()`|Returns a copy of the list\n",
    "`count()`|Returns the number of elements with the specified value\n",
    "`extend()`|Add the elements of a list (or any iterable), to the end of the current list\n",
    "`index()`|Returns the index of the first element with the specified value\n",
    "`insert()`|Adds an element at the specified position\n",
    "`pop()`|Removes the element at the specified position\n",
    "`remove()`|Removes the item with the specified value\n",
    "`reverse()`|Reverses the order of the list\n",
    "`sort()`|Sorts the list"
   ]
  },
  {
   "cell_type": "markdown",
   "metadata": {},
   "source": [
    "These methods can be **particularly useful** when analysing data. \n",
    "\n",
    "Knowing what methods **do** and what they **return** is particularly important.\n",
    "\n",
    "For instance, `.append()` does not return a new list, instead it alters the list it acts on, whilst `.pop()` removes an element from the list **AND** **returns** that element if required to reference later. "
   ]
  },
  {
   "cell_type": "markdown",
   "metadata": {},
   "source": [
    "#### Conditionals with lists"
   ]
  },
  {
   "cell_type": "markdown",
   "metadata": {},
   "source": [
    "**Membership operators** (introduced in part 2) can be used to check if a list contains a specific element."
   ]
  },
  {
   "cell_type": "code",
   "execution_count": null,
   "metadata": {},
   "outputs": [],
   "source": [
    "vegetables = ['carrots', 'mushrooms', 'tomatoes', 'peas', 'peppers']\n",
    "print('carrots' in vegetables)\n",
    "print('apples' in vegetables)"
   ]
  },
  {
   "cell_type": "markdown",
   "metadata": {},
   "source": [
    "This can be combined with `if` statements to execute code in a **code block** if the condition evaluates to `True`."
   ]
  },
  {
   "cell_type": "code",
   "execution_count": null,
   "metadata": {},
   "outputs": [],
   "source": [
    "if 'carrots' in vegetables:\n",
    "    print(\"carrots is in vegetables\")"
   ]
  },
  {
   "cell_type": "markdown",
   "metadata": {},
   "source": [
    "Similarly the `not` keyword can be used to swap the `bool` value in conditional statements (as shown in part 2) to check if a `list` does **not** contain a value."
   ]
  },
  {
   "cell_type": "markdown",
   "metadata": {},
   "source": [
    "Lists are a **fundamental** data container in Python and are very useful, therefore having a good understanding of what **kind of data they can hold**, how to **access the data** and **how to add/remove** and otherwise **alter** the data is very important when deciding what data container to use for a given application."
   ]
  },
  {
   "cell_type": "markdown",
   "metadata": {},
   "source": [
    "## Part 3.3 Tuples"
   ]
  },
  {
   "cell_type": "markdown",
   "metadata": {},
   "source": [
    "### Constructing tuples"
   ]
  },
  {
   "cell_type": "markdown",
   "metadata": {},
   "source": [
    "Tuples or `tuple` type objects are very similar to `list` objects in that they are **ordered** and **indexed** but are **unchangeable**.\n",
    "\n",
    "This means that once a `tuple` has been constructed, its elements **cannot be altered** via addition or removing methods. \n",
    "\n",
    "A tuple can be **constructed** by using `()` **round brackets** or the `tuple()` constructor/converter to convert a valid iterator to a `tuple`."
   ]
  },
  {
   "cell_type": "code",
   "execution_count": null,
   "metadata": {},
   "outputs": [],
   "source": [
    "apples = ('granny smith', 'pink lady', 'golden delish')\n",
    "citrus = tuple(['tangerine', 'orange', 'lime', 'lemon'])\n",
    "\n",
    "print(type(apples))\n",
    "print(type(citrus))"
   ]
  },
  {
   "cell_type": "markdown",
   "metadata": {},
   "source": [
    "Note above we used `[]` in the `tuple()` constructor. This is to illustrate that `list` and `tuple` objects can be interconverted by using the appropriate constructor method."
   ]
  },
  {
   "cell_type": "code",
   "execution_count": null,
   "metadata": {},
   "outputs": [],
   "source": [
    "citrus = list(citrus)\n",
    "print(type(citrus))\n",
    "\n",
    "citrus = tuple(citrus)\n",
    "print(type(citrus))"
   ]
  },
  {
   "cell_type": "markdown",
   "metadata": {},
   "source": [
    "To create a single entry `tuple`, a comma must be used after the entry, otherwise Python will not recognise the variable as a `tuple`."
   ]
  },
  {
   "cell_type": "code",
   "execution_count": null,
   "metadata": {},
   "outputs": [],
   "source": [
    "tup = (3,)\n",
    "not_tup = (3)\n",
    "print(type(tup))\n",
    "print(type(not_tup))"
   ]
  },
  {
   "cell_type": "markdown",
   "metadata": {},
   "source": [
    "Tuples can also be accessed in the same way as lists using **slice notation** of `[]` next to the tuple name. This returns a new `tuple` containing the elements of the **sliced** `tuple`."
   ]
  },
  {
   "cell_type": "code",
   "execution_count": null,
   "metadata": {},
   "outputs": [],
   "source": [
    "cit1 = citrus[2:-1]\n",
    "print(type(cit1))\n",
    "print(cit1)"
   ]
  },
  {
   "cell_type": "markdown",
   "metadata": {},
   "source": [
    "Membership can also be used for `tuple` objects in the same way as `list` objects. "
   ]
  },
  {
   "cell_type": "code",
   "execution_count": null,
   "metadata": {},
   "outputs": [],
   "source": [
    "if 'lemon' in citrus:\n",
    "    print('lemon is in citrus')"
   ]
  },
  {
   "cell_type": "markdown",
   "metadata": {},
   "source": [
    "Since `tuple` objects are **immutable** thus the elements of a `tuple` cannot be modified."
   ]
  },
  {
   "cell_type": "code",
   "execution_count": null,
   "metadata": {},
   "outputs": [],
   "source": [
    "citrus[2] = 'grapefruit'"
   ]
  },
  {
   "cell_type": "markdown",
   "metadata": {},
   "source": [
    "Tuples can be concatenated however, but to return a new `tuple`.\n",
    "\n",
    "Of course in Python the previous tuple can be **re-assigned** with the value of the new `tuple`."
   ]
  },
  {
   "cell_type": "code",
   "execution_count": null,
   "metadata": {},
   "outputs": [],
   "source": [
    "citrus_n_apples = apples+citrus\n",
    "print(citrus_n_apples)"
   ]
  },
  {
   "cell_type": "code",
   "execution_count": null,
   "metadata": {},
   "outputs": [],
   "source": [
    "citrus = citrus+citrus\n",
    "print(citrus)"
   ]
  },
  {
   "cell_type": "markdown",
   "metadata": {},
   "source": [
    "This is one 'work-around' for _'altering'_ `tuple` objects. \n",
    "\n",
    "**Note** the original `tuple` was not changed but the `citrus` **variable** was **re-assigned** to the value of the concatenation of the two `tuple` objects. \n",
    "\n",
    "Similarly another way to 'change' the elements of a `tuple` would be to convert it into a list, then change the list, then reassign the variable as a tuple."
   ]
  },
  {
   "cell_type": "code",
   "execution_count": null,
   "metadata": {},
   "outputs": [],
   "source": [
    "citrus = ('tangerine', 'orange', 'lime', 'lemon')\n",
    "citrus_list = list(citrus)\n",
    "citrus_list.insert(2,'grapefruit')\n",
    "citrus = tuple(citrus_list)\n",
    "print(citrus)"
   ]
  },
  {
   "cell_type": "markdown",
   "metadata": {},
   "source": [
    "Elements of a `tuple` cannot be removed either.\n",
    "\n",
    "However the entire `tuple` can be deleted using the `del` keyword."
   ]
  },
  {
   "cell_type": "code",
   "execution_count": null,
   "metadata": {},
   "outputs": [],
   "source": [
    "del citrus[2]\n",
    "\n",
    "print(citrus)"
   ]
  },
  {
   "cell_type": "code",
   "execution_count": null,
   "metadata": {},
   "outputs": [],
   "source": [
    "del citrus\n",
    "print(citrus)"
   ]
  },
  {
   "cell_type": "markdown",
   "metadata": {},
   "source": [
    "#### Tuple methods\n",
    "\n",
    "Tuples only have two built-in methods as they are immuatable and therefore the elements and the elements indices cannot be changed after construction.\n",
    "\n",
    "**Method**|**Description**\n",
    ":-----|:-----\n",
    "`count()`|Returns the number of times a specified value occurs in a tuple\n",
    "`index()`|Searches the tuple for a specified value and returns the position of where it was found"
   ]
  },
  {
   "cell_type": "markdown",
   "metadata": {},
   "source": [
    "`tuple` objects appear less useful than `list` objects, and whilst this may be true for the majority of cases, some times it is useful to have a variable that is not able to be changed by an outside call.\n",
    "\n",
    "Therefore understanding what a `tuple` can and cannot do is useful when deciding on using a data structure/container for your own programs."
   ]
  },
  {
   "cell_type": "markdown",
   "metadata": {},
   "source": [
    "## Part 3.4 Sets"
   ]
  },
  {
   "cell_type": "markdown",
   "metadata": {},
   "source": [
    "### Set construction"
   ]
  },
  {
   "cell_type": "markdown",
   "metadata": {},
   "source": [
    "**Sets** or `set` objects are **mutable**, **unordered**, **unindexed** data containers that **do not support duplicates**. \n",
    "\n",
    "This means that `set` objects **can be changed**, they do **not have a specific order** to the data contained inside them, they are not indexed therefore the data **cannot be accessed directly** and they **cannot contain more than one instance of the same object**. \n",
    "\n",
    "`set` objects are constructed either using `{}` curly braces or by using the `set()` constructor on another iterable object (similar to how we used `list()` and `tuple()` to construct a `list` and `tuple` respectively).\n",
    "\n",
    "Sets do not have a specific order, this means that `set1 = x0, x1, x2` is **equal** to `set2 = x2, x0, x1`.\n",
    "\n",
    "Conversely, performing an equality operator `==` on two lists constructed in a similar order performs **element-wise** equality, only being `True` if `list1[i] == list2[i]` for every `i`th element. "
   ]
  },
  {
   "cell_type": "code",
   "execution_count": 2,
   "metadata": {},
   "outputs": [
    {
     "name": "stdout",
     "output_type": "stream",
     "text": [
      "True\n",
      "False\n",
      "True\n"
     ]
    }
   ],
   "source": [
    "x = {0,1,2}\n",
    "y = {2,0,1}\n",
    "print(x == y)\n",
    "\n",
    "list1 = [0,1,2]\n",
    "list2 = [2,0,1]\n",
    "print(list1 == list2)\n",
    "\n",
    "print(set(list1) == set(list2))"
   ]
  },
  {
   "cell_type": "markdown",
   "metadata": {},
   "source": [
    "Sets do not allow duplicates, meaning that creating a set with duplicates will not include the second occurance of the same object."
   ]
  },
  {
   "cell_type": "code",
   "execution_count": 1,
   "metadata": {},
   "outputs": [
    {
     "name": "stdout",
     "output_type": "stream",
     "text": [
      "{1, 2, 4}\n"
     ]
    }
   ],
   "source": [
    "set2 = {2,2,1,4}\n",
    "print(set2)"
   ]
  },
  {
   "cell_type": "markdown",
   "metadata": {},
   "source": [
    "Sets are mainly used for membership operations to check if a certain entry is in a specific `set`."
   ]
  },
  {
   "cell_type": "code",
   "execution_count": null,
   "metadata": {},
   "outputs": [],
   "source": [
    "if 2 in set2:\n",
    "    print('2 is an element in set2')"
   ]
  },
  {
   "cell_type": "markdown",
   "metadata": {},
   "source": [
    "### Elements of a set"
   ]
  },
  {
   "cell_type": "markdown",
   "metadata": {},
   "source": [
    "Elements of a set cannot be directly accessed since a set is **unindexed** however the elements can be 'accessed' by using a `for` loop."
   ]
  },
  {
   "cell_type": "code",
   "execution_count": null,
   "metadata": {},
   "outputs": [],
   "source": [
    "for num in set2:\n",
    "    print(num)"
   ]
  },
  {
   "cell_type": "markdown",
   "metadata": {},
   "source": [
    "**Note** that when I assigned `set2 = {2,2,1,4}` yet when the `for` loop ran, it accessed `1` first rather than `2`. This also illustrates that `set` objects are not ordered.\n",
    "\n",
    "Since `set` objects are unindexed, elements cannot be changed directly since there is no way to access specific elements."
   ]
  },
  {
   "cell_type": "markdown",
   "metadata": {},
   "source": [
    "Elements can be added to a set via a number of methods.\n",
    "\n",
    "The `set.add()` method takes the object to be added to the set as a parameter and appends that object into the `set`.\n",
    "\n",
    "Other containers like `list` or `set` objects cannot be added to a `set` this way as they are **'unhashable'**."
   ]
  },
  {
   "cell_type": "code",
   "execution_count": null,
   "metadata": {},
   "outputs": [],
   "source": [
    "set1 = {345,323,9000}\n",
    "set2 = {2,1,4}\n",
    "\n",
    "set1.add('hello')\n",
    "print(set1)"
   ]
  },
  {
   "cell_type": "markdown",
   "metadata": {},
   "source": [
    "Multiple objects can be added via the `set.update()` method which takes an iterable as the parameter. This updates the `set` object with the objects in the iterable."
   ]
  },
  {
   "cell_type": "code",
   "execution_count": null,
   "metadata": {},
   "outputs": [],
   "source": [
    "set2.update(set1)\n",
    "print(set2)"
   ]
  },
  {
   "cell_type": "markdown",
   "metadata": {},
   "source": [
    "Once again note the random ordering (i.e. lack of ordering) in the `set` object returned. "
   ]
  },
  {
   "cell_type": "markdown",
   "metadata": {},
   "source": [
    "Two sets can also be joined together to **return** a new `set` object by using the `set.union()` method with a second `set` given as a parameter."
   ]
  },
  {
   "cell_type": "code",
   "execution_count": null,
   "metadata": {},
   "outputs": [],
   "source": [
    "set3 = set1.union(set(apples))\n",
    "print(set3)"
   ]
  },
  {
   "cell_type": "markdown",
   "metadata": {},
   "source": [
    "Any duplicate items will be removed and only single instances will be added as elements of the new set.\n",
    "\n",
    "There are also `set` methods that return **only** duplicate items of two sets as well."
   ]
  },
  {
   "cell_type": "markdown",
   "metadata": {},
   "source": [
    "Elements can be removed from the `set` by using the `set.remove()` or `set.discard()` methods."
   ]
  },
  {
   "cell_type": "code",
   "execution_count": null,
   "metadata": {},
   "outputs": [],
   "source": [
    "set2.discard('hello world')\n",
    "set2.remove(9000)\n",
    "\n",
    "print(set2)"
   ]
  },
  {
   "cell_type": "markdown",
   "metadata": {},
   "source": [
    "The `set.discard()` method does not `raise` an `Error` if the item **does not exist** in the `set` whereas the `set.remove()` method **does raise an error**."
   ]
  },
  {
   "cell_type": "markdown",
   "metadata": {},
   "source": [
    "Sets also have a `set.pop()` method, however since they are unindexed, there is no guarantee which element gets removed from the set."
   ]
  },
  {
   "cell_type": "code",
   "execution_count": null,
   "metadata": {},
   "outputs": [],
   "source": [
    "item1 = set2.pop()\n",
    "print(item1)\n",
    "print(set2)\n",
    "\n",
    "item1 = set2.pop()\n",
    "print(item1)\n",
    "print(set2)\n",
    "\n",
    "item1 = set2.pop()\n",
    "print(item1)\n",
    "print(set2)"
   ]
  },
  {
   "cell_type": "markdown",
   "metadata": {},
   "source": [
    "Sets also have a `set.clear()` method that removes all the elements from the `set`.\n",
    "\n",
    "Similarly a `set` can be deleted using the `del` keyword."
   ]
  },
  {
   "cell_type": "markdown",
   "metadata": {},
   "source": [
    "### Set methods"
   ]
  },
  {
   "cell_type": "markdown",
   "metadata": {},
   "source": [
    "The full list of `set` methods can be found in the table below.\n",
    "\n",
    "**Method**|**Description**\n",
    ":-----|:-----\n",
    "`add()`|Adds an element to the set\n",
    "`clear()`|Removes all the elements from the set\n",
    "`copy()`|Returns a copy of the set\n",
    "`difference()`|Returns a set containing the difference between two or more sets\n",
    "`difference_update()`|Removes the items in this set that are also included in another, specified set\n",
    "`discard()`|Remove the specified item\n",
    "`intersection()`|Returns a set, that is the intersection of two other sets\n",
    "`intersection_update()`|Removes the items in this set that are not present in other, specified set(s)\n",
    "`isdisjoint()`|Returns whether two sets have a intersection or not\n",
    "`issubset()`|Returns whether another set contains this set or not\n",
    "`issuperset()`|Returns whether this set contains another set or not\n",
    "`pop()`|Removes an element from the set\n",
    "`remove()`|Removes the specified element\n",
    "`symmetric_difference()`|Returns a set with the symmetric differences of two sets\n",
    "`symmetric_difference_update()`|Inserts the symmetric differences from this set and another\n",
    "`union()`|Return a set containing the union of sets\n",
    "`update()`|Update the set with the union of this set and others\n",
    "\n",
    "Some of these methods are used to determine whether a `set` contains another `set`'s elements or visa-versa or returns a `set` whose elements are in both of two other `set` objects. \n",
    "\n",
    "Sets are typically used to determine membership for instance a each element of a `list` of `str` objects could be checked to see if they belong to a `set` of words, and `if` they do some **code block** could get executed."
   ]
  },
  {
   "cell_type": "markdown",
   "metadata": {},
   "source": [
    "## Part 3.5 Dictionaries"
   ]
  },
  {
   "cell_type": "markdown",
   "metadata": {},
   "source": [
    "### Constructing a dictionary"
   ]
  },
  {
   "cell_type": "markdown",
   "metadata": {},
   "source": [
    "Dictionaries or `dict` objects are similar to `set` objects in that they are **mutable**, **cannot contain duplicates** and are **unordered** but they *are* **indexed**.\n",
    "\n",
    "Dictionaries are a `set` of **key**, **value** pairs. The **indexes** of a dictionary are the **keys** and the **values** are associated with each **key**. \n",
    "\n",
    "Dictionaries can be constructed using `{k: v}` notation, i.e. curly braces like a `set` but the **key** is first followed by a `:` then the **values** associated with that **key** are placed.\n",
    "\n",
    "Similarly a `dict` can be constructed using the `dict()` constructor and passing in keys as parameters equal to their values."
   ]
  },
  {
   "cell_type": "code",
   "execution_count": null,
   "metadata": {},
   "outputs": [],
   "source": [
    "apple_attributes = {'Name': 'apple',    # Sometimes it can be helpful to visualise a dictionary by wrapping the code\n",
    "                    'Radius': 10,        # on the 'keys' to show each 'Key: Value' pair.\n",
    "                    'Shape': 'round', \n",
    "                    'Taste factor': 5}\n",
    "\n",
    "print(type(apple_attributes))\n",
    "print(apple_attributes)"
   ]
  },
  {
   "cell_type": "code",
   "execution_count": 4,
   "metadata": {},
   "outputs": [
    {
     "name": "stdout",
     "output_type": "stream",
     "text": [
      "<class 'dict'>\n",
      "{'Name': 'carrot', 'Length': 15, 'Shape': 'long', 'Colour': 'orange'}\n"
     ]
    }
   ],
   "source": [
    "carrot_attributes = dict(Name=\"carrot\", \n",
    "                         Length=15, \n",
    "                         Shape='long', \n",
    "                         Colour='orange')\n",
    "\n",
    "print(type(carrot_attributes))\n",
    "print(carrot_attributes)"
   ]
  },
  {
   "cell_type": "markdown",
   "metadata": {},
   "source": [
    "**Note** the use of `str`'s when constructing the dictionary with `{}` but not using `str`'s for the parameter words of the `dict()` constructor.\n",
    "\n",
    "**Note** that dictionaries **cannot contain duplicate keys** but **can contain duplicate values**."
   ]
  },
  {
   "cell_type": "code",
   "execution_count": null,
   "metadata": {},
   "outputs": [],
   "source": [
    "dict1 = {'key1': 55, 'key2': 5367, 'key3': 55}\n",
    "print(dict1)\n",
    "dict2 = {'key1': 34, 'key1': 9000, 'key1': \"This value\"}\n",
    "print(dict2)"
   ]
  },
  {
   "cell_type": "markdown",
   "metadata": {},
   "source": [
    "Repeating `'key1'` overwrites the value for `'key1'` each time causing the first two values to be lost.\n",
    "\n",
    "Dictionaries can also contain other containers such as `list` objects."
   ]
  },
  {
   "cell_type": "code",
   "execution_count": null,
   "metadata": {},
   "outputs": [],
   "source": [
    "x = [0,1,2,3,4,5,6,7,8,9,10]\n",
    "y = [12,12,32,356,44,53,26,347,854,29,10]\n",
    "z = [2,1,2,3,4,5,26,37,54,9,1]\n",
    "\n",
    "positions = {'x': x, 'y': y, 'z': z}\n",
    "print(positions)"
   ]
  },
  {
   "cell_type": "markdown",
   "metadata": {},
   "source": [
    "This assigns the `list` object `x` to the `'x'` key in the `positions` dictionary and similarly does the same for the `y` and `z` lists."
   ]
  },
  {
   "cell_type": "markdown",
   "metadata": {},
   "source": [
    "The `len()` function returns the number of 'key: value' pairs present in the dictionary."
   ]
  },
  {
   "cell_type": "code",
   "execution_count": null,
   "metadata": {},
   "outputs": [],
   "source": [
    "print(len(positions))"
   ]
  },
  {
   "cell_type": "markdown",
   "metadata": {},
   "source": [
    "### Accessing dictionary items"
   ]
  },
  {
   "cell_type": "markdown",
   "metadata": {},
   "source": [
    "Since dictionaries are **indexed**, the **values** can be accessed via similar notation as `list` objects, however now the **indices** are the **keys** rather than the element position as with `list` objects."
   ]
  },
  {
   "cell_type": "code",
   "execution_count": 5,
   "metadata": {},
   "outputs": [
    {
     "name": "stdout",
     "output_type": "stream",
     "text": [
      "long\n",
      "orange\n"
     ]
    }
   ],
   "source": [
    "print(carrot_attributes['Shape'])\n",
    "print(carrot_attributes['Colour'])"
   ]
  },
  {
   "cell_type": "markdown",
   "metadata": {},
   "source": [
    "**Note** the **keys** `Shape` and `Colour` were used to access/index the `long` and `orange` **values** respectively.\n",
    "\n",
    "The `dict.get()` method also produces the same output as above."
   ]
  },
  {
   "cell_type": "code",
   "execution_count": null,
   "metadata": {},
   "outputs": [],
   "source": [
    "print(carrot_attributes.get('Shape'))"
   ]
  },
  {
   "cell_type": "markdown",
   "metadata": {},
   "source": [
    "Since **values** are indexed and `dict` objects are **mutable**, the **values** can be re-assigned."
   ]
  },
  {
   "cell_type": "code",
   "execution_count": null,
   "metadata": {},
   "outputs": [],
   "source": [
    "carrot_attributes['Colour'] = 'magenta'\n",
    "print(carrot_attributes)"
   ]
  },
  {
   "cell_type": "markdown",
   "metadata": {},
   "source": [
    "### Adding dictionary items"
   ]
  },
  {
   "cell_type": "markdown",
   "metadata": {},
   "source": [
    "If the 'key' does not already exist in the dictionary when assigning a value to it, it will be added to the dictionary."
   ]
  },
  {
   "cell_type": "code",
   "execution_count": null,
   "metadata": {},
   "outputs": [],
   "source": [
    "print(apple_attributes)\n",
    "apple_attributes[\"Colour\"] = 'green'\n",
    "print(apple_attributes)"
   ]
  },
  {
   "cell_type": "markdown",
   "metadata": {},
   "source": [
    "### Removing dictionary items"
   ]
  },
  {
   "cell_type": "markdown",
   "metadata": {},
   "source": [
    "Dictionaries also have a `dict.pop()` method that works similarly to the `list.pop()` method, however it **requires** a parameter which is the **index** or **key** to 'pop' and similarly returns the 'popped' value."
   ]
  },
  {
   "cell_type": "code",
   "execution_count": null,
   "metadata": {},
   "outputs": [],
   "source": [
    "carrot_length = carrot_attributes.pop('Length')\n",
    "print(carrot_length)\n",
    "print(carrot_attributes)"
   ]
  },
  {
   "cell_type": "markdown",
   "metadata": {},
   "source": [
    "The `dict.popitem()` removes the last inserted item in the dictionary similarly to `list.pop()` with no parameter passed.\n",
    "\n",
    "The `dict.clear()` method clears the entire dictionary."
   ]
  },
  {
   "cell_type": "markdown",
   "metadata": {},
   "source": [
    "Similarly to other iterables, the `del` keyword can be used to remove a 'key: value' pair or the entire dictionary itself."
   ]
  },
  {
   "cell_type": "code",
   "execution_count": null,
   "metadata": {},
   "outputs": [],
   "source": [
    "del apple_attributes['Radius']\n",
    "print(apple_attributes)"
   ]
  },
  {
   "cell_type": "markdown",
   "metadata": {},
   "source": [
    "Dictionaries of dictionaries can also be produced using similar notation, showing the versatility of dictionaries as object containers.\n",
    "\n",
    "This `dict` is referred to as a **nested dictionary**."
   ]
  },
  {
   "cell_type": "code",
   "execution_count": null,
   "metadata": {},
   "outputs": [],
   "source": [
    "fruit_attributes = {apple_attributes.pop('Name'): apple_attributes, \n",
    "                    carrot_attributes.pop('Name'): carrot_attributes}\n",
    "\n",
    "print(fruit_attributes)"
   ]
  },
  {
   "cell_type": "code",
   "execution_count": null,
   "metadata": {},
   "outputs": [],
   "source": [
    "print(fruit_attributes['apple']['Taste factor']) # Accessing the 'apple' key and the 'Taste factor' key from the dict."
   ]
  },
  {
   "cell_type": "markdown",
   "metadata": {},
   "source": [
    "Similarly to `list` and `tuple` objects, `dict` objects can contain any other type of object required making them highly useful as containers for accessing specific objects."
   ]
  },
  {
   "cell_type": "markdown",
   "metadata": {},
   "source": [
    "### Dictionary methods\n",
    "\n",
    "Like all objects in Python, dictionaries have their own set of methods that provide certain functionality. \n",
    "\n",
    "A table of all dictionary methods is shown below:\n",
    "\n",
    "**Method**|**Description**\n",
    ":-----|:-----\n",
    "`clear()`|Removes all the elements from the dictionary\n",
    "`copy()`|Returns a copy of the dictionary\n",
    "`fromkeys()`|Returns a dictionary with the specified keys and value\n",
    "`get()`|Returns the value of the specified key\n",
    "`items()`|Returns a list containing a tuple for each key value pair\n",
    "`keys()`|Returns a list containing the dictionary's keys\n",
    "`pop()`|Removes the element with the specified key\n",
    "`popitem()`|Removes the last inserted key-value pair\n",
    "`setdefault()`|Returns the value of the specified key. If the key does not exist: insert the key, with the specified value\n",
    "`update()`|Updates the dictionary with the specified key-value pairs\n",
    "`values()`|Returns a list of all the values in the dictionary"
   ]
  },
  {
   "cell_type": "markdown",
   "metadata": {},
   "source": [
    "## Part 3.6 Iterator objects"
   ]
  },
  {
   "cell_type": "markdown",
   "metadata": {},
   "source": [
    "In Python an **iterator** object is one that can be **iterated** over to retrieve each **iteration**. \n",
    "\n",
    "All of the aforementioned data containers (`list`, `tuple`, `set` and `dict` objects) are all **iterable** objects as they can all be converted into an **iterator** object. \n",
    "\n",
    "> Concretely, an **iterable** object has special `__iter__` and `__getitem__` methods which return an **iterator** object.\n",
    "\n",
    "\n",
    "> Additionally, an **iterator** object has special `__next__` method that returns the **next** element in a sequence. \n",
    "\n",
    "Therefore **iterable** objects, such as the data containers discussed, have the `__iter__` method required to return an **iterator** which **iterates** through the elements of the container.\n",
    "\n",
    "Other **iterator** objects include the `range` object made via the `range()` constructor. "
   ]
  },
  {
   "cell_type": "code",
   "execution_count": null,
   "metadata": {},
   "outputs": [],
   "source": [
    "x = range(0,10)\n",
    "print(x)\n",
    "print(type(x))"
   ]
  },
  {
   "cell_type": "markdown",
   "metadata": {},
   "source": [
    "The `range` object constructor (`range()`) can take between 1 to 3 parameters. \n",
    "<br>If 1 parameter `p` is given, it produces a `range` **iterator** object from 0 to `p-1` in steps of 1. <br>If 2 parameters `p1` and `p2` are given, it produces a `range` **iterator** from `p1` to `p2-1` in steps of 1. <br>If 3 parameters are given, `p1`, `p2` and `p3` it returns a `range` object from `p1` to `p2-p3` in steps of `p3`. "
   ]
  },
  {
   "cell_type": "code",
   "execution_count": null,
   "metadata": {},
   "outputs": [],
   "source": [
    "y = range(5,50,10)\n",
    "print(y)"
   ]
  },
  {
   "cell_type": "markdown",
   "metadata": {},
   "source": [
    "Converting the `range` object to a `list` shows what values the `range` object contains."
   ]
  },
  {
   "cell_type": "code",
   "execution_count": null,
   "metadata": {},
   "outputs": [],
   "source": [
    "print(list(y))"
   ]
  },
  {
   "cell_type": "markdown",
   "metadata": {},
   "source": [
    "Similar to the `range` object, calling the `dict.keys()`, `dict.values()` and `dict.items()` methods on a `dict` object return **iterators** of the form `dict_keys`, `dict_values` and `dict_items` respectively. \n",
    "\n",
    "**Note** even though the objects look like `list` or `tuple` objects (notice the `[]` and `()` around the contents of the `dict_keys`, `dict_values` and `dict_items` objects) they are **not** instances of the `list` or `tuple` objects. \n",
    "\n",
    "This is shown by these **iterators** not being able to be accessed via normal `list` slicing."
   ]
  },
  {
   "cell_type": "code",
   "execution_count": null,
   "metadata": {},
   "outputs": [],
   "source": [
    "print(type(fruit_attributes.keys()))\n",
    "print(type(fruit_attributes.values()))\n",
    "print(type(fruit_attributes.items()))\n",
    "\n",
    "print(fruit_attributes.keys())\n",
    "print(fruit_attributes.values())\n",
    "print(fruit_attributes.items())"
   ]
  },
  {
   "cell_type": "code",
   "execution_count": null,
   "metadata": {},
   "outputs": [],
   "source": [
    "print(fruit_attributes.keys()[0]) # If this WAS a 'list' object we would expect to 'print' 'apple'."
   ]
  },
  {
   "cell_type": "markdown",
   "metadata": {},
   "source": [
    "Therefore we need to use the `list()` or `tuple()` constructor on the **iterator** to return the desired output."
   ]
  },
  {
   "cell_type": "code",
   "execution_count": null,
   "metadata": {},
   "outputs": [],
   "source": [
    "print(list(fruit_attributes.keys())[0])"
   ]
  },
  {
   "cell_type": "markdown",
   "metadata": {},
   "source": [
    "Here are only a few examples of **iterator** objects. Whilst the concept is not particularly important for this series, it *is* important to know the difference between an actual **container object** such as a `list` or `dict` and an **iterator** object. \n",
    "\n",
    ">Concretely, any object that has an `__iter__` method can be turned into an **iterator** object by invoking that method. This is exactly what occurs when **looping** over the elements of a `list` for example. The `list` itself is not iterated over, but the **iterator** form of the `list`. \n",
    "\n",
    "**Iterator** objects are useful for encoding the data to iterate over by taking up less space in a computer's memory than the data container.\n",
    "\n",
    "For instance, `range(0,10)` would take up less memory than `[0,1,2,3,4,5,6,7,8,9]`. "
   ]
  },
  {
   "cell_type": "markdown",
   "metadata": {},
   "source": [
    "## Part 3.7 For loops"
   ]
  },
  {
   "cell_type": "markdown",
   "metadata": {},
   "source": [
    "For loops are blocks of code similar to `while` loops and are initiated via the `for` keyword.\n",
    "\n",
    "For loops differ from `while` loops as `for` loops require an **iterator** object (i.e. an object with a `__next__` method) to iterate over, whilst `while` loops continually looped whilst a condition was `True`.\n",
    "\n",
    "Therefore the main difference with a `for` loop is that there is **always** a defined endpoint upon starting the loop, that is until the `StopIteration()` function is called from within the **iterator's** `__next__` method. \n",
    "\n",
    "All this simply means when there is no more elements to loop over in the **iterator**, the loop breaks."
   ]
  },
  {
   "cell_type": "code",
   "execution_count": null,
   "metadata": {},
   "outputs": [],
   "source": [
    "for i in range(0,10,2):  # Range(0,10,2) means start = 0, end = 10-step in steps of step = 2.\n",
    "    print(i)"
   ]
  },
  {
   "cell_type": "markdown",
   "metadata": {},
   "source": [
    "Shown above is the `for` loop instigating the `__next__` method on the `range` object to obtain a value for the `i` variable for each iteration. "
   ]
  },
  {
   "cell_type": "markdown",
   "metadata": {},
   "source": [
    "Another main difference is that the **iteration** variable does not need to be assigned before the loop statement."
   ]
  },
  {
   "cell_type": "code",
   "execution_count": null,
   "metadata": {},
   "outputs": [],
   "source": [
    "x = [24,45,6,12,90] # List object with __iter__ method.\n",
    "for num in x:       # For keyword invokes __iter__ method which invokes __next__ method.\n",
    "    print(num)"
   ]
  },
  {
   "cell_type": "code",
   "execution_count": null,
   "metadata": {},
   "outputs": [],
   "source": [
    "x = [24,45,6,12,90]\n",
    "i = 0\n",
    "while i < len(x):\n",
    "    print(x[i])\n",
    "    i += 1"
   ]
  },
  {
   "cell_type": "markdown",
   "metadata": {},
   "source": [
    "Both of the above codes produce the same result, however with the `while` loop, the variable `i` had to be explicitly assigned beforehand whereas the `num` variable in the `for` loop did not. \n",
    "\n",
    "I have named the iteration variables `num` and `i` differently for good reason, concretely, with the `for` loop, `num` is assigned the value of each element of `x` upon iteration whereas for the `while` loop the `i` variable is equal to the **iteration number** (i.e. 0, 1, 2, 3) since it increases by 1 upon each execution of the loop. Then the appropriate element of `x` is accessed using slice notation of the **index** `i`.\n",
    "\n",
    "To obtain the **iteration number** with a `for` loop the built-in `enumerate()` function can be used. This returns an `enumerate` object which contains 2 values to **unpack** for the `for` loop, namely the **iteration index** and the **element** of the iterator."
   ]
  },
  {
   "cell_type": "code",
   "execution_count": null,
   "metadata": {},
   "outputs": [],
   "source": [
    "for i, num in enumerate(x):\n",
    "    print(f\"Iteration number {i} = {num}\")"
   ]
  },
  {
   "cell_type": "markdown",
   "metadata": {},
   "source": [
    "Therefore it is very useful to use `for` loops when iterating over **iterator** objects.\n",
    "\n",
    "To iterate over every other element in the `list` with a `for` loop, we can use slice notation."
   ]
  },
  {
   "cell_type": "code",
   "execution_count": null,
   "metadata": {},
   "outputs": [],
   "source": [
    "for i, num in enumerate(x[::2]):  # The [::2] indicates start=0:end=-1:step=2\n",
    "    print(i, num)"
   ]
  },
  {
   "cell_type": "markdown",
   "metadata": {},
   "source": [
    "For loops can also be used to iterate over `str` objects."
   ]
  },
  {
   "cell_type": "code",
   "execution_count": null,
   "metadata": {},
   "outputs": [],
   "source": [
    "for ch in 'hello':\n",
    "    print(ch)"
   ]
  },
  {
   "cell_type": "markdown",
   "metadata": {},
   "source": [
    "Similarly to `while` loops in part 2, the `continue` and `break` keywords continue the iteration and break the loop respectively. \n",
    "\n",
    "For instance our above code to print every other number in `x` could also be done using an `if` conditional statement and the `continue` keyword to continue the iteration prematurely. "
   ]
  },
  {
   "cell_type": "code",
   "execution_count": null,
   "metadata": {},
   "outputs": [],
   "source": [
    "for i, num in enumerate(x):\n",
    "    if i%2 != 0:\n",
    "        continue\n",
    "    print(i,num)"
   ]
  },
  {
   "cell_type": "code",
   "execution_count": null,
   "metadata": {},
   "outputs": [],
   "source": [
    "for num in (x):\n",
    "    if num == 6:\n",
    "        break\n",
    "    print(num)"
   ]
  },
  {
   "cell_type": "markdown",
   "metadata": {},
   "source": [
    "The `break` keyword above similarly stops the entire iteration, shown here by `if` the `num` variable is assigned to the value of `6` which it will because `6 in x = True`. "
   ]
  },
  {
   "cell_type": "code",
   "execution_count": null,
   "metadata": {},
   "outputs": [],
   "source": [
    "print(6 in x)"
   ]
  },
  {
   "cell_type": "markdown",
   "metadata": {},
   "source": [
    "The `else` keyword can also be used to execute code after the `for` loop has finished. This is identical to simply writing code below and outside the indented `for` block."
   ]
  },
  {
   "cell_type": "code",
   "execution_count": null,
   "metadata": {},
   "outputs": [],
   "source": [
    "for i in range(5,10):\n",
    "    print(i)\n",
    "else:\n",
    "    print(\"Done!\")"
   ]
  },
  {
   "cell_type": "code",
   "execution_count": null,
   "metadata": {},
   "outputs": [],
   "source": [
    "for i in range(5,10):\n",
    "    print(i)\n",
    "print(\"Done!\") # Not indented therefore not in the code to execute whilst the 'for' loop runs."
   ]
  },
  {
   "cell_type": "markdown",
   "metadata": {},
   "source": [
    "Similarly to `if` statements, `for` loops can be all on one line if the code to execute is only one line long."
   ]
  },
  {
   "cell_type": "code",
   "execution_count": null,
   "metadata": {},
   "outputs": [],
   "source": [
    "for i in range(10): print(i)"
   ]
  },
  {
   "cell_type": "markdown",
   "metadata": {},
   "source": [
    "For loops can also be **nested** together whereby one for loop contains another loop."
   ]
  },
  {
   "cell_type": "code",
   "execution_count": null,
   "metadata": {},
   "outputs": [],
   "source": [
    "list_one = [12,3,34,32,67,5]\n",
    "list_two = [23,12,10]\n",
    "for i in list_one:\n",
    "    for j in list_two:\n",
    "        print(f\"List 1: {i}\\tList 2: {j}\\tMultiplied: {i*j}\")"
   ]
  },
  {
   "cell_type": "markdown",
   "metadata": {},
   "source": [
    "As you can see, this nested `for` loop iterates through each element of list 2 for each element of list 1. \n",
    "\n",
    "Multiplying all the possible combinations of the elements together for the 'Multiplied' column. "
   ]
  },
  {
   "cell_type": "markdown",
   "metadata": {},
   "source": [
    "### List comprehensions"
   ]
  },
  {
   "cell_type": "markdown",
   "metadata": {},
   "source": [
    "A list comprehension is a way of assigning the values of a `list` by using a `for` loop.\n",
    "\n",
    "For instance, if we wanted to do **element-wise** multiplication, we could use a `for` loop as follows:"
   ]
  },
  {
   "cell_type": "code",
   "execution_count": 6,
   "metadata": {},
   "outputs": [
    {
     "name": "stdout",
     "output_type": "stream",
     "text": [
      "[48, 92, 172, 48, 16, 92, 20, 356]\n"
     ]
    }
   ],
   "source": [
    "x = [12,23,43,12,4,23,5,89]\n",
    "y = []\n",
    "for num in x:\n",
    "    y.append(num*4)\n",
    "\n",
    "print(y)"
   ]
  },
  {
   "cell_type": "markdown",
   "metadata": {},
   "source": [
    "This has multiplied each element of `x` by `4` to produce the list `y`.\n",
    "\n",
    "This can also be done on one line by using a **list comprehension**."
   ]
  },
  {
   "cell_type": "code",
   "execution_count": 7,
   "metadata": {},
   "outputs": [
    {
     "name": "stdout",
     "output_type": "stream",
     "text": [
      "[48, 92, 172, 48, 16, 92, 20, 356]\n"
     ]
    }
   ],
   "source": [
    "x = [12,23,43,12,4,23,5,89]\n",
    "y = [num*4 for num in x]\n",
    "print(y)"
   ]
  },
  {
   "cell_type": "markdown",
   "metadata": {},
   "source": [
    "The result is the same yet the code is much more compact. List comprehensions are good for producing a new list that has acted on each element of the old list.\n",
    "\n",
    "For instance we could define a function called `squareAdd5()` that squares a number and adds 5."
   ]
  },
  {
   "cell_type": "code",
   "execution_count": 9,
   "metadata": {},
   "outputs": [
    {
     "name": "stdout",
     "output_type": "stream",
     "text": [
      "126\n"
     ]
    }
   ],
   "source": [
    "def squareAdd5(num):\n",
    "    return num**2 + 5\n",
    "\n",
    "n = squareAdd5(11)\n",
    "print(n)"
   ]
  },
  {
   "cell_type": "markdown",
   "metadata": {},
   "source": [
    "Then we can make a new list `z` by passing each element of `x` into the `squareAdd5()` function."
   ]
  },
  {
   "cell_type": "code",
   "execution_count": null,
   "metadata": {},
   "outputs": [],
   "source": [
    "z = [squareAdd5(num) for num in x]\n",
    "print(z)"
   ]
  },
  {
   "cell_type": "markdown",
   "metadata": {},
   "source": [
    "Here we see we can apply a function to each element of a list using a list comprehension.\n",
    "\n",
    "This can also be chained with `if` statements"
   ]
  },
  {
   "cell_type": "code",
   "execution_count": 10,
   "metadata": {},
   "outputs": [
    {
     "name": "stdout",
     "output_type": "stream",
     "text": [
      "[4, 5]\n"
     ]
    }
   ],
   "source": [
    "list1 = [num for num in x if squareAdd5(num) < 100]\n",
    "print(list1)"
   ]
  },
  {
   "cell_type": "markdown",
   "metadata": {},
   "source": [
    "Here we are only adding the elements of `x` that when squared and added with 5 are less than 100."
   ]
  },
  {
   "cell_type": "markdown",
   "metadata": {},
   "source": [
    "The built-in `map()` function can also be used to generate a list that has a function applied to each element.\n",
    "\n",
    "The first parameter of the `map()` function is the function to apply to each element and the second is the **iterator** object to apply the function to. The `map()` function returns another **iterator object** of **type** `map`.\n",
    "\n",
    "**Note** the lack of parentheses for the function name in the `map()` call. This is because the `map()` function calls the function passed, whereas passing the function with parentheses would try to call the function when compiling the code."
   ]
  },
  {
   "cell_type": "code",
   "execution_count": null,
   "metadata": {},
   "outputs": [],
   "source": [
    "list2 = map(squareAdd5, range(0,10))\n",
    "print(list2)\n",
    "print(type(list2))\n",
    "print(list(list2))"
   ]
  },
  {
   "cell_type": "markdown",
   "metadata": {},
   "source": [
    "**Note** to convert the `map` iterator into human readable code, we pass it into the `list()` constructor."
   ]
  },
  {
   "cell_type": "markdown",
   "metadata": {},
   "source": [
    "Hopefully with this new knowledge of data containers and `for` loops, you have a more fundamental understanding of the types of container you can deal with and what they can do and will have a better grasp of what data container to use in your own programs!"
   ]
  },
  {
   "cell_type": "markdown",
   "metadata": {},
   "source": [
    "## Summary\n",
    "\n",
    "In this part we have covered the types of data container that can be used in Python such as the `list`, `tuple`, `set` and `dict` type objects. \n",
    "\n",
    "- We have discussed the methods and functionality of each of these types of object, how to access and alter different elements.\n",
    "\n",
    "- We have also discussed what an **iterator** object is and these can be used to loop through elements with a `for` loop. \n",
    "\n",
    "- We have also discussed list comprehensions with `for` loops to produce lists with compact code. \n",
    "\n",
    "- Finally we have introduced list comprehensions with functions to perform element-wise operations."
   ]
  },
  {
   "cell_type": "markdown",
   "metadata": {},
   "source": [
    "Next in Part 4, we will focus on defining our own **functions**, how to make and use them for reusable pieces of code!"
   ]
  },
  {
   "cell_type": "code",
   "execution_count": null,
   "metadata": {},
   "outputs": [],
   "source": [
    "thanks_list = ['Thanks', 'for', 'listening!']\n",
    "for word in thanks_list: print(word)"
   ]
  }
 ],
 "metadata": {
  "kernelspec": {
   "display_name": "Python 3",
   "language": "python",
   "name": "python3"
  },
  "language_info": {
   "codemirror_mode": {
    "name": "ipython",
    "version": 3
   },
   "file_extension": ".py",
   "mimetype": "text/x-python",
   "name": "python",
   "nbconvert_exporter": "python",
   "pygments_lexer": "ipython3",
   "version": "3.8.1"
  }
 },
 "nbformat": 4,
 "nbformat_minor": 4
}
