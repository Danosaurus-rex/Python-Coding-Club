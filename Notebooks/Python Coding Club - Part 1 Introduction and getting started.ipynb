{
 "cells": [
  {
   "attachments": {
    "image.png": {
     "image/png": "[encoded data removed]"
    }
   },
   "cell_type": "markdown",
   "metadata": {},
   "source": [
    "![image.png](attachment:image.png)\n",
    "\n",
    "\n",
    "# Python Coding Club\n",
    "\n",
    "This series is to introduce Python as a programming language to be used for data analysis, scientific computing and plotting. It is by __no means comprehensive__ but will provide a basis for further investigation and exploration into this powerful language. These notes are __best visualised__ in a __Jupyter Notebook__ and I encourage you to __follow along__ in your __preferred IDE__ (this will all make sense after Part 1)."
   ]
  },
  {
   "cell_type": "markdown",
   "metadata": {},
   "source": [
    "# Part 1: Introduction and getting started\n",
    "\n",
    "Part 1 in this series will introduce what Python is and show you the ways in which you can write and execute Python scripts on your machine."
   ]
  },
  {
   "cell_type": "markdown",
   "metadata": {},
   "source": [
    "## Part 1.1: Introduction to Python"
   ]
  },
  {
   "cell_type": "markdown",
   "metadata": {},
   "source": [
    "### *What is Python?*\n",
    "\n",
    "Python is what is known as an *__object-oriented__* __‘high-level’ programming language__ and was invented by Guido van Rossum in 1991. Other high-level languages include __C++, R and Java__. \n",
    "\n",
    "A ‘high-level’ language (HLL) is a language that is more __similar to human language__ than machine language. HLL’s are typically __machine independent__ and can therefore run on a variety of hardware. \n",
    "\n",
    "Once written, a Python script is __compiled and interpreted__ into a low-level language which is machine specific and finally into machine language __(1’s and 0’s – or bits)__ which then executes the program.\n"
   ]
  },
  {
   "cell_type": "markdown",
   "metadata": {},
   "source": [
    "### _What is object-oriented  programming?_\n",
    "\n",
    "__Object-oriented programming languages__ (like Python) consider every variable or function as a __specific object__. This means that every object in a Python script has __methods__ (functions) and __attributes__ (variables) associated with it. \n",
    "\n",
    "This type of programming is very powerful as it is __very logical__ and can lead to __modular readable code__ that can be reused without having to retype code.\n",
    "\n",
    "New __types__ of object can be made using the `class` keyword. More on objects and classes later."
   ]
  },
  {
   "cell_type": "markdown",
   "metadata": {},
   "source": [
    "### *Why Python?*\n",
    "\n",
    "Python is __very powerful__ as it is __easily interpreted and heavily supported__ via open source libraries and modules (more about this later).\n",
    "\n",
    "Python is particularly useful for __scientific computing__ as it is easy to learn due to its __clear syntax__ as well as offering many __mathematical libraries for data analysis__ that are __well documented__ on their respective websites.\n",
    "\n",
    "Python itself comes with many useful __'modules'__ for computing but where its usefulness really shines is through the __open source packages/modules__ that have been written by software developers for use in __other programs__. The full library of these modules is called the __Python Package Index__ or __PyPI__ for short and can be found [here](https://pypi.org/). Modules and packages will be covered more in a later section. "
   ]
  },
  {
   "cell_type": "markdown",
   "metadata": {},
   "source": [
    "### _What are Python modules, packages and libraries?_\n",
    "\n",
    "One of Python's main appeals is how well supported the language is. This includes __open source__ __well documented__ Python scripts called __modules__. __Modules__ are simply Python scripts containing __functions and/or classes__ for use in programs (more on functions and classes later). \n",
    "\n",
    "Groups of modules are called __libraries__ or __packages__. Many common libraries include NumPy for numerical Python programming, SciPy for scientific computing, Pandas for data analysis and matplotlib for publication quality data plotting. \n",
    "\n",
    "To gain access to a particular module or package, an `import` statement is required in your Python program file, more on this later.\n",
    "\n",
    "Python comes prepackaged with base modules such as `math`, `statistics`, `sys`, `os`, `collections`, `datetime` in Python's 'standard library. It is worth having a look through [Python's documentation](https://docs.python.org/3/library/) on what modules the standard library contains.\n",
    "\n",
    "Apart from modules, Python comes preloaded with built-in functions that can be used without importing any new modules. More on this later."
   ]
  },
  {
   "cell_type": "markdown",
   "metadata": {},
   "source": [
    "### Python guiding principles\n",
    "\n",
    "Python's design philosophy encourages __code readability__ and therefore a list of _guiding design principles_ when writing Python code have been established called _'The Zen of Python'_:\n",
    ">The Zen of Python, by Tim Peters<br>\n",
    "<br>\n",
    "Beautiful is better than ugly.<br>\n",
    "Explicit is better than implicit.<br>\n",
    "Simple is better than complex.<br>\n",
    "Complex is better than complicated.<br>\n",
    "Flat is better than nested.<br>\n",
    "Sparse is better than dense.<br>\n",
    "Readability counts.<br>\n",
    "Special cases aren't special enough to break the rules.<br>\n",
    "Although practicality beats purity.<br>\n",
    "Errors should never pass silently.<br>\n",
    "Unless explicitly silenced.<br>\n",
    "In the face of ambiguity, refuse the temptation to guess.<br>\n",
    "There should be one-- and preferably only one --obvious way to do it.<br>\n",
    "Although that way may not be obvious at first unless you're Dutch.<br>\n",
    "Now is better than never.<br>\n",
    "Although never is often better than *right* now.<br>\n",
    "If the implementation is hard to explain, it's a bad idea.<br>\n",
    "If the implementation is easy to explain, it may be a good idea.<br>\n",
    "Namespaces are one honking great idea -- let's do more of those!<br>"
   ]
  },
  {
   "cell_type": "markdown",
   "metadata": {},
   "source": [
    "This essentially means that __*simple code is better than complex code but complex code is better than complicated code*__ and if the implementation of how your code works is difficult to explain __it is probably too complex__.\n",
    "\n",
    "The purpose of Python is to be easily readable and easily understandable by other programmers.\n",
    "\n",
    "These guiding principles of programming in Python can also be easily retrieved by running the following cell (__select the cell and press Shift+Enter__):"
   ]
  },
  {
   "cell_type": "code",
   "execution_count": 1,
   "metadata": {},
   "outputs": [
    {
     "name": "stdout",
     "output_type": "stream",
     "text": [
      "The Zen of Python, by Tim Peters\n",
      "\n",
      "Beautiful is better than ugly.\n",
      "Explicit is better than implicit.\n",
      "Simple is better than complex.\n",
      "Complex is better than complicated.\n",
      "Flat is better than nested.\n",
      "Sparse is better than dense.\n",
      "Readability counts.\n",
      "Special cases aren't special enough to break the rules.\n",
      "Although practicality beats purity.\n",
      "Errors should never pass silently.\n",
      "Unless explicitly silenced.\n",
      "In the face of ambiguity, refuse the temptation to guess.\n",
      "There should be one-- and preferably only one --obvious way to do it.\n",
      "Although that way may not be obvious at first unless you're Dutch.\n",
      "Now is better than never.\n",
      "Although never is often better than *right* now.\n",
      "If the implementation is hard to explain, it's a bad idea.\n",
      "If the implementation is easy to explain, it may be a good idea.\n",
      "Namespaces are one honking great idea -- let's do more of those!\n"
     ]
    }
   ],
   "source": [
    "import this"
   ]
  },
  {
   "cell_type": "markdown",
   "metadata": {},
   "source": [
    "## Part 1.2: Setting up"
   ]
  },
  {
   "cell_type": "markdown",
   "metadata": {},
   "source": [
    "### Installing Python\n",
    "\n",
    "In order to begin writing and executing Python scripts, first you will need to install Python on your computer by following [this link](https://www.python.org/downloads/).\n",
    "\n",
    "Choose the correct download for your machine and make sure to __download Python 3.x (current version)__ as Python 2.7 is no longer supported.\n",
    "\n",
    "Once downloaded, follow the installer on your machine to install Python."
   ]
  },
  {
   "cell_type": "markdown",
   "metadata": {},
   "source": [
    "### Running Python in the Interactive Development and Learning Environment (IDLE) \n",
    "\n",
    "Once installed, navigate to the __installation location on your machine__ and launch __'IDLE'__ or the Interactive Development and Learning Environment. This will open a __Python 'shell'__ which simply means an interactive Python interpreter that will __execute each line as it is typed__. \n",
    "\n",
    "Try typing in the following code into IDLE to print __'Hello World'__ underneath."
   ]
  },
  {
   "cell_type": "code",
   "execution_count": 2,
   "metadata": {},
   "outputs": [
    {
     "name": "stdout",
     "output_type": "stream",
     "text": [
      "Hello World\n"
     ]
    }
   ],
   "source": [
    "print('Hello World')"
   ]
  },
  {
   "cell_type": "markdown",
   "metadata": {},
   "source": [
    "__Congratulations on running your first Python program!__\n",
    "\n",
    "Printing 'Hello World' is typically a __first step__ when using a new programming language simply to check that the __installation has been successful__."
   ]
  },
  {
   "cell_type": "markdown",
   "metadata": {},
   "source": [
    "### Running Python in the command prompt (Windows) or terminal (Mac OSX)\n",
    "\n",
    "Python can also be accessed by opening either Command Prompt for Windows or Terminal for Mac OSX by typing __python3__.\n",
    "\n",
    "This will open a Python interpreter in the terminal through which the same `print('Hello World')` should run."
   ]
  },
  {
   "cell_type": "markdown",
   "metadata": {},
   "source": [
    "### Interactive Developer Environments (IDEs)\n",
    "\n",
    "Running Python code line by line is useful to test the installation is successful, but typically programs are hundreds or thousands of lines long, this is where Interactive Developer Environments (IDEs) come in.\n",
    "\n",
    "IDEs are applications where Python scripts can be written, complied and executed. There are many benefits to IDEs including __line numbering__, __syntax highlighting__ and __code completion__.\n",
    "\n",
    "- __Line numbering__ means each line of code is numbered, this can help with debugging when Errors occur as the line number causing the issue will be shown.\n",
    "\n",
    "- __Syntax highlighting__ shows different Python objects/methods in seperate colours, making it easier to visualise how your script will be interpreted. This also shows syntax errors can occur if a line of code is not interpretable by the Python interpreter.\n",
    "\n",
    "- __Code completion__ provides suggestions on what you are going to type (a variable or function name etc.) automatically and can also show you what type of object the name is referring to (class, function, variable etc. more on this later...).\n",
    "\n",
    "IDE's also have the ability of code 'traceback' when an `Error` is invoked in a program (i.e. it does not run correctly) the line number where the error occurred and what error it is which can be very useful when debugging your programs.\n",
    "\n",
    "There are __many different IDEs__ out there and __different programmers will have different preferences__ on which IDE is the best, therefore it may be useful to __try a couple and see which you prefer__.\n",
    "\n",
    "#### A few common IDEs include:\n",
    " - [PyCharm](https://www.jetbrains.com/pycharm/download/)\n",
    " - [Microsoft Visual Studio](https://visualstudio.microsoft.com/)\n",
    " - [Eclipse](https://www.eclipse.org/downloads/)\n",
    " - [Spyder (part of Anaconda package)](https://www.spyder-ide.org/)\n",
    "\n",
    "Typically, I prefer __PyCharm as my IDE of choice__ as it contains a __variety of background themes, is customisable and provides the above features__. PyCharm can also come with an __educational introductory course on Python by installing the plugin 'EduTools'__.\n",
    "\n",
    "In this series of notes I will explain how to __install PyCharm__ and also the __Anaconda Package__ which includes the __IDE Spyder and a link to Jupyter notebooks__ (where you may be reading this currently)."
   ]
  },
  {
   "cell_type": "markdown",
   "metadata": {},
   "source": [
    "### Jupyter Notebooks\n",
    "\n",
    "Jupyter notebooks are __interactive Python notebooks__ (of which some of this series may be written).\n",
    "\n",
    "They can be used to show a __workflow of data analysis__ as well as markdown text such as the text shown here. Jupyter notebooks as well as __Spyder IDE come prepacked in the Anaconda distribution__ mentioned above. \n",
    "\n",
    "Jupyter notebooks are a useful tool when it comes to __showing specific reports of programs__. Each cell is executed by pressing __Shift+Enter__ when the cursor is __selected on the cell__. Jupyter notebooks therefore have the ability to act as a __Python interpreter like IDLE__ but also as an __IDE as the code written is saved and can be referenced later__, for instance:"
   ]
  },
  {
   "cell_type": "code",
   "execution_count": 3,
   "metadata": {
    "collapsed": true
   },
   "outputs": [],
   "source": [
    "x = 5+8"
   ]
  },
  {
   "cell_type": "code",
   "execution_count": 4,
   "metadata": {},
   "outputs": [
    {
     "data": {
      "text/plain": [
       "13"
      ]
     },
     "execution_count": 4,
     "metadata": {},
     "output_type": "execute_result"
    }
   ],
   "source": [
    "x"
   ]
  },
  {
   "cell_type": "markdown",
   "metadata": {},
   "source": [
    "Running the cell containing `x` before the cell `x = 5+8` will cause a `ValueError` as `x` has not been assigned any value yet. Therefore the cell `x = 5+8` must be executed first, then the cell containing `x`. More on variable assignment and Errors later..."
   ]
  },
  {
   "cell_type": "markdown",
   "metadata": {},
   "source": [
    "A __jupyter notebook__ can be started through loading the __anaconda navigator__ up after installation and launching the __jupyter notebook__ from there.\n",
    "\n",
    "Alternatively, a __jupyter notebook__ can be started from the __command prompt__ (Windows) or __terminal__ (Mac OSX) after installing __anaconda__ by typing:\n",
    "\n",
    "`jupyter notebook`\n",
    "\n",
    "This will load a webpage that will show a your local filesystem. \n",
    "\n",
    "From here you can either start a __new__ notebook or __navigate__ to where the __.ipynb__ files are located on your machine. "
   ]
  },
  {
   "cell_type": "markdown",
   "metadata": {},
   "source": [
    "### Installing and setting up PyCharm\n",
    "\n",
    "First navigate to the PyCharm downloads link (linked above) and download the correct package for your machine. Make sure to pick the __community version__ of PyCharm.\n",
    "\n",
    "Secondly install PyCharm by clicking on the __installer__ and following the dialogues. \n",
    "\n",
    "Once PyCharm has installed open the application. Make a __new folder__ somewhere for your scripts to go and then click __File > Open__ and navigate to that folder and a new project should start. \n",
    "\n",
    "Now click on PyCharm's __Preferences/Settings__ tab. Navigate to __\"Project: _Project_name_\"__ and click on __Project Interpreter__.\n",
    "\n",
    "Click on the Python 3.x note that should appear if you installed Python correctly before.\n",
    "\n",
    "Test that everything is working by going __File > New__, clicking on Python File and entering the name Hello, World.\n",
    "\n",
    "In the first line of the file type `print('Hello, World')`. \n",
    "\n",
    "Either right-click and press Run or press the green 'Run' or 'Play' triangle in the top right of the screen. \n",
    "\n",
    "If everything is working correctly, `Hello, World` should have printed to the Python console at the bottom of the screen. "
   ]
  },
  {
   "cell_type": "markdown",
   "metadata": {},
   "source": [
    "### Anaconda Distribution\n",
    "\n",
    "The __Anaconda distribution__ is a distribution of Python that contains pre-packaged with many useful libraries for data science and scientific computing including __SciPy, NumPy, Pandas, Scikit-Learn, TensorFlow, matplotlib__ and many others as well as __Spyder IDE__, the statistical __programming language 'R'__ and __Jupyter notebooks__. \n",
    "\n",
    "Therefore __Anaconda__ is a very useful tool to have even if your preferred IDE is not Spyder. Downloading and installing the __Anaconda__ pacakge is very easy and simply requires navigating to [this link](https://www.anaconda.com/distribution/) and following the __installation instructions__.\n",
    "\n",
    "Once __Anaconda__ is installed, open Anaconda and then launch Spyder. Write `print('Hello, World')` to test that everything was successful."
   ]
  },
  {
   "cell_type": "markdown",
   "metadata": {},
   "source": [
    "## Part 1.3: Support and documentation"
   ]
  },
  {
   "cell_type": "markdown",
   "metadata": {},
   "source": [
    "### Python documentation\n",
    "\n",
    "Part of the appeal of Python is that it is an __open source language__ and the usefulness of it is well documented. The documentation for __some base functions and uses__ of Python can be found [here](https://www.python.org/doc/). \n",
    "\n",
    "I strongly advise taking note of where this documentation is and __having it to hand in future whilst programming__. "
   ]
  },
  {
   "cell_type": "markdown",
   "metadata": {},
   "source": [
    "### Package documentation\n",
    "\n",
    "While using the many __packages/modules__ that have been written for use in Python programs (NumPy, Pandas, SciPy, matplotlib etc.) it is important to take note of the __documentation for any packages__ you are using. Hopefully these should be your __first go-to__ if you find something in your code not working the way you expect it to when using a package. \n",
    "\n",
    "Navigate to the respective packages website and search for the specific function/class you are trying to use and try to figure out what is not correct. The 'traceback' on your IDE should also provide some clues as to why your code is not working. "
   ]
  },
  {
   "cell_type": "markdown",
   "metadata": {},
   "source": [
    "### Stack Overflow\n",
    "\n",
    "If all else fails and you cannot understand why your code is not working OR if you have a specific question about the best way to implement your code, [Stack Overflow](https://stackoverflow.com/) is your best friend. \n",
    "\n",
    "Stack Overflow is a __computing forum__ where various questions are asked regarding how to __implement__ all sorts of code into programs. Before asking a question, it is __highly__ likely that your question may have already been answered, a simple search on Stack Overflow may provide the answer you are looking for. \n",
    "\n",
    "__Be aware__ when reading answers on Stack Overflow, the _exact_ implementation shown in the answer __will__ almost certainly need to be altered to fit your own __use case__.\n",
    "\n",
    "Alternatively you can ask your own question, when doing so make sure your query is a [minimal working example](https://en.wikipedia.org/wiki/Minimal_working_example) or MWE. This means that your question is as direct as possible about the exact problem you are facing and what you expect the code to be doing without including any extra complexities that make it difficult to reach the correct solution. "
   ]
  },
  {
   "cell_type": "code",
   "execution_count": 1,
   "metadata": {},
   "outputs": [
    {
     "name": "stdout",
     "output_type": "stream",
     "text": [
      "Time to start coding!\n"
     ]
    }
   ],
   "source": [
    "print(\"Time to start coding!\")"
   ]
  }
 ],
 "metadata": {
  "kernelspec": {
   "display_name": "Python 3",
   "language": "python",
   "name": "python3"
  },
  "language_info": {
   "codemirror_mode": {
    "name": "ipython",
    "version": 3
   },
   "file_extension": ".py",
   "mimetype": "text/x-python",
   "name": "python",
   "nbconvert_exporter": "python",
   "pygments_lexer": "ipython3",
   "version": "3.8.1"
  }
 },
 "nbformat": 4,
 "nbformat_minor": 4
}
