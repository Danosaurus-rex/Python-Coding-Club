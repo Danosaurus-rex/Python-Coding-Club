{
 "cells": [
  {
   "attachments": {
    "image.png": {
     "image/png": "[encoded data removed]"
    }
   },
   "cell_type": "markdown",
   "metadata": {
    "nbpresent": {
     "id": "e757f315-bfd0-42b8-afab-0c1a9873bfc9"
    }
   },
   "source": [
    "![image.png](attachment:image.png)\n",
    "\n",
    "\n",
    "# Python Coding Club\n",
    "\n",
    "This series is to introduce Python as a programming language to be used for data analysis, scientific computing and plotting. It is by __no means comprehensive__ but will provide a basis for further investigation and exploration into this powerful language. These notes are __best visualised__ in a __Jupyter Notebook__ and I encourage you to __follow along__ in your __preferred IDE__."
   ]
  },
  {
   "cell_type": "markdown",
   "metadata": {},
   "source": [
    "# Part 4: Functions\n",
    "\n",
    "Part 4 of this series will cover one of the most useful aspects of any programming language; **functions**. I will go into detail about what they can be used for, how to define and call user generated functions and then I will explain more advanced concepts to do with functions that are also useful for more general usage.\n",
    "\n",
    "Throughout this section, I have tried to include exercises that build upon the knowledge imparted in each section."
   ]
  },
  {
   "cell_type": "markdown",
   "metadata": {},
   "source": [
    "## Exercise Solutions"
   ]
  },
  {
   "cell_type": "markdown",
   "metadata": {},
   "source": [
    "## Exercise 4.1: Globals"
   ]
  },
  {
   "cell_type": "markdown",
   "metadata": {},
   "source": [
    "#### i).\n",
    "\n",
    "Here we will write a function to access a `global` variable `x` and `print()` the value of that variable squared."
   ]
  },
  {
   "cell_type": "code",
   "execution_count": 1,
   "metadata": {},
   "outputs": [
    {
     "name": "stdout",
     "output_type": "stream",
     "text": [
      "144\n"
     ]
    }
   ],
   "source": [
    "x = 12\n",
    "\n",
    "def squareX():\n",
    "#-------------------------------------------------------------------------\n",
    "# YOUR CODE HERE\n",
    "    global x\n",
    "    print(x**2)\n",
    "    \n",
    "#-------------------------------------------------------------------------\n",
    "\n",
    "squareX()"
   ]
  },
  {
   "cell_type": "markdown",
   "metadata": {},
   "source": [
    "**Explanation**: The above code obtains the `global` variable `x` by using the `global` keyword followed by the name of the variable `x` and then **calls** the `print()` function passing `x**2` as the value to print. \n",
    "\n",
    "When `squareX()` is then called, the value of `x**2` is printed. "
   ]
  },
  {
   "cell_type": "code",
   "execution_count": 2,
   "metadata": {},
   "outputs": [
    {
     "name": "stdout",
     "output_type": "stream",
     "text": [
      "7225\n"
     ]
    }
   ],
   "source": [
    "x = 85\n",
    "squareX()"
   ]
  },
  {
   "cell_type": "markdown",
   "metadata": {},
   "source": [
    "Calling the function after assigning `x` to a different number now squares the new value of `x`. "
   ]
  },
  {
   "cell_type": "markdown",
   "metadata": {},
   "source": [
    "#### ii)."
   ]
  },
  {
   "cell_type": "code",
   "execution_count": 3,
   "metadata": {},
   "outputs": [
    {
     "name": "stdout",
     "output_type": "stream",
     "text": [
      "144\n"
     ]
    }
   ],
   "source": [
    "x = 12\n",
    "\n",
    "def square(p):  # Function definition with local parameter 'p'.\n",
    "    print(p**2) # Prints local parameter 'p' squared. \n",
    "\n",
    "square(x)       # Calling the 'square()' function with the argument equal to 'x'."
   ]
  },
  {
   "cell_type": "markdown",
   "metadata": {},
   "source": [
    "Here we simply use the **parameter** `p` to print instead of the `global` variable `x`. Instead, `x` is **passed** to the function `square()` as an **argument**. This then sets `p = x` and therefore prints `x` squared. "
   ]
  },
  {
   "cell_type": "markdown",
   "metadata": {},
   "source": [
    "## Exercise 4.2: Global lists"
   ]
  },
  {
   "cell_type": "code",
   "execution_count": 4,
   "metadata": {},
   "outputs": [
    {
     "name": "stdout",
     "output_type": "stream",
     "text": [
      "[64, 8, 26, 106, 130, 4]\n",
      "[64, 8, 26, 106, 130, 4]\n"
     ]
    }
   ],
   "source": [
    "var_list = [32, 4, 13, 53, 65, 2]\n",
    "\n",
    "#-------------------------------------------------------------------------\n",
    "def elementMultiply2():       # Function definition, no parameters.\n",
    "# YOUR CODE HERE\n",
    "    global var_list           # Retrieves 'global' variable 'var_list'.\n",
    "    for idx in range(0, len(var_list)): # Creates iterator from 0 to len(var_list): (0 --> 6 where 6 is not included)\n",
    "        var_list[idx] *= 2    # Accesses the element of var_list at index 'idx' (0, 1, 2,.., 5) and assigns it to \n",
    "                              # itself multiplied by 2.\n",
    "\n",
    "#-------------------------------------------------------------------------\n",
    "\n",
    "elementMultiply2()                # Calls function defined above.\n",
    "print(var_list)                   # Check to show that 'var_list' is the same as the list below (desired output).\n",
    "print([64, 8, 26, 106, 130, 4])   # Desired output."
   ]
  },
  {
   "cell_type": "markdown",
   "metadata": {},
   "source": [
    "**Explanation**: The above code first obtains the `global` variable `var_list`. Then the function creates a `for` loop to loop over the elements of the `range()` object, i.e. the values **from** `0` **to** the `len(var_list)` which is `6` in steps of `1`, where `6` is not included. \n",
    "\n",
    "For instance, executing `print(list(range(0, len(var_list)))` would produce `[0, 1, 2, 4, 5]` as the output. \n",
    "\n",
    "The variable `idx` is locally assigned within the `for` loop to each element of the `range` object for each iteration. Accessing the element of `var_list` by using `var_list[idx]` and then assigning it to itself multiplied by 2 `*= 2` causes the element `var_list[idx]` to be reassigned. The loop then continues to the next iteration until it has finished the last iteration of `idx == 5`. "
   ]
  },
  {
   "cell_type": "markdown",
   "metadata": {},
   "source": [
    "## Exercise 4.3: Element multiply, parameters."
   ]
  },
  {
   "cell_type": "markdown",
   "metadata": {},
   "source": [
    "Now alter the function similar to **exercise 4.2** to take the list as a parameter and execute the same code but **only** if the **element** of the `list` is less than the **average** of all the elements in the list."
   ]
  },
  {
   "cell_type": "markdown",
   "metadata": {},
   "source": [
    "**Hint**: This exercise will utilise the **pythonic** way of altering variables via passing **arguments** to the function and returning a value using the `return` keyword. "
   ]
  },
  {
   "cell_type": "code",
   "execution_count": 5,
   "metadata": {
    "scrolled": true
   },
   "outputs": [
    {
     "name": "stdout",
     "output_type": "stream",
     "text": [
      "[32, 8, 26, 53, 65, 4]\n",
      "[32, 8, 26, 53, 65, 4]\n"
     ]
    }
   ],
   "source": [
    "var_list = [32, 4, 13, 53, 65, 2]\n",
    "\n",
    "#-------------------------------------------------------------------------\n",
    "def elementMultiply2(list_param):  # Remember to include a parameter in the function definition for the 'list' passed.\n",
    "# YOUR CODE HERE\n",
    "    avg_el = sum(list_param)/len(list_param)    # Obtain mean of elements in passed list.\n",
    "    for idx, element in enumerate(list_param):  # Iterate over the passed list, where 'idx' is the index number.\n",
    "        if element < avg_el:\n",
    "            list_param[idx] = element*2\n",
    "\n",
    "    return list_param\n",
    "\n",
    "#-------------------------------------------------------------------------\n",
    "\n",
    "var_list = elementMultiply2(var_list) # Calls function defined above.\n",
    "print(var_list)                       # Check to show that 'var_list' is the same as the list below (desired output).\n",
    "print([32, 8, 26, 53, 65, 4])   # Desired output."
   ]
  },
  {
   "cell_type": "markdown",
   "metadata": {},
   "source": [
    "**Explanation**: The above function takes `list_param` as a parameter (in this case it must be an iterable with numeric elements). Then the local variable `avg_el` is assigned to the `sum(list_param)` divided by the `len(list_param)` or the number of elements to retrieve the average of the iterable/list.\n",
    "\n",
    "Then the `enumerate(list_param)` (a built-in function) produces an `enumerate` object that contains elements which are `tuple`s of `(index, element)` of the `list_param`. Using the `for` loop and **unpacking** the `idx` and `element` from each `tuple` in the `enumerate` object allows for the iteration over the indices and elements. \n",
    "\n",
    "The `if` statement, checks if the current `element` is less than the `avg_el` defined above, which if this equates to `True` then the element of the `list_param` relating to the current `idx`,  `list_param[idx]` is set to equal the `element*2`. Otherwise, there is not extra code to execute, therefore the list iterates to the next `idx, element` pair. \n",
    "\n",
    "The function then uses `return` to return the altered `list_param` object. \n",
    "\n",
    "Below the function, the `return`'ed altered list is then assigned to the name `var_list` reassigning it. "
   ]
  },
  {
   "cell_type": "markdown",
   "metadata": {},
   "source": [
    "### Exercise 4.4: Default parameters"
   ]
  },
  {
   "cell_type": "markdown",
   "metadata": {},
   "source": [
    "The objective of this exercise is to produce a function that **returns** the following:\n",
    "\n",
    "> $(x+y)^{3}$\n",
    "\n",
    "For parameters `x` and `y` where the default value for `y` is `0` and hence returns $x^{3}$."
   ]
  },
  {
   "cell_type": "code",
   "execution_count": 6,
   "metadata": {},
   "outputs": [
    {
     "name": "stdout",
     "output_type": "stream",
     "text": [
      "2744\n",
      "2744\n",
      "125\n",
      "125\n",
      "1\n",
      "1\n",
      "216\n",
      "216\n"
     ]
    }
   ],
   "source": [
    "num1, num2 = 5, 9 \n",
    "\n",
    "def cubicExpansion(x=1, y=0): # Do not forget to include parameters here.\n",
    "#-------------------------------------------------------------------------\n",
    "# YOUR CODE HERE\n",
    "    return (x+y)**3\n",
    "\n",
    "#-------------------------------------------------------------------------\n",
    "\n",
    "print((num1+num2)**3)\n",
    "# PRINT THE OUTPUT OF YOUR FUNCTION HERE\n",
    "# With num1 and num2 as arguments.\n",
    "print(cubicExpansion(num1, num2))\n",
    "\n",
    "print((num1+0)**3)\n",
    "# PRINT THE OUTPUT OF YOUR FUNCTION HERE\n",
    "# With num1 as an argument.\n",
    "print(cubicExpansion(num1))\n",
    "\n",
    "print((1+0)**3)\n",
    "# PRINT THE OUTPUT OF YOUR FUNCTION HERE\n",
    "# With no arguments.\n",
    "print(cubicExpansion())\n",
    "\n",
    "print((1+num1)**3)\n",
    "# PRINT THE OUTPUT OF YOUR FUNCTION HERE\n",
    "# With the kwarg assigning y to num1.\n",
    "print(cubicExpansion(y=num1))"
   ]
  },
  {
   "cell_type": "markdown",
   "metadata": {},
   "source": [
    "**Explanation**: The function takes `x` as a parameter with a default value `=1` whereas it takes `y` with a default value of `0` and **returns** the cubic expansion of the two values.\n",
    "\n",
    "Printing the result of the function call with `num1` and `num2` in different positions in the function call either overrides or uses the default value depending on what has been assigned and what hasn't. "
   ]
  },
  {
   "cell_type": "markdown",
   "metadata": {},
   "source": [
    "## Exercise 4.5: Polynomial with coeffecients"
   ]
  },
  {
   "cell_type": "markdown",
   "metadata": {},
   "source": [
    "The aim of this exercise it to make a function that produces a polynomial of `x`, for instance:\n",
    "\n",
    "> $a_{0} + a_{1}x + a_{2}x^{2} + a_{3}x^{3} + ... + a_{n}x^{n}$\n",
    "\n",
    "for `n` number of coeffecients. "
   ]
  },
  {
   "cell_type": "markdown",
   "metadata": {},
   "source": [
    "#### i).\n",
    "\n",
    "Firstly, write a function that takes both a single variable (`x`) and a `list` or `tuple` as an argument for the coeffecients. The function should accept **any length** of the list of coeffecients passed and output the resulting value of the polynomial for the `x` value with the corresponding `coeffs`."
   ]
  },
  {
   "cell_type": "code",
   "execution_count": 7,
   "metadata": {},
   "outputs": [
    {
     "name": "stdout",
     "output_type": "stream",
     "text": [
      "9\n",
      "379\n"
     ]
    }
   ],
   "source": [
    "x = 3\n",
    "coeffs = [0,0,1]\n",
    "coeffs2 = [1,3,2,1,1,1]\n",
    "\n",
    "#-------------------------------------------------------------------------\n",
    "def polynomial(x, coeffs): # Make the function take `x` and coeffecients as arguments.\n",
    "#YOUR CODE HERE (remember to indent and use whitespace for the function block).\n",
    "    polynom = 0\n",
    "    for i in range(0, len(coeffs)):     # Iterate through 'i' where i = 0, 1, ... n where n is the number of coeffs.\n",
    "        polynom += coeffs[i]*x**i\n",
    "    return polynom\n",
    "\n",
    "\n",
    "#-------------------------------------------------------------------------\n",
    "# Call function\n",
    "y = polynomial(x, coeffs)  # Should produce `x**3`\n",
    "print(y)\n",
    "z = polynomial(x, coeffs2) # Should output 1 + 3x + 2x**2 + x**3 + x**4 + x**5 == 379\n",
    "print(z)"
   ]
  },
  {
   "cell_type": "markdown",
   "metadata": {},
   "source": [
    "#### ii).\n",
    "\n",
    "Now alter the function to take an arbitrary number of `args` instead of a list for the coeffecients, i.e. by using the `*` operator.\n",
    "\n",
    "This function should take `x` and an **arbitrary number** of coeffecients as **arguments** and produce a polynomial in `x` starting at $x^{0}$ up until the last passed non-zero coeffecient.\n",
    "\n",
    "This function should return the value of the polynomial with the given coeffecients."
   ]
  },
  {
   "cell_type": "code",
   "execution_count": 8,
   "metadata": {},
   "outputs": [
    {
     "name": "stdout",
     "output_type": "stream",
     "text": [
      "9\n",
      "9\n",
      "379\n",
      "379\n"
     ]
    }
   ],
   "source": [
    "x = 3\n",
    "coeffs = [0,0,1]\n",
    "coeffs2 = [1,3,2,1,1,1]\n",
    "\n",
    "#-------------------------------------------------------------------------\n",
    "def polynomial(x, *coeffs): # *coeffs is the same as *args, the name doesn't matter but the '*' operator does.\n",
    "#YOUR CODE HERE\n",
    "    polynom = 0                          # Start result at 0.\n",
    "    for i in range(0, len(coeffs)):      # Iterate through range() with 'end' as the len(coeffs).\n",
    "        polynom += coeffs[i]*x**i        # Update the polynom variable.\n",
    "    return polynom\n",
    "\n",
    "#-------------------------------------------------------------------------\n",
    "\n",
    "y = polynomial(x, 0, 0, 1)  # Should produce `x**3`\n",
    "print(y)\n",
    "y = polynomial(x, *coeffs)  # Unpack the list into positional parameters with '*' in call.\n",
    "print(y)\n",
    "z = polynomial(x, 1, 3, 2, 1, 1, 1) # Should output 1 + 3x + 2x**2 + x**3 + x**4 + x**5 == 379\n",
    "print(z)\n",
    "z = polynomial(x, *coeffs2) # Unpack the list into positional parameters with '*' in call.\n",
    "print(z)"
   ]
  },
  {
   "cell_type": "markdown",
   "metadata": {},
   "source": [
    "**Explanation**: The function is first defined with `x` and `*coeffs`. The arbitrary `*coeffs` parameter could be named anything so long as the `*` operator is in front of it it will be treated as an arbitray number of arguments.\n",
    "\n",
    "The result to start is defined as `polynom = 0`, it could have just as easily been `polynom = coeffs[0]` i.e. the $a_{0}$ term. In this case the `range(0, len(coeffs))` would instead be `range(1, len(coeffs))` as we have already used the `coeffs[0]` element. \n",
    "\n",
    "Looping through that range for `i`, the `polynom` variable gets reassigned to **itself plus** the current coeff; `coeff[i]`, multiplied by `x` to the corresponding power. This `polynom` variable is then `return`'ed by the `return` keyword.\n",
    "\n",
    "Calling the function with the argument `x` (== 3 at the top of the code) with multiple arguments continually works out the polynomial until the last coeffecient has been evaluated. "
   ]
  },
  {
   "cell_type": "markdown",
   "metadata": {},
   "source": [
    "## Exercise 4.6: Polynomial with initialised coeffeicents"
   ]
  },
  {
   "cell_type": "markdown",
   "metadata": {},
   "source": [
    "In the previous exercise with polynomials, we have to call the `polynomial` function with the correct coeffecients each time in the function call. \n",
    "\n",
    "In this exercise, we will use the fact that a function can be defined in a function to initialise the coeffecients for a given polynomial and then call that function with various values of `x` to evaluate.\n",
    "\n",
    "The workflow should go similar to this:\n",
    "\n",
    "- Make outer function take coeffecients as arguments (varying number of coeffecients).\n",
    "- Make inner function take `x` as an argument.\n",
    "- Inner function should return the polynomial of the coeffecients multiplied by `x` in a similar way as before.\n",
    "- Outer function should return the inner function."
   ]
  },
  {
   "cell_type": "code",
   "execution_count": 9,
   "metadata": {},
   "outputs": [
    {
     "name": "stdout",
     "output_type": "stream",
     "text": [
      "282\n",
      "12\n",
      "[10, 74, 282, 772, 1730]\n",
      "[10, 11, 12, 13, 14]\n"
     ]
    }
   ],
   "source": [
    "x = 3\n",
    "\n",
    "coeffs = [0,1,4,3,2]    # Different lists of polynomial coeffecients\n",
    "coeffs2 = [9,1,0]\n",
    "\n",
    "#-------------------------------------------------------------------------\n",
    "def polynomialModel(*args):  # Make sure to include the coeffs as parameters.\n",
    "    def p_evaluate(x):  # Make sure to include `x` as a parameter.\n",
    "#YOUR CODE HERE\n",
    "        polynom = 0\n",
    "        for idx, coeff in enumerate(args):\n",
    "            polynom += coeff*x**idx\n",
    "        return polynom\n",
    "    return p_evaluate\n",
    "\n",
    "#-------------------------------------------------------------------------\n",
    "\n",
    "p1 = polynomialModel(*coeffs)    # Unpacking coeffs list as args.\n",
    "p2 = polynomialModel(*coeffs2)   # Unpacking coeffs2 list as args.\n",
    "\n",
    "#-------------------------------------------------------------------------\n",
    "\n",
    "print(p1(x))      # Print evaluation of p1 with x (==3 at top of code snippet).\n",
    "print(p2(x))      # Print evaluation of p2 with x (==3 at top of code snippet).\n",
    "\n",
    "x_list = [1,2,3,4,5]     # Multiple 'x' values.\n",
    "\n",
    "#-------------------------------------------------------------------------\n",
    "\n",
    "p1_x = list(map(p1, x_list))  # Evaluate p1 for each x value in 'x_list'.\n",
    "p2_x = list(map(p2, x_list))  # Evaluate p2 for each x value in 'x_list'.\n",
    "\n",
    "#-------------------------------------------------------------------------\n",
    "\n",
    "print(p1_x)       # Print evaluation of p1 with each x in x_list.\n",
    "print(p2_x)       # Print evaluation of p2 with each x in x_list."
   ]
  },
  {
   "cell_type": "markdown",
   "metadata": {},
   "source": [
    "**Explanation**: Here the variable `p1` is assigned to the `return` of `polynomial()` with the **args** unpacked from the `coeffs` list. This means that `p1 == p_evaulate()` where the `args` in `p_evaluate()` are equal to the `coeffs` list from the outer function. \n",
    "\n",
    "Essentially, this sets the coeffs for `p1` to be already equal to those in `coeffs` by calling `polynomial(*coeffs)`. Then calling `p1(x)` **calls** `p_evaulate(x)` with the `args == coeffs`, thus evaluating that specific polynomial for a value of `x`. The same is true for `p2` but now with `args == coeffs2` in `p_evaluate()`. \n",
    "\n",
    "The bottom part uses the `map()` function to **call** the function `p1` on each element of the `x_list` therefore evaluating that polynomial with coeffecients = `coeffs` for each `x` value in `x_list`. This type of programming can be incredibly powerful when dealing with lots of computations on large datasets. "
   ]
  },
  {
   "cell_type": "markdown",
   "metadata": {},
   "source": [
    "## Exercise 4.7: Mean sum of squared errors"
   ]
  },
  {
   "cell_type": "markdown",
   "metadata": {},
   "source": [
    "In this exercise we will be doing a similar outer-inner function program to calculate the mean sum of squared errors or squared residuals for a function given some `x` and `y` data. \n",
    "\n",
    "This is useful to gauge how well a model $h(x)$ fits data. \n",
    "\n",
    "The equation for the mean sum of squared errors is:\n",
    "\n",
    "> $R = \\frac{1}{N} \\sum\\limits_{i=0}^N (y_i-h(x_i))^2$\n",
    "\n",
    "Where $h(x)$ is a model function, $x$ is x data and $y$ is the observed value. Of course, the closer the prediction $h(x_i)$ is to the observed value $y_i$ the closer $R$ will be to zero, meaning that the model function $h(x)$ has fit the data well. \n",
    "\n",
    "In this exercise therefore, we will define a linear function to fit the `x` and `y` data. By simply looking at the values, it is clear that an equation of:\n",
    "\n",
    ">$h(x) = 2x + 0$\n",
    "\n",
    "would fit the data quite well, therefore we would expect to retrieve a low number back from the meanSquareError function for $m = 2$ and $c = 0$ and higher for different values.\n",
    "\n",
    "For this exercise, there could be many ways to sort the **inner and outer function parameters**. \n",
    "\n",
    "For instance, the **outer function** parameters could be the type of $h()$ function as a parameter as well as its corresponding `*args` (i.e. $m$ and $c$). The **inner function** could then take the datasets $x$ and $y$ as parameters. This would allow testing the same model on multiple datasets, since once the model has been initiated with $h()$ and its `*args`, different `x` and `y` data could be passed into the same model. \n",
    "\n",
    "Alternatively, the outer function could take the `x` and `y` datasets and then the inner function could take a different $h()$ and different `*args`. This would allow the meanSquareError for the same dataset to be computed for various models $h()$ or `*args` (i.e. different $m$ and $c$ values in this case).\n",
    "\n",
    "In summary:\n",
    "\n",
    "1. **Outer function** takes (`func`, `*args`) arguments and **inner function** takes (`x`, `y`) --> provides testing **same model** on **different datasets**.\n",
    "2. **Outer function** takes (`x`, `y`) arguments and **inner function** takes (`func`, `*args`) --> allows testing **different models** on **same dataset**. \n",
    "\n",
    "For this exercise I would like you to **implement type 2**, therefore we can test **different linear models** on the **same dataset** to see how well fit they are.\n",
    "\n",
    "#### i). \n",
    "\n",
    "For this first part, write a linear function taking (x, m, c) as parameters. Then write a `meanSquareError` function that takes `x` and `y` as parameters and returns the inner function `evaluate()`. Let `evaluate()` take a function or `func` as a parameter as well as `*args`. Then have `evaluate()` return the `R` or mean squared error. \n",
    "\n",
    "**Hint**: Have `evaluate()` pass `*args` to the `func` function when evaluating the $y_i-h(x_i)$ part for $h(x_i)$. The use of a `for` loop to iterate over the sum is very useful."
   ]
  },
  {
   "cell_type": "markdown",
   "metadata": {},
   "source": [
    "**Hint**: This can be tricky, make sure to first put the correct parameters for both inner and outer functions, then for the outer function, have it `return` the inner function, and have the inner function actually compute the mean squared error. If the outer function takes all the parameters in, you will have to call the outer function with all the parameters in one go, which gives no benefit from a single function on its own."
   ]
  },
  {
   "cell_type": "code",
   "execution_count": 10,
   "metadata": {},
   "outputs": [
    {
     "name": "stdout",
     "output_type": "stream",
     "text": [
      "0.38636363636363635\n",
      "41.75\n",
      "21.295454545454547\n",
      "0.38636363636363635\n"
     ]
    }
   ],
   "source": [
    "def linear(x, m, c):\n",
    "#-------------------------------------------------------------------------\n",
    "# RETURN A LINEAR FUNCTION.\n",
    "    return m*x + c\n",
    "#-------------------------------------------------------------------------\n",
    "def meanSquareError(x, y):      # This is type 2, i.e. can apply different functions to the same dataset.\n",
    "    def evaluate(func, *args):\n",
    "# YOUR CODE HERE\n",
    "        R = 0                   \n",
    "        for i in range(0, len(y)):\n",
    "            R += (y[i]-func(x[i], *args))**2\n",
    "        return R/len(y)\n",
    "    return evaluate\n",
    "\n",
    "#-------------------------------------------------------------------------\n",
    "\n",
    "# Dataset\n",
    "x = [0.0, 1.0, 2.0, 3.0, 4.0, 5.0, 6.0, 7.0, 8.0, 9.0, 10.0]\n",
    "y = [0.0, 2.2, 3.9, 5.7, 8.2, 10.9, 12.1, 15.0, 16.5, 19.0, 21.0]\n",
    "\n",
    "mse = meanSquareError(x, y)  # Return the evaluate function using the 'x' and 'y' dataset.\n",
    "print(mse(linear, 2, 0))     # Compute the mean square error for a linear function of m = 2, c = 0.\n",
    "print(mse(linear, 1, 0))     \n",
    "print(mse(linear, 2, 5))\n",
    "print(mse(polynomial, 0, 2)) # Note polynomial model with args 0, 2 should be exactly the same as linear(2, 0)"
   ]
  },
  {
   "cell_type": "markdown",
   "metadata": {},
   "source": [
    "**Explanation**: Here we have first defined a linear function to return $h(x) = mx+c$. Then the `meanSquaredError` function takes the parameters `x` and `y` as arguments and returns the `evaluate()` function. The `evaluate()` takes the function name or **callable object** as a parameter as well as `*args` for that function. `evaluate()` function starts `R` at 0, and slightly increments `R` for each iteration of:\n",
    "\n",
    ">$(y_i - h(x_i))^2$ for $i$ $0, 1, 2,... N$\n",
    "\n",
    "Finally to produce the **mean** squared error, it is divide by `len(y)` or $N$. \n",
    "\n",
    "In the **call** to `meanSquaredError()` it returns the evaluate function with `x` and `y` set as arguments. Therefore **calling** `mse` with arguments for the function and `*args` actually calls `evaluate()` but with `x` and `y` already set in place, thus evaluating different functions for the same dataset.\n",
    "\n",
    "Calling `mse(polynomial, 0, 2)` calls the previously defined `polynomial()` function from before with `*args = (0, 2)`. \n",
    "\n",
    "Since: \n",
    ">`linear(x, 2, 0)`-->     $h(x) = mx+c$ where $m = 2, c = 0$<br>\n",
    ">`polynomial(x, 0, 2)`--> $p(x) = a_1x + a_0$ where $a_1 = 2, a_0 = 0$\n",
    "\n",
    "Computing the `R` for these functions produces the same result."
   ]
  },
  {
   "cell_type": "markdown",
   "metadata": {},
   "source": [
    "#### ii). \n",
    "\n",
    "For this second part, change `meanSquaredError` to take a model `h` instead. For this part, the function `linearModel` will have an outer and inner function, similar to `polynomialModel` in exercise 4.6.\n",
    "\n",
    "Due to this, we do not necessarily need to make `meanSquaredError` contain a function inside a function and can instead have `meanSquaredError` take `x`, `y` and `h` as arguments where `h` is the model to compute. Much of the code for evaluating the squared error is the same as before, except now we can define linear models as `l1`, `l2`, etc. and pass them into the `meanSquaredError` function to evaluate that model on the `x` and `y` datasets."
   ]
  },
  {
   "cell_type": "code",
   "execution_count": 11,
   "metadata": {},
   "outputs": [
    {
     "name": "stdout",
     "output_type": "stream",
     "text": [
      "0.38636363636363635\n",
      "41.75\n",
      "21.295454545454547\n",
      "0.38636363636363635\n"
     ]
    }
   ],
   "source": [
    "#-------------------------------------------------------------------------\n",
    "# RETURN A LINEAR MODEL.\n",
    "\n",
    "def linearModel(m, c):\n",
    "    def linearModelCompute(x):\n",
    "        return m*x + c\n",
    "    return linearModelCompute\n",
    "\n",
    "#-------------------------------------------------------------------------\n",
    "# MEAN SQUARE ERROR.\n",
    "\n",
    "def meanSquareError(x, y, h):      # This is type 2, i.e. can apply different functions to the same dataset.\n",
    "    R = 0\n",
    "    for i in range(0, len(y)):\n",
    "        R += (y[i]-h(x[i]))**2\n",
    "    return R/len(y)\n",
    "\n",
    "#-------------------------------------------------------------------------\n",
    "\n",
    "# DATASET\n",
    "x = [0.0, 1.0, 2.0, 3.0, 4.0, 5.0, 6.0, 7.0, 8.0, 9.0, 10.0]\n",
    "y = [0.0, 2.2, 3.9, 5.7, 8.2, 10.9, 12.1, 15.0, 16.5, 19.0, 21.0]\n",
    "\n",
    "l1 = linearModel(2, 0)\n",
    "l2 = linearModel(1, 0)\n",
    "l3 = linearModel(2, 5)\n",
    "p1 = polynomialModel(0, 2)\n",
    "\n",
    "print(meanSquareError(x, y, l1))\n",
    "print(meanSquareError(x, y, l2))\n",
    "print(meanSquareError(x, y, l3))\n",
    "print(meanSquareError(x, y, p1))  # Note polynomial model with args 0, 2 should be exactly the same as linear(2, 0)"
   ]
  },
  {
   "cell_type": "markdown",
   "metadata": {},
   "source": [
    "**Explanation**: For this part, we change the linear function to produce a linearModel similar to `polynomialModel` in exercise 4.6. This means that setting `l1 = linearModel(2,0)` is setting `l1` to equal the **callable function** `linearModelCompute()` with `m` and `c` already set. Now we can simply pass `h` as a model instead of a function into the `meanSquareError` function with `x` and `y` and produce the mean squared error for that model. \n",
    "\n",
    "Similarly to above a polynomial model, from `polynomialModel` in exercise 4.6, passed to `meanSquareError` can also compute the error for that model as well."
   ]
  },
  {
   "cell_type": "markdown",
   "metadata": {},
   "source": [
    "#### iii).\n",
    "\n",
    "Part iii). involves implementing part ii).'s code but utilising a list comprehension instead of a `for` loop to calculate `R`. List comprehensions appeared in Python Coding Club Part 3.\n",
    "\n",
    "Instead of using a `for` loop try to define `R_list` as a list of squared residuals. Then simply find `R` as `sum(R_list)/len(R_list)`."
   ]
  },
  {
   "cell_type": "code",
   "execution_count": 12,
   "metadata": {
    "scrolled": true
   },
   "outputs": [
    {
     "name": "stdout",
     "output_type": "stream",
     "text": [
      "0.38636363636363635\n",
      "41.75\n",
      "21.295454545454547\n",
      "0.38636363636363635\n"
     ]
    }
   ],
   "source": [
    "#-------------------------------------------------------------------------\n",
    "# MEAN SQUARE ERROR.\n",
    "\n",
    "def meanSquareError(x, y, h):      \n",
    "    R_list = [(y[i]-h(x[i]))**2 for i in range(0, len(y))] # List comprehension for residual list 'R_list'.\n",
    "    return sum(R_list)/len(R_list)\n",
    "\n",
    "#-------------------------------------------------------------------------\n",
    "\n",
    "# DATASET\n",
    "x = [0.0, 1.0, 2.0, 3.0, 4.0, 5.0, 6.0, 7.0, 8.0, 9.0, 10.0]\n",
    "y = [0.0, 2.2, 3.9, 5.7, 8.2, 10.9, 12.1, 15.0, 16.5, 19.0, 21.0]\n",
    "\n",
    "l1 = linearModel(2, 0)\n",
    "l2 = linearModel(1, 0)\n",
    "l3 = linearModel(2, 5)\n",
    "p1 = polynomialModel(0, 2)\n",
    "\n",
    "print(meanSquareError(x, y, l1))\n",
    "print(meanSquareError(x, y, l2))\n",
    "print(meanSquareError(x, y, l3))\n",
    "print(meanSquareError(x, y, p1))  # Note polynomial model with args 0, 2 should be exactly the same as linear(2, 0)"
   ]
  },
  {
   "cell_type": "markdown",
   "metadata": {},
   "source": [
    "**Explanation**: By setting a residual list to a list comprehension, the whole residual list can be defined on one line. This means that we take the square error for each $i$ value in the lists `x` and `y`. \n",
    "\n",
    "\n",
    "To change this to be functional with a linear function instead of our **model** based approach, simply define the function as `meanSquareError(x, y, h, *args):` and in the list comprehension use: \n",
    "\n",
    "`R_list = [(y[i] - h(x[i], *args))**2 for i in range(0, len(y)]`\n",
    "\n",
    "Note the use of `*args` in the `h` function call.\n",
    "\n",
    "<br>Of course this could also be used using a list of function parameters to pass to `h` by using:\n",
    "\n",
    "`meanSquareError(x, y, h, params):` where `params` is a list of arguments for `h`\n",
    "\n",
    "and \n",
    "\n",
    "`R_list = [(y[i] - h(x[i], *params))**2 for i in range(0, len(y)]`\n",
    "\n",
    "\n",
    "All of these implementations are equally valid."
   ]
  },
  {
   "cell_type": "markdown",
   "metadata": {},
   "source": [
    "#### iv). \n",
    "\n",
    "Part iv). of this exercise involves building on part ii).'s code using the same model based evaluations but this time instead of using a `for` loop, utilising the `map()` function to map a function to each element of an iterable."
   ]
  },
  {
   "cell_type": "markdown",
   "metadata": {},
   "source": [
    "**Hint**: Using the `map()` function involves the first argument to be a function that takes `m` arguments, whilst the subsequent arguments to `map()` should be iterables. If the function takes `m` arguments, there should be `m` iterables/lists, map will then take each element of each list and pass them as arguments to the function argument.\n",
    "\n",
    "For instance:\n",
    "\n",
    "for\n",
    "$x = [x_0, x_1, x_2,..., x_n]$, $y = [y_0, y_1, y_2,..., y_n]$, $z = [z_0, z_1, z_2,..., z_n]$\n",
    "and $f(x, y, z)$\n",
    "\n",
    "then `h = map(f, x, y, z)` makes a list of $h = [f(x_0, y_0, z_0), f(x_1, y_1, z_1), ..., f(x_n, y_n, z_n)]$\n",
    "\n",
    "**NOTE** the first argument to `map()` is always the **callable** function. \n",
    "\n",
    "**Hint**: It may be useful to define a **square error** function that returns $(y-y_{predict})^2$ for $y_{predict} = h(x)$."
   ]
  },
  {
   "cell_type": "code",
   "execution_count": 13,
   "metadata": {},
   "outputs": [
    {
     "name": "stdout",
     "output_type": "stream",
     "text": [
      "0.38636363636363635\n",
      "41.75\n",
      "21.295454545454547\n",
      "0.38636363636363635\n"
     ]
    }
   ],
   "source": [
    "#-------------------------------------------------------------------------\n",
    "    \n",
    "def squareError(y, y_pred):\n",
    "    return (y-y_pred)**2\n",
    "\n",
    "#-------------------------------------------------------------------------\n",
    "\n",
    "def meanSquareError(x, y, h):\n",
    "    y_predict = list(map(h, x))     # Mapping 'x' elements to the 'h' function.\n",
    "    R = sum(map(squareError, y, y_predict))/len(y)   # Mapping 'y' and 'y_predict' to the 'squareError' function.\n",
    "    return R\n",
    "\n",
    "#-------------------------------------------------------------------------\n",
    "# DATASET\n",
    "x = [0.0, 1.0, 2.0, 3.0, 4.0, 5.0, 6.0, 7.0, 8.0, 9.0, 10.0]\n",
    "y = [0.0, 2.2, 3.9, 5.7, 8.2, 10.9, 12.1, 15.0, 16.5, 19.0, 21.0]\n",
    "\n",
    "l1 = linearModel(2, 0)\n",
    "l2 = linearModel(1, 0)\n",
    "l3 = linearModel(2, 5)\n",
    "p1 = polynomialModel(0, 2)\n",
    "\n",
    "print(meanSquareError(x, y, l1))\n",
    "print(meanSquareError(x, y, l2))\n",
    "print(meanSquareError(x, y, l3))\n",
    "print(meanSquareError(x, y, p1))"
   ]
  },
  {
   "cell_type": "markdown",
   "metadata": {},
   "source": [
    "**Explanation**: Here we used the `map()` function instead of `for` loops to prouce the desired result. Similarly to part ii). a `linearModel` is used instead of a `linear` function to compute `R`. Firstly a list of the predicted values is made by using `map()` with the provided model `h` with the dataset `x`. \n",
    "\n",
    "This returns:\n",
    "\n",
    "$y_{predict} = [h(x_0), h(x_1), h(x_2), ... , h(x_n)]$\n",
    "\n",
    "Next `y` and `y_predict` are mapped to the `squareError()` function, which then takes the squared difference between them, this returns the `map` object with each square residual as each element. Utilising the `sum()` function adds all the errors together and dividing by the `len(y)` produces the mean."
   ]
  },
  {
   "cell_type": "markdown",
   "metadata": {},
   "source": [
    "**Summary**: This exercise had many parts and was quite long, but the point is there are **many ways to achieve the same result**. Mainly it comes down to **if your functions need to interface with any other functions** but otherwise it is **simply personal preference** or **speed** (some implentations may be quicker than others, research will be required for figuring out which implementation is quicker). \n",
    "\n",
    "Hopefully seeing some of the ways that this same exercise can be approached will open your horizons on **how to approach different problems** both with **function design** and actual **implementation**. "
   ]
  },
  {
   "cell_type": "markdown",
   "metadata": {},
   "source": [
    "## Exercise 4.8: Lambda functions"
   ]
  },
  {
   "cell_type": "markdown",
   "metadata": {},
   "source": [
    "In this exercise, we will use `lambda` functions to create a lorentzian peak model function.\n",
    "\n",
    "The expression for a lorentzian distribution is:\n",
    "$$\n",
    "l(x) = \\frac{A}{1+(\\frac{x-m}{w})^2}\n",
    "$$\n",
    "\n",
    "where $A$ is the amplitude/height of the distribution, $m$ is the center point or mean of the distribution and $w$ is the width, concretely the half-width at half-maximum of the peak.\n",
    "\n",
    "**Hint**: The code is similar to how we defined `polynomialModel` and `linearModel` before, except now instead of using functions within functions, we return a `lambda` function since the returned line can be written on one line."
   ]
  },
  {
   "cell_type": "code",
   "execution_count": 1,
   "metadata": {},
   "outputs": [
    {
     "name": "stdout",
     "output_type": "stream",
     "text": [
      "peak 1 at x = 1500: 1.0\n",
      "peak 2 at x = 1500: 0.05\n",
      "peak 1 + peak 2 at x = 1500: 1.05\n",
      "peak 1 at x = 1350.0: 0.3076923076923077\n",
      "peak 2 at x = 1350.0: 0.15384615384615385\n",
      "peak 1 + peak 2 at x = 1350.0: 0.46153846153846156\n",
      "peak 1 at x = 1200: 0.1\n",
      "peak 2 at x = 1200: 0.5\n",
      "peak 1 + peak 2 at x = 1200: 0.6\n"
     ]
    },
    {
     "data": {
      "image/png": "[encoded data removed]",
      "text/plain": [
       "<Figure size 432x288 with 1 Axes>"
      ]
     },
     "metadata": {
      "needs_background": "light"
     },
     "output_type": "display_data"
    }
   ],
   "source": [
    "def lorentzian(A, m, w):\n",
    "#---------------------------------------------------------------\n",
    "# YOUR CODE HERE\n",
    "    return lambda x: A/(1+((x-m)/w)**2)   # Returning the one line evaluation at 'x' for 'A', 'm' and 'w'.\n",
    "\n",
    "\n",
    "#---------------------------------------------------------------\n",
    "# Change the peak centers and re-execute the code to see the ouput.\n",
    "centers = [1500, 1200]\n",
    "l1 = lorentzian(1, centers[0], 100)     # Making one lorenztian peak.\n",
    "l2 = lorentzian(0.5, centers[1], 100)   # Making a second lorenztian peak.\n",
    "\n",
    "# List of x values of peak centers and inbetween both peaks.\n",
    "x_values = [centers[0], sum(centers)/len(centers), centers[1]]\n",
    "\n",
    "# Evaluating the peaks at different values of 'x'.\n",
    "#---------------------------------------------------------------\n",
    "for x_value in x_values:\n",
    "    print(f'peak 1 at x = {x_value}: {l1(x_value)}') # Output from peaks at each x value.\n",
    "    print(f'peak 2 at x = {x_value}: {l2(x_value)}')\n",
    "    print(f'peak 1 + peak 2 at x = {x_value}: {l1(x_value)+l2(x_value)}')  # Output from both peaks.\n",
    "\n",
    "#---------------------------------------------------------------\n",
    "# VISUALISING THE RESULTS\n",
    "%matplotlib inline\n",
    "\n",
    "import matplotlib.pyplot as plt\n",
    "import numpy as np\n",
    "\n",
    "x = np.linspace(0, 2000, 500)\n",
    "y = l1(x) + l2(x)\n",
    "peak1 = l1(x)\n",
    "peak2 = l2(x)\n",
    "\n",
    "plt.plot(x, peak1, 'r-', label='peak 1')\n",
    "plt.plot(x, peak2, 'g-', label='peak 2')\n",
    "plt.plot(x, y, 'm--', label= 'peak 1 + peak 2')\n",
    "for x_value in x_values:\n",
    "    plt.vlines(x_value, linestyle=':', color='k', ymin=0, ymax=max(y))\n",
    "plt.axhline(0.0, linestyle='--', color='k')\n",
    "plt.legend()\n",
    "plt.show()"
   ]
  },
  {
   "cell_type": "markdown",
   "metadata": {},
   "source": [
    "**Explanation**: As before, we are simply returning a function from the `lorentzian` function, this time we are returning a `lambda` function. Then when we call `l1(x)` we are passing `x` into the `lambda x: A/(1+((x-m)/w)**2)` function where `A`, `m` and `w` were already initialised when creating `l1 = lorenztian(A, m, w)`. \n",
    "\n",
    "The plotting at the bottom is simply to visualise the results to see if your function worked. However, I wonder if you can understand that modules from the `import` statements use functions when plotting. Certain arguments within the parentheses are named i.e. they are keyword arguments being passed to these functions. Hopefully understanding of what is a function and what is not will provide insight into how to handle elements written by other programmers, with the help of the module/library documentation of course. "
   ]
  },
  {
   "cell_type": "markdown",
   "metadata": {},
   "source": [
    "## Exercise 4.9: Recursive functions"
   ]
  },
  {
   "cell_type": "markdown",
   "metadata": {},
   "source": [
    "In this exercise, we shall use recursion to create recursive functions."
   ]
  },
  {
   "cell_type": "markdown",
   "metadata": {},
   "source": [
    "#### i).\n",
    "\n",
    "Part i). starts with creating a function to produce an $n$ order power of `x`. \n",
    "\n",
    "For instance:\n",
    "\n",
    "$$\n",
    "f(x, n) = x^n + x^{n-1} + x^{n-2} + x^{n-2} + ... + x^{1} + x^{0} \n",
    "$$\n",
    "\n",
    "We can do this by passing `n` and `x` as arguments to the function and utilising recursion."
   ]
  },
  {
   "cell_type": "code",
   "execution_count": 15,
   "metadata": {},
   "outputs": [
    {
     "name": "stdout",
     "output_type": "stream",
     "text": [
      "31\n",
      "31\n",
      "3\n",
      "3\n",
      "1365\n",
      "1365\n"
     ]
    }
   ],
   "source": [
    "def power_order(x, n):\n",
    "#---------------------------------------------------------------\n",
    "# YOUR CODE HERE\n",
    "    if n == 0:\n",
    "        return x**n\n",
    "    return x**n + power_order(x, n-1)\n",
    "#---------------------------------------------------------------\n",
    "\n",
    "print(power_order(5, 2))    # These values should be the same if correct.\n",
    "print(5**2 + 5**1 + 5**0)\n",
    "\n",
    "print(power_order(2, 1))\n",
    "print(2**1 + 2**0)\n",
    "\n",
    "print(power_order(4, 5))\n",
    "print(4**5 + 4**4 + 4**3 + 4**2 + 4**1 + 4**0)"
   ]
  },
  {
   "cell_type": "markdown",
   "metadata": {},
   "source": [
    "**Explanation**: The above function returns `x**n + power_order(x, n-1)` if `n != 0`, meaning that it calls itself again via recursion until `n == 0` whereby it returns the last $x^0$ term of the power expansion."
   ]
  },
  {
   "cell_type": "markdown",
   "metadata": {},
   "source": [
    "#### ii). \n",
    "\n",
    "Part ii). builds on the previous code by utilising coeffecients for a recursive polynomial. \n",
    "\n",
    "A polynomial of:\n",
    "$$\n",
    "p(x) = \\sum\\limits_{i=0}^N a_ix^i = a_nx^n + a_{n-1}x^{n-1} + ... + a_1x^1 + a_0x^0\n",
    "$$\n",
    "\n",
    "can also be written as \n",
    "$$\n",
    "p(x) = a_0 + x(a_1 + x(a_2 + ... x(a_{n-1} + xa_n)))\n",
    "$$"
   ]
  },
  {
   "cell_type": "markdown",
   "metadata": {},
   "source": [
    "Use this form of a polynomial to write a function `polynom` that takes `x` and `*coeffs` as arguments and returns the value for the polynomial for that value of `x`. Use function recursion to call the function itself to achieve this. "
   ]
  },
  {
   "cell_type": "markdown",
   "metadata": {},
   "source": [
    "**Hint**: Think about how `coeffs` is getting passed into the function and how to access/pass a separate slice back into the function when recursing. Make sure to include a break point to end the recursion at."
   ]
  },
  {
   "cell_type": "code",
   "execution_count": 16,
   "metadata": {},
   "outputs": [
    {
     "name": "stdout",
     "output_type": "stream",
     "text": [
      "18\n",
      "18\n",
      "18\n",
      "62\n",
      "62\n",
      "62\n"
     ]
    }
   ],
   "source": [
    "def polynom(x, *coeffs):\n",
    "#---------------------------------------------------------------\n",
    "# YOUR CODE HERE\n",
    "    if len(coeffs) == 1:\n",
    "        return coeffs[0]\n",
    "    return coeffs[0] + x*polynom(x, *coeffs[1:])\n",
    "\n",
    "#---------------------------------------------------------------\n",
    "\n",
    "print(polynom(3, 0, 0, 2))           # These values should be the same if your code is correct. \n",
    "print(0*3**0 + 0*3**1 + 2*3**2)\n",
    "print(0 + 3*(0 + 3*(2)))\n",
    "\n",
    "print(polynom(2, 0, 1, 1, 1, 1, 1))\n",
    "print(0*2**0 + 1*2**1 + 1*2**2 + 1*2**3 + 1*2**4 + 1*2**5)\n",
    "print(0 + 2*(1 + 2*(1 + 2*(1 + 2*(1 + 2*(1))))))"
   ]
  }
 ],
 "metadata": {
  "kernelspec": {
   "display_name": "Python 3",
   "language": "python",
   "name": "python3"
  },
  "language_info": {
   "codemirror_mode": {
    "name": "ipython",
    "version": 3
   },
   "file_extension": ".py",
   "mimetype": "text/x-python",
   "name": "python",
   "nbconvert_exporter": "python",
   "pygments_lexer": "ipython3",
   "version": "3.8.1"
  }
 },
 "nbformat": 4,
 "nbformat_minor": 4
}
