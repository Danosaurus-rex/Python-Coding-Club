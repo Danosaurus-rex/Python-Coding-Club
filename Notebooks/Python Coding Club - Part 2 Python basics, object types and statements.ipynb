{
 "cells": [
  {
   "attachments": {
    "image.png": {
     "image/png": "[encoded data removed]"
    }
   },
   "cell_type": "markdown",
   "metadata": {
    "nbpresent": {
     "id": "e757f315-bfd0-42b8-afab-0c1a9873bfc9"
    }
   },
   "source": [
    "![image.png](attachment:image.png)\n",
    "\n",
    "\n",
    "# Python Coding Club\n",
    "\n",
    "This series is to introduce Python as a programming language to be used for data analysis, scientific computing and plotting. It is by __no means comprehensive__ but will provide a basis for further investigation and exploration into this powerful language. These notes are __best visualised__ in a __Jupyter Notebook__ and I encourage you to __follow along__ in your __preferred IDE__."
   ]
  },
  {
   "cell_type": "markdown",
   "metadata": {
    "nbpresent": {
     "id": "6b1a0a06-ef50-452d-af02-313d96023654"
    }
   },
   "source": [
    "# Part 2: Basics object types and statements\n",
    "\n",
    "Part 2 of this series involves introducing basics of Python programming. In particular it will introduce the concept of Python keywords, syntax, variables, built-in functions and operators.  "
   ]
  },
  {
   "cell_type": "markdown",
   "metadata": {
    "nbpresent": {
     "id": "1836b91a-3ea2-4b7c-b898-469659937523"
    }
   },
   "source": [
    "## Part 2.1: Python basics\n",
    "\n",
    "### Python keywords\n",
    "\n",
    "Python contains certain keywords that are interpreted when typed in a __specific manner__. A list of these keywords and their __actions__ in alphabetical order is shown below:\n",
    "\n",
    "| __Keyword__ | __Description__ |\n",
    "|:--|:--|\n",
    "| `and` |\tA logical operator |\n",
    "| `as`  | To create an alias |\n",
    "| `assert` | For debugging |\n",
    "| `break` | To break out of a loop |\n",
    "| `class` | To define a class |\n",
    "| `continue` | To continue to the next iteration of a loop |\n",
    "| `def`\t| To define a function |\n",
    "| `del`\t| To delete an object |\n",
    "| `elif` | Used in conditional statements, same as else if |\n",
    "| `else` | Used in conditional statements |\n",
    "| `except` | Used with exceptions, what to do when an exception occurs |\n",
    "| `False` | Boolean value, result of comparison operations |\n",
    "| `finally` | Used with exceptions, a block of code that will be executed no matter if there is an exception or not| \n",
    "| `for`\t| To create a for loop |\n",
    "| `from` |\tTo import specific parts of a module |\n",
    "| `global`\t| To declare a global variable |\n",
    "| `if`\t| To make a conditional statement |\n",
    "| `import` |\tTo import a module |\n",
    "| `in` |\tTo check if a value is present in a list, tuple, etc. |\n",
    "| `is`\t| To test if two variables are equal |\n",
    "| `lambda` |\tTo create an anonymous function |\n",
    "| `None` |\tRepresents a null value |\n",
    "| `nonlocal` |\tTo declare a non-local variable |\n",
    "| `not` |\tA logical operator |\n",
    "| `or`\t | A logical operator |\n",
    "| `pass` |\tA null statement, a statement that will do nothing |\n",
    "| `raise` |\tTo raise an exception |\n",
    "| `return` |\tTo exit a function and return a value |\n",
    "| `True` |\tBoolean value, result of comparison operations |\n",
    "| `try` |\tTo make a try...except statement |\n",
    "| `while` |\tTo create a while loop |\n",
    "| `with` |\tUsed to simplify exception handling |\n",
    "| `yield` |\tTo end a function, returns a generator |\n",
    "\n",
    "These keywords may not mean that much to you currently but essentially they are __special words__ that implement specific actions in the Python interpreter. \n",
    "\n",
    "- For instance the `import` __keyword__ starts an __import statement__ to import a __specific module__. The `from` __keyword__ is used in conjunction with `import` to import a __specific part__ of a module whilst the `as` keyword changes the __alias__ of the __module__ to a given name (i.e. `import numpy as np`).   \n",
    "- The `if` __keyword__ starts a __conditional statement__ which checks if the statement is `True`. The `elif` __keyword__  stands for 'else if' and starts a second conditional statement after an 'if' statement is `False`. The `else` __keyword__ starts the code block to execute if __all conditional statements__ are evaluated as `False`.\n",
    "- `True` and `False` are __keywords__ that designate the corresponding __boolean value__ (1 and 0 respectively).\n",
    "- The `def` and `class` __keywords__ start a __function defintion__ and __class definition__ respectively.\n",
    "- The `for` and `while` __keywords__ start __for__ and __while loops__ of code respectively.\n",
    "\n",
    "More on statements and loops later."
   ]
  },
  {
   "cell_type": "markdown",
   "metadata": {
    "nbpresent": {
     "id": "8ae9758d-46f2-4848-bac5-c0fa6206a7ef"
    }
   },
   "source": [
    "### Whitespace and syntax in Python\n",
    "\n",
    "Python is a very __visual programming language__ and therefore it utilises __whitespace (i.e. tabs and spaces)__ to denote new __code blocks__ to execute under statements.\n",
    "\n",
    "__Syntax__ is the rules that Python code is written with. This will be shown in more detail at the end of this part however for now take note that syntax is the way the code is written so that it is __interpretable__ by the __Python interpreter__ when the script is __executed (run)__.\n",
    "\n",
    "__Syntax errors__ are very easy to __debug__ in an IDE as the IDE will typically show areas where the syntax is not correct such as:\n",
    "- __unclosed parentheses__ \n",
    "- __a missing colon__ \n",
    "- __a missing tab indent__ \n",
    "\n",
    "These `SyntaxError`'s are common when first learning a new programming language but with more practice they can be overcome quite easily. \n",
    "\n",
    "Execute the two cells below to show a syntax error and how to avoid it."
   ]
  },
  {
   "cell_type": "markdown",
   "metadata": {
    "nbpresent": {
     "id": "e038cfb9-4cb4-47ab-90be-0c1f83038b5d"
    }
   },
   "source": [
    "This cell has a missing parenthesis (i.e. an open bracket) and therefore will raise a `SyntaxError`. Execute the cell (__Shift+Enter__ when the cell is selected)."
   ]
  },
  {
   "cell_type": "code",
   "execution_count": 1,
   "metadata": {
    "nbpresent": {
     "id": "ce05d50f-e3bf-4e16-baef-a14517b2cc83"
    }
   },
   "outputs": [
    {
     "ename": "SyntaxError",
     "evalue": "unexpected EOF while parsing (<ipython-input-1-a04d18728a72>, line 1)",
     "output_type": "error",
     "traceback": [
      "\u001b[0;36m  File \u001b[0;32m\"<ipython-input-1-a04d18728a72>\"\u001b[0;36m, line \u001b[0;32m1\u001b[0m\n\u001b[0;31m    print(5+10\u001b[0m\n\u001b[0m              ^\u001b[0m\n\u001b[0;31mSyntaxError\u001b[0m\u001b[0;31m:\u001b[0m unexpected EOF while parsing\n"
     ]
    }
   ],
   "source": [
    "print(5+10"
   ]
  },
  {
   "cell_type": "markdown",
   "metadata": {
    "nbpresent": {
     "id": "2ecc15d1-f6ce-40a9-bcdb-4ee04e4a4f2d"
    }
   },
   "source": [
    "This cell has the parentheses closed, therefore the `print` function knows what to evaluate and the code executes correctly.  \n",
    "  Execute the cell below (__Shift+Enter__)."
   ]
  },
  {
   "cell_type": "code",
   "execution_count": 2,
   "metadata": {
    "nbpresent": {
     "id": "5654d743-4cc4-46f3-9e13-d419eaf21fc6"
    }
   },
   "outputs": [
    {
     "name": "stdout",
     "output_type": "stream",
     "text": [
      "15\n"
     ]
    }
   ],
   "source": [
    "print(5+10)"
   ]
  },
  {
   "cell_type": "markdown",
   "metadata": {
    "nbpresent": {
     "id": "594e51bd-c2b7-4c14-b99b-35b179a833c6"
    }
   },
   "source": [
    "The use of __whitespace__ is __particularly important__ when defining functions using `def` or classes with `class` and when writing in `if`, `elif` and `else` statement blocks and when using `for` and `while` loops."
   ]
  },
  {
   "cell_type": "markdown",
   "metadata": {
    "nbpresent": {
     "id": "4c1fdfc2-3269-401e-8ff8-5560ab4d2900"
    }
   },
   "source": [
    "### Comments\n",
    "\n",
    "Following on from Pythons visual design and __readable philosophy__, Python allows the ability to __add comments__ to a Python script. Comments are started with `#` character and are __ignored__ when the code is complied and interpreted. Therefore comments are a useful way to:\n",
    "\n",
    "- Help yourself read through what your code does.\n",
    "- Help other programmers who may read your code understand what the code does.\n",
    "\n",
    "The __best Python programs__ have extensive comments that allow your code to be __as readable as possible__."
   ]
  },
  {
   "cell_type": "markdown",
   "metadata": {
    "nbpresent": {
     "id": "7f5f5a7f-f9a4-41ca-82c6-194b5d1a64e3"
    }
   },
   "source": [
    "This code will be executed"
   ]
  },
  {
   "cell_type": "code",
   "execution_count": 3,
   "metadata": {
    "nbpresent": {
     "id": "10ea1d87-dd06-49bf-880f-7c8ecfec73d3"
    }
   },
   "outputs": [
    {
     "name": "stdout",
     "output_type": "stream",
     "text": [
      "15\n"
     ]
    }
   ],
   "source": [
    "print(5+10)"
   ]
  },
  {
   "cell_type": "markdown",
   "metadata": {
    "nbpresent": {
     "id": "6e80d15e-24d3-4f31-8ca3-7d3d156e4aa0"
    }
   },
   "source": [
    "However this code does not execute anything as the `#` starts the comment."
   ]
  },
  {
   "cell_type": "code",
   "execution_count": 4,
   "metadata": {
    "nbpresent": {
     "id": "6dd93d13-bfea-494c-8e24-cb148c3b407a"
    }
   },
   "outputs": [],
   "source": [
    "#print(5+10)"
   ]
  },
  {
   "cell_type": "markdown",
   "metadata": {
    "nbpresent": {
     "id": "451784cd-6b88-4769-833f-be8552e03b26"
    }
   },
   "source": [
    "Comments are single line only, and start straight after the `#` symbol"
   ]
  },
  {
   "cell_type": "code",
   "execution_count": 5,
   "metadata": {
    "nbpresent": {
     "id": "7f694eaa-ecfd-4d65-8b19-0fa18bf9880b"
    }
   },
   "outputs": [
    {
     "name": "stdout",
     "output_type": "stream",
     "text": [
      "7\n",
      "4\n"
     ]
    }
   ],
   "source": [
    "print(7) # This is a comment still.\n",
    "#print(90) will have no effect.\n",
    "print(4) # This is another comment."
   ]
  },
  {
   "cell_type": "markdown",
   "metadata": {
    "nbpresent": {
     "id": "fe41816f-1ca9-440f-aca5-34e323c7c834"
    }
   },
   "source": [
    "### Variables\n",
    "\n",
    "Variables are fundamental to any programming language and Python is no exception to this.\n",
    "\n",
    "Variables are where information is __stored or referenced__ to using the assignment operator `=`.\n",
    "\n",
    "For instance compared to the above example, the sum of `5+10` is saved in the variable `x` which is then referred to when the `print(x)` function is called."
   ]
  },
  {
   "cell_type": "code",
   "execution_count": 6,
   "metadata": {
    "nbpresent": {
     "id": "8b13bddd-5732-460f-a692-3f8d5aa70cde"
    }
   },
   "outputs": [
    {
     "name": "stdout",
     "output_type": "stream",
     "text": [
      "15\n"
     ]
    }
   ],
   "source": [
    "x = 5+10\n",
    "print(x)"
   ]
  },
  {
   "cell_type": "markdown",
   "metadata": {
    "nbpresent": {
     "id": "aaf81a07-c228-4b52-b826-33b5fa3ae198"
    }
   },
   "source": [
    "A variable can be assigned with any valid data type (mentioned below) even full objects.\n",
    "\n",
    "Since Python code is executed line-by-line, re-assigning a variable overwrites the previous assignment. \n",
    "\n",
    "For instance:"
   ]
  },
  {
   "cell_type": "code",
   "execution_count": 7,
   "metadata": {
    "nbpresent": {
     "id": "0b1d6dbf-c717-4467-b11b-ad05e634c3a6"
    }
   },
   "outputs": [
    {
     "name": "stdout",
     "output_type": "stream",
     "text": [
      "Hello, World\n"
     ]
    }
   ],
   "source": [
    "x = 5               # 'x' is assigned the value of 5 (int)\n",
    "x = \"Hello, World\"  # 'x' is reassigned with the string 'Hello, World' (str)\n",
    "print(x)"
   ]
  },
  {
   "cell_type": "markdown",
   "metadata": {
    "nbpresent": {
     "id": "7c5772eb-3437-4d79-b4a7-ad168540fcfa"
    }
   },
   "source": [
    "Variables can be named with any __legal__ name."
   ]
  },
  {
   "cell_type": "code",
   "execution_count": 8,
   "metadata": {
    "nbpresent": {
     "id": "91573f8d-b6fd-43bb-9389-1040bc626d02"
    }
   },
   "outputs": [
    {
     "name": "stdout",
     "output_type": "stream",
     "text": [
      "43\n"
     ]
    }
   ],
   "source": [
    "my_very_first_Variable = 89 - 46\n",
    "print(my_very_first_Variable)"
   ]
  },
  {
   "cell_type": "markdown",
   "metadata": {
    "nbpresent": {
     "id": "9accae39-60bb-46af-ba93-51da0884b246"
    }
   },
   "source": [
    "Variable names __cannot start with a number__ or contain __spaces__ or __dashes__.   \n",
    "Variable names can only contain __alphanumeric characters__ and `_`'s (i.e. A-Z, 0-9, \\_)  "
   ]
  },
  {
   "cell_type": "code",
   "execution_count": 9,
   "metadata": {
    "nbpresent": {
     "id": "f868845b-5263-4ee5-8255-14902c810ff8"
    }
   },
   "outputs": [
    {
     "ename": "SyntaxError",
     "evalue": "invalid syntax (<ipython-input-9-7e7f7be5d9b6>, line 9)",
     "output_type": "error",
     "traceback": [
      "\u001b[0;36m  File \u001b[0;32m\"<ipython-input-9-7e7f7be5d9b6>\"\u001b[0;36m, line \u001b[0;32m9\u001b[0m\n\u001b[0;31m    2nd_variable = \"This starts with a number\"\u001b[0m\n\u001b[0m     ^\u001b[0m\n\u001b[0;31mSyntaxError\u001b[0m\u001b[0;31m:\u001b[0m invalid syntax\n"
     ]
    }
   ],
   "source": [
    "#Legal variable names:\n",
    "my_var = 56\n",
    "myVar = \"hello\"\n",
    "_my_var_ = \"this is a variable\"\n",
    "my_var2 = \"another variable\"\n",
    "MYVAR = 67\n",
    "\n",
    "#Illegal variable names:\n",
    "2nd_variable = \"This starts with a number\"\n",
    "my variable = \"This contains a space\"\n",
    "my-dashed-variable = \"This contains dashes\"\n",
    "my.dashed.variable = \"This contains '.' which is not alphanumeric or _\""
   ]
  },
  {
   "cell_type": "markdown",
   "metadata": {
    "nbpresent": {
     "id": "37cb541c-dd8c-4adf-9c7e-d4771a34151e"
    }
   },
   "source": [
    "Variable names __are case sensitive__."
   ]
  },
  {
   "cell_type": "code",
   "execution_count": 10,
   "metadata": {
    "nbpresent": {
     "id": "a1d213ea-084c-4419-8223-4ec1b635d7d7"
    }
   },
   "outputs": [
    {
     "data": {
      "text/plain": [
       "False"
      ]
     },
     "execution_count": 10,
     "metadata": {},
     "output_type": "execute_result"
    }
   ],
   "source": [
    "my_var = 56 # Assigning 'my_var' to the value 56\n",
    "MY_VAR = 65 # Assigning 'MY_VAR' to the value 65\n",
    "\n",
    "my_var == MY_VAR # Checking whether these are the same variable (True if same, False if not)"
   ]
  },
  {
   "cell_type": "code",
   "execution_count": 11,
   "metadata": {
    "nbpresent": {
     "id": "c000ea40-51b4-41c4-9a3e-bd5ad56dc016"
    }
   },
   "outputs": [
    {
     "data": {
      "text/plain": [
       "True"
      ]
     },
     "execution_count": 11,
     "metadata": {},
     "output_type": "execute_result"
    }
   ],
   "source": [
    "my_var == my_var"
   ]
  },
  {
   "cell_type": "code",
   "execution_count": 12,
   "metadata": {
    "nbpresent": {
     "id": "1892d406-fe28-42fc-883b-218029514240"
    }
   },
   "outputs": [
    {
     "data": {
      "text/plain": [
       "56"
      ]
     },
     "execution_count": 12,
     "metadata": {},
     "output_type": "execute_result"
    }
   ],
   "source": [
    "my_var"
   ]
  },
  {
   "cell_type": "code",
   "execution_count": 13,
   "metadata": {
    "nbpresent": {
     "id": "2c9b25bd-455b-4b4e-9b0f-8858481ea3ef"
    }
   },
   "outputs": [
    {
     "data": {
      "text/plain": [
       "65"
      ]
     },
     "execution_count": 13,
     "metadata": {},
     "output_type": "execute_result"
    }
   ],
   "source": [
    "MY_VAR"
   ]
  },
  {
   "cell_type": "markdown",
   "metadata": {},
   "source": [
    "Variables can also be __assigned together__ on one line, for instance:"
   ]
  },
  {
   "cell_type": "code",
   "execution_count": 14,
   "metadata": {},
   "outputs": [
    {
     "name": "stdout",
     "output_type": "stream",
     "text": [
      "56 56\n"
     ]
    }
   ],
   "source": [
    "x = y = 56\n",
    "print(x, y)"
   ]
  },
  {
   "cell_type": "markdown",
   "metadata": {},
   "source": [
    "Again, since variables are separate objects, changing one does not change the other."
   ]
  },
  {
   "cell_type": "code",
   "execution_count": 15,
   "metadata": {},
   "outputs": [
    {
     "data": {
      "text/plain": [
       "56"
      ]
     },
     "execution_count": 15,
     "metadata": {},
     "output_type": "execute_result"
    }
   ],
   "source": [
    "x+5\n",
    "y"
   ]
  },
  {
   "cell_type": "markdown",
   "metadata": {},
   "source": [
    "Separate values can also be assigned on one line by separation with a comma."
   ]
  },
  {
   "cell_type": "code",
   "execution_count": 16,
   "metadata": {},
   "outputs": [
    {
     "name": "stdout",
     "output_type": "stream",
     "text": [
      "35 String\n"
     ]
    }
   ],
   "source": [
    "v1, v2 = 35, \"String\"\n",
    "print(v1, v2)"
   ]
  },
  {
   "cell_type": "markdown",
   "metadata": {
    "nbpresent": {
     "id": "608047c5-232e-4dbf-8222-3b9076d8f99c"
    }
   },
   "source": [
    "Variables are the __basis__ of any Python program. \n",
    "\n",
    "Even though any _legal_ variable name can be used, there are some __naming conventions__ behind variable names.\n",
    "\n",
    "- A variable name should be descriptive enough without being too lengthy i.e. `Age` instead of `A` or `AgeOfPersonBornIn1990` for example.\n",
    "- Variable names are commonly written in underscore separations or upper Camel Case i.e. `date_of_birth` or `dateOfBirth`. \n",
    "\n",
    "Whilst there is __no set way to name variables__, these styles will make it __easier for people__ to understand your code."
   ]
  },
  {
   "cell_type": "markdown",
   "metadata": {
    "nbpresent": {
     "id": "cde10507-f2db-4e14-be74-671091af9b70"
    }
   },
   "source": [
    "### Operators\n",
    "\n",
    "Operators in Python are special characters that perform operations on __two or more operands__. The operands are typically __any object__ including __core objects__ (`str`, `int`, `float`) but also __variables__ (`x`, `my_var`, `ageOfDan`).\n",
    "\n",
    "There are a couple of different operator groups namely:\n",
    "- Arithmetic operators\n",
    "- Assignment operators\n",
    "- Comparison operators\n",
    "- Logical operators\n",
    "- Identity operators\n",
    "- Membership operators\n",
    "- Bitwise operators"
   ]
  },
  {
   "cell_type": "markdown",
   "metadata": {
    "nbpresent": {
     "id": "aa850a51-b6b0-474e-9b3f-ab655369d77b"
    }
   },
   "source": [
    "#### Arithmetic operators\n",
    "\n",
    "Arithmetic operators act on operands depending on the object type. \n",
    "\n",
    "A list of valid arithmetic operators is shown below for:"
   ]
  },
  {
   "cell_type": "code",
   "execution_count": 17,
   "metadata": {
    "nbpresent": {
     "id": "03677f3b-ca56-45be-aefd-4c687c5b8bcd"
    }
   },
   "outputs": [],
   "source": [
    "x = 25\n",
    "y = 4"
   ]
  },
  {
   "cell_type": "markdown",
   "metadata": {
    "nbpresent": {
     "id": "580f2b3a-e4ef-4442-8c19-dd4568825e26"
    }
   },
   "source": [
    "**Operator**|**Name**|**Example** | **Output (from above)**\n",
    ":-----:|:-----:|:-----:| :-----:|\n",
    "`+`|Addition|`x + y`| 29\n",
    "`-`|Subtraction|`x - y` | 21\n",
    "`*`|Multiplication|`x * y`| 100\n",
    "`/`|Division|`x / y`| 6.25\n",
    "`%`|Modulus|`x % y`| 1\n",
    "`**`|Exponentiation|`x ** y`| 390625\n",
    "`//`|Floor division|`x // y`| 6"
   ]
  },
  {
   "cell_type": "markdown",
   "metadata": {
    "nbpresent": {
     "id": "3b7f43df-7dc0-4060-a37a-409b78775558"
    }
   },
   "source": [
    "These operators are very self explanatory, however the `%` or __Modulus operator__ divides the first operand by the second operand and __returns the remainder__ left over, hence `25/4 = 6 remainder 1` therefore `1` is returned.\n",
    "\n",
    "The Floor division operator returns the __integer division__ of the first operand by the second operand, therefore with the above values returns `6`."
   ]
  },
  {
   "cell_type": "markdown",
   "metadata": {
    "nbpresent": {
     "id": "0fd066fa-a0d0-48d9-9804-2d8be3d41829"
    }
   },
   "source": [
    "#### Assignment operators\n",
    "\n",
    "Assignment operators work when assigning a variable with a value (or another variable).\n",
    "\n",
    "A list of assignment operators and how they work is shown below:"
   ]
  },
  {
   "cell_type": "markdown",
   "metadata": {
    "nbpresent": {
     "id": "3292ce63-2c5e-4dfe-9fde-c82fb5e59cb7"
    }
   },
   "source": [
    "**Operator**|**Example**|**Same As**\n",
    ":-----:|:-----:|:---------:\n",
    "`=`|x = 5|x = 5\n",
    "`+=`|x += 3|x = x + 3\n",
    "`-=`|x -= 3|x = x - 3\n",
    "`*=`|x *= 3|x = x * 3\n",
    "`/=`|x /= 3|x = x / 3\n",
    "`%=`|x %= 3|x = x % 3\n",
    "`//=`|x //= 3|x = x // 3\n",
    "`**=`|x **= 3|x = x ** 3\n",
    "`&=`|x &= 3|x = x & 3\n",
    "`\\|=`|x \\|= 3|x = x \\| 3\n",
    "`^=`|x ^= 3|x = x ^ 3\n",
    "`>>=`|x >>= 3|x = x >> 3\n",
    "`<<=`|x <<= 3|x = x << 3"
   ]
  },
  {
   "cell_type": "markdown",
   "metadata": {
    "nbpresent": {
     "id": "610dd4cf-d23d-4e64-96a6-e5647b256650"
    }
   },
   "source": [
    "The familiar arithmetic operators that were shown above can be seen before the assignment operator here. Some other 'bitwise' operators (`&`, `|`, `^`, `>>` and `<<` are also shown on the prefix of the assignment operator. "
   ]
  },
  {
   "cell_type": "markdown",
   "metadata": {
    "nbpresent": {
     "id": "d4d86e54-a91f-4cec-8ed6-5b3f3e1c8138"
    }
   },
   "source": [
    "#### Bitwise operators\n",
    "\n",
    "Bitwise operators are less commonly used but for completeness I shall list them here:\n",
    "\n",
    "|**Operator**|**Name**|**Description**|\n",
    "|:-----:|:-----:|:-----|\n",
    "|`&` |AND|Sets each bit to 1 if both bits are 1|\n",
    "|&#124; |OR|Sets each bit to 1 if one of two bits is 1|\n",
    "|`^`|XOR|Sets each bit to 1 if only one of two bits is 1|\n",
    "|`~` |NOT|Inverts all the bits|\n",
    "|`<<`|Zero fill left shift|Shift left by pushing zeros in from the right and let the leftmost bits fall off|\n",
    "|`>>`|Signed right shift|Shift right by pushing copies of the leftmost bit in from the left, and let the rightmost bits fall off|"
   ]
  },
  {
   "cell_type": "markdown",
   "metadata": {
    "nbpresent": {
     "id": "f709f43a-ede0-4e46-8c43-8715e39fb1c8"
    }
   },
   "source": [
    "Bitwise operators involve operating on numbers/values in binary and therefore is slightly less commonly used unless used in boolean expressions (these will be covered at the end of this part). "
   ]
  },
  {
   "cell_type": "markdown",
   "metadata": {
    "nbpresent": {
     "id": "6ee58071-4f94-4326-ace2-3f914f14bb01"
    }
   },
   "source": [
    "#### Comparison operators\n",
    "\n",
    "Comparison operators are used to __compare__ the values of __two operands__. They are shown here:\n",
    "\n",
    "**Operator**|**Name**|**Example**\n",
    ":-----:|:-----:|:-----:\n",
    "`==`|Equal|x == y\n",
    "`!=`|Not equal|x != y\n",
    "`>`|Greater than|x > y\n",
    "`<`|Less than|x < y\n",
    "`>=`|Greater than or equal to|x >= y\n",
    "`<=`|Less than or equal to|x <= y\n",
    "\n",
    "These operators return __one of the boolean values__ `True` or `False` depending on the __evaluation__ of the statement and are heavily used in `if` __conditional statements__ and `while` __loops__."
   ]
  },
  {
   "cell_type": "markdown",
   "metadata": {
    "nbpresent": {
     "id": "7bb1c31e-2ce1-4cd6-88b3-eef2909948d1"
    }
   },
   "source": [
    "#### Logical operators\n",
    "\n",
    "Logical operators are typically linked together with comparison or membership operators to compare multiple conditions or to invert the outcome of a logical expression. \n",
    "\n",
    "The logical operators are:\n",
    "\n",
    "**Operator**|**Description**|**Example**\n",
    ":-----:|:-----:|:-----:\n",
    "`and` |Returns True if both statements are true|x < 5 and  x < 10\n",
    "`or`|Returns True if one of the statements is true|x < 5 or x < 4\n",
    "`not`|Reverse the result, returns False if the result is true|not(x < 5 and x < 10)\n",
    "\n",
    "The result of using logical operators is also either `True` or `False` depending on the evaluation of the statement. You may recognise these words as Python keywords listed above!"
   ]
  },
  {
   "cell_type": "markdown",
   "metadata": {
    "nbpresent": {
     "id": "d2b8e068-25a6-4d0f-ba6a-2a4cf00e6359"
    }
   },
   "source": [
    "#### Identity operators\n",
    "\n",
    "Identity operators are similar to comparison operators however they compare the actual object of the variable rather than simple the value. \n",
    "\n",
    "These can be used to check if two variables/objects are a copy of each other (same values different object) or a reference to the exact same object in your computers memory. \n",
    "\n",
    "The identity operators are also Python keywords shown by:\n",
    "\n",
    "**Operator**|**Description**|**Example**\n",
    ":-----:|:-----:|:-----:\n",
    "`is` |Returns True if both variables are the same object|x is y\n",
    "`is not`|Returns True if both variables are not the same object|x is not y\n",
    "\n",
    "\n",
    "This can be shown below from the two lists `x` and `y` (we will cover lists in a following part)."
   ]
  },
  {
   "cell_type": "code",
   "execution_count": null,
   "metadata": {
    "nbpresent": {
     "id": "b58de391-1d73-42f3-8cc0-7ee2f0eaab92"
    }
   },
   "outputs": [],
   "source": [
    "x = [5, 10] # A list with values 5 and 10.\n",
    "y = [5, 10] # This is a separate list with the same values.\n",
    "x == y      # Therefore 'x' has the same values as 'y'."
   ]
  },
  {
   "cell_type": "code",
   "execution_count": null,
   "metadata": {
    "nbpresent": {
     "id": "eab86766-fb01-411a-ab45-ec368146e017"
    }
   },
   "outputs": [],
   "source": [
    "x is y     # The two lists are separate objects, I can change 'x' without changing 'y'"
   ]
  },
  {
   "cell_type": "markdown",
   "metadata": {
    "nbpresent": {
     "id": "fda7b631-197f-4dc2-907e-7dee5a51054b"
    }
   },
   "source": [
    "#### Membership operators\n",
    "\n",
    "Finally membership operators are used to evaluate if a specific container contains an object. The membership operators are:\n",
    "\n",
    "**Operator**|**Description**|**Example**\n",
    ":-----:|:-----:|:-----:\n",
    "`in` |Returns True if a sequence with the specified value is present in the object|x in y\n",
    "`not` in|Returns True if a sequence with the specified value is not present in the object|x not in y\n",
    "\n",
    "This can also be shown in a simple list example."
   ]
  },
  {
   "cell_type": "code",
   "execution_count": 9,
   "metadata": {
    "nbpresent": {
     "id": "50dc2a9f-cdb7-44dd-a72f-04393db14553"
    }
   },
   "outputs": [
    {
     "data": {
      "text/plain": [
       "True"
      ]
     },
     "execution_count": 9,
     "metadata": {},
     "output_type": "execute_result"
    }
   ],
   "source": [
    "list_of_numbers = [5, 45, 23, 767, 2]\n",
    "45 in list_of_numbers"
   ]
  },
  {
   "cell_type": "code",
   "execution_count": 10,
   "metadata": {
    "nbpresent": {
     "id": "88229155-0ed5-4c14-ac87-1865f5c03f18"
    }
   },
   "outputs": [
    {
     "data": {
      "text/plain": [
       "False"
      ]
     },
     "execution_count": 10,
     "metadata": {},
     "output_type": "execute_result"
    }
   ],
   "source": [
    "63 in list_of_numbers"
   ]
  },
  {
   "cell_type": "markdown",
   "metadata": {
    "nbpresent": {
     "id": "14ce5ca2-40ed-43a9-bcb1-5948b44a5ffe"
    }
   },
   "source": [
    "As well as built-in operators, Python comes loaded with built-in functions that can also provide logical and comparative analysis about objects. "
   ]
  },
  {
   "cell_type": "markdown",
   "metadata": {
    "nbpresent": {
     "id": "0593d10b-12c4-4b26-af32-a033c58b3ddb"
    }
   },
   "source": [
    "### Built-in functions\n",
    "\n",
    "Python contains many built-in functions upon installation. A list of the built-in functions can be shown alphabetically below:\n",
    "\n",
    "| __Function__ |\t__Description__ |\n",
    "|:--|:--|\n",
    "| `abs()` |\tReturns the absolute value of a number |\n",
    "| `all()`\t| Returns True if all items in an iterable object are true |\n",
    "| `any()`\t| Returns True if any item in an iterable object is true |\n",
    "| `ascii()` |\tReturns a readable version of an object. Replaces none-ascii characters with escape character |\n",
    "| `bin()`\t| Returns the binary version of a number |\n",
    "| `bool()` |\tReturns the boolean value of the specified object |\n",
    "| `bytearray()` |\tReturns an array of bytes |\n",
    "| `bytes()` |\tReturns a bytes object |\n",
    "| `callable()` |\tReturns True if the specified object is callable, otherwise False |\n",
    "| `chr()` |\tReturns a character from the specified Unicode code. |\n",
    "| `classmethod()` |\tConverts a method into a class method |\n",
    "| `compile()` |\tReturns the specified source as an object, ready to be executed |\n",
    "| `complex()`\t| Returns a complex number |\n",
    "| `delattr()` |\tDeletes the specified attribute (property or method) from the specified object |\n",
    "| `dict()` |\tReturns a dictionary (Array) |\n",
    "| `dir()` |\tReturns a list of the specified object's properties and methods |\n",
    "| `divmod()` |\tReturns the quotient and the remainder when argument1 is divided by argument2 |\n",
    "| `enumerate()` |\tTakes a collection (e.g. a tuple) and returns it as an enumerate object |\n",
    "| `eval()` |\tEvaluates and executes an expression |\n",
    "| `exec()` |\tExecutes the specified code (or object) |\n",
    "| `filter()` |\tUse a filter function to exclude items in an iterable object |\n",
    "| `float()` |\tReturns a floating point number |\n",
    "| `format()` |\tFormats a specified value |\n",
    "| `frozenset()` |\tReturns a frozenset object |\n",
    "| `getattr()`\t| Returns the value of the specified attribute (property or method) |\n",
    "| `globals()` |\tReturns the current global symbol table as a dictionary |\n",
    "| `hasattr()` |\tReturns True if the specified object has the specified attribute (property/method) |\n",
    "| `hash()` |\tReturns the hash value of a specified object |\n",
    "| `help()` |\tExecutes the built-in help system |\n",
    "| `hex()`\t| Converts a number into a hexadecimal value |\n",
    "| `id()` |\tReturns the id of an object |\n",
    "| `input()` |\tAllowing user input |\n",
    "| `int()` |\tReturns an integer number |\n",
    "| `isinstance()` |\tReturns True if a specified object is an instance of a specified object |\n",
    "| `issubclass()` |\tReturns True if a specified class is a subclass of a specified object |\n",
    "| `iter()` |\tReturns an iterator object |\n",
    "| `len()`\t| Returns the length of an object |\n",
    "| `list()` |\tReturns a list |\n",
    "| `locals()` |\tReturns an updated dictionary of the current local symbol table |\n",
    "| `map()` |\tReturns the specified iterator with the specified function applied to each item |\n",
    "| `max()` |\tReturns the largest item in an iterable |\n",
    "| `memoryview()` |\tReturns a memory view object |\n",
    "| `min()` |\tReturns the smallest item in an iterable |\n",
    "| `next()` |\tReturns the next item in an iterable |\n",
    "| `object()` |\tReturns a new object |\n",
    "| `oct()` |\tConverts a number into an octal |\n",
    "| `open()` |\tOpens a file and returns a file object |\n",
    "| `ord()`\t| Convert an integer representing the Unicode of the specified character |\n",
    "| `pow()` |\tReturns the value of x to the power of y |\n",
    "| `print()` |\tPrints to the standard output device |\n",
    "| `property()` |\tGets, sets, deletes a property |\n",
    "| `range()` |\tReturns a sequence of numbers, starting from 0 and increments by 1 (by default) |\n",
    "| `repr()` |\tReturns a readable version of an object |\n",
    "| `reversed()` |\tReturns a reversed iterator |\n",
    "| `round()` |\tRounds a numbers |\n",
    "| `set()` |\tReturns a new set object |\n",
    "| `setattr()` |\tSets an attribute (property/method) of an object |\n",
    "| `slice()` |\tReturns a slice object |\n",
    "| `sorted()` |\tReturns a sorted list |\n",
    "| `@staticmethod()` |\tConverts a method into a static method |\n",
    "| `str()`\t| Returns a string object |\n",
    "| `sum()`\t| Sums the items of an iterator |\n",
    "| `super()` | \tReturns an object that represents the parent class |\n",
    "| `tuple()` | \tReturns a tuple |\n",
    "| `type()` |\tReturns the type of an object |\n",
    "| `vars()` |\tReturns the `__dict__` property of an object |\n",
    "| `zip()`\t| Returns an iterator, from two or more iterators |\n",
    "\n",
    "This again may not mean much to you right now, but the key to remember is that these are __functions__ that act on an __argument (placed inside the parentheses)__ and __produce a given outcome/action__. Most functions require at least one argument but some require multiple arguments.  \n",
    "\n",
    "For instance:\n",
    "- The `print()` function sends the argument to __print__ into the terminal/__Python console__.\n",
    "- The `input()` function allows the user to __input a string__ to the program.\n",
    "- The `min()` and `max()` functions return the __minimum__ and __maximum__ value of a given data container.\n",
    "- The `sum()` function __sums__ the values in a data container.\n",
    "- The `abs()` function returns the __absolute value__ of a numeric argument.\n",
    "- The `len()` function returns the __number of items/objects__ in a data container.\n",
    "- The `type()` function returns the __object type__ of a particular variable passed.\n",
    "\n",
    "A function executes a given action on an __argument__ __'passed'__ into the function. Writing code to tell a function to do an action is called executing a __function 'call'__. Therefore the `callable()` built-in function returns whether an object can be __called like a function__."
   ]
  },
  {
   "cell_type": "markdown",
   "metadata": {},
   "source": [
    "Below is an example of the `input()` function, execute the cell to have it ask you to enter a string. It then saves the string into the variable `user_input`. When `user_input` is printed, it returns the inputted string (remember to execute the top cell and then execute the second cell!"
   ]
  },
  {
   "cell_type": "code",
   "execution_count": null,
   "metadata": {},
   "outputs": [],
   "source": [
    "user_input = input(\"Please enter a string... \")"
   ]
  },
  {
   "cell_type": "code",
   "execution_count": null,
   "metadata": {},
   "outputs": [],
   "source": [
    "user_input"
   ]
  },
  {
   "cell_type": "markdown",
   "metadata": {},
   "source": [
    "Arguments in any function must be separated with a comma.\n",
    "\n",
    "For example, to print two separate variables `v1` and `v2` you must type `print(v1, v2)`. Or alternatively use separate `print()` function calls on each variable."
   ]
  },
  {
   "cell_type": "markdown",
   "metadata": {
    "nbpresent": {
     "id": "7a814a95-9d4a-4def-8498-4ec07ea6367a"
    }
   },
   "source": [
    "## Part 2.2: Data/Object types"
   ]
  },
  {
   "cell_type": "markdown",
   "metadata": {
    "nbpresent": {
     "id": "176f9f4d-a095-47af-83fb-333e45745979"
    }
   },
   "source": [
    "### _What are data types?_\n",
    "\n",
    "A __data type or object__ is essentially what tells the Python interpreter how to interpret a line of code. The most common __core object types__ used in Python programming are:\n",
    "\n",
    "Briefly: \n",
    "- __String__ objects or `str`'s are strings of characters together (i.e. words and sentances) i.e. `'Hello I am a string'`.\n",
    "- __Integer__ objects or `int`'s are exactly that, whole numbers i.e. `12`.\n",
    "- __Float__ objects or `float`'s are floating point or decimal point numbers i.e. `2.0`.\n",
    "- __Complex__ objects or `complex` are complex numbers with real and imaginary parts i.e. `3+4j` (j is the imaginary number in Python).\n",
    "- __Boolean__ objects or `bool`'s have one of two single bit values namely `True` or `False` (1 or 0 respectively) used for expression comparison.\n",
    "- __NoneType__ objects or `NoneType`'s are objects with an abscence of value. The only `NoneType` object is `None`.\n",
    "\n",
    "The following section will delve deeper into these object types and what their associated properties and methods are."
   ]
  },
  {
   "cell_type": "markdown",
   "metadata": {
    "nbpresent": {
     "id": "14468aa7-21ed-4c8c-a61d-b4b7e9e7a996"
    }
   },
   "source": [
    "### _What do you mean by objects?_\n",
    "\n",
    "Every **_thing_** in Python is an object. This means that __all variables__ are considered specific objects. Data types listed above are __core__ object __types__ but new objects can be made using the `class` keyword (more on this in Part 3). \n",
    "\n",
    "Objects are essentially **_things_** in Python (i.e. an object could be a `Person` named `Dan`). Here `Person` would be the `class` of the `Dan` object. This means that `Person` it is the __object type__ and `Dan` is the individual object. \n",
    "\n",
    "Objects have __attributes__ (or variables) associated with them for instance `Dan` the `Person` could have an associated `height` or `eye_colour` as attributes. These are __static things__ that __belong__ to the object. \n",
    "\n",
    "Objects also have __methods__ (or functions) that __perform actions__ on the object. For instance the `Dan` object could `perform_handstand()` or `drink_coffee()`. __Methods/functions__ are easy to spot since they __end with parentheses__. This is because the __methods are functions__ meaning the `Dan` object could `drink_coffee(3)` for drinking three mugs of coffee for example. __Methods__ indicate __doing__ actions on an object.\n",
    "\n",
    "The built-in functions listed above __typically take the object to be the argument__ and returns some kind of attribute about the object back. \n",
    "\n",
    "The concept of object creation will be further introduced in Part 3."
   ]
  },
  {
   "cell_type": "markdown",
   "metadata": {
    "nbpresent": {
     "id": "36a0b275-d085-49f2-9d8a-66523e5ac6b3"
    }
   },
   "source": [
    "### __Strings__ \n",
    "A string is a 'strings' of characters joined together by open and closed quotation marks. \n",
    "\n",
    "Jupyter notebooks automatically use the `print()` function on a statement if nothing else occurs therefore executing the below cell (__Shift+Enter__) will print `'This is a string'` to the ouput code underneath."
   ]
  },
  {
   "cell_type": "code",
   "execution_count": null,
   "metadata": {
    "nbpresent": {
     "id": "065efe3b-51f6-4b19-b7e6-a2f40cdbca44"
    }
   },
   "outputs": [],
   "source": [
    "'This is a string'"
   ]
  },
  {
   "cell_type": "markdown",
   "metadata": {
    "nbpresent": {
     "id": "f619fac5-e784-40b0-b171-55d3097a54d4"
    }
   },
   "source": [
    "This can also be shown to be a string by __'calling'__ the `type()` built-in function and __passing__ the string as an __argument__. \n",
    "\n",
    "`str` is the abbreviation for the string object type."
   ]
  },
  {
   "cell_type": "code",
   "execution_count": 1,
   "metadata": {
    "nbpresent": {
     "id": "37459da0-a8dd-4c88-a05d-cf746644bd02"
    }
   },
   "outputs": [
    {
     "data": {
      "text/plain": [
       "str"
      ]
     },
     "execution_count": 1,
     "metadata": {},
     "output_type": "execute_result"
    }
   ],
   "source": [
    "type(\"This is a string\")"
   ]
  },
  {
   "cell_type": "markdown",
   "metadata": {
    "nbpresent": {
     "id": "0b8c01ed-2ed9-478e-a337-e81984d7bdd8"
    }
   },
   "source": [
    "The built-in string constructor function `str()` can also be used to generate a string from a non-string type object."
   ]
  },
  {
   "cell_type": "code",
   "execution_count": 5,
   "metadata": {
    "nbpresent": {
     "id": "18d4c6b3-5276-4290-a6b7-4c8b88b4a4e1"
    }
   },
   "outputs": [
    {
     "data": {
      "text/plain": [
       "'15'"
      ]
     },
     "execution_count": 5,
     "metadata": {},
     "output_type": "execute_result"
    }
   ],
   "source": [
    "x = 5+10\n",
    "x = str(x)\n",
    "x"
   ]
  },
  {
   "cell_type": "code",
   "execution_count": 4,
   "metadata": {
    "nbpresent": {
     "id": "63e14f77-b593-4b01-8b96-a555d8f6daba"
    }
   },
   "outputs": [
    {
     "data": {
      "text/plain": [
       "str"
      ]
     },
     "execution_count": 4,
     "metadata": {},
     "output_type": "execute_result"
    }
   ],
   "source": [
    "type(x)"
   ]
  },
  {
   "cell_type": "markdown",
   "metadata": {
    "nbpresent": {
     "id": "e895b274-19be-4b34-b612-1012f6998e05"
    }
   },
   "source": [
    "__Either__ placing characters between quotation marks __or__ calling the `str()` constructor both create a `str` object with the variable name and associated value.\n",
    "\n",
    "Therefore similar to above where `Person` was __the object type (or class)__ and `Dan` was the __object__, `str` is the __object type (or class)__ and `x` is the __object__. "
   ]
  },
  {
   "cell_type": "markdown",
   "metadata": {
    "nbpresent": {
     "id": "190f1c11-fb1a-49a7-be30-675e857ce79c"
    }
   },
   "source": [
    "The sentance below however is not a string as it is not enclosed in quotation marks, therefore will raise a `SyntaxError` when executed."
   ]
  },
  {
   "cell_type": "code",
   "execution_count": null,
   "metadata": {
    "nbpresent": {
     "id": "8d286282-9ca4-4cab-b9c0-8f4483aed0ea"
    }
   },
   "outputs": [],
   "source": [
    "This is not a string"
   ]
  },
  {
   "cell_type": "markdown",
   "metadata": {
    "nbpresent": {
     "id": "927d29de-f7d9-4d9a-8751-65aa85be93e2"
    }
   },
   "source": [
    "Python is flexible and can use strings contained in '' single quotation marks or \"\" quotation marks as shown below:"
   ]
  },
  {
   "cell_type": "code",
   "execution_count": null,
   "metadata": {
    "nbpresent": {
     "id": "9cc1c518-0dc6-4de3-a7db-ac50f2c4d5fc"
    }
   },
   "outputs": [],
   "source": [
    "'This is a string 1'"
   ]
  },
  {
   "cell_type": "code",
   "execution_count": null,
   "metadata": {
    "nbpresent": {
     "id": "2a7c01b1-34e7-4c12-bf0e-48fe7a81c5b1"
    }
   },
   "outputs": [],
   "source": [
    "\"This is also a string\""
   ]
  },
  {
   "cell_type": "markdown",
   "metadata": {
    "nbpresent": {
     "id": "9e44c257-fbb7-4ad4-b577-b81b84122c32"
    }
   },
   "source": [
    "This allows strings to use dialogue in the string if need be:"
   ]
  },
  {
   "cell_type": "code",
   "execution_count": null,
   "metadata": {
    "nbpresent": {
     "id": "081a076a-5843-4f94-bbec-715c482bd7b5"
    }
   },
   "outputs": [],
   "source": [
    "'\"Hello!\" said Dan'"
   ]
  },
  {
   "cell_type": "markdown",
   "metadata": {
    "nbpresent": {
     "id": "438d7868-5392-4cd9-bc64-0a8be8a95d79"
    }
   },
   "source": [
    "Numeric characters in strings have no numeric function as they are simply evaluated as the character rather than the number.  \n",
    "\n",
    "Therefore the below code will evaulate the actual expression between the two integers:"
   ]
  },
  {
   "cell_type": "code",
   "execution_count": null,
   "metadata": {
    "nbpresent": {
     "id": "a7d34799-48ba-4c59-b7cf-a2a27961493c"
    }
   },
   "outputs": [],
   "source": [
    "5+10"
   ]
  },
  {
   "cell_type": "markdown",
   "metadata": {
    "nbpresent": {
     "id": "01679170-dd7b-4b05-a502-7a670005c0f2"
    }
   },
   "source": [
    "Whereas the below code here only shows the string representation of the expression since it is expressed simply as a string of characters."
   ]
  },
  {
   "cell_type": "code",
   "execution_count": null,
   "metadata": {
    "nbpresent": {
     "id": "464a65e2-1882-47d1-a6fd-8b5c23473ab3"
    }
   },
   "outputs": [],
   "source": [
    "'5+10'"
   ]
  },
  {
   "cell_type": "markdown",
   "metadata": {
    "nbpresent": {
     "id": "fb17aa6e-d57f-4c53-ba16-ac3ca7adf969"
    }
   },
   "source": [
    "Using the built-in function `len()` on a string __returns the number of characters__ in the string including the space."
   ]
  },
  {
   "cell_type": "code",
   "execution_count": null,
   "metadata": {
    "nbpresent": {
     "id": "ab740ee2-42bd-4ec8-a1c6-91cff3d23780"
    }
   },
   "outputs": [],
   "source": [
    "len(\"Hello, World\")"
   ]
  },
  {
   "cell_type": "markdown",
   "metadata": {
    "nbpresent": {
     "id": "48d7b1aa-3315-474e-ae21-edfa31549c1b"
    }
   },
   "source": [
    "The built-in function `format()` can be used on the __end of a string__ to insert values into a __specific place__ in the string denoted by the __curly braces__."
   ]
  },
  {
   "cell_type": "code",
   "execution_count": null,
   "metadata": {
    "nbpresent": {
     "id": "ae70c18f-9c8b-495a-bc07-cb33a982c855"
    }
   },
   "outputs": [],
   "source": [
    "\"The sum of 5 + 10 is {}\".format(5+10)"
   ]
  },
  {
   "cell_type": "markdown",
   "metadata": {
    "nbpresent": {
     "id": "5402965d-8607-4f27-a4ba-756b27f07d58"
    }
   },
   "source": [
    "Alternatively an __'f' string__ can be used which the output is __identical__ to the above cell, and is __simply easier to read__."
   ]
  },
  {
   "cell_type": "code",
   "execution_count": null,
   "metadata": {
    "nbpresent": {
     "id": "df7abcc1-e014-47b9-90ca-8c257eaf0ba7"
    }
   },
   "outputs": [],
   "source": [
    "f\"The sum of 5 + 10 is {5+10}\""
   ]
  },
  {
   "cell_type": "markdown",
   "metadata": {},
   "source": [
    "Floating point numbers can be formatted inside strings to show only a certain number of decimal places by putting `{number:.nf}` where `n` is the number of decimal points, for instance:"
   ]
  },
  {
   "cell_type": "code",
   "execution_count": null,
   "metadata": {},
   "outputs": [],
   "source": [
    "f\"This is a floating point number {2.3456789:.3f}\""
   ]
  },
  {
   "cell_type": "markdown",
   "metadata": {
    "nbpresent": {
     "id": "ef4a046b-bab5-4254-a80b-e77ead848ae6"
    }
   },
   "source": [
    "Strings can be formatted and written using the __escape character__ `\\`. This allows for special formatting and displaying of certain characters. A table of __some__ valid escape sequences and what they do is shown below:\n",
    "\n",
    "| __Escape sequence__ | __Description__ |\n",
    "|:--|:--|\n",
    "| `\\\\` | Produces a singular backslash `\\`|\n",
    "| `\\'` | Produces a singular quotation mark `'` |\n",
    "| `\\\"` | Produces a singular quotation mark `\"` |\n",
    "| `\\n` | Produces a newline in the string |\n",
    "| `\\t` | Produces a horiztonal tab in the string |"
   ]
  },
  {
   "cell_type": "markdown",
   "metadata": {
    "nbpresent": {
     "id": "92197621-5a56-44ce-8118-4879e7502da2"
    }
   },
   "source": [
    "The below cell shows a new-line escape sequence."
   ]
  },
  {
   "cell_type": "code",
   "execution_count": null,
   "metadata": {
    "nbpresent": {
     "id": "885b7d03-e942-4079-b4ff-d86f59c091b8"
    }
   },
   "outputs": [],
   "source": [
    "print(\"This is on one line \\nand this is on another\")"
   ]
  },
  {
   "cell_type": "markdown",
   "metadata": {
    "nbpresent": {
     "id": "e24bbf2e-4ad1-4289-b6c5-1510db95f12c"
    }
   },
   "source": [
    "This cell shows the tab escape sequence."
   ]
  },
  {
   "cell_type": "code",
   "execution_count": null,
   "metadata": {
    "nbpresent": {
     "id": "4da730c9-8feb-4523-9e8c-7cc24e2312b6"
    }
   },
   "outputs": [],
   "source": [
    "print(\"This is left aligned\\tand this is a tab away\")"
   ]
  },
  {
   "cell_type": "code",
   "execution_count": null,
   "metadata": {
    "nbpresent": {
     "id": "074a9719-0cc3-4a3f-836f-7870a79ae5c4"
    }
   },
   "outputs": [],
   "source": [
    "print('This \\' has multiple \\' \\\" quotation marks in it.')"
   ]
  },
  {
   "cell_type": "code",
   "execution_count": null,
   "metadata": {
    "nbpresent": {
     "id": "4039a5ab-7dea-42e8-9dd3-98fcc4fc6cfb"
    }
   },
   "outputs": [],
   "source": [
    "print(\"This has a \\\\ singular backslash\")"
   ]
  },
  {
   "cell_type": "markdown",
   "metadata": {
    "nbpresent": {
     "id": "eaf805da-166a-4495-9098-bf82ab02b03f"
    }
   },
   "source": [
    "#### String methods"
   ]
  },
  {
   "cell_type": "markdown",
   "metadata": {
    "nbpresent": {
     "id": "737466cd-a3fd-4a9c-be00-dabf54940f21"
    }
   },
   "source": [
    "Like any __class (object type)__ strings also have their own set of __methods__ (functions). This is analagous to the  `Person` __class__ having the __method__ `perform_handstand()` that can be used by the __object__ `Dan` which is a `Person` __type__ object.\n",
    "\n",
    "Instead of `perform_handstand()`, `str` __type objects__ have a specific set of __methods__ associated with them.\n",
    "\n",
    "A list of string methods and their descriptions is given below:\n",
    "\n",
    " __Method__ | __Description__ \n",
    ":--|:--\n",
    "`capitalize()`|Converts the first character to upper case\n",
    "`casefold()`|Converts string into lower case\n",
    "`center()`|Returns a centered string\n",
    "`count()`|Returns the number of times a specified value occurs in a string\n",
    "`encode()`|Returns an encoded version of the string\n",
    "`endswith()`|Returns true if the string ends with the specified value\n",
    "`expandtabs()`|Sets the tab size of the string\n",
    "`find()`|Searches the string for a specified value and returns the position of where it was found\n",
    "`format()`|Formats specified values in a string\n",
    "`format\\_map()`|Formats specified values in a string\n",
    "`index()`|Searches the string for a specified value and returns the position of where it was found\n",
    "`isalnum()`|Returns True if all characters in the string are alphanumeric\n",
    "`isalpha()`|Returns True if all characters in the string are in the alphabet\n",
    "`isdecimal()`|Returns True if all characters in the string are decimals\n",
    "`isdigit()`|Returns True if all characters in the string are digits\n",
    "`isidentifier()`|Returns True if the string is an identifier\n",
    "`islower()`|Returns True if all characters in the string are lower case\n",
    "`isnumeric()`|Returns True if all characters in the string are numeric\n",
    "`isprintable()`|Returns True if all characters in the string are printable\n",
    "`isspace()`|Returns True if all characters in the string are whitespaces\n",
    "`istitle()`|Returns True if the string follows the rules of a title\n",
    "`isupper()`|Returns True if all characters in the string are upper case\n",
    "`join()`|Joins the elements of an iterable to the end of the string\n",
    "`ljust()`|Returns a left justified version of the string\n",
    "`lower()`|Converts a string into lower case\n",
    "`lstrip()`|Returns a left trim version of the string\n",
    "`maketrans()`|Returns a translation table to be used in translations\n",
    "`partition()`|Returns a tuple where the string is parted into three parts\n",
    "`replace()`|Returns a string where a specified value is replaced with a specified value\n",
    "`rfind()`|Searches the string for a specified value and returns the last position of where it was found\n",
    "`rindex()`|Searches the string for a specified value and returns the last position of where it was found\n",
    "`rjust()`|Returns a right justified version of the string\n",
    "`rpartition()`|Returns a tuple where the string is parted into three parts\n",
    "`rsplit()`|Splits the string at the specified separator, and returns a list\n",
    "`rstrip()`|Returns a right trim version of the string\n",
    "`split()`|Splits the string at the specified separator, and returns a list\n",
    "`splitlines()`|Splits the string at line breaks and returns a list\n",
    "`startswith()`|Returns true if the string starts with the specified value\n",
    "`strip()`|Returns a trimmed version of the string\n",
    "`swapcase()`|Swaps cases, lower case becomes upper case and vice versa\n",
    "`title()`|Converts the first character of each word to upper case\n",
    "`translate()`|Returns a translated string\n",
    "`upper()`|Converts a string into upper case\n",
    "`zfill()`|Fills the string with a specified number of 0 values at the beginning\n",
    "\n",
    "These __string methods__ can be used on a `str` (string object) to invoke a certain action. \n",
    "\n",
    "__Object type or class__ methods are accessed by __dot notation__ on the object. \n",
    "\n",
    "For example `str.capitalize()` is the `capitalize()` method acting on the `str`. \n",
    "\n",
    "For instance:"
   ]
  },
  {
   "cell_type": "code",
   "execution_count": null,
   "metadata": {
    "nbpresent": {
     "id": "ae4dc639-b627-42f9-a584-e12b0141aa41"
    }
   },
   "outputs": [],
   "source": [
    "\"this sentence will start with a capital\".capitalize()"
   ]
  },
  {
   "cell_type": "code",
   "execution_count": null,
   "metadata": {
    "nbpresent": {
     "id": "e063ed2e-a98b-4a2e-a776-c3550c462d6c"
    }
   },
   "outputs": [],
   "source": [
    "\"THIS WILL BE IN LOWERCASE\".lower()"
   ]
  },
  {
   "cell_type": "code",
   "execution_count": null,
   "metadata": {
    "nbpresent": {
     "id": "4133871d-ccd9-4723-93a9-7736de93eba0"
    }
   },
   "outputs": [],
   "source": [
    "\"this will be in uppercase\".upper()"
   ]
  },
  {
   "cell_type": "code",
   "execution_count": null,
   "metadata": {
    "nbpresent": {
     "id": "2b304b4e-cc8d-40a4-94dd-ead0d8144673"
    }
   },
   "outputs": [],
   "source": [
    "\"This Will Be In Opposite Case\".swapcase()"
   ]
  },
  {
   "cell_type": "code",
   "execution_count": null,
   "metadata": {
    "nbpresent": {
     "id": "e49464aa-8c90-4af3-830b-bdc8b194dcb1"
    }
   },
   "outputs": [],
   "source": [
    "\"This will split the string into separate words\".split()"
   ]
  },
  {
   "cell_type": "code",
   "execution_count": null,
   "metadata": {
    "nbpresent": {
     "id": "74bb8048-eac9-40bd-93a4-99516f777de1"
    }
   },
   "outputs": [],
   "source": [
    "\"This will split the string on the 'i' character\".split('i')"
   ]
  },
  {
   "cell_type": "code",
   "execution_count": null,
   "metadata": {
    "nbpresent": {
     "id": "7a2201b8-b0ce-4785-9a33-181b7d508a82"
    }
   },
   "outputs": [],
   "source": [
    "\" \".join(\"This will add a space between each character of the string\")"
   ]
  },
  {
   "cell_type": "markdown",
   "metadata": {
    "nbpresent": {
     "id": "a99cb8f6-5776-4b34-939b-013957118789"
    }
   },
   "source": [
    "#### String operations"
   ]
  },
  {
   "cell_type": "markdown",
   "metadata": {
    "nbpresent": {
     "id": "60380446-4d5e-4153-a7c7-1ba90c6f7e5c"
    }
   },
   "source": [
    "Strings can also be used with the operators mentioned above.\n",
    "\n",
    ">**Aside**: Using operators like the `+` operator actually invoke a special `str` **method** called `__add__()` which takes a second string as an argument. When creating your own `class` you can write your own `__add__()` method to determine the action of the `+` operator on objects of that `class`. There are similar *__magic methods__* for subtract, multplication and every other operator mentioned above, however these do not need to be specifically written when writing a new `class` unless you want them to do something specific. More on this during `class`'s"
   ]
  },
  {
   "cell_type": "markdown",
   "metadata": {
    "nbpresent": {
     "id": "84a9813a-0665-4469-82c2-30df10699c8d"
    }
   },
   "source": [
    "Addition of `str`'s causes direct **concatenation**:"
   ]
  },
  {
   "cell_type": "code",
   "execution_count": null,
   "metadata": {
    "nbpresent": {
     "id": "121d031f-fd98-4c76-ba59-40395363cf9b"
    }
   },
   "outputs": [],
   "source": [
    "s1 = 'This is a string'\n",
    "s2 = 'This is another string'\n",
    "s1+s2"
   ]
  },
  {
   "cell_type": "markdown",
   "metadata": {
    "nbpresent": {
     "id": "e5631ea4-3d45-41c9-95d8-e75cda7277a0"
    }
   },
   "source": [
    "The `+` operator can only add certain object types together based on what type they are, for instance a `str` and an `int` cannot be added together and will `Raise` a `TypeError`."
   ]
  },
  {
   "cell_type": "code",
   "execution_count": null,
   "metadata": {
    "nbpresent": {
     "id": "7d94d4a8-1656-41ca-9733-b511c39b8205"
    }
   },
   "outputs": [],
   "source": [
    "num = 6\n",
    "num_string = '9'\n",
    "num_string+num"
   ]
  },
  {
   "cell_type": "markdown",
   "metadata": {
    "nbpresent": {
     "id": "ce7f7706-b017-4ef1-99de-013239331691"
    }
   },
   "source": [
    "Notice the order of addition here and the `TypeError` message. This provides information about the `Error`. If the order was reversed a different error message would appear."
   ]
  },
  {
   "cell_type": "code",
   "execution_count": null,
   "metadata": {
    "nbpresent": {
     "id": "75173d89-e9ab-4e3c-a027-56d772510cbf"
    }
   },
   "outputs": [],
   "source": [
    "num+num_string"
   ]
  },
  {
   "cell_type": "markdown",
   "metadata": {
    "nbpresent": {
     "id": "649b1e28-0429-46ac-b8b2-92e7a0b98dd0"
    }
   },
   "source": [
    "`str`'s do not support a subtraction operator as it is unclear what this would mean - should it return the first string minus the characters in the second string or minus the characters if they are in the same position along the string? The answer is undefined and therefore is not used as a `str` method."
   ]
  },
  {
   "cell_type": "code",
   "execution_count": null,
   "metadata": {
    "nbpresent": {
     "id": "5655a872-d1b5-4a29-82a3-4c318e60e9e7"
    }
   },
   "outputs": [],
   "source": [
    "s1 = 'This is a string'\n",
    "s2 = 'This is another string'\n",
    "s1-s2"
   ]
  },
  {
   "cell_type": "markdown",
   "metadata": {
    "nbpresent": {
     "id": "27b97cdf-52ec-44c7-b7ba-feaf88ced052"
    }
   },
   "source": [
    "__Strings__ form a basis for all character based variable types in Python and as such are an important __object type__ to get accustomed to."
   ]
  },
  {
   "cell_type": "markdown",
   "metadata": {
    "nbpresent": {
     "id": "e801af24-7045-4730-8067-d7451a9e19bb"
    }
   },
   "source": [
    "### Numeric objects\n",
    "\n",
    "Numeric data types consist of the `int`, `float` and `complex` types. \n",
    "\n",
    "#### Integers\n",
    "\n",
    "These types all have their __own particular uses__, for instance `int` types are usually used for things that __change in specific integer steps__ rather than actual number crunching. \n",
    "\n",
    "`int`'s can be of unlimited length."
   ]
  },
  {
   "cell_type": "code",
   "execution_count": null,
   "metadata": {
    "nbpresent": {
     "id": "3b8fa65f-6a24-456d-a48e-42fdb218ef53"
    }
   },
   "outputs": [],
   "source": [
    "x = 3\n",
    "type(x)"
   ]
  },
  {
   "cell_type": "markdown",
   "metadata": {},
   "source": [
    "`int`'s can be used for integer division operators (shown above) for `%` and `//`."
   ]
  },
  {
   "cell_type": "markdown",
   "metadata": {
    "nbpresent": {
     "id": "1f516535-df41-48f3-9e83-c1d7cb03fa3f"
    }
   },
   "source": [
    "#### Floats\n",
    "\n",
    "__Mathematics__ and __data analysis__ is usually used with __floating point numbers__ or `float`'s. This consists of any __decimal point numbers__, even `2.0`."
   ]
  },
  {
   "cell_type": "code",
   "execution_count": null,
   "metadata": {
    "nbpresent": {
     "id": "c32cc030-b655-487d-bdd2-01d7096bc14c"
    }
   },
   "outputs": [],
   "source": [
    "x = 3.0\n",
    "type(x)"
   ]
  },
  {
   "cell_type": "markdown",
   "metadata": {
    "nbpresent": {
     "id": "d66fccb4-efb7-4528-adc4-aa6a384eee19"
    }
   },
   "source": [
    "Floating point numbers are used in data analysis since most data does not consist of integer numbers. \n",
    "\n",
    "However floating points have a specific precision to them. This is because numbers are interpreted by the machine in base 2 (binary) rather than base 10. Not all decimal values can be appropriately expressed in base 2 from base 10.\n",
    "\n",
    ">To better understand this, the __fraction__ `1/3` can be represented in __base 10__ as the decimal `0.3`. Better yet, the decimals `0.33` and `0.333333333` represent `1/3` better and better. This is due to `1/3` being an __infinitely recurring decimal__ in base 10 and therefore `1/3` cannot be __exactly__ represented by base 10. \n",
    "<br><br>Similarly to this, the fraction `1/10` or `0.1` __cannot be exactly represented__ in __base 2__ (binary). Since all computers cannot exactly determine an __infinite recurring fraction__, an __approximation__ to the fraction is given. "
   ]
  },
  {
   "cell_type": "code",
   "execution_count": null,
   "metadata": {
    "nbpresent": {
     "id": "5611e36c-efc8-47e5-bc65-3bae055e94be"
    }
   },
   "outputs": [],
   "source": [
    "%precision 25\n",
    "x = 1.0\n",
    "y = 0.1\n",
    "y"
   ]
  },
  {
   "cell_type": "markdown",
   "metadata": {
    "nbpresent": {
     "id": "df6dbe87-5b1d-46b1-8fe3-8719b43acb5e"
    }
   },
   "source": [
    "Note that `y` does not exactly equal `0.1` even if the approximation is correct to a high number of significant figures."
   ]
  },
  {
   "cell_type": "markdown",
   "metadata": {
    "nbpresent": {
     "id": "71ffe15f-6182-4e94-98d1-dfadb1a28990"
    }
   },
   "source": [
    "Note that this can affect equality relations like such below:"
   ]
  },
  {
   "cell_type": "code",
   "execution_count": null,
   "metadata": {
    "nbpresent": {
     "id": "0175ca99-3d17-44f9-9475-90cbddc5008d"
    }
   },
   "outputs": [],
   "source": [
    "y + y + y == x*3"
   ]
  },
  {
   "cell_type": "code",
   "execution_count": null,
   "metadata": {
    "nbpresent": {
     "id": "58da0fa5-2eef-4c18-9505-346b61f9d79d"
    }
   },
   "outputs": [],
   "source": [
    "x*3 "
   ]
  },
  {
   "cell_type": "code",
   "execution_count": null,
   "metadata": {
    "nbpresent": {
     "id": "644d20fc-8f9a-4a10-a062-7556edd80193"
    }
   },
   "outputs": [],
   "source": [
    "y + y + y"
   ]
  },
  {
   "cell_type": "markdown",
   "metadata": {
    "nbpresent": {
     "id": "ec5794ed-c292-4418-9d20-b646f8a8a68c"
    }
   },
   "source": [
    "This is a minor point but it is worth noting when __testing equality__ between `float`'s."
   ]
  },
  {
   "cell_type": "markdown",
   "metadata": {
    "collapsed": true,
    "nbpresent": {
     "id": "a5574d5c-bae9-4a69-9f12-c48cec7d2ec7"
    }
   },
   "source": [
    "Floating points can also be represented in scientific notation"
   ]
  },
  {
   "cell_type": "code",
   "execution_count": null,
   "metadata": {},
   "outputs": [],
   "source": [
    "x = 1.35e2\n",
    "print(x)"
   ]
  },
  {
   "cell_type": "markdown",
   "metadata": {},
   "source": [
    "Floating points can also be used for the modulus and floor division division operators"
   ]
  },
  {
   "cell_type": "code",
   "execution_count": null,
   "metadata": {},
   "outputs": [],
   "source": [
    "%precision \n",
    "2.0//1.5"
   ]
  },
  {
   "cell_type": "code",
   "execution_count": null,
   "metadata": {},
   "outputs": [],
   "source": [
    "2.0%1.5"
   ]
  },
  {
   "cell_type": "markdown",
   "metadata": {},
   "source": [
    "#### Complex"
   ]
  },
  {
   "cell_type": "markdown",
   "metadata": {},
   "source": [
    "`complex` type can be used to display complex numbers by using the `z = a + bj` notation where `Re(z) = a` and `Im(z) = b` and `j` is the imaginary number."
   ]
  },
  {
   "cell_type": "code",
   "execution_count": null,
   "metadata": {},
   "outputs": [],
   "source": [
    "x = 4+5j\n",
    "type(x)"
   ]
  },
  {
   "cell_type": "markdown",
   "metadata": {},
   "source": [
    "Complex numbers can also be generated using the `complex()` constructor."
   ]
  },
  {
   "cell_type": "code",
   "execution_count": null,
   "metadata": {},
   "outputs": [],
   "source": [
    "z = complex(4, 7)\n",
    "z"
   ]
  },
  {
   "cell_type": "markdown",
   "metadata": {},
   "source": [
    "Complex numeric types (like everything) are __objects__. Special attributes for `complex` type objects include `complex.real`, `complex.imag`. `complex` types also have methods which includes `complex.conjugate()`."
   ]
  },
  {
   "cell_type": "code",
   "execution_count": null,
   "metadata": {},
   "outputs": [],
   "source": [
    "x.real"
   ]
  },
  {
   "cell_type": "code",
   "execution_count": null,
   "metadata": {},
   "outputs": [],
   "source": [
    "x.imag"
   ]
  },
  {
   "cell_type": "code",
   "execution_count": null,
   "metadata": {},
   "outputs": [],
   "source": [
    "x.conjugate()"
   ]
  },
  {
   "cell_type": "markdown",
   "metadata": {},
   "source": [
    "#### Numeric conversion\n",
    "\n",
    "Different numeric types can be converted from one another using the `int()`, `float()` and `complex()` constructors.\n",
    "\n",
    "__Constructors__ are essentially a way of generating an __object__ with the specified type.\n",
    "\n",
    "`int`'s and `float`'s can be __interconverted__ however any decimal the `float` had before will be __lost__ when it is converted into an `int`. Likewise an `int` or `float` can be **converted** into a `complex` but `complex` types **cannot be converted** back into `int` or `float`'s."
   ]
  },
  {
   "cell_type": "markdown",
   "metadata": {},
   "source": [
    "**Remember** in the following, __y is being reassigned__ from a `float` into an `int` then back to a `float`, then a `complex` then attempting to convert back into a `float`."
   ]
  },
  {
   "cell_type": "code",
   "execution_count": null,
   "metadata": {},
   "outputs": [],
   "source": [
    "y = 2.53\n",
    "y = int(y)\n",
    "y"
   ]
  },
  {
   "cell_type": "code",
   "execution_count": null,
   "metadata": {},
   "outputs": [],
   "source": [
    "y = float(y)\n",
    "y"
   ]
  },
  {
   "cell_type": "code",
   "execution_count": null,
   "metadata": {},
   "outputs": [],
   "source": [
    "y = complex(y)\n",
    "y"
   ]
  },
  {
   "cell_type": "code",
   "execution_count": null,
   "metadata": {},
   "outputs": [],
   "source": [
    "y = float(y)\n",
    "y"
   ]
  },
  {
   "cell_type": "markdown",
   "metadata": {},
   "source": [
    "Numeric types can also be generated from strings of numeric characters using the appropriate constructors."
   ]
  },
  {
   "cell_type": "code",
   "execution_count": null,
   "metadata": {},
   "outputs": [],
   "source": [
    "number_string = '564'\n",
    "number_float = float(number_string)\n",
    "number_float + 2.0"
   ]
  },
  {
   "cell_type": "markdown",
   "metadata": {},
   "source": [
    "Without the constructor we see an `Error` as Python does not know how to add a `str` to a `float`."
   ]
  },
  {
   "cell_type": "code",
   "execution_count": null,
   "metadata": {},
   "outputs": [],
   "source": [
    "number = number_string\n",
    "number + 2.0"
   ]
  },
  {
   "cell_type": "markdown",
   "metadata": {},
   "source": [
    "### Boolean type\n",
    "\n",
    "the `bool` or Boolean __object type__ refers to one of two values either `True` or `False` corresponding simple to `1` or `0` respectively. \n",
    "\n",
    "__Boolean__ types are usually used in conditional expressions that evaluate to either `True` or `False`.\n",
    "\n",
    "Every other data type has an associated boolean value with it depending on what it contains. This can be found using the `bool()` constructor on an __object__ or __variable__ to return its boolean state.\n",
    "\n",
    "For instance, any __number__ is regarded as `True` unless the number is `0` then it is `False`. \n",
    "\n",
    "Empty __strings__ (i.e. `\"\"`) are regarded as `False` whilst any length string is `True`."
   ]
  },
  {
   "cell_type": "code",
   "execution_count": null,
   "metadata": {},
   "outputs": [],
   "source": [
    "numeric = 0\n",
    "bool(numeric)"
   ]
  },
  {
   "cell_type": "code",
   "execution_count": null,
   "metadata": {},
   "outputs": [],
   "source": [
    "numeric += 5\n",
    "numeric"
   ]
  },
  {
   "cell_type": "code",
   "execution_count": null,
   "metadata": {},
   "outputs": [],
   "source": [
    "bool(numeric)"
   ]
  },
  {
   "cell_type": "code",
   "execution_count": null,
   "metadata": {},
   "outputs": [],
   "source": [
    "empty_string = \"\"\n",
    "bool(empty_string)"
   ]
  },
  {
   "cell_type": "code",
   "execution_count": null,
   "metadata": {},
   "outputs": [],
   "source": [
    "filled_string = \"hello, world\"\n",
    "filled_string"
   ]
  },
  {
   "cell_type": "code",
   "execution_count": null,
   "metadata": {},
   "outputs": [],
   "source": [
    "bool(filled_string)"
   ]
  },
  {
   "cell_type": "code",
   "execution_count": null,
   "metadata": {},
   "outputs": [],
   "source": [
    "type(bool(filled_string))"
   ]
  },
  {
   "cell_type": "markdown",
   "metadata": {},
   "source": [
    "As can be seen above, `bool` types are expressions that evaluate to either `True` or `False`. \n",
    "\n",
    "Similarly expressions using __comparison__, __logical__, __identity__ and __membership__ operators all return a `bool` type object. \n",
    "\n",
    "For instance:"
   ]
  },
  {
   "cell_type": "code",
   "execution_count": null,
   "metadata": {},
   "outputs": [],
   "source": [
    "type(1 == 0)"
   ]
  },
  {
   "cell_type": "code",
   "execution_count": null,
   "metadata": {},
   "outputs": [],
   "source": [
    "x, y = 56, 89\n",
    "boolean_expression = x < y\n",
    "type(boolean_expression)"
   ]
  },
  {
   "cell_type": "markdown",
   "metadata": {},
   "source": [
    "Knowing the boolean value of __objects__ can be especially useful in conditional `if` code blocks whilst the value of __boolean expressions__ is similarly useful in executing specific __code blocks__."
   ]
  },
  {
   "cell_type": "markdown",
   "metadata": {},
   "source": [
    "### NoneType objects"
   ]
  },
  {
   "cell_type": "markdown",
   "metadata": {},
   "source": [
    "`None` or `NoneType` objects have one value of simply `None`. They are to denote variables with an abscence of value. \n",
    "\n",
    "`NoneType` objects always have the __boolean__ value of `False`. \n",
    "\n",
    "`NoneType` objects have no methods or attributes.\n",
    "\n",
    "Typically `None` is to make a reference to a variable that will later be assigned. "
   ]
  },
  {
   "cell_type": "code",
   "execution_count": null,
   "metadata": {},
   "outputs": [],
   "source": [
    "x = None\n",
    "type(x)"
   ]
  },
  {
   "cell_type": "code",
   "execution_count": null,
   "metadata": {},
   "outputs": [],
   "source": [
    "bool(None)"
   ]
  },
  {
   "cell_type": "markdown",
   "metadata": {},
   "source": [
    "`NoneType`'s cannot be operated on either."
   ]
  },
  {
   "cell_type": "code",
   "execution_count": null,
   "metadata": {},
   "outputs": [],
   "source": [
    "x += 5"
   ]
  },
  {
   "cell_type": "markdown",
   "metadata": {},
   "source": [
    "Initialising the variable `x` first allows the first `print()` function to still work. Then reassigning `x` later changes it from `NoneType` to `int`."
   ]
  },
  {
   "cell_type": "code",
   "execution_count": null,
   "metadata": {},
   "outputs": [],
   "source": [
    "x = None\n",
    "print(x)\n",
    "x = 56\n",
    "print(56)"
   ]
  },
  {
   "cell_type": "markdown",
   "metadata": {},
   "source": [
    "## Part 2.3: Statements\n",
    "\n",
    "This section will be on conditional `if` statements and `for` and `while` loops of code. \n",
    "\n",
    "These can provide conditional structure to a simple program or allow certain code to repeat itself automatically."
   ]
  },
  {
   "cell_type": "markdown",
   "metadata": {},
   "source": [
    "### Conditional statements\n",
    "\n",
    "`if` statements are used to test if a condition is `True` or `False`. \n",
    "\n",
    "These statements automatically test the `bool(<expression>)` and then will execute _some code_ in a __code block__ if the expression evaluates to `True`.\n",
    "\n",
    "#### Boolean expressions"
   ]
  },
  {
   "cell_type": "markdown",
   "metadata": {},
   "source": [
    "Boolean expresions (as mentioned above) use the __comparison__, __membership__, __identity__ and __logical operators__ to produce a `bool` object (`True` or `False`).\n",
    "\n",
    "For instance, consider the following boolean expressions:"
   ]
  },
  {
   "cell_type": "code",
   "execution_count": null,
   "metadata": {},
   "outputs": [],
   "source": [
    "x = 45\n",
    "y = 900\n",
    "x < y"
   ]
  },
  {
   "cell_type": "markdown",
   "metadata": {},
   "source": [
    "The above is the same as saying `bool(x < y)` however the `<` automatically returns a `bool` object so the `bool()` constructor is not required. \n",
    "\n",
    "In a similar fashion, the `if` keyword automatically evaluates the `bool(<some_expression>)`."
   ]
  },
  {
   "cell_type": "code",
   "execution_count": null,
   "metadata": {},
   "outputs": [],
   "source": [
    "if x < y:\n",
    "    print(f\"{x} is less than {y}\")"
   ]
  },
  {
   "cell_type": "markdown",
   "metadata": {},
   "source": [
    "In the above cell, the __boolean expression__ `x < y` was evaluated to be `True` since `x = 45` and `y = 900` (from above) therefore Python executed the __code block__ beneath the `if` statement. \n",
    "\n",
    "#### If statements\n",
    "\n",
    "The whole line `if x < y:` is called the `if` statement. \n",
    "\n",
    "Notice the syntax; the use of the `:` indicates the end of the `if` statement and the indent under the statement refers to the __code block__ to be executed if the statement is evaluated to `True`. \n",
    "\n",
    "For instance:"
   ]
  },
  {
   "cell_type": "code",
   "execution_count": null,
   "metadata": {},
   "outputs": [],
   "source": [
    "if x > y:\n",
    "    print(f'{x} is greater than {y}')"
   ]
  },
  {
   "cell_type": "markdown",
   "metadata": {},
   "source": [
    "When executing the above code it does not `print()` anything. This is because the `if` statement was evaluated as `False`.\n",
    "\n",
    "The `bool` value can be inverted by use of the `not` keyword/logical operator."
   ]
  },
  {
   "cell_type": "code",
   "execution_count": null,
   "metadata": {},
   "outputs": [],
   "source": [
    "if not x > y:\n",
    "    print(f'{x} is NOT greater than {y}')"
   ]
  },
  {
   "cell_type": "markdown",
   "metadata": {},
   "source": [
    "This then executes the __code block__ as `x > y` returns `False` then `not False` returns `True`."
   ]
  },
  {
   "cell_type": "markdown",
   "metadata": {},
   "source": [
    "If statements can be linked together using `and` and `or` keywords. \n",
    "\n",
    "The `and` keyword causes the `bool` value of the __expression__ to be `True` __only__ if __BOTH__ expressions evaluate as `True`. \n",
    "\n",
    "The `or` keyword causes the `bool` value of the __expression__ to be `True` if __at least one__ expression evaluates as `True`. \n",
    "\n",
    ">__Aside__: The `and` and `or` keywords are referred to as 'short-circuit' operators as the second expression will only be evaluated if the first is `True` for `and` or if the first expression is `False` for `or`. "
   ]
  },
  {
   "cell_type": "code",
   "execution_count": null,
   "metadata": {},
   "outputs": [],
   "source": [
    "if x < y and x == 45:\n",
    "    print(f'{x} is less than {y} AND equal to 45')"
   ]
  },
  {
   "cell_type": "code",
   "execution_count": null,
   "metadata": {},
   "outputs": [],
   "source": [
    "if x < y or y < x:\n",
    "    print('at least one of these expressions is True')"
   ]
  },
  {
   "cell_type": "markdown",
   "metadata": {},
   "source": [
    "Therefore logical operators can be joined together to test the condition of a variable."
   ]
  },
  {
   "cell_type": "markdown",
   "metadata": {},
   "source": [
    "Similarly, we can also provide `if` statements based on the `bool` state of the __object__."
   ]
  },
  {
   "cell_type": "code",
   "execution_count": null,
   "metadata": {},
   "outputs": [],
   "source": [
    "empty_string = \"\"\n",
    "if not empty_string:\n",
    "    empty_string += \"Now not empty.\"\n",
    "empty_string"
   ]
  },
  {
   "cell_type": "markdown",
   "metadata": {},
   "source": [
    "The above `empty_string` would evaluate as `False` therefore adding `not` in the `if` statement changes the `bool` to `True` and executes the __code block__. \n",
    "\n",
    "In the __code block__ the `empty_string` is concatenated with a new string `\"Now not empty\"`. \n",
    "\n",
    "The reassigned `empty_string` __object__ then has the _value_ `'Now not empty'`."
   ]
  },
  {
   "cell_type": "markdown",
   "metadata": {},
   "source": [
    "#### Else keyword\n",
    "\n",
    "The `else` keyword is used to execute some code __only if__ all other conditions evaluate to `False`.\n",
    "\n",
    "For instance:"
   ]
  },
  {
   "cell_type": "code",
   "execution_count": null,
   "metadata": {},
   "outputs": [],
   "source": [
    "if x > y:\n",
    "    print(f'{x} is > {y}')\n",
    "else:\n",
    "    print(f'{x} is not > {y}')"
   ]
  },
  {
   "cell_type": "markdown",
   "metadata": {},
   "source": [
    "The above `else` __code block__ only executes if the `if` statement is `False`. Therefore it would be wrong to say that `x is less than y` as the `if` statement only evaluated if `x > y`, therefore disregarding the case where `x == y`. "
   ]
  },
  {
   "cell_type": "markdown",
   "metadata": {},
   "source": [
    "#### Elif statements\n",
    "\n",
    "The `elif` keyword stands for `else if` in Python. This is to __evaluate another condition__ if the condition in the first `if` statement evaluates to `False`.\n",
    "\n",
    "You must have an `if` first to use an `elif` and you cannot use an `elif` without using an `else` at the end."
   ]
  },
  {
   "cell_type": "code",
   "execution_count": null,
   "metadata": {},
   "outputs": [],
   "source": [
    "x = 89\n",
    "if x % 2 == 0:    # This tests to see if the remainder of 89/2 is 0, if so then 89 is exactly divisible by 2.\n",
    "    print('x is divisible by 2')\n",
    "elif x % 3 == 0:  # This tests the same thing as before but for 3 rather than 2.\n",
    "    print('x is divisible by 3')\n",
    "elif x % 4 == 0:  # This tests for 4...\n",
    "    print('x is divisible by 4')\n",
    "elif x % 5 == 0:  # This tests for 5 and so on...\n",
    "    print('x is divisible by 5')\n",
    "elif x % 6 == 0:\n",
    "    print('x is divisible by 6')\n",
    "elif x % 7 == 0:\n",
    "    print('x is divisible by 7')\n",
    "elif x % 8 == 0:\n",
    "    print('x is divisible by 8')\n",
    "elif x % 9 == 0:\n",
    "    print('x is divisible by 9')\n",
    "else:\n",
    "    print('x is not divisible by numbers 2-9')"
   ]
  },
  {
   "cell_type": "markdown",
   "metadata": {},
   "source": [
    "This shows that `89` is a prime number as it is not divisible by any number. \n",
    "\n",
    "However the above code used on a different value of `x` shown below:"
   ]
  },
  {
   "cell_type": "code",
   "execution_count": null,
   "metadata": {},
   "outputs": [],
   "source": [
    "x = 75\n",
    "if x % 2 == 0:    \n",
    "    print('x is divisible by 2')\n",
    "elif x % 3 == 0:  \n",
    "    print('x is divisible by 3')\n",
    "elif x % 4 == 0:  \n",
    "    print('x is divisible by 4')\n",
    "elif x % 5 == 0:  \n",
    "    print('x is divisible by 5')\n",
    "elif x % 6 == 0:\n",
    "    print('x is divisible by 6')\n",
    "elif x % 7 == 0:\n",
    "    print('x is divisible by 7')\n",
    "elif x % 8 == 0:\n",
    "    print('x is divisible by 8')\n",
    "elif x % 9 == 0:\n",
    "    print('x is divisible by 9')\n",
    "else:\n",
    "    print('x is not divisible by numbers 2-9')"
   ]
  },
  {
   "cell_type": "markdown",
   "metadata": {},
   "source": [
    "Note that the above number `75` is divisible by both `3` and `5` however Python only executed the first `elif` statement to be `True` and does not execute subsequent statements. This is something to keep in mind when using `if` statements. \n",
    "\n",
    "If we wanted to find all the numbers below 10 that a number is divisible by we could use a `list` object and a `for` loop (these will be explained in more detailed later)."
   ]
  },
  {
   "cell_type": "code",
   "execution_count": null,
   "metadata": {},
   "outputs": [],
   "source": [
    "x = 66 # Number to test\n",
    "numbers = [2, 3, 4, 5, 6, 7, 8, 9] # List of numbers below 10\n",
    "for number in numbers:\n",
    "    if x % number == 0:\n",
    "        print(f'{x} is divisible by {number}')\n",
    "    else:\n",
    "        print(f'{x} is NOT divisible by {number}')"
   ]
  },
  {
   "cell_type": "markdown",
   "metadata": {},
   "source": [
    "Try changing the above value for `x` and re-running the cell and you will see that it runs through each number in the `list` of numbers and checks the condition in the `if` statement. If `True` the code will `print()` that `x` is divisible by the current `number`. "
   ]
  },
  {
   "cell_type": "markdown",
   "metadata": {},
   "source": [
    "A conditional code block cannot be empty, if for some reason you want to test for a condition but do nothing afterwards, the `pass` keyword can be used. For instance:"
   ]
  },
  {
   "cell_type": "code",
   "execution_count": null,
   "metadata": {},
   "outputs": [],
   "source": [
    "x = 100\n",
    "if x % 10 == 0:\n",
    "    pass"
   ]
  },
  {
   "cell_type": "markdown",
   "metadata": {},
   "source": [
    "The above code _does_ nothing but it still executes as opposed to:"
   ]
  },
  {
   "cell_type": "code",
   "execution_count": null,
   "metadata": {},
   "outputs": [],
   "source": [
    "x = 100\n",
    "if x % 10 == 0:"
   ]
  },
  {
   "cell_type": "markdown",
   "metadata": {},
   "source": [
    "This recieves a `SyntaxError` as Python expects an indented __code block__ beneath the `if` statement even if you don't want it to do anything."
   ]
  },
  {
   "cell_type": "markdown",
   "metadata": {},
   "source": [
    "#### Shorthand if statements"
   ]
  },
  {
   "cell_type": "markdown",
   "metadata": {},
   "source": [
    "If your code requires only one line of code to execute if a condition is `True`, this can be written all in one line like so:"
   ]
  },
  {
   "cell_type": "markdown",
   "metadata": {},
   "source": [
    "Note the use of the `:` still to indicate the end of the expression."
   ]
  },
  {
   "cell_type": "code",
   "execution_count": null,
   "metadata": {},
   "outputs": [],
   "source": [
    "x, y = 56, 78\n",
    "if x > y: print(f'{x} is > {y}')\n",
    "else: print(f'{x} is not > {y}')"
   ]
  },
  {
   "cell_type": "markdown",
   "metadata": {},
   "source": [
    "The whole `if` `else` conditional here can also be written in one line:"
   ]
  },
  {
   "cell_type": "code",
   "execution_count": null,
   "metadata": {},
   "outputs": [],
   "source": [
    "x, y = 56, 78\n",
    "print(f'{x} is > {y}') if x > y else print(f'{x} is not > {y}')"
   ]
  },
  {
   "cell_type": "markdown",
   "metadata": {},
   "source": [
    "This is still valid and returns the same result as the above examples showing how this can be written in __shorthand notation__."
   ]
  },
  {
   "cell_type": "markdown",
   "metadata": {},
   "source": [
    "__Variable assignment__ can also be linked with short-hand `if` statements:"
   ]
  },
  {
   "cell_type": "code",
   "execution_count": null,
   "metadata": {},
   "outputs": [],
   "source": [
    "x, y = 56, 78\n",
    "z = x - y if x < y else x + y   # 'z' is defined depending on the relationship between 'x' and 'y'.\n",
    "z"
   ]
  },
  {
   "cell_type": "markdown",
   "metadata": {},
   "source": [
    "#### Nested if statements"
   ]
  },
  {
   "cell_type": "markdown",
   "metadata": {},
   "source": [
    "Another `if` statement can be __nested__ inside another `if` statement if required. This is true for any __code block__. Any code block can be __nested__ with another block."
   ]
  },
  {
   "cell_type": "code",
   "execution_count": null,
   "metadata": {},
   "outputs": [],
   "source": [
    "x = 100\n",
    "if x % 10 == 0:                              # First condition checked, if 'True' moves onto next condition.\n",
    "    print(f'{x} is divisible by 10')\n",
    "    if x % 5 == 0:\n",
    "        print(f'{x} is divisible by 5')      # Second condition checked, if 'True' moves onto next condition, etc.\n",
    "        if x % 2 == 0:\n",
    "            print(f'{x} is divisible by 2')\n",
    "\n",
    "else: print(f'{x} not divisible by 10')     "
   ]
  },
  {
   "cell_type": "markdown",
   "metadata": {},
   "source": [
    "In the above cell, the __second and third__ nested `if` statements are __only__ executed if the first (and second) statement is `True` otherwise that code __does not get executed__. Try changing the value of `x` to something that is divisible by 2 but not 10. This will only print what is in the `else` clause as the first `if` condition is evaluated as `False`."
   ]
  },
  {
   "cell_type": "markdown",
   "metadata": {},
   "source": [
    "### Loops\n",
    "\n",
    "Loops are used when a certain piece of code is required to continue until some value is reached. \n",
    "\n",
    "There are two main types of loops that are started using their corresponding keyword.\n",
    "\n",
    "`for` loops typically iterate across an __iterator__ object (covered in Part 3) or for a given `range()` of values until a defined end-point. I will cover `for` loops in Part 3 with __iterator__ object types.\n",
    "\n",
    "`while` loops are executed _while_ a certain condition is `True`. `while` loops can be dangerous as if the condition in the loop is not reached they can infinitely loop and therefore crash your program. "
   ]
  },
  {
   "cell_type": "markdown",
   "metadata": {},
   "source": [
    "#### While loops\n",
    "\n",
    "`while` loops are useful when you are incrementing a variable a certain amount. \n",
    "\n",
    "Similarly `while` loops have the `:` syntax to end the conditional statement and have an __indented code block__ to execute whilst that condition evaluates to `True`.\n",
    "\n",
    "For instance:"
   ]
  },
  {
   "cell_type": "code",
   "execution_count": null,
   "metadata": {},
   "outputs": [],
   "source": [
    "i = 0\n",
    "while i < 10:                     # Colon to indicate end of expression.\n",
    "    print(f'{i} is less than 10') # Indented code block.\n",
    "    i += 1"
   ]
  },
  {
   "cell_type": "markdown",
   "metadata": {},
   "source": [
    "Note that `i` never equals 10 as at this point `i == 10` and therefore `bool(i < 10) == False` and the while loop stops.\n",
    "\n",
    "Without the line `i += 1` the condition the loop will __loop infinitely__ and may crash your computer. "
   ]
  },
  {
   "cell_type": "markdown",
   "metadata": {},
   "source": [
    "#### Break keyword"
   ]
  },
  {
   "cell_type": "markdown",
   "metadata": {},
   "source": [
    "The `break` keyword causes a break to stop the loop running. \n",
    "\n",
    "For instance:"
   ]
  },
  {
   "cell_type": "code",
   "execution_count": null,
   "metadata": {},
   "outputs": [],
   "source": [
    "i = 1\n",
    "while i < 100:\n",
    "    if i % 5 == 0:\n",
    "        print('STOP LOOP')\n",
    "        break\n",
    "    print(f'{i} not divisible by 5')\n",
    "    i += 1"
   ]
  },
  {
   "cell_type": "markdown",
   "metadata": {},
   "source": [
    "Even though the end condition of the `while` loop is `i < 100`, the loop can break prematurely by using the `break` keyword."
   ]
  },
  {
   "cell_type": "markdown",
   "metadata": {},
   "source": [
    "#### Continue keyword"
   ]
  },
  {
   "cell_type": "markdown",
   "metadata": {},
   "source": [
    "The `continue` keyword is similar to the `break` keyword, however it simply does not execute any extra code and continues to the next iteration.\n",
    "\n",
    "For instance:"
   ]
  },
  {
   "cell_type": "code",
   "execution_count": null,
   "metadata": {},
   "outputs": [],
   "source": [
    "i = 0\n",
    "while i < 50:\n",
    "    i += 1\n",
    "    if i % 3 != 0:\n",
    "        continue\n",
    "    print(f'{i} is divisible by 3')"
   ]
  },
  {
   "cell_type": "markdown",
   "metadata": {},
   "source": [
    "As you can see, if `i % 3 != 0` i.e. if the remainder of `i` divided by `3` is not equal `!=` to `0` then `continue` means that when Python reaches the `continue` word, it tries to evaluate the `while` loop again and misses the code that says `print()`.\n",
    "\n",
    "Note that if the `i += 1` line had been below the `if` statement with the `continue` word, when the `continue` word was reached, the loop would no longer update `i += 1` as it would check the `if` condition first, therefore making a continous loop. \n",
    "\n",
    "For this reason, `for` loops can be more useful with the `continue` keyword in order to _skip_ certain items in an __iterator__ depending on a specific condition. "
   ]
  },
  {
   "cell_type": "markdown",
   "metadata": {},
   "source": [
    "Much like the `if` statements, `while` loops can be __nested__ together."
   ]
  },
  {
   "cell_type": "code",
   "execution_count": null,
   "metadata": {},
   "outputs": [],
   "source": [
    "i = 0\n",
    "while i <= 3:\n",
    "    j = 0\n",
    "    while j <= 3:\n",
    "        print(f'i: {i}, j: {j}')\n",
    "        j += 1\n",
    "    i += 1"
   ]
  },
  {
   "cell_type": "markdown",
   "metadata": {},
   "source": [
    "As you can see from the output here, the first `while` loop executes which then executes the second `while` loop until `j > 3` at which point the code in the first `while` loop block under the second `while` loop executes. This has the effect of producing the numbers `i = 0` for `j = 0->5` until moving onto `i = 1` and so on. "
   ]
  },
  {
   "cell_type": "markdown",
   "metadata": {},
   "source": [
    "### Summary\n",
    "\n",
    "Now that you are equipped with knowing the basics of what Python can do, I encourage playing around with some of the `if` statements and with different __object types__ as seeing what their __methods__ and __attributes__ are. \n",
    "\n",
    "In Part 3, I will cover __iterators__ such as `list`, `tuple` and `dict` objects and how they can be cycled through using `for` and `while` loops. "
   ]
  }
 ],
 "metadata": {
  "anaconda-cloud": {},
  "kernelspec": {
   "display_name": "Python 3",
   "language": "python",
   "name": "python3"
  },
  "language_info": {
   "codemirror_mode": {
    "name": "ipython",
    "version": 3
   },
   "file_extension": ".py",
   "mimetype": "text/x-python",
   "name": "python",
   "nbconvert_exporter": "python",
   "pygments_lexer": "ipython3",
   "version": "3.8.1"
  },
  "nbpresent": {
   "slides": {
    "0395e4c3-bf89-4b97-80ad-e70176a272ba": {
     "id": "0395e4c3-bf89-4b97-80ad-e70176a272ba",
     "prev": "d120ddd7-2d3f-4963-b4ee-5980d19df4f2",
     "regions": {
      "d8c18efb-aa77-4c6a-8a12-def519a58e88": {
       "attrs": {
        "height": 0.8,
        "width": 0.8,
        "x": 0.1,
        "y": 0.1
       },
       "content": {
        "cell": "464a65e2-1882-47d1-a6fd-8b5c23473ab3",
        "part": "whole"
       },
       "id": "d8c18efb-aa77-4c6a-8a12-def519a58e88"
      }
     }
    },
    "053bef1d-38e1-47e4-9d57-6af4d897db93": {
     "id": "053bef1d-38e1-47e4-9d57-6af4d897db93",
     "prev": "3e241bf6-e52b-479f-a302-9fb4a4cf5e9c",
     "regions": {
      "806d28af-a7a7-4577-ac39-f892983ddd08": {
       "attrs": {
        "height": 0.8,
        "width": 0.8,
        "x": 0.1,
        "y": 0.1
       },
       "content": {
        "cell": "5654d743-4cc4-46f3-9e13-d419eaf21fc6",
        "part": "whole"
       },
       "id": "806d28af-a7a7-4577-ac39-f892983ddd08"
      }
     }
    },
    "09a6a292-f9a6-4d04-85e8-ebbf3760f65b": {
     "id": "09a6a292-f9a6-4d04-85e8-ebbf3760f65b",
     "prev": "25eaaadc-9ded-47cc-8c1a-e4c853c12d42",
     "regions": {
      "f733311b-c315-4033-a9e5-a658e797336f": {
       "attrs": {
        "height": 0.8,
        "width": 0.8,
        "x": 0.1,
        "y": 0.1
       },
       "content": {
        "cell": "eaf805da-166a-4495-9098-bf82ab02b03f",
        "part": "whole"
       },
       "id": "f733311b-c315-4033-a9e5-a658e797336f"
      }
     }
    },
    "0b1e44aa-348e-4378-83ee-d6749de66e52": {
     "id": "0b1e44aa-348e-4378-83ee-d6749de66e52",
     "prev": "41dca405-ab4c-455b-885a-5eacadb4972a",
     "regions": {
      "0b8924af-5d1e-4457-ab67-2fb345978875": {
       "attrs": {
        "height": 0.8,
        "width": 0.8,
        "x": 0.1,
        "y": 0.1
       },
       "content": {
        "cell": "2b304b4e-cc8d-40a4-94dd-ead0d8144673",
        "part": "whole"
       },
       "id": "0b8924af-5d1e-4457-ab67-2fb345978875"
      }
     }
    },
    "0d5326ac-5f42-4de1-8994-5653f74043e5": {
     "id": "0d5326ac-5f42-4de1-8994-5653f74043e5",
     "prev": "66e76440-24c4-4c02-96c5-6ece1ebaa716",
     "regions": {
      "836832ed-74eb-47cb-a051-8e33c2d920c4": {
       "attrs": {
        "height": 0.8,
        "width": 0.8,
        "x": 0.1,
        "y": 0.1
       },
       "content": {
        "cell": "074a9719-0cc3-4a3f-836f-7870a79ae5c4",
        "part": "whole"
       },
       "id": "836832ed-74eb-47cb-a051-8e33c2d920c4"
      }
     }
    },
    "144c0f82-0fe7-4820-83d4-ef8db6120279": {
     "id": "144c0f82-0fe7-4820-83d4-ef8db6120279",
     "prev": "34fd6faa-0f86-42dd-8658-b70abb65a768",
     "regions": {
      "824ef742-327f-4c3c-93a0-ab41d4494e40": {
       "attrs": {
        "height": 0.8,
        "width": 0.8,
        "x": 0.1,
        "y": 0.1
       },
       "content": {
        "cell": "0175ca99-3d17-44f9-9475-90cbddc5008d",
        "part": "whole"
       },
       "id": "824ef742-327f-4c3c-93a0-ab41d4494e40"
      }
     }
    },
    "17989e0f-cbc9-4cd9-91c8-b1ffdb144238": {
     "id": "17989e0f-cbc9-4cd9-91c8-b1ffdb144238",
     "prev": "22c84e53-9898-446a-945a-ff7e38ae8283",
     "regions": {
      "84d84d9f-b056-424d-93ee-8a07d7c6e659": {
       "attrs": {
        "height": 0.8,
        "width": 0.8,
        "x": 0.1,
        "y": 0.1
       },
       "content": {
        "cell": "14468aa7-21ed-4c8c-a61d-b4b7e9e7a996",
        "part": "whole"
       },
       "id": "84d84d9f-b056-424d-93ee-8a07d7c6e659"
      }
     }
    },
    "185bde85-33fd-4cd8-9abb-feb833936277": {
     "id": "185bde85-33fd-4cd8-9abb-feb833936277",
     "prev": "d60fa821-df43-48bd-85ef-1cd4d47444f9",
     "regions": {
      "8b86b599-7288-4db8-b1c9-93dbaace887c": {
       "attrs": {
        "height": 0.8,
        "width": 0.8,
        "x": 0.1,
        "y": 0.1
       },
       "content": {
        "cell": "ef4a046b-bab5-4254-a80b-e77ead848ae6",
        "part": "whole"
       },
       "id": "8b86b599-7288-4db8-b1c9-93dbaace887c"
      }
     }
    },
    "19efd021-6058-437b-ba31-792b444d8f6d": {
     "id": "19efd021-6058-437b-ba31-792b444d8f6d",
     "prev": null,
     "regions": {
      "65dc4ecb-88fb-4583-8e78-ea04ffdc3778": {
       "attrs": {
        "height": 0.8,
        "width": 0.8,
        "x": 0.1,
        "y": 0.1
       },
       "content": {
        "cell": "e757f315-bfd0-42b8-afab-0c1a9873bfc9",
        "part": "whole"
       },
       "id": "65dc4ecb-88fb-4583-8e78-ea04ffdc3778"
      }
     }
    },
    "1f7c4042-c6f6-42b7-b002-30b062342eba": {
     "id": "1f7c4042-c6f6-42b7-b002-30b062342eba",
     "prev": "fd1d20eb-ae0c-4a2d-8506-ead021241432",
     "regions": {
      "85513fd0-52bc-4aa1-a4fb-69544b817948": {
       "attrs": {
        "height": 0.8,
        "width": 0.8,
        "x": 0.1,
        "y": 0.1
       },
       "content": {
        "cell": "610dd4cf-d23d-4e64-96a6-e5647b256650",
        "part": "whole"
       },
       "id": "85513fd0-52bc-4aa1-a4fb-69544b817948"
      }
     }
    },
    "22c84e53-9898-446a-945a-ff7e38ae8283": {
     "id": "22c84e53-9898-446a-945a-ff7e38ae8283",
     "prev": "d5171d86-9184-4ea8-a6fe-70e23ad9f439",
     "regions": {
      "4ec9acb7-256d-4717-92b3-0a5ad04fb65f": {
       "attrs": {
        "height": 0.8,
        "width": 0.8,
        "x": 0.1,
        "y": 0.1
       },
       "content": {
        "cell": "176f9f4d-a095-47af-83fb-333e45745979",
        "part": "whole"
       },
       "id": "4ec9acb7-256d-4717-92b3-0a5ad04fb65f"
      }
     }
    },
    "25eaaadc-9ded-47cc-8c1a-e4c853c12d42": {
     "id": "25eaaadc-9ded-47cc-8c1a-e4c853c12d42",
     "prev": "0d5326ac-5f42-4de1-8994-5653f74043e5",
     "regions": {
      "d831d07c-f0a2-4560-8115-cba547c74bf2": {
       "attrs": {
        "height": 0.8,
        "width": 0.8,
        "x": 0.1,
        "y": 0.1
       },
       "content": {
        "cell": "4039a5ab-7dea-42e8-9dd3-98fcc4fc6cfb",
        "part": "whole"
       },
       "id": "d831d07c-f0a2-4560-8115-cba547c74bf2"
      }
     }
    },
    "2625e766-150d-40df-90c7-56bf5c409726": {
     "id": "2625e766-150d-40df-90c7-56bf5c409726",
     "prev": "e9dc5f61-5910-4fa5-bba9-411327df9104",
     "regions": {
      "f6935ff1-019e-4f50-a548-1c14b6f02b88": {
       "attrs": {
        "height": 0.8,
        "width": 0.8,
        "x": 0.1,
        "y": 0.1
       },
       "content": {
        "cell": "e5631ea4-3d45-41c9-95d8-e75cda7277a0",
        "part": "whole"
       },
       "id": "f6935ff1-019e-4f50-a548-1c14b6f02b88"
      }
     }
    },
    "2659be2c-109d-4bb6-8e96-dbeae5d4e6c0": {
     "id": "2659be2c-109d-4bb6-8e96-dbeae5d4e6c0",
     "prev": "8312c2d9-2c9f-4a86-a169-8e430a460701",
     "regions": {
      "e4ed5e66-fd10-4212-bb44-bfb2ddf3cdff": {
       "attrs": {
        "height": 0.8,
        "width": 0.8,
        "x": 0.1,
        "y": 0.1
       },
       "content": {
        "cell": "0b8c01ed-2ed9-478e-a337-e81984d7bdd8",
        "part": "whole"
       },
       "id": "e4ed5e66-fd10-4212-bb44-bfb2ddf3cdff"
      }
     }
    },
    "29b18786-73e7-45ce-adc8-a00688c3cd0d": {
     "id": "29b18786-73e7-45ce-adc8-a00688c3cd0d",
     "prev": "dcfda52f-4ef1-4d99-a845-f293664b5280",
     "regions": {
      "a0757f48-56f9-4c6e-a37a-0e27a142d0cc": {
       "attrs": {
        "height": 0.8,
        "width": 0.8,
        "x": 0.1,
        "y": 0.1
       },
       "content": {
        "cell": "ae70c18f-9c8b-495a-bc07-cb33a982c855",
        "part": "whole"
       },
       "id": "a0757f48-56f9-4c6e-a37a-0e27a142d0cc"
      }
     }
    },
    "2c81b7ee-fdd4-438f-a437-9f70536d4bd6": {
     "id": "2c81b7ee-fdd4-438f-a437-9f70536d4bd6",
     "prev": "816bfed2-10e2-4b02-9988-8696e759bca7",
     "regions": {
      "90a40820-61d0-4687-8cec-66d1bf4d1e82": {
       "attrs": {
        "height": 0.8,
        "width": 0.8,
        "x": 0.1,
        "y": 0.1
       },
       "content": {
        "cell": "74bb8048-eac9-40bd-93a4-99516f777de1",
        "part": "whole"
       },
       "id": "90a40820-61d0-4687-8cec-66d1bf4d1e82"
      }
     }
    },
    "2d2c5cc9-810a-444e-ad2f-4ab557d4fa8e": {
     "id": "2d2c5cc9-810a-444e-ad2f-4ab557d4fa8e",
     "prev": "eeb6fc55-27fe-4b7b-ac23-64ebff9c681c",
     "regions": {
      "45c72000-2aa9-4c6c-a649-341bee991cb3": {
       "attrs": {
        "height": 0.8,
        "width": 0.8,
        "x": 0.1,
        "y": 0.1
       },
       "content": {
        "cell": "1f516535-df41-48f3-9e83-c1d7cb03fa3f",
        "part": "whole"
       },
       "id": "45c72000-2aa9-4c6c-a649-341bee991cb3"
      }
     }
    },
    "2ff4f16c-a766-43bf-8685-8de0e4d01e57": {
     "id": "2ff4f16c-a766-43bf-8685-8de0e4d01e57",
     "prev": "d2ef2f04-b988-49bd-820f-95ec04bc2068",
     "regions": {
      "762f0975-323b-45b4-a2b6-9dfd117d1c52": {
       "attrs": {
        "height": 0.8,
        "width": 0.8,
        "x": 0.1,
        "y": 0.1
       },
       "content": {
        "cell": "e895b274-19be-4b34-b612-1012f6998e05",
        "part": "whole"
       },
       "id": "762f0975-323b-45b4-a2b6-9dfd117d1c52"
      }
     }
    },
    "34fd6faa-0f86-42dd-8658-b70abb65a768": {
     "id": "34fd6faa-0f86-42dd-8658-b70abb65a768",
     "prev": "9b7e2fb0-8d31-4d0b-98f9-98b0f8baca95",
     "regions": {
      "99a76eb5-0022-40fd-9941-425396b44396": {
       "attrs": {
        "height": 0.8,
        "width": 0.8,
        "x": 0.1,
        "y": 0.1
       },
       "content": {
        "cell": "71ffe15f-6182-4e94-98d1-dfadb1a28990",
        "part": "whole"
       },
       "id": "99a76eb5-0022-40fd-9941-425396b44396"
      }
     }
    },
    "373870e5-fe2a-453b-a337-eae3a262bfc4": {
     "id": "373870e5-fe2a-453b-a337-eae3a262bfc4",
     "prev": "2625e766-150d-40df-90c7-56bf5c409726",
     "regions": {
      "d473be75-44cb-4267-a3f4-e321f8b04ff1": {
       "attrs": {
        "height": 0.8,
        "width": 0.8,
        "x": 0.1,
        "y": 0.1
       },
       "content": {
        "cell": "7d94d4a8-1656-41ca-9733-b511c39b8205",
        "part": "whole"
       },
       "id": "d473be75-44cb-4267-a3f4-e321f8b04ff1"
      }
     }
    },
    "375821a7-fcba-40e3-b599-4a7d895d1701": {
     "id": "375821a7-fcba-40e3-b599-4a7d895d1701",
     "prev": "8236c2e4-cab4-4715-b527-6ccf51fd156d",
     "regions": {
      "0b08d33a-2653-4f69-b61a-92405b881c3d": {
       "attrs": {
        "height": 0.8,
        "width": 0.8,
        "x": 0.1,
        "y": 0.1
       },
       "content": {
        "cell": "3b7f43df-7dc0-4060-a37a-409b78775558",
        "part": "whole"
       },
       "id": "0b08d33a-2653-4f69-b61a-92405b881c3d"
      }
     }
    },
    "3936835f-a70c-4493-b59f-15d6489023bb": {
     "id": "3936835f-a70c-4493-b59f-15d6489023bb",
     "prev": "76c54e87-91c0-4356-8e95-c2501fc91ef3",
     "regions": {
      "55d1045a-e2a9-46df-b355-b5dd12671f73": {
       "attrs": {
        "height": 0.8,
        "width": 0.8,
        "x": 0.1,
        "y": 0.1
       },
       "content": {
        "cell": "4c1fdfc2-3269-401e-8ff8-5560ab4d2900",
        "part": "whole"
       },
       "id": "55d1045a-e2a9-46df-b355-b5dd12671f73"
      }
     }
    },
    "394aa516-86f8-4c39-901a-d37e086215d6": {
     "id": "394aa516-86f8-4c39-901a-d37e086215d6",
     "prev": "521033eb-b94f-4d27-a101-707af7a69a91",
     "regions": {
      "56dd1b75-72b7-44ba-889b-4a61dfc355b0": {
       "attrs": {
        "height": 0.8,
        "width": 0.8,
        "x": 0.1,
        "y": 0.1
       },
       "content": {
        "cell": "fda7b631-197f-4dc2-907e-7dee5a51054b",
        "part": "whole"
       },
       "id": "56dd1b75-72b7-44ba-889b-4a61dfc355b0"
      }
     }
    },
    "3b7fe7b7-721b-4530-ab33-f79d2145af83": {
     "id": "3b7fe7b7-721b-4530-ab33-f79d2145af83",
     "prev": "7fa608a3-13a2-4962-a848-64ace7043102",
     "regions": {
      "e1af14a0-0640-4bc9-8c4a-1d9da920661b": {
       "attrs": {
        "height": 0.8,
        "width": 0.8,
        "x": 0.1,
        "y": 0.1
       },
       "content": {
        "cell": "a5574d5c-bae9-4a69-9f12-c48cec7d2ec7",
        "part": "whole"
       },
       "id": "e1af14a0-0640-4bc9-8c4a-1d9da920661b"
      }
     }
    },
    "3b95dbda-6e72-4267-9f99-c2e0066a4ed9": {
     "id": "3b95dbda-6e72-4267-9f99-c2e0066a4ed9",
     "prev": "373870e5-fe2a-453b-a337-eae3a262bfc4",
     "regions": {
      "9ae508dc-4e04-4794-867a-3225b69a1a75": {
       "attrs": {
        "height": 0.8,
        "width": 0.8,
        "x": 0.1,
        "y": 0.1
       },
       "content": {
        "cell": "ce7f7706-b017-4ef1-99de-013239331691",
        "part": "whole"
       },
       "id": "9ae508dc-4e04-4794-867a-3225b69a1a75"
      }
     }
    },
    "3bb071b0-2ca6-42d8-9d08-389f9e4c3996": {
     "id": "3bb071b0-2ca6-42d8-9d08-389f9e4c3996",
     "prev": "75750b6f-aca4-4bcf-b5f3-bf4b7c402124",
     "regions": {
      "edd40f6d-75a8-44fa-bf17-ca0e526d6fa3": {
       "attrs": {
        "height": 0.8,
        "width": 0.8,
        "x": 0.1,
        "y": 0.1
       },
       "content": {
        "cell": "0593d10b-12c4-4b26-af32-a033c58b3ddb",
        "part": "whole"
       },
       "id": "edd40f6d-75a8-44fa-bf17-ca0e526d6fa3"
      }
     }
    },
    "3d46413e-6149-4220-a7b2-8d54735a1fe5": {
     "id": "3d46413e-6149-4220-a7b2-8d54735a1fe5",
     "prev": "375821a7-fcba-40e3-b599-4a7d895d1701",
     "regions": {
      "038af18f-ebd1-408d-aeef-98018ef3dc54": {
       "attrs": {
        "height": 0.8,
        "width": 0.8,
        "x": 0.1,
        "y": 0.1
       },
       "content": {
        "cell": "0fd066fa-a0d0-48d9-9804-2d8be3d41829",
        "part": "whole"
       },
       "id": "038af18f-ebd1-408d-aeef-98018ef3dc54"
      }
     }
    },
    "3e241bf6-e52b-479f-a302-9fb4a4cf5e9c": {
     "id": "3e241bf6-e52b-479f-a302-9fb4a4cf5e9c",
     "prev": "c11f9679-4eef-4515-96a3-cc2c4293f56d",
     "regions": {
      "d0fffb86-f2c2-4ac3-a01a-406d33dc8ac3": {
       "attrs": {
        "height": 0.8,
        "width": 0.8,
        "x": 0.1,
        "y": 0.1
       },
       "content": {
        "cell": "2ecc15d1-f6ce-40a9-bcdb-4ee04e4a4f2d",
        "part": "whole"
       },
       "id": "d0fffb86-f2c2-4ac3-a01a-406d33dc8ac3"
      }
     }
    },
    "410343e8-d8dc-4e64-ba2d-9f6204e25ca9": {
     "id": "410343e8-d8dc-4e64-ba2d-9f6204e25ca9",
     "prev": "d30b4400-fa22-4414-9d56-76d7145c999b",
     "regions": {
      "93643004-6be4-4e15-b739-f8896f87c956": {
       "attrs": {
        "height": 0.8,
        "width": 0.8,
        "x": 0.1,
        "y": 0.1
       },
       "content": {
        "cell": "608047c5-232e-4dbf-8222-3b9076d8f99c",
        "part": "whole"
       },
       "id": "93643004-6be4-4e15-b739-f8896f87c956"
      }
     }
    },
    "413ff587-3f30-4ea9-bd2e-790752e42909": {
     "id": "413ff587-3f30-4ea9-bd2e-790752e42909",
     "prev": "5ce031d0-155d-4bad-966f-375faedd0026",
     "regions": {
      "a9577395-d157-4f29-a895-a416f86fbc6e": {
       "attrs": {
        "height": 0.8,
        "width": 0.8,
        "x": 0.1,
        "y": 0.1
       },
       "content": {
        "cell": "9accae39-60bb-46af-ba93-51da0884b246",
        "part": "whole"
       },
       "id": "a9577395-d157-4f29-a895-a416f86fbc6e"
      }
     }
    },
    "41dca405-ab4c-455b-885a-5eacadb4972a": {
     "id": "41dca405-ab4c-455b-885a-5eacadb4972a",
     "prev": "e87aeb23-4ed9-4ec0-9738-46714609ecc9",
     "regions": {
      "5ca6fdd7-49e7-496c-b0ac-dc1881cf7ca8": {
       "attrs": {
        "height": 0.8,
        "width": 0.8,
        "x": 0.1,
        "y": 0.1
       },
       "content": {
        "cell": "4133871d-ccd9-4723-93a9-7736de93eba0",
        "part": "whole"
       },
       "id": "5ca6fdd7-49e7-496c-b0ac-dc1881cf7ca8"
      }
     }
    },
    "45c6930d-46e2-4986-9e5a-f42a4a20a911": {
     "id": "45c6930d-46e2-4986-9e5a-f42a4a20a911",
     "prev": "9aa7d55e-c87e-481b-9584-d796d1479c3a",
     "regions": {
      "29b93658-447c-4483-90ea-903be7bf486e": {
       "attrs": {
        "height": 0.8,
        "width": 0.8,
        "x": 0.1,
        "y": 0.1
       },
       "content": {
        "cell": "84a9813a-0665-4469-82c2-30df10699c8d",
        "part": "whole"
       },
       "id": "29b93658-447c-4483-90ea-903be7bf486e"
      }
     }
    },
    "497cc5db-b424-414b-8641-cf18cc2a1bb4": {
     "id": "497cc5db-b424-414b-8641-cf18cc2a1bb4",
     "prev": "af8094ec-da10-492f-8ef7-2a2338442617",
     "regions": {
      "76914a8f-bf55-49c9-ad90-7792ef0be043": {
       "attrs": {
        "height": 0.8,
        "width": 0.8,
        "x": 0.1,
        "y": 0.1
       },
       "content": {
        "cell": "7bb1c31e-2ce1-4cd6-88b3-eef2909948d1",
        "part": "whole"
       },
       "id": "76914a8f-bf55-49c9-ad90-7792ef0be043"
      }
     }
    },
    "4a0ad867-7f93-4c67-b974-ea6ae36bd065": {
     "id": "4a0ad867-7f93-4c67-b974-ea6ae36bd065",
     "prev": "898601cf-d7ec-4d6e-b590-031d6656ff48",
     "regions": {
      "0cfecbdd-5daf-433d-93db-ed5c720532f8": {
       "attrs": {
        "height": 0.8,
        "width": 0.8,
        "x": 0.1,
        "y": 0.1
       },
       "content": {
        "cell": "438d7868-5392-4cd9-bc64-0a8be8a95d79",
        "part": "whole"
       },
       "id": "0cfecbdd-5daf-433d-93db-ed5c720532f8"
      }
     }
    },
    "4a959eb0-7335-4d17-a224-987902bab50c": {
     "id": "4a959eb0-7335-4d17-a224-987902bab50c",
     "prev": "9e6659ec-1648-4b6f-805b-b995e6fd6085",
     "regions": {
      "71677615-a99c-4094-aa6e-192c54101791": {
       "attrs": {
        "height": 0.8,
        "width": 0.8,
        "x": 0.1,
        "y": 0.1
       },
       "content": {
        "cell": "a99cb8f6-5776-4b34-939b-013957118789",
        "part": "whole"
       },
       "id": "71677615-a99c-4094-aa6e-192c54101791"
      }
     }
    },
    "4ac5b81f-def1-446a-b1d1-aa91292d6c1c": {
     "id": "4ac5b81f-def1-446a-b1d1-aa91292d6c1c",
     "prev": "d43d77ea-aa9e-497b-ad04-c981e87e4423",
     "regions": {
      "51b350d9-294b-4d5f-a311-70b4b2e22382": {
       "attrs": {
        "height": 0.8,
        "width": 0.8,
        "x": 0.1,
        "y": 0.1
       },
       "content": {
        "cell": "e24bbf2e-4ad1-4289-b6c5-1510db95f12c",
        "part": "whole"
       },
       "id": "51b350d9-294b-4d5f-a311-70b4b2e22382"
      }
     }
    },
    "51902931-f5ce-44f1-a84f-16100919ddb7": {
     "id": "51902931-f5ce-44f1-a84f-16100919ddb7",
     "prev": "f45703a2-e42e-4db7-91a7-22fe914d346f",
     "regions": {
      "60ca2064-d60a-4c2f-9eb0-b3677395d4de": {
       "attrs": {
        "height": 0.8,
        "width": 0.8,
        "x": 0.1,
        "y": 0.1
       },
       "content": {
        "cell": "03677f3b-ca56-45be-aefd-4c687c5b8bcd",
        "part": "whole"
       },
       "id": "60ca2064-d60a-4c2f-9eb0-b3677395d4de"
      }
     }
    },
    "521033eb-b94f-4d27-a101-707af7a69a91": {
     "id": "521033eb-b94f-4d27-a101-707af7a69a91",
     "prev": "eff6d18a-8968-46c1-b24c-b386c10dc365",
     "regions": {
      "e9ae64c6-81d4-46fe-8c0c-7c1c9d92f51b": {
       "attrs": {
        "height": 0.8,
        "width": 0.8,
        "x": 0.1,
        "y": 0.1
       },
       "content": {
        "cell": "eab86766-fb01-411a-ab45-ec368146e017",
        "part": "whole"
       },
       "id": "e9ae64c6-81d4-46fe-8c0c-7c1c9d92f51b"
      }
     }
    },
    "527763f6-bba3-4475-92ce-25f8b432c32c": {
     "id": "527763f6-bba3-4475-92ce-25f8b432c32c",
     "prev": "2d2c5cc9-810a-444e-ad2f-4ab557d4fa8e",
     "regions": {
      "33c204e3-22a1-4132-9a9a-4a01b393c323": {
       "attrs": {
        "height": 0.8,
        "width": 0.8,
        "x": 0.1,
        "y": 0.1
       },
       "content": {
        "cell": "c32cc030-b655-487d-bdd2-01d7096bc14c",
        "part": "whole"
       },
       "id": "33c204e3-22a1-4132-9a9a-4a01b393c323"
      }
     }
    },
    "5652c4a0-3bf3-4527-82b4-84136f020207": {
     "id": "5652c4a0-3bf3-4527-82b4-84136f020207",
     "prev": "3b95dbda-6e72-4267-9f99-c2e0066a4ed9",
     "regions": {
      "e5e4d913-a482-4d51-8c8a-f697b64fc880": {
       "attrs": {
        "height": 0.8,
        "width": 0.8,
        "x": 0.1,
        "y": 0.1
       },
       "content": {
        "cell": "75173d89-e9ab-4e3c-a027-56d772510cbf",
        "part": "whole"
       },
       "id": "e5e4d913-a482-4d51-8c8a-f697b64fc880"
      }
     }
    },
    "56a7a39c-1d02-489c-903a-e37a77d41aad": {
     "id": "56a7a39c-1d02-489c-903a-e37a77d41aad",
     "prev": "a706bb81-7ecf-4284-a52d-3775e20e5991",
     "regions": {
      "c0edcc32-0c98-4b71-83e3-51c00ce87982": {
       "attrs": {
        "height": 0.8,
        "width": 0.8,
        "x": 0.1,
        "y": 0.1
       },
       "content": {
        "cell": "9e44c257-fbb7-4ad4-b577-b81b84122c32",
        "part": "whole"
       },
       "id": "c0edcc32-0c98-4b71-83e3-51c00ce87982"
      }
     }
    },
    "5755c8ff-4aeb-4ba9-b4c4-9ec437fc53d3": {
     "id": "5755c8ff-4aeb-4ba9-b4c4-9ec437fc53d3",
     "prev": "2ff4f16c-a766-43bf-8685-8de0e4d01e57",
     "regions": {
      "82cebe3f-3f2d-4f24-be92-a6c3caedb933": {
       "attrs": {
        "height": 0.8,
        "width": 0.8,
        "x": 0.1,
        "y": 0.1
       },
       "content": {
        "cell": "190f1c11-fb1a-49a7-be30-675e857ce79c",
        "part": "whole"
       },
       "id": "82cebe3f-3f2d-4f24-be92-a6c3caedb933"
      }
     }
    },
    "58df9030-22c0-497f-9453-6829fa1fc818": {
     "id": "58df9030-22c0-497f-9453-6829fa1fc818",
     "prev": "144c0f82-0fe7-4820-83d4-ef8db6120279",
     "regions": {
      "a47b6c21-1e75-4c09-8d84-784240eaa2ce": {
       "attrs": {
        "height": 0.8,
        "width": 0.8,
        "x": 0.1,
        "y": 0.1
       },
       "content": {
        "cell": "58da0fa5-2eef-4c18-9505-346b61f9d79d",
        "part": "whole"
       },
       "id": "a47b6c21-1e75-4c09-8d84-784240eaa2ce"
      }
     }
    },
    "5c237a90-bc94-4e52-ba59-16193c36cf21": {
     "id": "5c237a90-bc94-4e52-ba59-16193c36cf21",
     "prev": "29b18786-73e7-45ce-adc8-a00688c3cd0d",
     "regions": {
      "0e06dc41-8c67-44d0-955c-475836e78958": {
       "attrs": {
        "height": 0.8,
        "width": 0.8,
        "x": 0.1,
        "y": 0.1
       },
       "content": {
        "cell": "5402965d-8607-4f27-a4ba-756b27f07d58",
        "part": "whole"
       },
       "id": "0e06dc41-8c67-44d0-955c-475836e78958"
      }
     }
    },
    "5ce031d0-155d-4bad-966f-375faedd0026": {
     "id": "5ce031d0-155d-4bad-966f-375faedd0026",
     "prev": "96d47571-2a68-4acb-8131-67e150d190d6",
     "regions": {
      "96f2fe24-69e1-44b5-9d88-93006fadc0f4": {
       "attrs": {
        "height": 0.8,
        "width": 0.8,
        "x": 0.1,
        "y": 0.1
       },
       "content": {
        "cell": "91573f8d-b6fd-43bb-9389-1040bc626d02",
        "part": "whole"
       },
       "id": "96f2fe24-69e1-44b5-9d88-93006fadc0f4"
      }
     }
    },
    "5e7010ea-6cb9-4f67-b6a9-cf5475110733": {
     "id": "5e7010ea-6cb9-4f67-b6a9-cf5475110733",
     "prev": "58df9030-22c0-497f-9453-6829fa1fc818",
     "regions": {
      "1ffc9284-ac6c-4753-8356-b8136ef852c1": {
       "attrs": {
        "height": 0.8,
        "width": 0.8,
        "x": 0.1,
        "y": 0.1
       },
       "content": {
        "cell": "644d20fc-8f9a-4a10-a062-7556edd80193",
        "part": "whole"
       },
       "id": "1ffc9284-ac6c-4753-8356-b8136ef852c1"
      }
     }
    },
    "64df9f92-ae3f-4edb-8d4c-131fb8074720": {
     "id": "64df9f92-ae3f-4edb-8d4c-131fb8074720",
     "prev": "74f7b328-9588-499e-82e1-40832808bbae",
     "regions": {
      "38a9b690-3513-44f7-996c-6bb16349afdc": {
       "attrs": {
        "height": 0.8,
        "width": 0.8,
        "x": 0.1,
        "y": 0.1
       },
       "content": {
        "cell": "9cc1c518-0dc6-4de3-a7db-ac50f2c4d5fc",
        "part": "whole"
       },
       "id": "38a9b690-3513-44f7-996c-6bb16349afdc"
      }
     }
    },
    "66e76440-24c4-4c02-96c5-6ece1ebaa716": {
     "id": "66e76440-24c4-4c02-96c5-6ece1ebaa716",
     "prev": "4ac5b81f-def1-446a-b1d1-aa91292d6c1c",
     "regions": {
      "5d2b4e56-160c-49e0-83cc-2ff1ea3a2821": {
       "attrs": {
        "height": 0.8,
        "width": 0.8,
        "x": 0.1,
        "y": 0.1
       },
       "content": {
        "cell": "4da730c9-8feb-4523-9e8c-7cc24e2312b6",
        "part": "whole"
       },
       "id": "5d2b4e56-160c-49e0-83cc-2ff1ea3a2821"
      }
     }
    },
    "69eec4f9-6baf-4850-b791-0f107717393a": {
     "id": "69eec4f9-6baf-4850-b791-0f107717393a",
     "prev": "cbbee7bf-0f33-49df-b89d-7490bf1c1fef",
     "regions": {
      "fa35e0d1-d3d1-46ab-a9fb-fcdc7ca32219": {
       "attrs": {
        "height": 0.8,
        "width": 0.8,
        "x": 0.1,
        "y": 0.1
       },
       "content": {
        "cell": "8ae9758d-46f2-4848-bac5-c0fa6206a7ef",
        "part": "whole"
       },
       "id": "fa35e0d1-d3d1-46ab-a9fb-fcdc7ca32219"
      }
     }
    },
    "6da0c539-5c2c-4917-a680-f04d7871d0d0": {
     "id": "6da0c539-5c2c-4917-a680-f04d7871d0d0",
     "prev": "8b66d302-8b5f-443e-bffc-d7cec6f3b79c",
     "regions": {
      "186894c9-bc3f-4846-8a12-9399b09ebe07": {
       "attrs": {
        "height": 0.8,
        "width": 0.8,
        "x": 0.1,
        "y": 0.1
       },
       "content": {
        "cell": "451784cd-6b88-4769-833f-be8552e03b26",
        "part": "whole"
       },
       "id": "186894c9-bc3f-4846-8a12-9399b09ebe07"
      }
     }
    },
    "6de4eef3-d7c5-469f-91d8-740d3b3e53b4": {
     "id": "6de4eef3-d7c5-469f-91d8-740d3b3e53b4",
     "prev": "5755c8ff-4aeb-4ba9-b4c4-9ec437fc53d3",
     "regions": {
      "6ae63fb1-4f54-4eb6-971c-0ec8852dc224": {
       "attrs": {
        "height": 0.8,
        "width": 0.8,
        "x": 0.1,
        "y": 0.1
       },
       "content": {
        "cell": "8d286282-9ca4-4cab-b9c0-8f4483aed0ea",
        "part": "whole"
       },
       "id": "6ae63fb1-4f54-4eb6-971c-0ec8852dc224"
      }
     }
    },
    "6f884a0d-3b51-4cd5-a853-605082944045": {
     "id": "6f884a0d-3b51-4cd5-a853-605082944045",
     "prev": "17989e0f-cbc9-4cd9-91c8-b1ffdb144238",
     "regions": {
      "3358320f-7b42-4170-b50e-9d893a4d5dfb": {
       "attrs": {
        "height": 0.8,
        "width": 0.8,
        "x": 0.1,
        "y": 0.1
       },
       "content": {
        "cell": "36a0b275-d085-49f2-9d8a-66523e5ac6b3",
        "part": "whole"
       },
       "id": "3358320f-7b42-4170-b50e-9d893a4d5dfb"
      }
     }
    },
    "709a403a-c7d9-4546-a55a-fc3862a046fb": {
     "id": "709a403a-c7d9-4546-a55a-fc3862a046fb",
     "prev": "410343e8-d8dc-4e64-ba2d-9f6204e25ca9",
     "regions": {
      "644429c0-5e7c-4e32-b124-dcb554d3eb6d": {
       "attrs": {
        "height": 0.8,
        "width": 0.8,
        "x": 0.1,
        "y": 0.1
       },
       "content": {
        "cell": "cde10507-f2db-4e14-be74-671091af9b70",
        "part": "whole"
       },
       "id": "644429c0-5e7c-4e32-b124-dcb554d3eb6d"
      }
     }
    },
    "74f7b328-9588-499e-82e1-40832808bbae": {
     "id": "74f7b328-9588-499e-82e1-40832808bbae",
     "prev": "6de4eef3-d7c5-469f-91d8-740d3b3e53b4",
     "regions": {
      "1a1cee02-707e-40f0-a952-6e43894d5404": {
       "attrs": {
        "height": 0.8,
        "width": 0.8,
        "x": 0.1,
        "y": 0.1
       },
       "content": {
        "cell": "927d29de-f7d9-4d9a-8751-65aa85be93e2",
        "part": "whole"
       },
       "id": "1a1cee02-707e-40f0-a952-6e43894d5404"
      }
     }
    },
    "75750b6f-aca4-4bcf-b5f3-bf4b7c402124": {
     "id": "75750b6f-aca4-4bcf-b5f3-bf4b7c402124",
     "prev": "a906e73f-3c23-4705-9ea4-89f31a31443d",
     "regions": {
      "cfd23a2b-a9ae-46bb-9a85-bb98624aeba1": {
       "attrs": {
        "height": 0.8,
        "width": 0.8,
        "x": 0.1,
        "y": 0.1
       },
       "content": {
        "cell": "14ce5ca2-40ed-43a9-bcb1-5948b44a5ffe",
        "part": "whole"
       },
       "id": "cfd23a2b-a9ae-46bb-9a85-bb98624aeba1"
      }
     }
    },
    "76c54e87-91c0-4356-8e95-c2501fc91ef3": {
     "id": "76c54e87-91c0-4356-8e95-c2501fc91ef3",
     "prev": "053bef1d-38e1-47e4-9d57-6af4d897db93",
     "regions": {
      "607eafeb-69fa-4a5b-ab45-74a3effcc589": {
       "attrs": {
        "height": 0.8,
        "width": 0.8,
        "x": 0.1,
        "y": 0.1
       },
       "content": {
        "cell": "594e51bd-c2b7-4c14-b99b-35b179a833c6",
        "part": "whole"
       },
       "id": "607eafeb-69fa-4a5b-ab45-74a3effcc589"
      }
     }
    },
    "76f85e4a-056d-4784-82a6-f798abd8e5d0": {
     "id": "76f85e4a-056d-4784-82a6-f798abd8e5d0",
     "prev": "6f884a0d-3b51-4cd5-a853-605082944045",
     "regions": {
      "3b107ab1-c3c5-46b7-bc26-7eb69440b234": {
       "attrs": {
        "height": 0.8,
        "width": 0.8,
        "x": 0.1,
        "y": 0.1
       },
       "content": {
        "cell": "065efe3b-51f6-4b19-b7e6-a2f40cdbca44",
        "part": "whole"
       },
       "id": "3b107ab1-c3c5-46b7-bc26-7eb69440b234"
      }
     }
    },
    "7fa608a3-13a2-4962-a848-64ace7043102": {
     "id": "7fa608a3-13a2-4962-a848-64ace7043102",
     "prev": "5e7010ea-6cb9-4f67-b6a9-cf5475110733",
     "regions": {
      "dff49a2b-d5b8-454a-a98c-6ba0094ba72f": {
       "attrs": {
        "height": 0.8,
        "width": 0.8,
        "x": 0.1,
        "y": 0.1
       },
       "content": {
        "cell": "ec5794ed-c292-4418-9d20-b646f8a8a68c",
        "part": "whole"
       },
       "id": "dff49a2b-d5b8-454a-a98c-6ba0094ba72f"
      }
     }
    },
    "816bfed2-10e2-4b02-9988-8696e759bca7": {
     "id": "816bfed2-10e2-4b02-9988-8696e759bca7",
     "prev": "0b1e44aa-348e-4378-83ee-d6749de66e52",
     "regions": {
      "d04c8d65-a86a-4513-87b5-ad6ed57884f5": {
       "attrs": {
        "height": 0.8,
        "width": 0.8,
        "x": 0.1,
        "y": 0.1
       },
       "content": {
        "cell": "e49464aa-8c90-4af3-830b-bdc8b194dcb1",
        "part": "whole"
       },
       "id": "d04c8d65-a86a-4513-87b5-ad6ed57884f5"
      }
     }
    },
    "81ad90bd-a089-4838-9e3a-59123de18c78": {
     "id": "81ad90bd-a089-4838-9e3a-59123de18c78",
     "prev": "ca3030ac-f15d-40cd-8902-a5b4778d69f7",
     "regions": {
      "6e3d032e-3dde-4ca3-a4df-69d59bb2cea4": {
       "attrs": {
        "height": 0.8,
        "width": 0.8,
        "x": 0.1,
        "y": 0.1
       },
       "content": {
        "cell": "c000ea40-51b4-41c4-9a3e-bd5ad56dc016",
        "part": "whole"
       },
       "id": "6e3d032e-3dde-4ca3-a4df-69d59bb2cea4"
      }
     }
    },
    "820bcb62-96bb-490a-9d21-5b3e245f2ea3": {
     "id": "820bcb62-96bb-490a-9d21-5b3e245f2ea3",
     "prev": "185bde85-33fd-4cd8-9abb-feb833936277",
     "regions": {
      "7748d3d4-b3d5-4d2f-aff6-bb9dc4cf42e5": {
       "attrs": {
        "height": 0.8,
        "width": 0.8,
        "x": 0.1,
        "y": 0.1
       },
       "content": {
        "cell": "92197621-5a56-44ce-8118-4879e7502da2",
        "part": "whole"
       },
       "id": "7748d3d4-b3d5-4d2f-aff6-bb9dc4cf42e5"
      }
     }
    },
    "8236c2e4-cab4-4715-b527-6ccf51fd156d": {
     "id": "8236c2e4-cab4-4715-b527-6ccf51fd156d",
     "prev": "51902931-f5ce-44f1-a84f-16100919ddb7",
     "regions": {
      "62787fe5-b614-4e20-bc91-0a89a14642d4": {
       "attrs": {
        "height": 0.8,
        "width": 0.8,
        "x": 0.1,
        "y": 0.1
       },
       "content": {
        "cell": "580f2b3a-e4ef-4442-8c19-dd4568825e26",
        "part": "whole"
       },
       "id": "62787fe5-b614-4e20-bc91-0a89a14642d4"
      }
     }
    },
    "8312c2d9-2c9f-4a86-a169-8e430a460701": {
     "id": "8312c2d9-2c9f-4a86-a169-8e430a460701",
     "prev": "e217f2f5-1762-4912-8ad3-0812d40ee072",
     "regions": {
      "d8a723ff-af90-4e84-90c2-a249fcbfa31d": {
       "attrs": {
        "height": 0.8,
        "width": 0.8,
        "x": 0.1,
        "y": 0.1
       },
       "content": {
        "cell": "37459da0-a8dd-4c88-a05d-cf746644bd02",
        "part": "whole"
       },
       "id": "d8a723ff-af90-4e84-90c2-a249fcbfa31d"
      }
     }
    },
    "86205e2f-8323-41c4-b81b-f588ed1d3944": {
     "id": "86205e2f-8323-41c4-b81b-f588ed1d3944",
     "prev": "497cc5db-b424-414b-8641-cf18cc2a1bb4",
     "regions": {
      "06c4cec9-c231-42cf-a23d-9fd2b8da1d72": {
       "attrs": {
        "height": 0.8,
        "width": 0.8,
        "x": 0.1,
        "y": 0.1
       },
       "content": {
        "cell": "d2b8e068-25a6-4d0f-ba6a-2a4cf00e6359",
        "part": "whole"
       },
       "id": "06c4cec9-c231-42cf-a23d-9fd2b8da1d72"
      }
     }
    },
    "88912cfd-7ad8-40d0-9e8e-56fb92ebe27d": {
     "id": "88912cfd-7ad8-40d0-9e8e-56fb92ebe27d",
     "prev": "3936835f-a70c-4493-b59f-15d6489023bb",
     "regions": {
      "b572e08f-9050-411d-9a07-ff49af73a73f": {
       "attrs": {
        "height": 0.8,
        "width": 0.8,
        "x": 0.1,
        "y": 0.1
       },
       "content": {
        "cell": "7f5f5a7f-f9a4-41ca-82c6-194b5d1a64e3",
        "part": "whole"
       },
       "id": "b572e08f-9050-411d-9a07-ff49af73a73f"
      }
     }
    },
    "898601cf-d7ec-4d6e-b590-031d6656ff48": {
     "id": "898601cf-d7ec-4d6e-b590-031d6656ff48",
     "prev": "56a7a39c-1d02-489c-903a-e37a77d41aad",
     "regions": {
      "d9aa1e06-b99a-4938-a8c1-0a2163f953c2": {
       "attrs": {
        "height": 0.8,
        "width": 0.8,
        "x": 0.1,
        "y": 0.1
       },
       "content": {
        "cell": "081a076a-5843-4f94-bbec-715c482bd7b5",
        "part": "whole"
       },
       "id": "d9aa1e06-b99a-4938-a8c1-0a2163f953c2"
      }
     }
    },
    "8b66d302-8b5f-443e-bffc-d7cec6f3b79c": {
     "id": "8b66d302-8b5f-443e-bffc-d7cec6f3b79c",
     "prev": "d274f3fd-560d-4a9b-9531-2a63d4f83b74",
     "regions": {
      "72a79007-9476-48cf-9d1e-ebf35f83d5fa": {
       "attrs": {
        "height": 0.8,
        "width": 0.8,
        "x": 0.1,
        "y": 0.1
       },
       "content": {
        "cell": "6dd93d13-bfea-494c-8e24-cb148c3b407a",
        "part": "whole"
       },
       "id": "72a79007-9476-48cf-9d1e-ebf35f83d5fa"
      }
     }
    },
    "8bd814e7-b388-4cf8-b15e-c9b8671037ad": {
     "id": "8bd814e7-b388-4cf8-b15e-c9b8671037ad",
     "prev": "0395e4c3-bf89-4b97-80ad-e70176a272ba",
     "regions": {
      "f858aaad-c925-4e81-bedd-249f002e4c0d": {
       "attrs": {
        "height": 0.8,
        "width": 0.8,
        "x": 0.1,
        "y": 0.1
       },
       "content": {
        "cell": "fb17aa6e-d57f-4c53-ba16-ac3ca7adf969",
        "part": "whole"
       },
       "id": "f858aaad-c925-4e81-bedd-249f002e4c0d"
      }
     }
    },
    "8ccdde6f-105a-426c-8685-0f0ccfb508c6": {
     "id": "8ccdde6f-105a-426c-8685-0f0ccfb508c6",
     "prev": "69eec4f9-6baf-4850-b791-0f107717393a",
     "regions": {
      "51ecdbe8-41a8-4599-a65b-dd703f4fc9af": {
       "attrs": {
        "height": 0.8,
        "width": 0.8,
        "x": 0.1,
        "y": 0.1
       },
       "content": {
        "cell": "e038cfb9-4cb4-47ab-90be-0c1f83038b5d",
        "part": "whole"
       },
       "id": "51ecdbe8-41a8-4599-a65b-dd703f4fc9af"
      }
     }
    },
    "8f03dc40-5d69-49a5-b4d3-7b079f043ef6": {
     "id": "8f03dc40-5d69-49a5-b4d3-7b079f043ef6",
     "prev": "e9532d6f-f6b1-4787-aae6-ce820b5a4350",
     "regions": {
      "b0be9fac-057c-4b21-a67b-f370433408a5": {
       "attrs": {
        "height": 0.8,
        "width": 0.8,
        "x": 0.1,
        "y": 0.1
       },
       "content": {
        "cell": "fe41816f-1ca9-440f-aca5-34e323c7c834",
        "part": "whole"
       },
       "id": "b0be9fac-057c-4b21-a67b-f370433408a5"
      }
     }
    },
    "90b29f28-3d81-43a5-a6af-0a76dce8ad97": {
     "id": "90b29f28-3d81-43a5-a6af-0a76dce8ad97",
     "prev": "19efd021-6058-437b-ba31-792b444d8f6d",
     "regions": {
      "5cab7f50-2741-43a6-9dc7-68fb5ed0b79e": {
       "attrs": {
        "height": 0.8,
        "width": 0.8,
        "x": 0.1,
        "y": 0.1
       },
       "content": {
        "cell": "6b1a0a06-ef50-452d-af02-313d96023654",
        "part": "whole"
       },
       "id": "5cab7f50-2741-43a6-9dc7-68fb5ed0b79e"
      }
     }
    },
    "96d47571-2a68-4acb-8131-67e150d190d6": {
     "id": "96d47571-2a68-4acb-8131-67e150d190d6",
     "prev": "e69eb7fd-3033-4b92-a89f-2e380413a366",
     "regions": {
      "892740fe-cb35-4aea-924a-84905f63e29a": {
       "attrs": {
        "height": 0.8,
        "width": 0.8,
        "x": 0.1,
        "y": 0.1
       },
       "content": {
        "cell": "7c5772eb-3437-4d79-b4a7-ad168540fcfa",
        "part": "whole"
       },
       "id": "892740fe-cb35-4aea-924a-84905f63e29a"
      }
     }
    },
    "999241ee-f0e8-4254-a261-6322e773c54a": {
     "id": "999241ee-f0e8-4254-a261-6322e773c54a",
     "prev": "c75688d6-ebc9-43cc-9e64-0c68dd169a26",
     "regions": {
      "68c8373b-f36c-4138-b6e0-c83dc93359dd": {
       "attrs": {
        "height": 0.8,
        "width": 0.8,
        "x": 0.1,
        "y": 0.1
       },
       "content": {
        "cell": "37cb541c-dd8c-4adf-9c7e-d4771a34151e",
        "part": "whole"
       },
       "id": "68c8373b-f36c-4138-b6e0-c83dc93359dd"
      }
     }
    },
    "9aa7d55e-c87e-481b-9584-d796d1479c3a": {
     "id": "9aa7d55e-c87e-481b-9584-d796d1479c3a",
     "prev": "4a959eb0-7335-4d17-a224-987902bab50c",
     "regions": {
      "d24128b8-4a7f-4cb0-923d-c0f2175939b1": {
       "attrs": {
        "height": 0.8,
        "width": 0.8,
        "x": 0.1,
        "y": 0.1
       },
       "content": {
        "cell": "60380446-4d5e-4153-a7c7-1ba90c6f7e5c",
        "part": "whole"
       },
       "id": "d24128b8-4a7f-4cb0-923d-c0f2175939b1"
      }
     }
    },
    "9b7e2fb0-8d31-4d0b-98f9-98b0f8baca95": {
     "id": "9b7e2fb0-8d31-4d0b-98f9-98b0f8baca95",
     "prev": "cf6111ad-4337-4b67-8416-950e6fb01918",
     "regions": {
      "38a13ba6-69c0-44b4-a774-62f35d0876db": {
       "attrs": {
        "height": 0.8,
        "width": 0.8,
        "x": 0.1,
        "y": 0.1
       },
       "content": {
        "cell": "df6dbe87-5b1d-46b1-8fe3-8719b43acb5e",
        "part": "whole"
       },
       "id": "38a13ba6-69c0-44b4-a774-62f35d0876db"
      }
     }
    },
    "9e6659ec-1648-4b6f-805b-b995e6fd6085": {
     "id": "9e6659ec-1648-4b6f-805b-b995e6fd6085",
     "prev": "2c81b7ee-fdd4-438f-a437-9f70536d4bd6",
     "regions": {
      "87ce0de7-f6cb-4c83-968c-43d91b7b339f": {
       "attrs": {
        "height": 0.8,
        "width": 0.8,
        "x": 0.1,
        "y": 0.1
       },
       "content": {
        "cell": "7a2201b8-b0ce-4785-9a33-181b7d508a82",
        "part": "whole"
       },
       "id": "87ce0de7-f6cb-4c83-968c-43d91b7b339f"
      }
     }
    },
    "a706bb81-7ecf-4284-a52d-3775e20e5991": {
     "id": "a706bb81-7ecf-4284-a52d-3775e20e5991",
     "prev": "64df9f92-ae3f-4edb-8d4c-131fb8074720",
     "regions": {
      "c4bff006-9cca-4f13-a2eb-6d517dc7672d": {
       "attrs": {
        "height": 0.8,
        "width": 0.8,
        "x": 0.1,
        "y": 0.1
       },
       "content": {
        "cell": "2a7c01b1-34e7-4c12-bf0e-48fe7a81c5b1",
        "part": "whole"
       },
       "id": "c4bff006-9cca-4f13-a2eb-6d517dc7672d"
      }
     }
    },
    "a906e73f-3c23-4705-9ea4-89f31a31443d": {
     "id": "a906e73f-3c23-4705-9ea4-89f31a31443d",
     "prev": "abc29729-af17-43bd-94b4-8ca6921dff61",
     "regions": {
      "583726dc-1a5b-45ed-8c28-591d005d3088": {
       "attrs": {
        "height": 0.8,
        "width": 0.8,
        "x": 0.1,
        "y": 0.1
       },
       "content": {
        "cell": "88229155-0ed5-4c14-ac87-1865f5c03f18",
        "part": "whole"
       },
       "id": "583726dc-1a5b-45ed-8c28-591d005d3088"
      }
     }
    },
    "a934219c-d186-4d66-bdd0-3615795556d9": {
     "id": "a934219c-d186-4d66-bdd0-3615795556d9",
     "prev": "c3d4144b-62cf-49e2-8b1f-27663195075e",
     "regions": {
      "25c44d1f-146c-457d-80e1-6d96cf36ba21": {
       "attrs": {
        "height": 0.8,
        "width": 0.8,
        "x": 0.1,
        "y": 0.1
       },
       "content": {
        "cell": "f709f43a-ede0-4e46-8c43-8715e39fb1c8",
        "part": "whole"
       },
       "id": "25c44d1f-146c-457d-80e1-6d96cf36ba21"
      }
     }
    },
    "abc29729-af17-43bd-94b4-8ca6921dff61": {
     "id": "abc29729-af17-43bd-94b4-8ca6921dff61",
     "prev": "394aa516-86f8-4c39-901a-d37e086215d6",
     "regions": {
      "61a0cc87-2ecc-45c1-a4db-6d36e5cbde64": {
       "attrs": {
        "height": 0.8,
        "width": 0.8,
        "x": 0.1,
        "y": 0.1
       },
       "content": {
        "cell": "50dc2a9f-cdb7-44dd-a72f-04393db14553",
        "part": "whole"
       },
       "id": "61a0cc87-2ecc-45c1-a4db-6d36e5cbde64"
      }
     }
    },
    "af8094ec-da10-492f-8ef7-2a2338442617": {
     "id": "af8094ec-da10-492f-8ef7-2a2338442617",
     "prev": "a934219c-d186-4d66-bdd0-3615795556d9",
     "regions": {
      "b67e822f-8909-43f0-93df-5abe4376a9bf": {
       "attrs": {
        "height": 0.8,
        "width": 0.8,
        "x": 0.1,
        "y": 0.1
       },
       "content": {
        "cell": "6ee58071-4f94-4326-ace2-3f914f14bb01",
        "part": "whole"
       },
       "id": "b67e822f-8909-43f0-93df-5abe4376a9bf"
      }
     }
    },
    "b2b0ba1e-35e8-4c2e-8999-ee548d57007e": {
     "id": "b2b0ba1e-35e8-4c2e-8999-ee548d57007e",
     "prev": "8f03dc40-5d69-49a5-b4d3-7b079f043ef6",
     "regions": {
      "02567e0f-151b-489c-bdcf-036609b51227": {
       "attrs": {
        "height": 0.8,
        "width": 0.8,
        "x": 0.1,
        "y": 0.1
       },
       "content": {
        "cell": "8b13bddd-5732-460f-a692-3f8d5aa70cde",
        "part": "whole"
       },
       "id": "02567e0f-151b-489c-bdcf-036609b51227"
      }
     }
    },
    "bcc9aca7-9974-4eda-b273-a2ff52913116": {
     "id": "bcc9aca7-9974-4eda-b273-a2ff52913116",
     "prev": "b2b0ba1e-35e8-4c2e-8999-ee548d57007e",
     "regions": {
      "0c4c6195-27c8-4d26-9a04-139160838366": {
       "attrs": {
        "height": 0.8,
        "width": 0.8,
        "x": 0.1,
        "y": 0.1
       },
       "content": {
        "cell": "aaf81a07-c228-4b52-b826-33b5fa3ae198",
        "part": "whole"
       },
       "id": "0c4c6195-27c8-4d26-9a04-139160838366"
      }
     }
    },
    "c11f9679-4eef-4515-96a3-cc2c4293f56d": {
     "id": "c11f9679-4eef-4515-96a3-cc2c4293f56d",
     "prev": "8ccdde6f-105a-426c-8685-0f0ccfb508c6",
     "regions": {
      "f052a620-000a-4ab5-b347-848ce07aa66b": {
       "attrs": {
        "height": 0.8,
        "width": 0.8,
        "x": 0.1,
        "y": 0.1
       },
       "content": {
        "cell": "ce05d50f-e3bf-4e16-baef-a14517b2cc83",
        "part": "whole"
       },
       "id": "f052a620-000a-4ab5-b347-848ce07aa66b"
      }
     }
    },
    "c2029973-439c-4f01-b2ab-3a4f51aece81": {
     "id": "c2029973-439c-4f01-b2ab-3a4f51aece81",
     "prev": "2659be2c-109d-4bb6-8e96-dbeae5d4e6c0",
     "regions": {
      "4e1d9465-c499-45da-a5d0-8cdf4240e19a": {
       "attrs": {
        "height": 0.8,
        "width": 0.8,
        "x": 0.1,
        "y": 0.1
       },
       "content": {
        "cell": "18d4c6b3-5276-4290-a6b7-4c8b88b4a4e1",
        "part": "whole"
       },
       "id": "4e1d9465-c499-45da-a5d0-8cdf4240e19a"
      }
     }
    },
    "c31ae826-fc88-4e98-9209-820a83e67d97": {
     "id": "c31ae826-fc88-4e98-9209-820a83e67d97",
     "prev": "8bd814e7-b388-4cf8-b15e-c9b8671037ad",
     "regions": {
      "e039f045-3b5a-46f0-aa01-60c65bef91d2": {
       "attrs": {
        "height": 0.8,
        "width": 0.8,
        "x": 0.1,
        "y": 0.1
       },
       "content": {
        "cell": "ab740ee2-42bd-4ec8-a1c6-91cff3d23780",
        "part": "whole"
       },
       "id": "e039f045-3b5a-46f0-aa01-60c65bef91d2"
      }
     }
    },
    "c34f503b-c49b-421e-a6ee-d7e10edc5cb9": {
     "id": "c34f503b-c49b-421e-a6ee-d7e10edc5cb9",
     "prev": "527763f6-bba3-4475-92ce-25f8b432c32c",
     "regions": {
      "017a0284-f1d5-4f32-9f8e-52e970eb35e0": {
       "attrs": {
        "height": 0.8,
        "width": 0.8,
        "x": 0.1,
        "y": 0.1
       },
       "content": {
        "cell": "d66fccb4-efb7-4528-adc4-aa6a384eee19",
        "part": "whole"
       },
       "id": "017a0284-f1d5-4f32-9f8e-52e970eb35e0"
      }
     }
    },
    "c3d4144b-62cf-49e2-8b1f-27663195075e": {
     "id": "c3d4144b-62cf-49e2-8b1f-27663195075e",
     "prev": "1f7c4042-c6f6-42b7-b002-30b062342eba",
     "regions": {
      "fdfb344a-e6ec-41b8-89bb-72b1a5fab9ac": {
       "attrs": {
        "height": 0.8,
        "width": 0.8,
        "x": 0.1,
        "y": 0.1
       },
       "content": {
        "cell": "d4d86e54-a91f-4cec-8ed6-5b3f3e1c8138",
        "part": "whole"
       },
       "id": "fdfb344a-e6ec-41b8-89bb-72b1a5fab9ac"
      }
     }
    },
    "c4140303-c34a-449a-9dad-cc2e6a3f20ba": {
     "id": "c4140303-c34a-449a-9dad-cc2e6a3f20ba",
     "prev": "09a6a292-f9a6-4d04-85e8-ebbf3760f65b",
     "regions": {
      "b8c8c14f-017a-4cfd-b7c1-18c5356cad2e": {
       "attrs": {
        "height": 0.8,
        "width": 0.8,
        "x": 0.1,
        "y": 0.1
       },
       "content": {
        "cell": "737466cd-a3fd-4a9c-be00-dabf54940f21",
        "part": "whole"
       },
       "id": "b8c8c14f-017a-4cfd-b7c1-18c5356cad2e"
      }
     }
    },
    "c75688d6-ebc9-43cc-9e64-0c68dd169a26": {
     "id": "c75688d6-ebc9-43cc-9e64-0c68dd169a26",
     "prev": "413ff587-3f30-4ea9-bd2e-790752e42909",
     "regions": {
      "38dc2f47-e962-42c2-bf3a-720fc2cdec56": {
       "attrs": {
        "height": 0.8,
        "width": 0.8,
        "x": 0.1,
        "y": 0.1
       },
       "content": {
        "cell": "f868845b-5263-4ee5-8255-14902c810ff8",
        "part": "whole"
       },
       "id": "38dc2f47-e962-42c2-bf3a-720fc2cdec56"
      }
     }
    },
    "ca3030ac-f15d-40cd-8902-a5b4778d69f7": {
     "id": "ca3030ac-f15d-40cd-8902-a5b4778d69f7",
     "prev": "999241ee-f0e8-4254-a261-6322e773c54a",
     "regions": {
      "6847aa1e-c47c-4693-a5b1-c3170dd7e22a": {
       "attrs": {
        "height": 0.8,
        "width": 0.8,
        "x": 0.1,
        "y": 0.1
       },
       "content": {
        "cell": "a1d213ea-084c-4419-8223-4ec1b635d7d7",
        "part": "whole"
       },
       "id": "6847aa1e-c47c-4693-a5b1-c3170dd7e22a"
      }
     }
    },
    "cbbee7bf-0f33-49df-b89d-7490bf1c1fef": {
     "id": "cbbee7bf-0f33-49df-b89d-7490bf1c1fef",
     "prev": "90b29f28-3d81-43a5-a6af-0a76dce8ad97",
     "regions": {
      "a70bbb9f-ed06-4246-aed4-aaf15f3c8f5d": {
       "attrs": {
        "height": 0.8,
        "width": 0.8,
        "x": 0.1,
        "y": 0.1
       },
       "content": {
        "cell": "1836b91a-3ea2-4b7c-b898-469659937523",
        "part": "whole"
       },
       "id": "a70bbb9f-ed06-4246-aed4-aaf15f3c8f5d"
      }
     }
    },
    "ceeb68e2-e613-472d-bb41-bd210c7cffb3": {
     "id": "ceeb68e2-e613-472d-bb41-bd210c7cffb3",
     "prev": "c4140303-c34a-449a-9dad-cc2e6a3f20ba",
     "regions": {
      "cc3db0a9-dbed-4c2b-a293-b613a0836bdb": {
       "attrs": {
        "height": 0.8,
        "width": 0.8,
        "x": 0.1,
        "y": 0.1
       },
       "content": {
        "cell": "ae4dc639-b627-42f9-a584-e12b0141aa41",
        "part": "whole"
       },
       "id": "cc3db0a9-dbed-4c2b-a293-b613a0836bdb"
      }
     }
    },
    "cf6111ad-4337-4b67-8416-950e6fb01918": {
     "id": "cf6111ad-4337-4b67-8416-950e6fb01918",
     "prev": "c34f503b-c49b-421e-a6ee-d7e10edc5cb9",
     "regions": {
      "3247e753-3656-4f70-89d0-b421500473e0": {
       "attrs": {
        "height": 0.8,
        "width": 0.8,
        "x": 0.1,
        "y": 0.1
       },
       "content": {
        "cell": "5611e36c-efc8-47e5-bc65-3bae055e94be",
        "part": "whole"
       },
       "id": "3247e753-3656-4f70-89d0-b421500473e0"
      }
     }
    },
    "d120ddd7-2d3f-4963-b4ee-5980d19df4f2": {
     "id": "d120ddd7-2d3f-4963-b4ee-5980d19df4f2",
     "prev": "fd6be18c-115b-4e2e-9e4e-8043a0f7db5a",
     "regions": {
      "88560447-f205-4103-ab61-790cf6a4a39d": {
       "attrs": {
        "height": 0.8,
        "width": 0.8,
        "x": 0.1,
        "y": 0.1
       },
       "content": {
        "cell": "01679170-dd7b-4b05-a502-7a670005c0f2",
        "part": "whole"
       },
       "id": "88560447-f205-4103-ab61-790cf6a4a39d"
      }
     }
    },
    "d274f3fd-560d-4a9b-9531-2a63d4f83b74": {
     "id": "d274f3fd-560d-4a9b-9531-2a63d4f83b74",
     "prev": "fbfb19a1-e519-4c88-890f-28a9a78316c7",
     "regions": {
      "1e62ec67-38f3-4180-a2eb-114f573ddce6": {
       "attrs": {
        "height": 0.8,
        "width": 0.8,
        "x": 0.1,
        "y": 0.1
       },
       "content": {
        "cell": "6e80d15e-24d3-4f31-8ca3-7d3d156e4aa0",
        "part": "whole"
       },
       "id": "1e62ec67-38f3-4180-a2eb-114f573ddce6"
      }
     }
    },
    "d2819d40-06f1-4448-b426-ca78e8785663": {
     "id": "d2819d40-06f1-4448-b426-ca78e8785663",
     "prev": "f2470a75-3453-494b-9240-f5d3179a349f",
     "regions": {
      "2d3c8341-0270-4d64-96bd-8a5d8bc1b858": {
       "attrs": {
        "height": 0.8,
        "width": 0.8,
        "x": 0.1,
        "y": 0.1
       },
       "content": {
        "cell": "5655a872-d1b5-4a29-82a3-4c318e60e9e7",
        "part": "whole"
       },
       "id": "2d3c8341-0270-4d64-96bd-8a5d8bc1b858"
      }
     }
    },
    "d2ef2f04-b988-49bd-820f-95ec04bc2068": {
     "id": "d2ef2f04-b988-49bd-820f-95ec04bc2068",
     "prev": "c2029973-439c-4f01-b2ab-3a4f51aece81",
     "regions": {
      "d07e826c-67cb-4703-807c-bc449f6649d2": {
       "attrs": {
        "height": 0.8,
        "width": 0.8,
        "x": 0.1,
        "y": 0.1
       },
       "content": {
        "cell": "63e14f77-b593-4b01-8b96-a555d8f6daba",
        "part": "whole"
       },
       "id": "d07e826c-67cb-4703-807c-bc449f6649d2"
      }
     }
    },
    "d30b4400-fa22-4414-9d56-76d7145c999b": {
     "id": "d30b4400-fa22-4414-9d56-76d7145c999b",
     "prev": "f04c3e17-67de-4285-82fc-ff9c49157115",
     "regions": {
      "58baef92-a9b9-44a1-80ed-fbcb43cdbbd3": {
       "attrs": {
        "height": 0.8,
        "width": 0.8,
        "x": 0.1,
        "y": 0.1
       },
       "content": {
        "cell": "2c9b25bd-455b-4b4e-9b0f-8858481ea3ef",
        "part": "whole"
       },
       "id": "58baef92-a9b9-44a1-80ed-fbcb43cdbbd3"
      }
     }
    },
    "d43d77ea-aa9e-497b-ad04-c981e87e4423": {
     "id": "d43d77ea-aa9e-497b-ad04-c981e87e4423",
     "prev": "820bcb62-96bb-490a-9d21-5b3e245f2ea3",
     "regions": {
      "6addf4b0-6fd0-4596-bac4-12d4ff09f7b8": {
       "attrs": {
        "height": 0.8,
        "width": 0.8,
        "x": 0.1,
        "y": 0.1
       },
       "content": {
        "cell": "885b7d03-e942-4079-b4ff-d86f59c091b8",
        "part": "whole"
       },
       "id": "6addf4b0-6fd0-4596-bac4-12d4ff09f7b8"
      }
     }
    },
    "d5171d86-9184-4ea8-a6fe-70e23ad9f439": {
     "id": "d5171d86-9184-4ea8-a6fe-70e23ad9f439",
     "prev": "3bb071b0-2ca6-42d8-9d08-389f9e4c3996",
     "regions": {
      "72f501dc-6beb-4a77-ba3f-0e878450b1c6": {
       "attrs": {
        "height": 0.8,
        "width": 0.8,
        "x": 0.1,
        "y": 0.1
       },
       "content": {
        "cell": "7a814a95-9d4a-4def-8498-4ec07ea6367a",
        "part": "whole"
       },
       "id": "72f501dc-6beb-4a77-ba3f-0e878450b1c6"
      }
     }
    },
    "d60fa821-df43-48bd-85ef-1cd4d47444f9": {
     "id": "d60fa821-df43-48bd-85ef-1cd4d47444f9",
     "prev": "5c237a90-bc94-4e52-ba59-16193c36cf21",
     "regions": {
      "b855ba4f-d041-49b9-8809-8170b4fb5d25": {
       "attrs": {
        "height": 0.8,
        "width": 0.8,
        "x": 0.1,
        "y": 0.1
       },
       "content": {
        "cell": "df7abcc1-e014-47b9-90ca-8c257eaf0ba7",
        "part": "whole"
       },
       "id": "b855ba4f-d041-49b9-8809-8170b4fb5d25"
      }
     }
    },
    "dcfda52f-4ef1-4d99-a845-f293664b5280": {
     "id": "dcfda52f-4ef1-4d99-a845-f293664b5280",
     "prev": "c31ae826-fc88-4e98-9209-820a83e67d97",
     "regions": {
      "bf551314-2853-4c96-ba2a-4998602af613": {
       "attrs": {
        "height": 0.8,
        "width": 0.8,
        "x": 0.1,
        "y": 0.1
       },
       "content": {
        "cell": "48d7b1aa-3315-474e-ae21-edfa31549c1b",
        "part": "whole"
       },
       "id": "bf551314-2853-4c96-ba2a-4998602af613"
      }
     }
    },
    "e217f2f5-1762-4912-8ad3-0812d40ee072": {
     "id": "e217f2f5-1762-4912-8ad3-0812d40ee072",
     "prev": "76f85e4a-056d-4784-82a6-f798abd8e5d0",
     "regions": {
      "74068835-7a06-4e92-996a-375686556f6b": {
       "attrs": {
        "height": 0.8,
        "width": 0.8,
        "x": 0.1,
        "y": 0.1
       },
       "content": {
        "cell": "f619fac5-e784-40b0-b171-55d3097a54d4",
        "part": "whole"
       },
       "id": "74068835-7a06-4e92-996a-375686556f6b"
      }
     }
    },
    "e23dac09-ea0a-4dc2-90ba-c0af682d9611": {
     "id": "e23dac09-ea0a-4dc2-90ba-c0af682d9611",
     "prev": "f0266849-b6c3-432d-9335-9b170ebc3724",
     "regions": {
      "0bddd384-4a48-43ca-a9cd-45f8a9f5aef5": {
       "attrs": {
        "height": 0.8,
        "width": 0.8,
        "x": 0.1,
        "y": 0.1
       },
       "content": {
        "cell": "e801af24-7045-4730-8067-d7451a9e19bb",
        "part": "whole"
       },
       "id": "0bddd384-4a48-43ca-a9cd-45f8a9f5aef5"
      }
     }
    },
    "e69eb7fd-3033-4b92-a89f-2e380413a366": {
     "id": "e69eb7fd-3033-4b92-a89f-2e380413a366",
     "prev": "bcc9aca7-9974-4eda-b273-a2ff52913116",
     "regions": {
      "48fabb24-68c6-41bc-8c8e-8fd36d5f1264": {
       "attrs": {
        "height": 0.8,
        "width": 0.8,
        "x": 0.1,
        "y": 0.1
       },
       "content": {
        "cell": "0b1d6dbf-c717-4467-b11b-ad05e634c3a6",
        "part": "whole"
       },
       "id": "48fabb24-68c6-41bc-8c8e-8fd36d5f1264"
      }
     }
    },
    "e87aeb23-4ed9-4ec0-9738-46714609ecc9": {
     "id": "e87aeb23-4ed9-4ec0-9738-46714609ecc9",
     "prev": "ceeb68e2-e613-472d-bb41-bd210c7cffb3",
     "regions": {
      "83a53dc9-d20a-40ec-965e-1ece90d7658b": {
       "attrs": {
        "height": 0.8,
        "width": 0.8,
        "x": 0.1,
        "y": 0.1
       },
       "content": {
        "cell": "e063ed2e-a98b-4a2e-a776-c3550c462d6c",
        "part": "whole"
       },
       "id": "83a53dc9-d20a-40ec-965e-1ece90d7658b"
      }
     }
    },
    "e9532d6f-f6b1-4787-aae6-ce820b5a4350": {
     "id": "e9532d6f-f6b1-4787-aae6-ce820b5a4350",
     "prev": "6da0c539-5c2c-4917-a680-f04d7871d0d0",
     "regions": {
      "2d091e0e-0d9d-4f92-9e40-aeb91de3e60f": {
       "attrs": {
        "height": 0.8,
        "width": 0.8,
        "x": 0.1,
        "y": 0.1
       },
       "content": {
        "cell": "7f694eaa-ecfd-4d65-8b19-0fa18bf9880b",
        "part": "whole"
       },
       "id": "2d091e0e-0d9d-4f92-9e40-aeb91de3e60f"
      }
     }
    },
    "e9dc5f61-5910-4fa5-bba9-411327df9104": {
     "id": "e9dc5f61-5910-4fa5-bba9-411327df9104",
     "prev": "45c6930d-46e2-4986-9e5a-f42a4a20a911",
     "regions": {
      "f36efcec-46d6-4746-9346-302ede1028e7": {
       "attrs": {
        "height": 0.8,
        "width": 0.8,
        "x": 0.1,
        "y": 0.1
       },
       "content": {
        "cell": "121d031f-fd98-4c76-ba59-40395363cf9b",
        "part": "whole"
       },
       "id": "f36efcec-46d6-4746-9346-302ede1028e7"
      }
     }
    },
    "eeb6fc55-27fe-4b7b-ac23-64ebff9c681c": {
     "id": "eeb6fc55-27fe-4b7b-ac23-64ebff9c681c",
     "prev": "e23dac09-ea0a-4dc2-90ba-c0af682d9611",
     "regions": {
      "c87ac541-9c6c-4223-9715-60de4423c11d": {
       "attrs": {
        "height": 0.8,
        "width": 0.8,
        "x": 0.1,
        "y": 0.1
       },
       "content": {
        "cell": "3b8fa65f-6a24-456d-a48e-42fdb218ef53",
        "part": "whole"
       },
       "id": "c87ac541-9c6c-4223-9715-60de4423c11d"
      }
     }
    },
    "eff6d18a-8968-46c1-b24c-b386c10dc365": {
     "id": "eff6d18a-8968-46c1-b24c-b386c10dc365",
     "prev": "86205e2f-8323-41c4-b81b-f588ed1d3944",
     "regions": {
      "4c653cb7-1ab9-4c31-acc5-2bf811c14e83": {
       "attrs": {
        "height": 0.8,
        "width": 0.8,
        "x": 0.1,
        "y": 0.1
       },
       "content": {
        "cell": "b58de391-1d73-42f3-8cc0-7ee2f0eaab92",
        "part": "whole"
       },
       "id": "4c653cb7-1ab9-4c31-acc5-2bf811c14e83"
      }
     }
    },
    "f0266849-b6c3-432d-9335-9b170ebc3724": {
     "id": "f0266849-b6c3-432d-9335-9b170ebc3724",
     "prev": "d2819d40-06f1-4448-b426-ca78e8785663",
     "regions": {
      "80280d69-4ccc-48d2-be6d-7b9edff961e1": {
       "attrs": {
        "height": 0.8,
        "width": 0.8,
        "x": 0.1,
        "y": 0.1
       },
       "content": {
        "cell": "27b97cdf-52ec-44c7-b7ba-feaf88ced052",
        "part": "whole"
       },
       "id": "80280d69-4ccc-48d2-be6d-7b9edff961e1"
      }
     }
    },
    "f04c3e17-67de-4285-82fc-ff9c49157115": {
     "id": "f04c3e17-67de-4285-82fc-ff9c49157115",
     "prev": "81ad90bd-a089-4838-9e3a-59123de18c78",
     "regions": {
      "894482a4-2180-48ee-86a4-7d778f77f491": {
       "attrs": {
        "height": 0.8,
        "width": 0.8,
        "x": 0.1,
        "y": 0.1
       },
       "content": {
        "cell": "1892d406-fe28-42fc-883b-218029514240",
        "part": "whole"
       },
       "id": "894482a4-2180-48ee-86a4-7d778f77f491"
      }
     }
    },
    "f2470a75-3453-494b-9240-f5d3179a349f": {
     "id": "f2470a75-3453-494b-9240-f5d3179a349f",
     "prev": "5652c4a0-3bf3-4527-82b4-84136f020207",
     "regions": {
      "2da3d4ff-267b-4aed-afd1-da33f926dbec": {
       "attrs": {
        "height": 0.8,
        "width": 0.8,
        "x": 0.1,
        "y": 0.1
       },
       "content": {
        "cell": "649b1e28-0429-46ac-b8b2-92e7a0b98dd0",
        "part": "whole"
       },
       "id": "2da3d4ff-267b-4aed-afd1-da33f926dbec"
      }
     }
    },
    "f45703a2-e42e-4db7-91a7-22fe914d346f": {
     "id": "f45703a2-e42e-4db7-91a7-22fe914d346f",
     "prev": "709a403a-c7d9-4546-a55a-fc3862a046fb",
     "regions": {
      "c766e42d-9fc5-4ae4-8687-13dc6f777715": {
       "attrs": {
        "height": 0.8,
        "width": 0.8,
        "x": 0.1,
        "y": 0.1
       },
       "content": {
        "cell": "aa850a51-b6b0-474e-9b3f-ab655369d77b",
        "part": "whole"
       },
       "id": "c766e42d-9fc5-4ae4-8687-13dc6f777715"
      }
     }
    },
    "fbfb19a1-e519-4c88-890f-28a9a78316c7": {
     "id": "fbfb19a1-e519-4c88-890f-28a9a78316c7",
     "prev": "88912cfd-7ad8-40d0-9e8e-56fb92ebe27d",
     "regions": {
      "3763dc28-4eb6-4360-9fa4-790c9d017635": {
       "attrs": {
        "height": 0.8,
        "width": 0.8,
        "x": 0.1,
        "y": 0.1
       },
       "content": {
        "cell": "10ea1d87-dd06-49bf-880f-7c8ecfec73d3",
        "part": "whole"
       },
       "id": "3763dc28-4eb6-4360-9fa4-790c9d017635"
      }
     }
    },
    "fd1d20eb-ae0c-4a2d-8506-ead021241432": {
     "id": "fd1d20eb-ae0c-4a2d-8506-ead021241432",
     "prev": "3d46413e-6149-4220-a7b2-8d54735a1fe5",
     "regions": {
      "771e3e9e-d507-4e62-a72c-0af021f93590": {
       "attrs": {
        "height": 0.8,
        "width": 0.8,
        "x": 0.1,
        "y": 0.1
       },
       "content": {
        "cell": "3292ce63-2c5e-4dfe-9fde-c82fb5e59cb7",
        "part": "whole"
       },
       "id": "771e3e9e-d507-4e62-a72c-0af021f93590"
      }
     }
    },
    "fd6be18c-115b-4e2e-9e4e-8043a0f7db5a": {
     "id": "fd6be18c-115b-4e2e-9e4e-8043a0f7db5a",
     "prev": "4a0ad867-7f93-4c67-b974-ea6ae36bd065",
     "regions": {
      "504e578d-546c-4177-9749-186a3122877c": {
       "attrs": {
        "height": 0.8,
        "width": 0.8,
        "x": 0.1,
        "y": 0.1
       },
       "content": {
        "cell": "a7d34799-48ba-4c59-b7cf-a2a27961493c",
        "part": "whole"
       },
       "id": "504e578d-546c-4177-9749-186a3122877c"
      }
     }
    }
   },
   "themes": {}
  }
 },
 "nbformat": 4,
 "nbformat_minor": 4
}
