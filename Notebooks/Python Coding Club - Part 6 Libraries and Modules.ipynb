{
 "cells": [
  {
   "attachments": {
    "image.png": {
     "image/png": "[encoded data removed]"
    }
   },
   "cell_type": "markdown",
   "metadata": {
    "nbpresent": {
     "id": "e757f315-bfd0-42b8-afab-0c1a9873bfc9"
    }
   },
   "source": [
    "![image.png](attachment:image.png)\n",
    "\n",
    "\n",
    "# Python Coding Club\n",
    "\n",
    "This series is to introduce Python as a programming language to be used for data analysis, scientific computing and plotting. It is by __no means comprehensive__ but will provide a basis for further investigation and exploration into this powerful language. These notes are __best visualised__ in a __Jupyter Notebook__ and I encourage you to __follow along__ in your __preferred IDE__."
   ]
  },
  {
   "cell_type": "markdown",
   "metadata": {},
   "source": [
    "# Part 6: Libraries and Modules\n",
    "\n",
    "Part 6 of this series will be the final part in the base series, aimed at introducing what a Python package/module is, how to make one and how to import and use well made ones already.\n",
    "\n",
    "Then finally we will conclude by looking at a few well known and highly used packages for Python, what they can be used for and how to use some of their functionality. "
   ]
  },
  {
   "cell_type": "markdown",
   "metadata": {},
   "source": [
    "## Part 6.1 Introducing modules"
   ]
  },
  {
   "cell_type": "markdown",
   "metadata": {},
   "source": [
    "**Modules** in Python are simply files that end with the script `.py`. Any Python file can be used as a module and **imported** into another file via the `import` statement so long as the file resides in your `sys.path`. \n",
    "\n",
    "`sys.path` is simply a list of directories that Python searches for when importing files. This can be altered in your IDE preferences, but by default the directory where your current `.py` file is considered. So long as your modules are saved in the same directory for the time being there will be no problem.\n",
    "\n",
    "For instance if I have some functions that I would like to use in a main program but would rather they did not clutter up my main program, I can save them in a seperate file ending in `.py` and then use an `import` statement to import them.\n",
    "\n",
    "For this part, there is not a huge amount of code I can write in this notebook to demonstrate these principles, you may have to experiment yourself with saving a `.py` file and trying to access the contents using these instructions. \n",
    "\n",
    "To read more about package and module semantics, [here is a helpful guide](https://chrisyeh96.github.io/2017/08/08/definitive-guide-python-imports.html)."
   ]
  },
  {
   "cell_type": "markdown",
   "metadata": {},
   "source": [
    "### Terminology"
   ]
  },
  {
   "cell_type": "markdown",
   "metadata": {},
   "source": [
    "For clarification, here is some terminology for this section:\n",
    "\n",
    "- **module** - a module is a file with the `.py` extension. The **name** of the module is the file name.  \n",
    "- **built-in module** - this is a module that comes with the installation of Python, such as the `math` or `sys` modules, these are written in C and thus do not have `.py` extensions, but can still be imported. \n",
    "- **package** - a package is a folder. Typically a package will contain **modules**. The package name is the name of the folder. "
   ]
  },
  {
   "cell_type": "markdown",
   "metadata": {},
   "source": [
    "### Importing modules and packages"
   ]
  },
  {
   "cell_type": "markdown",
   "metadata": {},
   "source": [
    "Once you have a file with a `.py` extension in the same directory as your current Python file, you can import the contents of that file in using an `import` statement. "
   ]
  },
  {
   "cell_type": "code",
   "execution_count": 1,
   "metadata": {},
   "outputs": [
    {
     "name": "stdout",
     "output_type": "stream",
     "text": [
      "<module 'math' from '/Library/Frameworks/Python.framework/Versions/3.8/lib/python3.8/lib-dynload/math.cpython-38-darwin.so'>\n"
     ]
    }
   ],
   "source": [
    "import math\n",
    "\n",
    "print(math)"
   ]
  },
  {
   "cell_type": "markdown",
   "metadata": {},
   "source": [
    "For instance here we import the **built-in** `math` module.\n",
    "\n",
    "Printing the **name** `math` then shows it is a module called `math` and where it is located."
   ]
  },
  {
   "cell_type": "markdown",
   "metadata": {},
   "source": [
    "Similarly we can see that `math` is a module by using `type(math)`"
   ]
  },
  {
   "cell_type": "code",
   "execution_count": 2,
   "metadata": {},
   "outputs": [
    {
     "name": "stdout",
     "output_type": "stream",
     "text": [
      "<class 'module'>\n"
     ]
    }
   ],
   "source": [
    "print(type(math))"
   ]
  },
  {
   "cell_type": "code",
   "execution_count": 3,
   "metadata": {},
   "outputs": [
    {
     "name": "stdout",
     "output_type": "stream",
     "text": [
      "<class 'type'>\n"
     ]
    }
   ],
   "source": [
    "print(type(type))"
   ]
  },
  {
   "cell_type": "markdown",
   "metadata": {},
   "source": [
    "You can access items from the module using the familiar **dot notation** we introduced in the last part. "
   ]
  },
  {
   "cell_type": "code",
   "execution_count": 4,
   "metadata": {},
   "outputs": [
    {
     "name": "stdout",
     "output_type": "stream",
     "text": [
      "2.718281828459045\n",
      "1.0\n"
     ]
    }
   ],
   "source": [
    "print(math.e)\n",
    "print(math.sin(math.pi/2))"
   ]
  },
  {
   "cell_type": "markdown",
   "metadata": {},
   "source": [
    "Here we use both `math.e` to access the `e` variable from the `math` module, similar to how we accessed class attributes in Part 5. \n",
    "\n",
    "We also access a function in the `math` module by typing `math.sin()` with `math.pi/2` as the argument. \n",
    "\n",
    "Similarly classes can be accessed in the same way by utilising:\n",
    "`<module_name>.<class_name>`."
   ]
  },
  {
   "cell_type": "markdown",
   "metadata": {},
   "source": [
    "You can also import specific items from a module using the `from` keyword."
   ]
  },
  {
   "cell_type": "code",
   "execution_count": 5,
   "metadata": {},
   "outputs": [
    {
     "name": "stdout",
     "output_type": "stream",
     "text": [
      "0.479425538604203\n",
      "0.8775825618903728\n",
      "0.5463024898437905\n",
      "0.7071067811865476\n"
     ]
    }
   ],
   "source": [
    "from math import sin, cos, tan, sqrt\n",
    "\n",
    "x = 0.5\n",
    "print(sin(x))\n",
    "print(cos(x))\n",
    "print(tan(x))\n",
    "print(sqrt(x))"
   ]
  },
  {
   "cell_type": "markdown",
   "metadata": {},
   "source": [
    "Here we have used `from` to import specific contents from the module only, which enables us to access the functions as if they are defined inside our main program by just typing the names on their own (`sin`, `cos` etc). "
   ]
  },
  {
   "cell_type": "markdown",
   "metadata": {},
   "source": [
    "Trying to do this with other members of the `math` module that we have not explicitly imported in this way will not work."
   ]
  },
  {
   "cell_type": "code",
   "execution_count": 6,
   "metadata": {},
   "outputs": [
    {
     "ename": "NameError",
     "evalue": "name 'pi' is not defined",
     "output_type": "error",
     "traceback": [
      "\u001b[0;31m---------------------------------------------------------------------------\u001b[0m",
      "\u001b[0;31mNameError\u001b[0m                                 Traceback (most recent call last)",
      "\u001b[0;32m<ipython-input-6-9e2d2bd32686>\u001b[0m in \u001b[0;36m<module>\u001b[0;34m\u001b[0m\n\u001b[0;32m----> 1\u001b[0;31m \u001b[0mprint\u001b[0m\u001b[0;34m(\u001b[0m\u001b[0mpi\u001b[0m\u001b[0;34m)\u001b[0m\u001b[0;34m\u001b[0m\u001b[0;34m\u001b[0m\u001b[0m\n\u001b[0m",
      "\u001b[0;31mNameError\u001b[0m: name 'pi' is not defined"
     ]
    }
   ],
   "source": [
    "print(pi)"
   ]
  },
  {
   "cell_type": "code",
   "execution_count": 7,
   "metadata": {},
   "outputs": [
    {
     "name": "stdout",
     "output_type": "stream",
     "text": [
      "3.141592653589793\n"
     ]
    }
   ],
   "source": [
    "from math import pi\n",
    "\n",
    "print(pi)"
   ]
  },
  {
   "cell_type": "markdown",
   "metadata": {},
   "source": [
    "If you want to import everything from a module into your program without having to use the `<module_name>.<object_name>` notation, you can use the splat operator `*`."
   ]
  },
  {
   "cell_type": "code",
   "execution_count": 8,
   "metadata": {},
   "outputs": [
    {
     "name": "stdout",
     "output_type": "stream",
     "text": [
      "2.718281828459045\n"
     ]
    }
   ],
   "source": [
    "from math import *\n",
    "\n",
    "print(e)"
   ]
  },
  {
   "cell_type": "markdown",
   "metadata": {},
   "source": [
    "This can be useful, but should be used with caution especially if you do not know all the contents of the module, otherwise you may accidentally access a variable from the module without meaning to, or be unable to access the modules use if you override the variable name. "
   ]
  },
  {
   "cell_type": "code",
   "execution_count": 9,
   "metadata": {},
   "outputs": [
    {
     "ename": "TypeError",
     "evalue": "'int' object is not callable",
     "output_type": "error",
     "traceback": [
      "\u001b[0;31m---------------------------------------------------------------------------\u001b[0m",
      "\u001b[0;31mTypeError\u001b[0m                                 Traceback (most recent call last)",
      "\u001b[0;32m<ipython-input-9-87576334d4e4>\u001b[0m in \u001b[0;36m<module>\u001b[0;34m\u001b[0m\n\u001b[1;32m      1\u001b[0m \u001b[0msin\u001b[0m \u001b[0;34m=\u001b[0m \u001b[0;36m8\u001b[0m\u001b[0;34m\u001b[0m\u001b[0;34m\u001b[0m\u001b[0m\n\u001b[1;32m      2\u001b[0m \u001b[0;34m\u001b[0m\u001b[0m\n\u001b[0;32m----> 3\u001b[0;31m \u001b[0mprint\u001b[0m\u001b[0;34m(\u001b[0m\u001b[0msin\u001b[0m\u001b[0;34m(\u001b[0m\u001b[0mx\u001b[0m\u001b[0;34m)\u001b[0m\u001b[0;34m)\u001b[0m\u001b[0;34m\u001b[0m\u001b[0;34m\u001b[0m\u001b[0m\n\u001b[0m",
      "\u001b[0;31mTypeError\u001b[0m: 'int' object is not callable"
     ]
    }
   ],
   "source": [
    "sin = 8\n",
    "\n",
    "print(sin(x))"
   ]
  },
  {
   "cell_type": "code",
   "execution_count": 10,
   "metadata": {},
   "outputs": [
    {
     "name": "stdout",
     "output_type": "stream",
     "text": [
      "0.8775825618903728\n"
     ]
    }
   ],
   "source": [
    "print(cos(x))"
   ]
  },
  {
   "cell_type": "markdown",
   "metadata": {},
   "source": [
    "Here we have explicitly overwritten the `sin` function from `math` since we imported all the functions from `math` using `*`. Also importing in this way just clutters what Python has to handle during runtime as it is then having to generate these extra variables that never get used."
   ]
  },
  {
   "cell_type": "markdown",
   "metadata": {},
   "source": [
    "You can also **alias** different modules or packages or even objects in Python by using the `as` keyword in the import statement. "
   ]
  },
  {
   "cell_type": "code",
   "execution_count": 11,
   "metadata": {},
   "outputs": [
    {
     "name": "stdout",
     "output_type": "stream",
     "text": [
      "0.479425538604203\n"
     ]
    }
   ],
   "source": [
    "from math import sin as s\n",
    "\n",
    "print(s(x))"
   ]
  },
  {
   "cell_type": "markdown",
   "metadata": {},
   "source": [
    "This changes the reference for the `sin` function to `s` in this program, therefore `sin` will be undefined and `s` is now the **name** of the function in this program. \n",
    "\n",
    "This can also be done with modules."
   ]
  },
  {
   "cell_type": "code",
   "execution_count": 12,
   "metadata": {},
   "outputs": [
    {
     "name": "stdout",
     "output_type": "stream",
     "text": [
      "0.479425538604203\n"
     ]
    }
   ],
   "source": [
    "import math as m\n",
    "\n",
    "print(m.sin(x))"
   ]
  },
  {
   "cell_type": "markdown",
   "metadata": {},
   "source": [
    "### Python standard library"
   ]
  },
  {
   "cell_type": "markdown",
   "metadata": {},
   "source": [
    "Alongside the `math` and `sys` modules, Python has an extensive list of different modules that come with the installation of Python. This list of modules is referred to as the Python standard library.\n",
    "\n",
    "The full list of modules, including what they are for and how to use them, can be [found here](https://docs.python.org/3/library/)."
   ]
  },
  {
   "cell_type": "markdown",
   "metadata": {},
   "source": [
    "### Importing your own modules"
   ]
  },
  {
   "cell_type": "markdown",
   "metadata": {},
   "source": [
    "When importing your own modules, these same rules apply. However, when Python imports the module, it runs all the code in that file (to load the function definitions etc) and therefore if there is any lines of code outside function definitions, such as function calls or variable assignments or `print()` calls, these will execute as well. "
   ]
  },
  {
   "cell_type": "markdown",
   "metadata": {},
   "source": [
    "There is a way around this however! This means that you can both use a Python file as a module **and** be able to run code from that file seperately without it running when the module is imported. \n",
    "\n",
    "To do this, you need to type the code you **do not want to execute** when the file is imported underneath a line which reads:\n",
    "\n",
    "> `if __name__ == '__main__':`"
   ]
  },
  {
   "cell_type": "markdown",
   "metadata": {},
   "source": [
    "This line is a normal `if` statement which checks if the **name** of the executing script(`__name__`) is equal to `'__main__'` or not. When a Python file is running itself as the main program, it is designated the `__name__` of `'__main__'`.\n",
    "\n",
    "When importing a module, say, `math`, the `__name__` of the module is the filename. Therefore inside the module the `__name__` is not equal to `'__main__'` and the code under the `if` statement is not executed. On the contrary, if you execute the file directly, the `__name__` of your module is set to `'__main__'` and the code **is** executed. \n",
    "\n",
    "This allows you to use a Python file both as an importable module **and** as a standalone program. This is particularly useful if you want to make sure the functions etc in the module work correctly, or to simply have this module do something different, but still want to be able to access the functions from another file."
   ]
  },
  {
   "cell_type": "markdown",
   "metadata": {},
   "source": [
    "To illustrate this:"
   ]
  },
  {
   "cell_type": "code",
   "execution_count": 13,
   "metadata": {},
   "outputs": [
    {
     "name": "stdout",
     "output_type": "stream",
     "text": [
      "math\n"
     ]
    }
   ],
   "source": [
    "print(math.__name__)"
   ]
  },
  {
   "cell_type": "markdown",
   "metadata": {},
   "source": [
    "As you can see, since the `math` module has been imported, the `__name__` attribute of the file has been set to `math`. "
   ]
  },
  {
   "cell_type": "code",
   "execution_count": 14,
   "metadata": {},
   "outputs": [
    {
     "name": "stdout",
     "output_type": "stream",
     "text": [
      "__main__\n"
     ]
    }
   ],
   "source": [
    "print(__name__)"
   ]
  },
  {
   "cell_type": "markdown",
   "metadata": {},
   "source": [
    "Without supplying the a module name, the `__name__` method takes the file as the argument and simply returns `'__main__'`."
   ]
  },
  {
   "cell_type": "code",
   "execution_count": 15,
   "metadata": {},
   "outputs": [
    {
     "name": "stdout",
     "output_type": "stream",
     "text": [
      "math\n"
     ]
    }
   ],
   "source": [
    "print(m.__name__)"
   ]
  },
  {
   "cell_type": "markdown",
   "metadata": {},
   "source": [
    "Since we have also imported the module `math` as `m`, `m` also has the `__name__` of `math`. "
   ]
  },
  {
   "cell_type": "markdown",
   "metadata": {},
   "source": [
    "This helps seperate out tests of your code to make sure it works from other sections. "
   ]
  },
  {
   "cell_type": "markdown",
   "metadata": {},
   "source": [
    "## Part 6.2: External libraries"
   ]
  },
  {
   "cell_type": "markdown",
   "metadata": {},
   "source": [
    "External libraries are really where Python shines. The number of open source libraries to utilise that are well supported and highly optimised is astounding. \n",
    "\n",
    "When importing libraries however it is worth reading some of the documentation first. Libraries that are not **built-in** will first have to be installed to your machine (think of this as downloading the **module scripts** for your machine to use). \n",
    "\n",
    "To achieve this will depend on whether you are using an IDE or Anaconda or some other form of Python. If you are using PyCharm for instance, you can go to:\n",
    "\n",
    "`PyCharm --> Preferences --> Project -- > Project Interpreter` and clicking on the `+` button. "
   ]
  },
  {
   "cell_type": "markdown",
   "metadata": {},
   "source": [
    "This will show a list of Python packages available to install. You can choose where you end up installing them by changing the Python interpreter to a valid location (if you have more than one). \n",
    "\n",
    "When you want to install the package, simply press Install Package and the installation will start. \n",
    "\n",
    "Alternatively, you can run a command line command from either the command prompt (windows) or Terminal (macOS) by typing `pip install <module_name>`.\n",
    "\n",
    "If you are running from **Anaconda**, this will already have many useful libraries pre-installed for you, such as **NumPy, Pandas, matplotlib and SciPy**. "
   ]
  },
  {
   "cell_type": "markdown",
   "metadata": {},
   "source": [
    "To view what packages you currently have installed on your path, run the following cell."
   ]
  },
  {
   "cell_type": "code",
   "execution_count": 16,
   "metadata": {},
   "outputs": [
    {
     "name": "stdout",
     "output_type": "stream",
     "text": [
      "absl-py==0.9.0\r\n",
      "appnope==0.1.0\r\n",
      "astor==0.8.1\r\n",
      "attrs==19.3.0\r\n",
      "backcall==0.1.0\r\n",
      "beautifulsoup4==4.9.1\r\n",
      "bleach==3.1.0\r\n",
      "certifi==2020.4.5.2\r\n",
      "chardet==3.0.4\r\n",
      "click==7.1.2\r\n",
      "cmake==3.17.2\r\n",
      "cycler==0.10.0\r\n",
      "decorator==4.4.1\r\n",
      "defusedxml==0.6.0\r\n",
      "dlib==19.19.0\r\n",
      "entrypoints==0.3\r\n",
      "face-recognition==1.3.0\r\n",
      "face-recognition-models==0.3.0\r\n",
      "freetype-py==2.1.0.post1\r\n",
      "gast==0.3.3\r\n",
      "glfw==1.11.1\r\n",
      "grpcio==1.26.0\r\n",
      "h5py==2.10.0\r\n",
      "idna==2.9\r\n",
      "imageio==2.8.0\r\n",
      "imutils==0.5.3\r\n",
      "ipykernel==5.1.4\r\n",
      "ipython==7.12.0\r\n",
      "ipython-genutils==0.2.0\r\n",
      "ipywidgets==7.5.1\r\n",
      "jedi==0.16.0\r\n",
      "Jinja2==2.11.1\r\n",
      "joblib==0.14.1\r\n",
      "jsonschema==3.2.0\r\n",
      "jupyter==1.0.0\r\n",
      "jupyter-client==5.3.4\r\n",
      "jupyter-console==6.1.0\r\n",
      "jupyter-core==4.6.2\r\n",
      "Keras==2.3.1\r\n",
      "Keras-Applications==1.0.8\r\n",
      "Keras-Preprocessing==1.1.0\r\n",
      "kiwisolver==1.2.0\r\n",
      "lxml==4.5.1\r\n",
      "Markdown==3.1.1\r\n",
      "MarkupSafe==1.1.1\r\n",
      "matplotlib==3.2.1\r\n",
      "mistune==0.8.4\r\n",
      "nbconvert==5.6.1\r\n",
      "nbformat==5.0.4\r\n",
      "nbopen==0.6\r\n",
      "networkx==2.4\r\n",
      "nltk==3.4.5\r\n",
      "notebook==6.0.3\r\n",
      "numpy==1.18.5\r\n",
      "opencv-python==4.2.0.34\r\n",
      "p5==0.6.0\r\n",
      "pandas==1.0.4\r\n",
      "pandocfilters==1.4.2\r\n",
      "parso==0.6.1\r\n",
      "PeakUtils==1.3.3\r\n",
      "pexpect==4.8.0\r\n",
      "pickleshare==0.7.5\r\n",
      "Pillow==7.1.2\r\n",
      "prometheus-client==0.7.1\r\n",
      "prompt-toolkit==3.0.3\r\n",
      "protobuf==3.11.3\r\n",
      "ptyprocess==0.6.0\r\n",
      "Pygments==2.5.2\r\n",
      "pyparsing==2.4.7\r\n",
      "PyPDF2==1.26.0\r\n",
      "PyQt5==5.14.1\r\n",
      "PyQt5-sip==12.7.1\r\n",
      "pyrsistent==0.15.7\r\n",
      "python-dateutil==2.8.1\r\n",
      "pytz==2020.1\r\n",
      "PyWavelets==1.1.1\r\n",
      "PyYAML==5.3.1\r\n",
      "pyzmq==18.1.1\r\n",
      "qtconsole==4.6.0\r\n",
      "rampy==0.4.5\r\n",
      "requests==2.23.0\r\n",
      "scikit-image==0.16.2\r\n",
      "scikit-learn==0.22.2.post1\r\n",
      "scipy==1.4.1\r\n",
      "seaborn==0.10.1\r\n",
      "Send2Trash==1.5.0\r\n",
      "six==1.15.0\r\n",
      "soupsieve==2.0.1\r\n",
      "tensorboard==1.12.2\r\n",
      "tensorflow==1.12.0\r\n",
      "termcolor==1.1.0\r\n",
      "terminado==0.8.3\r\n",
      "testpath==0.4.4\r\n",
      "tornado==6.0.3\r\n",
      "traitlets==4.3.3\r\n",
      "triangle==20200424\r\n",
      "ttkwidgets==0.11.0\r\n",
      "urllib3==1.25.9\r\n",
      "vispy==0.6.4\r\n",
      "wcwidth==0.1.8\r\n",
      "webencodings==0.5.1\r\n",
      "Werkzeug==0.16.1\r\n",
      "widgetsnbextension==3.5.1\r\n"
     ]
    }
   ],
   "source": [
    "!pip freeze"
   ]
  },
  {
   "cell_type": "markdown",
   "metadata": {},
   "source": [
    "Some of these packages are dependent on others, so their installation occurs when installing a new package."
   ]
  },
  {
   "cell_type": "markdown",
   "metadata": {},
   "source": [
    "External packages can be installed either through your IDE (mentioned above) or through the command line/terminal by running: `pip install <name_of_package>`"
   ]
  },
  {
   "cell_type": "markdown",
   "metadata": {},
   "source": [
    "For instance, to install `numpy`:"
   ]
  },
  {
   "cell_type": "code",
   "execution_count": 17,
   "metadata": {},
   "outputs": [
    {
     "name": "stdout",
     "output_type": "stream",
     "text": [
      "Requirement already satisfied: numpy in /Library/Frameworks/Python.framework/Versions/3.8/lib/python3.8/site-packages (1.18.5)\n",
      "\u001b[33mWARNING: You are using pip version 20.1; however, version 20.1.1 is available.\n",
      "You should consider upgrading via the '/Library/Frameworks/Python.framework/Versions/3.8/bin/python3.8 -m pip install --upgrade pip' command.\u001b[0m\n"
     ]
    }
   ],
   "source": [
    "!pip install numpy"
   ]
  },
  {
   "cell_type": "markdown",
   "metadata": {},
   "source": [
    "As you can see, I already have `numpy` installed, so this is not an issue."
   ]
  },
  {
   "cell_type": "markdown",
   "metadata": {},
   "source": [
    "### *Where to find external libraries?*"
   ]
  },
  {
   "cell_type": "markdown",
   "metadata": {},
   "source": [
    "External libraries are listed on the [Python package index (PyPI)](https://pypi.org/) which is a repository of thousands of open source packages that developers have made for people to use.\n",
    "\n",
    "Another great website for scripts and modules is [GitHub](https://github.com/). GitHub is another large code repository, and it is always work checking GitHub to see if there is a program or script that can do what you need before writing your own. \n",
    "\n",
    "That said, sometimes it can be **challenging and frustrating** using other peoples programs when you do not know how they work. In addition, if code **is not continuously supported**, a useful GitHub project may **become outdated** with the **current version of Python and/or its dependent packages**, leaving you in the dark on how to fix it. \n",
    "\n",
    "Well supported libraries also have GitHub pages, but their **installation from PyPI is much easier** than cloning or downloading the GitHub repository as all that is required is to run `pip install <package_name>` from the command line or terminal in order to install the package and have it ready to import. \n",
    "\n",
    "In Part 7, we will delve deeper into some of the most well supported and extensively used external Python packages, namely `numpy`, `scipy`, `pandas` and `matplotlib` to highlight the usefulness of open source software."
   ]
  },
  {
   "cell_type": "markdown",
   "metadata": {},
   "source": [
    "## Aside - virtual environments "
   ]
  },
  {
   "cell_type": "markdown",
   "metadata": {},
   "source": [
    "As a quick aside, programmers typically use different **environments** for different projects.\n",
    "\n",
    "This is to keep track of what a specific piece of software or program requires what packages in order to work.\n",
    "\n",
    "They do this by **creating** and **activating** what is known as a virutal environment or **venv**. This acts as a blank slate for which packages will need to be installed. This is particularly useful for generating a list of dependent packages that your software is needed for, but this is only really needed if you plan on sharing your code with other people.\n",
    "\n",
    "It is useful to understand the terminology however when reading documentation or something similar."
   ]
  }
 ],
 "metadata": {
  "kernelspec": {
   "display_name": "Python 3",
   "language": "python",
   "name": "python3"
  },
  "language_info": {
   "codemirror_mode": {
    "name": "ipython",
    "version": 3
   },
   "file_extension": ".py",
   "mimetype": "text/x-python",
   "name": "python",
   "nbconvert_exporter": "python",
   "pygments_lexer": "ipython3",
   "version": "3.8.1"
  }
 },
 "nbformat": 4,
 "nbformat_minor": 4
}
