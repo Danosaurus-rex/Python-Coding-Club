{
 "cells": [
  {
   "attachments": {
    "image.png": {
     "image/png": "[encoded data removed]"
    }
   },
   "cell_type": "markdown",
   "metadata": {
    "nbpresent": {
     "id": "e757f315-bfd0-42b8-afab-0c1a9873bfc9"
    }
   },
   "source": [
    "![image.png](attachment:image.png)\n",
    "\n",
    "\n",
    "# Python Coding Club\n",
    "\n",
    "This series is to introduce Python as a programming language to be used for data analysis, scientific computing and plotting. It is by __no means comprehensive__ but will provide a basis for further investigation and exploration into this powerful language. These notes are __best visualised__ in a __Jupyter Notebook__ and I encourage you to __follow along__ in your __preferred IDE__."
   ]
  },
  {
   "cell_type": "markdown",
   "metadata": {},
   "source": [
    "# Part 4: Functions\n",
    "\n",
    "Part 4 of this series will cover one of the most useful aspects of any programming language; **functions**. I will go into detail about what they can be used for, how to define and call user generated functions and then I will explain more advanced concepts to do with functions that are also useful for more general usage.\n",
    "\n",
    "Throughout this section, I have tried to include exercises that build upon the knowledge imparted in each section."
   ]
  },
  {
   "attachments": {},
   "cell_type": "markdown",
   "metadata": {},
   "source": [
    "## Part 4.1 Defining functions\n",
    "**Functions** are **reusable** pieces of code that can be used for specific purposes.\n",
    "\n",
    "Concretely, function objects have a special `__call__()` method available to them, which causes them to execute some code when called. Any object that has a `__call__()` method can be used like a function. More on this when discussing classes.\n",
    "\n",
    "Functions are **defined** using the `def` keyword then the **name of the function**. Functions are **typically** defined with parameters. Function names have similar rules as variable names, i.e. can be anything apart from starting with a number or containing spaces etc.\n",
    "\n",
    "Once a function is **defined** using `def`, it can be **called** by typing the **function name and passing the appropriate number of arguments** or args to be used as parameters.\n",
    "\n",
    "When calling or executing functions, the required number of arguments must be passed to the function otherwise an error will occur.\n",
    "\n",
    "The usefulness of functions is that they can be called **multiple times** so that you avoid re-writing code.\n",
    "\n",
    "This is extremely useful to perform multiple tasks. If you ever find yourself **copying and pasting large portions of code**, consider creating a function that executes the required code by simply calling that function back with the correct parameters.\n",
    "\n",
    "**Parameters are the variables inside the function definition parentheses** whilst **arguments are passed to the function upon being called to set the parameters to**.\n"
   ]
  },
  {
   "cell_type": "markdown",
   "metadata": {},
   "source": [
    "Here I will demonstrate a few function basics.\n",
    "Executing the below cell saves the variable `printHello` as a function name but does not yet execute it."
   ]
  },
  {
   "cell_type": "code",
   "execution_count": 1,
   "metadata": {},
   "outputs": [],
   "source": [
    "def printHello(): # Function defined using 'def' then the function name. This function uses no parameters. \n",
    "    print(\"Hello\")"
   ]
  },
  {
   "cell_type": "code",
   "execution_count": 2,
   "metadata": {},
   "outputs": [
    {
     "name": "stdout",
     "output_type": "stream",
     "text": [
      "<class 'function'>\n"
     ]
    }
   ],
   "source": [
    "print(type(printHello))"
   ]
  },
  {
   "cell_type": "markdown",
   "metadata": {},
   "source": [
    "As you can see, the `class` of `printHello` is a function. The function itself does not take any **arguments** as no **parameters** are defined between the parentheses. <br><br> Also note the `:` after the function definition to start a code **block** of what to execute, denoted by the **whitespace indent**, similar to the code to execute after `if` statements or `for` or `while` loops. <br><br>We can now **call** the function."
   ]
  },
  {
   "cell_type": "code",
   "execution_count": 3,
   "metadata": {},
   "outputs": [
    {
     "name": "stdout",
     "output_type": "stream",
     "text": [
      "Hello\n"
     ]
    }
   ],
   "source": [
    "printHello()"
   ]
  },
  {
   "cell_type": "markdown",
   "metadata": {},
   "source": [
    "Typing the function name and passing the required number of arguments in the parentheses **calls** that function as shown above."
   ]
  },
  {
   "cell_type": "markdown",
   "metadata": {},
   "source": [
    "If we try to call the function with the incorrect number of **arguments** we get a `TypeError` informing us that the function takes `n` **arguments** but `m` were **passed** to the function."
   ]
  },
  {
   "cell_type": "code",
   "execution_count": 4,
   "metadata": {},
   "outputs": [
    {
     "ename": "TypeError",
     "evalue": "printHello() takes 0 positional arguments but 1 was given",
     "output_type": "error",
     "traceback": [
      "\u001b[0;31m--------------------------------------------------\u001b[0m",
      "\u001b[0;31mTypeError\u001b[0m        Traceback (most recent call last)",
      "\u001b[0;32m<ipython-input-4-c9cacbb84336>\u001b[0m in \u001b[0;36m<module>\u001b[0;34m\u001b[0m\n\u001b[0;32m----> 1\u001b[0;31m \u001b[0mprintHello\u001b[0m\u001b[0;34m(\u001b[0m\u001b[0;34m'Hey'\u001b[0m\u001b[0;34m)\u001b[0m\u001b[0;34m\u001b[0m\u001b[0;34m\u001b[0m\u001b[0m\n\u001b[0m",
      "\u001b[0;31mTypeError\u001b[0m: printHello() takes 0 positional arguments but 1 was given"
     ]
    }
   ],
   "source": [
    "printHello('Hey')"
   ]
  },
  {
   "cell_type": "markdown",
   "metadata": {},
   "source": [
    "Functions are **called** by adding parentheses after the function name. \n",
    "\n",
    "Whereever in your code that a function has parentheses after the name (apart from in the function definition) the function **WILL** be called immediately. Therefore to otherwise reference the function, **do not** include the parentheses."
   ]
  },
  {
   "cell_type": "code",
   "execution_count": 5,
   "metadata": {},
   "outputs": [
    {
     "name": "stdout",
     "output_type": "stream",
     "text": [
      "Hello\n",
      "<class 'NoneType'>\n"
     ]
    }
   ],
   "source": [
    "print(type(printHello())) # Note the parentheses after the function name."
   ]
  },
  {
   "cell_type": "code",
   "execution_count": 6,
   "metadata": {},
   "outputs": [
    {
     "name": "stdout",
     "output_type": "stream",
     "text": [
      "<class 'function'>\n"
     ]
    }
   ],
   "source": [
    "print(type(printHello))  # Here there are no parentheses, so the function does not get 'called'."
   ]
  },
  {
   "cell_type": "markdown",
   "metadata": {},
   "source": [
    "In the above code, the first section **calls** the `printHello()` function, which prints `Hello` as shown, and then the `type()` function evaluates the **type** of **object** **returned** by the `printHello()` function call. Since `printHello()` does not `return` anything it is a `None` **object** of `NoneType`. \n",
    "\n",
    "The second section does **NOT** actually **call** the `printHello()` function, instead it takes the function name (`printHello`) and evaulates the **type** of **object** that the name `printHello` refers to, in this case, a **function** object."
   ]
  },
  {
   "cell_type": "markdown",
   "metadata": {},
   "source": [
    "### Function 'Scope'"
   ]
  },
  {
   "cell_type": "markdown",
   "metadata": {},
   "source": [
    "A useful concept to grasp is that of function **scope**. \n",
    "\n",
    "The function **scope** is the indented region below the function definition. \n",
    "\n",
    "Any variable created/assigned in the function's **local scope** is **NOT** available outside the function."
   ]
  },
  {
   "cell_type": "code",
   "execution_count": 7,
   "metadata": {},
   "outputs": [
    {
     "name": "stdout",
     "output_type": "stream",
     "text": [
      "400\n"
     ]
    },
    {
     "ename": "NameError",
     "evalue": "name 'var' is not defined",
     "output_type": "error",
     "traceback": [
      "\u001b[0;31m--------------------------------------------------\u001b[0m",
      "\u001b[0;31mNameError\u001b[0m        Traceback (most recent call last)",
      "\u001b[0;32m<ipython-input-7-faa677b65589>\u001b[0m in \u001b[0;36m<module>\u001b[0;34m\u001b[0m\n\u001b[1;32m      4\u001b[0m \u001b[0;34m\u001b[0m\u001b[0m\n\u001b[1;32m      5\u001b[0m \u001b[0mfunc\u001b[0m\u001b[0;34m(\u001b[0m\u001b[0;34m)\u001b[0m\u001b[0;34m\u001b[0m\u001b[0;34m\u001b[0m\u001b[0m\n\u001b[0;32m----> 6\u001b[0;31m \u001b[0mprint\u001b[0m\u001b[0;34m(\u001b[0m\u001b[0mvar\u001b[0m\u001b[0;34m)\u001b[0m\u001b[0;34m\u001b[0m\u001b[0;34m\u001b[0m\u001b[0m\n\u001b[0m",
      "\u001b[0;31mNameError\u001b[0m: name 'var' is not defined"
     ]
    }
   ],
   "source": [
    "def func():\n",
    "    var = 400\n",
    "    print(var)\n",
    "    \n",
    "func()\n",
    "print(var)"
   ]
  },
  {
   "cell_type": "markdown",
   "metadata": {},
   "source": [
    "The above code shows that when `func()` is **called** it creates the variable `var` in the function's **local scope** which it then executes the `print()` function of that variable. \n",
    "\n",
    "\n",
    "Trying to call the `print()` function outside of the function **scope** on the variable `var` which belongs to the function causes a `NameError` as the variable `var` is **not defined** in the **global scope** (i.e. the rest of the program)."
   ]
  },
  {
   "cell_type": "markdown",
   "metadata": {},
   "source": [
    "Global variables can be accessed from inside a function's **scope** however."
   ]
  },
  {
   "cell_type": "code",
   "execution_count": 8,
   "metadata": {},
   "outputs": [
    {
     "name": "stdout",
     "output_type": "stream",
     "text": [
      "hello\n"
     ]
    }
   ],
   "source": [
    "x = 'hello'     # Global variable defined in 'global' scope.\n",
    "\n",
    "def printX():  \n",
    "    print(x)    # Function references 'global' variable.\n",
    "\n",
    "printX()        # Function call."
   ]
  },
  {
   "cell_type": "markdown",
   "metadata": {},
   "source": [
    "Attempting to alter a global variable defined outside of the function definition and **not passed** to the function call as an **argument** or **arg** will not work as expected and will produce a `UnboundLocalError`."
   ]
  },
  {
   "cell_type": "code",
   "execution_count": 9,
   "metadata": {},
   "outputs": [
    {
     "ename": "UnboundLocalError",
     "evalue": "local variable 'x' referenced before assignment",
     "output_type": "error",
     "traceback": [
      "\u001b[0;31m--------------------------------------------------\u001b[0m",
      "\u001b[0;31mUnboundLocalError\u001b[0mTraceback (most recent call last)",
      "\u001b[0;32m<ipython-input-9-20a4519aa034>\u001b[0m in \u001b[0;36m<module>\u001b[0;34m\u001b[0m\n\u001b[1;32m      4\u001b[0m     \u001b[0mx\u001b[0m \u001b[0;34m+=\u001b[0m \u001b[0;36m5\u001b[0m\u001b[0;34m\u001b[0m\u001b[0;34m\u001b[0m\u001b[0m\n\u001b[1;32m      5\u001b[0m \u001b[0;34m\u001b[0m\u001b[0m\n\u001b[0;32m----> 6\u001b[0;31m \u001b[0madd5\u001b[0m\u001b[0;34m(\u001b[0m\u001b[0;34m)\u001b[0m\u001b[0;34m\u001b[0m\u001b[0;34m\u001b[0m\u001b[0m\n\u001b[0m\u001b[1;32m      7\u001b[0m \u001b[0mprint\u001b[0m\u001b[0;34m(\u001b[0m\u001b[0mx\u001b[0m\u001b[0;34m)\u001b[0m\u001b[0;34m\u001b[0m\u001b[0;34m\u001b[0m\u001b[0m\n",
      "\u001b[0;32m<ipython-input-9-20a4519aa034>\u001b[0m in \u001b[0;36madd5\u001b[0;34m()\u001b[0m\n\u001b[1;32m      2\u001b[0m \u001b[0;34m\u001b[0m\u001b[0m\n\u001b[1;32m      3\u001b[0m \u001b[0;32mdef\u001b[0m \u001b[0madd5\u001b[0m\u001b[0;34m(\u001b[0m\u001b[0;34m)\u001b[0m\u001b[0;34m:\u001b[0m\u001b[0;34m\u001b[0m\u001b[0;34m\u001b[0m\u001b[0m\n\u001b[0;32m----> 4\u001b[0;31m     \u001b[0mx\u001b[0m \u001b[0;34m+=\u001b[0m \u001b[0;36m5\u001b[0m\u001b[0;34m\u001b[0m\u001b[0;34m\u001b[0m\u001b[0m\n\u001b[0m\u001b[1;32m      5\u001b[0m \u001b[0;34m\u001b[0m\u001b[0m\n\u001b[1;32m      6\u001b[0m \u001b[0madd5\u001b[0m\u001b[0;34m(\u001b[0m\u001b[0;34m)\u001b[0m\u001b[0;34m\u001b[0m\u001b[0;34m\u001b[0m\u001b[0m\n",
      "\u001b[0;31mUnboundLocalError\u001b[0m: local variable 'x' referenced before assignment"
     ]
    }
   ],
   "source": [
    "x = 65\n",
    "\n",
    "def add5():\n",
    "    x += 5\n",
    "\n",
    "add5()\n",
    "print(x)"
   ]
  },
  {
   "cell_type": "markdown",
   "metadata": {},
   "source": [
    "Looking at the above code, it would be expected that **calling** `add5()` will cause `x` to become `70`, however the scope of the function does not contain a variable `x` therefore calling this function is similar to referencing a variable that has not been assigned yet. \n",
    "\n",
    "This could be worked around by defining `x` as a `global` variable inside the function, which means it can be referenced in the **code block** without passing the variable as an **argument**."
   ]
  },
  {
   "cell_type": "code",
   "execution_count": 10,
   "metadata": {},
   "outputs": [
    {
     "name": "stdout",
     "output_type": "stream",
     "text": [
      "70\n"
     ]
    }
   ],
   "source": [
    "x  = 65\n",
    "\n",
    "def add5():\n",
    "    global x\n",
    "    x += 5\n",
    "\n",
    "add5()\n",
    "print(x)"
   ]
  },
  {
   "cell_type": "markdown",
   "metadata": {},
   "source": [
    "The above now works as expected. It takes the `global` variable `x` and then adds 5 to it. When we call `add5()` (with **no arguments**) `x` then is increased by 5, upon calling the `print(x)` with `x` as an **argument** it then prints the new value of `x`. "
   ]
  },
  {
   "cell_type": "markdown",
   "metadata": {},
   "source": [
    "Having the **same name in local scope** of a function and **global scope** will cause the function to use the local variable."
   ]
  },
  {
   "cell_type": "code",
   "execution_count": 11,
   "metadata": {},
   "outputs": [
    {
     "name": "stdout",
     "output_type": "stream",
     "text": [
      "y\n",
      "X\n"
     ]
    }
   ],
   "source": [
    "X = 'X'\n",
    "\n",
    "def func():\n",
    "    X = 'y'     # Essentially assigning local variable 'X' to a value of 'y'.\n",
    "    print(X)    # Printing that local variable.\n",
    "\n",
    "func()          # Calling the function to execute it.\n",
    "print(X)        # Printing the global variable 'X'."
   ]
  },
  {
   "cell_type": "markdown",
   "metadata": {},
   "source": [
    "Global variables can also be made using the `global` keyword from inside function scope."
   ]
  },
  {
   "cell_type": "code",
   "execution_count": 12,
   "metadata": {},
   "outputs": [
    {
     "name": "stdout",
     "output_type": "stream",
     "text": [
      "50\n"
     ]
    }
   ],
   "source": [
    "def f():\n",
    "    global variable\n",
    "    variable = 45\n",
    "\n",
    "f()\n",
    "print(variable+5)"
   ]
  },
  {
   "cell_type": "markdown",
   "metadata": {},
   "source": [
    "This then allows the use of the variable outside of the function scope."
   ]
  },
  {
   "cell_type": "markdown",
   "metadata": {},
   "source": [
    "However, using `global` variables in this way is highly frowned upon as it can be very messy working with multiple variables all in the global scope. \n",
    "\n",
    "Ideally, a function should only utilise what is **passed** to it as **arguments**.\n",
    "\n",
    "This is achieved by defining a function with **parameters** by placing parameters between the parentheses when defining the function and using the `return` keyword to produce a new value. We can then reassign `x` to this returned value.\n",
    "\n",
    "**Parameters** are local variables used **only inside the function** and therefore have no value outside of the function **scope**.  "
   ]
  },
  {
   "cell_type": "code",
   "execution_count": 13,
   "metadata": {},
   "outputs": [
    {
     "name": "stdout",
     "output_type": "stream",
     "text": [
      "85\n",
      "90\n"
     ]
    }
   ],
   "source": [
    "x = 85  # Setting variable x to 85.\n",
    "\n",
    "def add5(p):    # Defining 'add5' with the parameter 'p'.\n",
    "    p += 5      # Parameter 'p' is assigned to itself + 5. \n",
    "    return p    # This 'returns' a value from the function.\n",
    "\n",
    "print(x)        # Value of 'x' before the 'add5' is executed.\n",
    "x = add5(x)     # Executing 'add5(x)' with 'x' as the argument and assigning the 'returned' value to the variable 'x'.\n",
    "print(x)        # New value of 'x'."
   ]
  },
  {
   "cell_type": "markdown",
   "metadata": {},
   "source": [
    "This is a more **pythonic** way of using functions since it does not directly interfere with any `global` variables and simply uses what has been **passed** to it."
   ]
  },
  {
   "cell_type": "markdown",
   "metadata": {},
   "source": [
    "However when simply using a variable defined in the **'global scope'** (i.e. simply in the program not inside a function) the variable can still be **accessed** just not **altered**. "
   ]
  },
  {
   "cell_type": "markdown",
   "metadata": {},
   "source": [
    "Assigning a variable to a function **call** that does not return a variable will cause the variable to be assigned to `None`."
   ]
  },
  {
   "cell_type": "code",
   "execution_count": 14,
   "metadata": {},
   "outputs": [
    {
     "name": "stdout",
     "output_type": "stream",
     "text": [
      "Hello\n",
      "None\n"
     ]
    }
   ],
   "source": [
    "def new_func(x):  # Function defined with parameter 'x'.\n",
    "    print(x)      # This function calls the 'print()' function with the variable 'x' as an argument.\n",
    "\n",
    "y = 'Hello'\n",
    "z = new_func(y)   # This line calls the 'new_func()' function, which then prints the argument 'y' but returns nothing.\n",
    "print(z)          # Therefore 'z' is assigned to 'None' and printing 'z' will show 'None'."
   ]
  },
  {
   "cell_type": "markdown",
   "metadata": {},
   "source": [
    "In the above code, since `new_func` does not contain the `return` keyword, it simply **returns** `None`. As such, any variable assigned to the function call will be set to `None`. "
   ]
  },
  {
   "cell_type": "markdown",
   "metadata": {},
   "source": [
    "### Exercise 4.1: Globals"
   ]
  },
  {
   "cell_type": "markdown",
   "metadata": {},
   "source": [
    "#### i).\n",
    "\n",
    "Here we will write a function to access a `global` variable `x` and `print()` the value of that variable squared.\n",
    "\n",
    "Confirm that the function works for any value of `x` by changing the value assigned to `x` at the top and executing the cell again. \n",
    "\n",
    "**Hint**: This requires the use of the `global` keyword to access the `x` variable."
   ]
  },
  {
   "cell_type": "code",
   "execution_count": null,
   "metadata": {},
   "outputs": [],
   "source": [
    "x = 12\n",
    "\n",
    "def squareX():\n",
    "#-------------------------------------------------------------------------\n",
    "# YOUR CODE HERE\n",
    "\n",
    "\n",
    "\n",
    "\n",
    "#-------------------------------------------------------------------------\n",
    "\n",
    "squareX()"
   ]
  },
  {
   "cell_type": "markdown",
   "metadata": {},
   "source": [
    "#### ii).\n",
    "\n",
    "Now alter the function to take a parameter `p` and have the function print `p` squared. Call the function with `x` passed as an **argument** to show the result. Confirm the result is the same as before.\n",
    "\n",
    "**Hint**: Make sure to include `p` as a parameter in the function defintion and to call the function with the argument `x`."
   ]
  },
  {
   "cell_type": "markdown",
   "metadata": {},
   "source": [
    "### Exercise 4.2: Global lists\n",
    "\n",
    "Write a function that takes no arguments in the section below to take the global variable `var_list` and multiply each element by 2.\n",
    "\n",
    "**Hint**: Here we will be showing the use of the `global` keyword to access the global variable `var_list` inside the function scope, as well as `for` loops to access the elements of `var_list`. You might consider using the `range()` and `len()` functions for accessing elements of the `var_list`."
   ]
  },
  {
   "cell_type": "code",
   "execution_count": null,
   "metadata": {},
   "outputs": [],
   "source": [
    "var_list = [32, 4, 13, 53, 65, 2]\n",
    "\n",
    "def elementMultiply2():\n",
    "#-------------------------------------------------------------------------\n",
    "# YOUR CODE HERE\n",
    "\n",
    "\n",
    "\n",
    "\n",
    "\n",
    "\n",
    "#-------------------------------------------------------------------------\n",
    "\n",
    "elementMultiply2()                # Calls function defined above.\n",
    "print(var_list)                   # Check to show that 'var_list' is the same as the list below (desired output).\n",
    "print([64, 8, 26, 106, 130, 4])   # Desired output."
   ]
  },
  {
   "cell_type": "markdown",
   "metadata": {},
   "source": [
    "As with **exercise 4.1**, changing the values in `var_list` and calling the `elementMultiply2()` function should alter the new `var_list` which can be shown upon calling `print(var_list)`."
   ]
  },
  {
   "cell_type": "markdown",
   "metadata": {},
   "source": [
    "### Return keyword"
   ]
  },
  {
   "cell_type": "markdown",
   "metadata": {},
   "source": [
    "The `return` keyword is used when a function is to **return** or **output** an **object**. This can then be used for variable assignment."
   ]
  },
  {
   "cell_type": "code",
   "execution_count": 16,
   "metadata": {},
   "outputs": [
    {
     "data": {
      "text/plain": [
       "989"
      ]
     },
     "execution_count": 16,
     "metadata": {},
     "output_type": "execute_result"
    }
   ],
   "source": [
    "def f():\n",
    "    x = 43\n",
    "    y = 23\n",
    "    return x*y\n",
    "\n",
    "f()"
   ]
  },
  {
   "cell_type": "markdown",
   "metadata": {},
   "source": [
    "Calling the function here simply executes the function but since the `print()` function has not been invoked, the value does not **print** (in jupyter notebooks the output of the function call will be shown but on an IDE calling the function will not *print* anything)."
   ]
  },
  {
   "cell_type": "markdown",
   "metadata": {},
   "source": [
    "The value can then be used for assigning a variable etc."
   ]
  },
  {
   "cell_type": "code",
   "execution_count": 17,
   "metadata": {},
   "outputs": [
    {
     "name": "stdout",
     "output_type": "stream",
     "text": [
      "980\n"
     ]
    }
   ],
   "source": [
    "y = f()     # Output or 'returned' object of 'f()' is assigned to y.\n",
    "print(y-9)  # Printing the value of y-9."
   ]
  },
  {
   "cell_type": "markdown",
   "metadata": {},
   "source": [
    "Conversely, if the function instead used `print()`:"
   ]
  },
  {
   "cell_type": "code",
   "execution_count": 18,
   "metadata": {},
   "outputs": [
    {
     "name": "stdout",
     "output_type": "stream",
     "text": [
      "989\n",
      "989\n",
      "None\n"
     ]
    }
   ],
   "source": [
    "def f2():\n",
    "    x = 43\n",
    "    y = 23\n",
    "    print(x*y)    # Now prints (x*y) rather than returns.\n",
    "\n",
    "f2()              # This calls f2(), invoking the print function.\n",
    "y = f2()          # This also calls f2() immediately, invoking the print function, but returns nothing so y == None.\n",
    "print(y)          # This prints y, which has a value of 'None'."
   ]
  },
  {
   "cell_type": "markdown",
   "metadata": {},
   "source": [
    "The function call to `f2()` causes `x*y` to print, then calling the function in the line `y = f2()` invokes the function call again, causing `x*y` to print. As `f2()` does not return anything, `y` is assigned to `None`."
   ]
  },
  {
   "cell_type": "markdown",
   "metadata": {},
   "source": [
    "The `return` keyword can also allow for a function to return multiple values."
   ]
  },
  {
   "cell_type": "code",
   "execution_count": 19,
   "metadata": {},
   "outputs": [
    {
     "name": "stdout",
     "output_type": "stream",
     "text": [
      "(400, 700)\n"
     ]
    }
   ],
   "source": [
    "def func():\n",
    "    x,y = 400,700\n",
    "    return x, y\n",
    "\n",
    "output = func()\n",
    "print(output)"
   ]
  },
  {
   "cell_type": "markdown",
   "metadata": {},
   "source": [
    "These can be either accessed or unpacked as with accessing and unpacking `tuple` objects in Part 3."
   ]
  },
  {
   "cell_type": "code",
   "execution_count": 20,
   "metadata": {},
   "outputs": [
    {
     "name": "stdout",
     "output_type": "stream",
     "text": [
      "400\n",
      "700\n",
      "400\n",
      "700\n"
     ]
    }
   ],
   "source": [
    "n, m = func()\n",
    "print(n)\n",
    "print(m)\n",
    "print(output[0])\n",
    "print(output[1])"
   ]
  },
  {
   "cell_type": "markdown",
   "metadata": {},
   "source": [
    "Therefore the `return` keyword is used extensively to set variables equal to the output of a function, rather than simply printing them to the console."
   ]
  },
  {
   "cell_type": "markdown",
   "metadata": {},
   "source": [
    "### Parameters"
   ]
  },
  {
   "cell_type": "markdown",
   "metadata": {},
   "source": [
    "As briefly touched on before, **parameters** are defined as **local variables** that the function uses as shown below."
   ]
  },
  {
   "cell_type": "code",
   "execution_count": 21,
   "metadata": {},
   "outputs": [
    {
     "name": "stdout",
     "output_type": "stream",
     "text": [
      "Yes\n"
     ]
    }
   ],
   "source": [
    "y = 84\n",
    "\n",
    "def divisibleBy2(p): # Defining a 'parameter' for the function as local variable 'p'. \n",
    "    if p%2 == 0:     # This variable is local to the function itself and has no value outside of the function 'scope'.\n",
    "        print('Yes')  # Test for divisibilty of p.\n",
    "    else:\n",
    "        print('No')\n",
    "\n",
    "divisibleBy2(y) # Calling the divisibleBy2 function with variable 'y' assigned to the parameter 'p'."
   ]
  },
  {
   "cell_type": "markdown",
   "metadata": {},
   "source": [
    "Calling `divisibleBy2()` with `y` as the **argument** causes the parameter `p` to be set to the `y` variable which then executes the function.\n",
    "\n",
    "The **parameter** `p` has no value outside of the function definition, this is what is meant by the **scope** of a function. "
   ]
  },
  {
   "cell_type": "markdown",
   "metadata": {},
   "source": [
    "Multiple parameters can be defined in a function definition by separating them with a comma."
   ]
  },
  {
   "cell_type": "code",
   "execution_count": 22,
   "metadata": {},
   "outputs": [
    {
     "name": "stdout",
     "output_type": "stream",
     "text": [
      "p1: 54\n",
      "p2: hello\n",
      "p1: this is p1\n",
      "p2: this is p2\n"
     ]
    }
   ],
   "source": [
    "def print_params(p1, p2):   # Parameters separated in the function definition by a comma. \n",
    "    print(f'p1: {p1}')\n",
    "    print(f'p2: {p2}')\n",
    "\n",
    "print_params(54, 'hello')\n",
    "print_params('this is p1', 'this is p2')"
   ]
  },
  {
   "cell_type": "markdown",
   "metadata": {},
   "source": [
    "In the above lines, the function has been defined with two parameters with a comma separating them.\n",
    "\n",
    "It then gets called with different values for `p1` and `p2`, again separated by a comma when calling the function.\n",
    "\n",
    "Calling the function with the incorrect number of **arguments** or **args** results in a `TypeError`."
   ]
  },
  {
   "cell_type": "code",
   "execution_count": 23,
   "metadata": {},
   "outputs": [
    {
     "ename": "TypeError",
     "evalue": "print_params() missing 1 required positional argument: 'p2'",
     "output_type": "error",
     "traceback": [
      "\u001b[0;31m--------------------------------------------------\u001b[0m",
      "\u001b[0;31mTypeError\u001b[0m        Traceback (most recent call last)",
      "\u001b[0;32m<ipython-input-23-1faf58d41434>\u001b[0m in \u001b[0;36m<module>\u001b[0;34m\u001b[0m\n\u001b[0;32m----> 1\u001b[0;31m \u001b[0mprint_params\u001b[0m\u001b[0;34m(\u001b[0m\u001b[0;36m65\u001b[0m\u001b[0;34m)\u001b[0m\u001b[0;34m\u001b[0m\u001b[0;34m\u001b[0m\u001b[0m\n\u001b[0m",
      "\u001b[0;31mTypeError\u001b[0m: print_params() missing 1 required positional argument: 'p2'"
     ]
    }
   ],
   "source": [
    "print_params(65)"
   ]
  },
  {
   "cell_type": "markdown",
   "metadata": {},
   "source": [
    "This `Error` explains that the function **call** is missing 1 **arg** which it would assign to `p2`. \n",
    "\n",
    "The '**positional**' part of the `Error` means that the argument for `p2` would be assigned after `p1` if the arguments are separated by a comma. \n",
    "\n",
    "Functions with parameters can also be called by assigning the parameter name directly to a value/variable. These types of arguments are called **keyword arguments** or **kwargs** and have a similar syntax to dictionaries."
   ]
  },
  {
   "cell_type": "code",
   "execution_count": 24,
   "metadata": {},
   "outputs": [
    {
     "name": "stdout",
     "output_type": "stream",
     "text": [
      "p1: hello\n",
      "p2: This is p2\n"
     ]
    }
   ],
   "source": [
    "print_params(p1='hello', p2='This is p2')"
   ]
  },
  {
   "cell_type": "markdown",
   "metadata": {},
   "source": [
    "In calling the function this way, the **position** of the arguments is not taken into account, therefore the following code outputs the same as above."
   ]
  },
  {
   "cell_type": "code",
   "execution_count": 25,
   "metadata": {},
   "outputs": [
    {
     "name": "stdout",
     "output_type": "stream",
     "text": [
      "p1: hello\n",
      "p2: This is p2\n"
     ]
    }
   ],
   "source": [
    "print_params(p2='This is p2', p1='hello')"
   ]
  },
  {
   "cell_type": "markdown",
   "metadata": {},
   "source": [
    "Assigning a **kwarg** that is not listed results in a `TypeError`. This shows that `p3` is an unexpected kwarg that has been passed to the function. "
   ]
  },
  {
   "cell_type": "code",
   "execution_count": 26,
   "metadata": {},
   "outputs": [
    {
     "ename": "TypeError",
     "evalue": "print_params() got an unexpected keyword argument 'p3'",
     "output_type": "error",
     "traceback": [
      "\u001b[0;31m--------------------------------------------------\u001b[0m",
      "\u001b[0;31mTypeError\u001b[0m        Traceback (most recent call last)",
      "\u001b[0;32m<ipython-input-26-7c66358bde61>\u001b[0m in \u001b[0;36m<module>\u001b[0;34m\u001b[0m\n\u001b[0;32m----> 1\u001b[0;31m \u001b[0mprint_params\u001b[0m\u001b[0;34m(\u001b[0m\u001b[0mp1\u001b[0m\u001b[0;34m=\u001b[0m\u001b[0;36m43\u001b[0m\u001b[0;34m,\u001b[0m \u001b[0mp3\u001b[0m\u001b[0;34m=\u001b[0m\u001b[0;36m45\u001b[0m\u001b[0;34m)\u001b[0m\u001b[0;34m\u001b[0m\u001b[0;34m\u001b[0m\u001b[0m\n\u001b[0m",
      "\u001b[0;31mTypeError\u001b[0m: print_params() got an unexpected keyword argument 'p3'"
     ]
    }
   ],
   "source": [
    "print_params(p1=43, p3=45)"
   ]
  },
  {
   "cell_type": "markdown",
   "metadata": {},
   "source": [
    "The `*` or **splat** operator can be used to pass a list of arguments to the function positionally in the same order as they appear in the list.\n",
    "\n",
    "The splat operator **unpacks** the list and places the **args** the correct positional order."
   ]
  },
  {
   "cell_type": "code",
   "execution_count": 27,
   "metadata": {},
   "outputs": [
    {
     "name": "stdout",
     "output_type": "stream",
     "text": [
      "p1: 56\n",
      "p2: apples\n"
     ]
    }
   ],
   "source": [
    "params_list = [56, 'apples']\n",
    "print_params(*params_list)"
   ]
  },
  {
   "cell_type": "markdown",
   "metadata": {},
   "source": [
    "Similary parameters can be unpacked from a dictionary of named parameters called keyword arguments or kwargs. To unpack the parameter dictionary, a double `**` operator is used. In this way, `p1` in the function gets assigned to the value of the key `p1` in the `param_dict`, the same is true for `p2`."
   ]
  },
  {
   "cell_type": "code",
   "execution_count": 28,
   "metadata": {},
   "outputs": [
    {
     "name": "stdout",
     "output_type": "stream",
     "text": [
      "p1: 43\n",
      "p2: hello\n"
     ]
    }
   ],
   "source": [
    "param_dict = dict(p1=43, p2=\"hello\")\n",
    "print_params(**param_dict)"
   ]
  },
  {
   "cell_type": "markdown",
   "metadata": {},
   "source": [
    "Trying to utilise both positional and keyword arguments for the same **parameter** results in a `TypeError` as **positionally** `p1` is the first parameter, and gets assigned the value of `34` but then by writing `p1='hello'` it also receives a value of `hello` and therefore gets assigned too many values."
   ]
  },
  {
   "cell_type": "code",
   "execution_count": 29,
   "metadata": {},
   "outputs": [
    {
     "ename": "TypeError",
     "evalue": "print_params() got multiple values for argument 'p1'",
     "output_type": "error",
     "traceback": [
      "\u001b[0;31m--------------------------------------------------\u001b[0m",
      "\u001b[0;31mTypeError\u001b[0m        Traceback (most recent call last)",
      "\u001b[0;32m<ipython-input-29-850b8b11f105>\u001b[0m in \u001b[0;36m<module>\u001b[0;34m\u001b[0m\n\u001b[0;32m----> 1\u001b[0;31m \u001b[0mprint_params\u001b[0m\u001b[0;34m(\u001b[0m\u001b[0;36m34\u001b[0m\u001b[0;34m,\u001b[0m \u001b[0mp1\u001b[0m\u001b[0;34m=\u001b[0m\u001b[0;34m'hello'\u001b[0m\u001b[0;34m)\u001b[0m\u001b[0;34m\u001b[0m\u001b[0;34m\u001b[0m\u001b[0m\n\u001b[0m",
      "\u001b[0;31mTypeError\u001b[0m: print_params() got multiple values for argument 'p1'"
     ]
    }
   ],
   "source": [
    "print_params(34, p1='hello')"
   ]
  },
  {
   "cell_type": "markdown",
   "metadata": {},
   "source": [
    "However, calling the positional **args** in the right order and specifiying any other by name is valid."
   ]
  },
  {
   "cell_type": "code",
   "execution_count": 30,
   "metadata": {},
   "outputs": [
    {
     "name": "stdout",
     "output_type": "stream",
     "text": [
      "p1: 34\n",
      "p2: hello\n"
     ]
    }
   ],
   "source": [
    "print_params(34, p2='hello')"
   ]
  },
  {
   "cell_type": "markdown",
   "metadata": {},
   "source": [
    "When calling the function, positional arguments **must** come first otherwise a `SyntaxError` is raised, this essentially means that Python does not know which **parameter** to assign the **positional argument** to."
   ]
  },
  {
   "cell_type": "code",
   "execution_count": 31,
   "metadata": {},
   "outputs": [
    {
     "ename": "SyntaxError",
     "evalue": "positional argument follows keyword argument (<ipython-input-31-e5f4d99cd7cb>, line 1)",
     "output_type": "error",
     "traceback": [
      "\u001b[0;36m  File \u001b[0;32m\"<ipython-input-31-e5f4d99cd7cb>\"\u001b[0;36m, line \u001b[0;32m1\u001b[0m\n\u001b[0;31m    print_params(p2='hello', 34)\u001b[0m\n\u001b[0m                             ^\u001b[0m\n\u001b[0;31mSyntaxError\u001b[0m\u001b[0;31m:\u001b[0m positional argument follows keyword argument\n"
     ]
    }
   ],
   "source": [
    "print_params(p2='hello', 34)"
   ]
  },
  {
   "cell_type": "markdown",
   "metadata": {},
   "source": [
    "#### Default parameters"
   ]
  },
  {
   "cell_type": "markdown",
   "metadata": {},
   "source": [
    "Functions can also be defined with **default** parameters. These are parameters with a specific value that can be altered. \n",
    "\n",
    "To create default values for parameters, include the parameter name and an equals sign."
   ]
  },
  {
   "cell_type": "code",
   "execution_count": 32,
   "metadata": {},
   "outputs": [
    {
     "name": "stdout",
     "output_type": "stream",
     "text": [
      "6\n"
     ]
    }
   ],
   "source": [
    "def func_default(x, y, z=0):  # Here the parameter 'z' is assigned the default value of 0.\n",
    "    return x + y + z\n",
    "\n",
    "print(func_default(1,2,3))  # Calling the function with 3 parameters assigns 'x' = 1, 'y' = 2, 'z' = 3."
   ]
  },
  {
   "cell_type": "markdown",
   "metadata": {},
   "source": [
    "The above function assigns the parameter `z` to the value `3` by specifying it in the **call**, however when leaving it out:"
   ]
  },
  {
   "cell_type": "code",
   "execution_count": 33,
   "metadata": {},
   "outputs": [
    {
     "name": "stdout",
     "output_type": "stream",
     "text": [
      "7\n"
     ]
    }
   ],
   "source": [
    "print(func_default(3,4))"
   ]
  },
  {
   "cell_type": "markdown",
   "metadata": {},
   "source": [
    "This calls the function but with the default value of `z == 0`, therefore returning `3 + 4 + 0 == 7`. "
   ]
  },
  {
   "cell_type": "markdown",
   "metadata": {},
   "source": [
    "This can be the case for **all** parameters if required, for instance."
   ]
  },
  {
   "cell_type": "code",
   "execution_count": 34,
   "metadata": {},
   "outputs": [
    {
     "name": "stdout",
     "output_type": "stream",
     "text": [
      "350\n",
      "40\n"
     ]
    }
   ],
   "source": [
    "def func_default2(x=5, y=7, z=10):\n",
    "    return x*y*z\n",
    "\n",
    "print(func_default2())              # Uses default values.\n",
    "print(func_default2(4, z=10, y=1))  # Uses specified values."
   ]
  },
  {
   "cell_type": "markdown",
   "metadata": {},
   "source": [
    "This means that `func_default2()` can still be called even without any positional arguments. However if the **args** are specified, (in this case from a positional **arg** for `x` and **kwargs** for `z` and `y`), then the function uses those values instead. "
   ]
  },
  {
   "cell_type": "markdown",
   "metadata": {},
   "source": [
    "However when creating a function, non-default valued parameters must come before default valued parameters."
   ]
  },
  {
   "cell_type": "code",
   "execution_count": 35,
   "metadata": {},
   "outputs": [
    {
     "ename": "SyntaxError",
     "evalue": "non-default argument follows default argument (<ipython-input-35-3d509f925be6>, line 1)",
     "output_type": "error",
     "traceback": [
      "\u001b[0;36m  File \u001b[0;32m\"<ipython-input-35-3d509f925be6>\"\u001b[0;36m, line \u001b[0;32m1\u001b[0m\n\u001b[0;31m    def func2(x=6, y, z):\u001b[0m\n\u001b[0m              ^\u001b[0m\n\u001b[0;31mSyntaxError\u001b[0m\u001b[0;31m:\u001b[0m non-default argument follows default argument\n"
     ]
    }
   ],
   "source": [
    "def func2(x=6, y, z):\n",
    "    print(x, y, z)"
   ]
  },
  {
   "cell_type": "markdown",
   "metadata": {},
   "source": [
    "### Exercise 4.3: Element multiply, parameters."
   ]
  },
  {
   "cell_type": "markdown",
   "metadata": {},
   "source": [
    "Now alter the function similar to **exercise 4.2** to take the list as a parameter and execute the same code (i.e. multiplying elements by 2) but **only** if the **element** of the `list` is less than the **average** of all the elements in the list."
   ]
  },
  {
   "cell_type": "markdown",
   "metadata": {},
   "source": [
    "**Hint**: This exercise will utilise the **pythonic** way of altering variables via passing **arguments** to the function and returning a value using the `return` keyword."
   ]
  },
  {
   "cell_type": "code",
   "execution_count": null,
   "metadata": {},
   "outputs": [],
   "source": [
    "var_list2 = [32, 4, 13, 53, 65, 2]\n",
    "\n",
    "#-------------------------------------------------------------------------\n",
    "def elementMultiply2():  # Remember to include a parameter in the function definition for the 'list' passed.\n",
    "# YOUR CODE HERE\n",
    "\n",
    "\n",
    "\n",
    "\n",
    "\n",
    "\n",
    "#-------------------------------------------------------------------------\n",
    "\n",
    "var_list = elementMultiply2(var_list) # Calls function defined above.\n",
    "print(var_list)                       # Check to show that 'var_list' is the same as the list below (desired output).\n",
    "print([64, 8, 26, 106, 130, 4])   # Desired output."
   ]
  },
  {
   "cell_type": "markdown",
   "metadata": {},
   "source": [
    "**Hint**: Using either `range()` or `enumerate()` could come in useful here, where:"
   ]
  },
  {
   "cell_type": "code",
   "execution_count": 36,
   "metadata": {},
   "outputs": [
    {
     "name": "stdout",
     "output_type": "stream",
     "text": [
      "[0, 1, 2, 3]\n",
      "[3, 4, 5, 6]\n",
      "[(0, 3), (1, 4), (2, 5), (3, 6)]\n",
      "0 3\n",
      "1 4\n",
      "2 5\n",
      "3 6\n"
     ]
    }
   ],
   "source": [
    "list_num = [3,4,5,6]\n",
    "print(list(range(0, len(list_num)))) # Produces range from 0 to length of list, non-inclusive in steps of 1.\n",
    "print(list_num)                      # Simply prints list.\n",
    "print(list(enumerate(list_num)))    # Prints list of 'zipped' index of element with element of list as tuples. \n",
    "for index, element in enumerate(list_num):   # Iterates and unpacks the enumerator.\n",
    "    print(index, element)"
   ]
  },
  {
   "cell_type": "markdown",
   "metadata": {},
   "source": [
    "### Exercise 4.4: Default parameters"
   ]
  },
  {
   "cell_type": "markdown",
   "metadata": {},
   "source": [
    "The objective of this exercise is to produce a function that **returns** the following:\n",
    "\n",
    "> $(x+y)^{3}$\n",
    "\n",
    "For parameters `x` and `y` where the default value for `y` is `0` and hence returns $x^{3}$.\n",
    "\n",
    "**Hint**: the expansion of $(x+y)^{3}$ is equal to $y^{3}+3xy^{2}+3yx^{2}+x^{3}$."
   ]
  },
  {
   "cell_type": "code",
   "execution_count": null,
   "metadata": {},
   "outputs": [],
   "source": [
    "num1, num2 = 5, 9 \n",
    "\n",
    "def cubicExpansion(): # Do not forget to include parameters here.\n",
    "#-------------------------------------------------------------------------\n",
    "# YOUR CODE HERE\n",
    "   \n",
    "\n",
    "#-------------------------------------------------------------------------\n",
    "\n",
    "print((num1+num2)**3)\n",
    "# PRINT THE OUTPUT OF YOUR FUNCTION HERE\n",
    "# With num1 and num2 as arguments.\n",
    "\n",
    "\n",
    "print((num1+0)**3)\n",
    "# PRINT THE OUTPUT OF YOUR FUNCTION HERE\n",
    "# With num1 as an argument.\n",
    "\n",
    "\n",
    "print((1+0)**3)\n",
    "# PRINT THE OUTPUT OF YOUR FUNCTION HERE\n",
    "# With no arguments.\n",
    "\n",
    "\n",
    "print((1+num1)**3)\n",
    "# PRINT THE OUTPUT OF YOUR FUNCTION HERE\n",
    "# With the kwarg assigning y to num1.\n"
   ]
  },
  {
   "cell_type": "markdown",
   "metadata": {},
   "source": [
    "The outputs should match those above typed out."
   ]
  },
  {
   "cell_type": "markdown",
   "metadata": {},
   "source": [
    "### Arbitrary number of parameters"
   ]
  },
  {
   "cell_type": "markdown",
   "metadata": {},
   "source": [
    "#### Multiple positional arguments"
   ]
  },
  {
   "cell_type": "markdown",
   "metadata": {},
   "source": [
    "Functions can also be defined with an arbitrary number of parameters, this is denoted by a parameter having an `*` before it in the function definition. The parameter **can** be named whatever you would like but almost universally, the name given is `*args`. This is useful as other programmers can better understand what you are doing."
   ]
  },
  {
   "cell_type": "code",
   "execution_count": 37,
   "metadata": {},
   "outputs": [
    {
     "name": "stdout",
     "output_type": "stream",
     "text": [
      "360\n",
      "360\n"
     ]
    }
   ],
   "source": [
    "def multiply(*args): # arbitrary number of positional arguments denoted by '*args'. \n",
    "    result = 1\n",
    "    for arg in args:    # loop through the arguments passed.\n",
    "        result *= arg   # adds all the arguments together.\n",
    "    return result\n",
    "    \n",
    "z = multiply(3,4,5,6)   # Passing multiple arguments as 'args'.\n",
    "print(z)\n",
    "print(3*4*5*6)      "
   ]
  },
  {
   "cell_type": "markdown",
   "metadata": {},
   "source": [
    "In the above function we take each value passed to `multiply` and multiply them all together. \n",
    "\n",
    "Any number of `args` can be passed into `multiply` now and it shall multiply all of them together.\n",
    "\n",
    "Normal positional arguments can be used alongside `*args`."
   ]
  },
  {
   "cell_type": "code",
   "execution_count": 38,
   "metadata": {},
   "outputs": [
    {
     "name": "stdout",
     "output_type": "stream",
     "text": [
      "6160\n",
      "6160\n"
     ]
    }
   ],
   "source": [
    "def multiply_plus_x(x, *args):\n",
    "    result = 1\n",
    "    for arg in args:\n",
    "        result *= arg+x\n",
    "    return result\n",
    "\n",
    "z = multiply_plus_x(5, 6, 5, 3, 2)\n",
    "print(z)\n",
    "\n",
    "result = 1\n",
    "for arg in [6,5,3,2]:\n",
    "    result *= 5+arg\n",
    "print(result)"
   ]
  },
  {
   "cell_type": "markdown",
   "metadata": {},
   "source": [
    "The above code effectively takes the first positional argument `5` as `x` and then for each of the `args` (= `6, 5, 3, 2`) multiplies the `result` by `arg+5` for each `arg`. "
   ]
  },
  {
   "cell_type": "markdown",
   "metadata": {},
   "source": [
    "Named keyword arguments **HAVE** to follow `*args` in a function otherwise they will be overwritten, for instance:"
   ]
  },
  {
   "cell_type": "code",
   "execution_count": 39,
   "metadata": {},
   "outputs": [
    {
     "name": "stdout",
     "output_type": "stream",
     "text": [
      "(6, 3, 1)\n",
      "5\n"
     ]
    }
   ],
   "source": [
    "def f(x, y=4, *args):\n",
    "    print(args)\n",
    "    print(y)\n",
    "\n",
    "f(4, 5, 6, 3, 1)"
   ]
  },
  {
   "cell_type": "code",
   "execution_count": 40,
   "metadata": {},
   "outputs": [
    {
     "name": "stdout",
     "output_type": "stream",
     "text": [
      "(5, 6, 3, 1)\n",
      "4\n"
     ]
    }
   ],
   "source": [
    "def f(x, *args, y=4):\n",
    "    print(args)\n",
    "    print(y)\n",
    "\n",
    "f(4, 5, 6, 3, 1)"
   ]
  },
  {
   "cell_type": "markdown",
   "metadata": {},
   "source": [
    "Now in the second code snippet, to actually assign `y` to a value, a **kwarg** must be used, for instance:"
   ]
  },
  {
   "cell_type": "code",
   "execution_count": 41,
   "metadata": {},
   "outputs": [
    {
     "name": "stdout",
     "output_type": "stream",
     "text": [
      "(5, 6, 3, 1)\n",
      "8\n"
     ]
    }
   ],
   "source": [
    "f(4, 5, 6, 3, 1, y=8)"
   ]
  },
  {
   "cell_type": "markdown",
   "metadata": {},
   "source": [
    "Once again, calling the function with a **kwarg** before any positional **args** will result in a `SyntaxError`."
   ]
  },
  {
   "cell_type": "code",
   "execution_count": 42,
   "metadata": {},
   "outputs": [
    {
     "ename": "SyntaxError",
     "evalue": "positional argument follows keyword argument (<ipython-input-42-92f17e1ec503>, line 1)",
     "output_type": "error",
     "traceback": [
      "\u001b[0;36m  File \u001b[0;32m\"<ipython-input-42-92f17e1ec503>\"\u001b[0;36m, line \u001b[0;32m1\u001b[0m\n\u001b[0;31m    f(y=4, 5, 6, 3, 1)\u001b[0m\n\u001b[0m           ^\u001b[0m\n\u001b[0;31mSyntaxError\u001b[0m\u001b[0;31m:\u001b[0m positional argument follows keyword argument\n"
     ]
    }
   ],
   "source": [
    "f(y=4, 5, 6, 3, 1)"
   ]
  },
  {
   "cell_type": "markdown",
   "metadata": {},
   "source": [
    "#### Multiple keyword arguments"
   ]
  },
  {
   "cell_type": "markdown",
   "metadata": {},
   "source": [
    "To provide a function with multiple keyword arguments, a similar thing can be implemented using the `**` operator on a parameter (typically this parameter is called `**kwargs` to make it more readable from programmer to programmer)."
   ]
  },
  {
   "cell_type": "code",
   "execution_count": 43,
   "metadata": {},
   "outputs": [
    {
     "name": "stdout",
     "output_type": "stream",
     "text": [
      "{'apple': '5', 'carrot': '10', 'blueberry': '15'}\n",
      "apple: 5\n",
      "carrot: 10\n",
      "blueberry: 15\n"
     ]
    }
   ],
   "source": [
    "def print_kwargs(**kwargs):\n",
    "    print(kwargs)\n",
    "    for k, v in kwargs.items():\n",
    "        print(f'{k}: {v}')\n",
    "\n",
    "print_kwargs(apple='5', carrot='10', blueberry='15')"
   ]
  },
  {
   "cell_type": "markdown",
   "metadata": {},
   "source": [
    "As you can see, `**kwargs` gets passed into the function as a dictionary, which can then either be iterated through or tested for using `if` statements."
   ]
  },
  {
   "cell_type": "markdown",
   "metadata": {},
   "source": [
    "If you have specific kwargs to look out for, it is worth writing them in as 'default values' or using a test."
   ]
  },
  {
   "cell_type": "code",
   "execution_count": 44,
   "metadata": {},
   "outputs": [
    {
     "name": "stdout",
     "output_type": "stream",
     "text": [
      "type: 67\n"
     ]
    }
   ],
   "source": [
    "def print_type(**kwargs):\n",
    "    valid_kwargs = ['type', 'x', 'y']\n",
    "    for key in kwargs:\n",
    "        if key not in valid_kwargs:\n",
    "            raise TypeError(f\"{key} is not a valid keyword argument, valid kwargs are: {', ' .join(valid_kwargs)}\")\n",
    "        else:\n",
    "            print(f'{key}: {kwargs[key]}')\n",
    "        \n",
    "print_type(type=67)"
   ]
  },
  {
   "cell_type": "code",
   "execution_count": 45,
   "metadata": {},
   "outputs": [
    {
     "ename": "TypeError",
     "evalue": "hello is not a valid keyword argument, valid kwargs are: type, x, y",
     "output_type": "error",
     "traceback": [
      "\u001b[0;31m--------------------------------------------------\u001b[0m",
      "\u001b[0;31mTypeError\u001b[0m        Traceback (most recent call last)",
      "\u001b[0;32m<ipython-input-45-7c952172da12>\u001b[0m in \u001b[0;36m<module>\u001b[0;34m\u001b[0m\n\u001b[0;32m----> 1\u001b[0;31m \u001b[0mprint_type\u001b[0m\u001b[0;34m(\u001b[0m\u001b[0mhello\u001b[0m\u001b[0;34m=\u001b[0m\u001b[0;36m57\u001b[0m\u001b[0;34m)\u001b[0m\u001b[0;34m\u001b[0m\u001b[0;34m\u001b[0m\u001b[0m\n\u001b[0m",
      "\u001b[0;32m<ipython-input-44-95f58213fccb>\u001b[0m in \u001b[0;36mprint_type\u001b[0;34m(**kwargs)\u001b[0m\n\u001b[1;32m      3\u001b[0m     \u001b[0;32mfor\u001b[0m \u001b[0mkey\u001b[0m \u001b[0;32min\u001b[0m \u001b[0mkwargs\u001b[0m\u001b[0;34m:\u001b[0m\u001b[0;34m\u001b[0m\u001b[0;34m\u001b[0m\u001b[0m\n\u001b[1;32m      4\u001b[0m         \u001b[0;32mif\u001b[0m \u001b[0mkey\u001b[0m \u001b[0;32mnot\u001b[0m \u001b[0;32min\u001b[0m \u001b[0mvalid_kwargs\u001b[0m\u001b[0;34m:\u001b[0m\u001b[0;34m\u001b[0m\u001b[0;34m\u001b[0m\u001b[0m\n\u001b[0;32m----> 5\u001b[0;31m             \u001b[0;32mraise\u001b[0m \u001b[0mTypeError\u001b[0m\u001b[0;34m(\u001b[0m\u001b[0;34mf\"{key} is not a valid keyword argument, valid kwargs are: {', ' .join(valid_kwargs)}\"\u001b[0m\u001b[0;34m)\u001b[0m\u001b[0;34m\u001b[0m\u001b[0;34m\u001b[0m\u001b[0m\n\u001b[0m\u001b[1;32m      6\u001b[0m         \u001b[0;32melse\u001b[0m\u001b[0;34m:\u001b[0m\u001b[0;34m\u001b[0m\u001b[0;34m\u001b[0m\u001b[0m\n\u001b[1;32m      7\u001b[0m             \u001b[0mprint\u001b[0m\u001b[0;34m(\u001b[0m\u001b[0;34mf'{key}: {kwargs[key]}'\u001b[0m\u001b[0;34m)\u001b[0m\u001b[0;34m\u001b[0m\u001b[0;34m\u001b[0m\u001b[0m\n",
      "\u001b[0;31mTypeError\u001b[0m: hello is not a valid keyword argument, valid kwargs are: type, x, y"
     ]
    }
   ],
   "source": [
    "print_type(hello=57)"
   ]
  },
  {
   "cell_type": "markdown",
   "metadata": {},
   "source": [
    "Here we have used the `raise` keyword to `raise` an `Exception` or an `Error`, in this case a `TypeError` saying that `hello` is not a valid kwarg to pass into kwargs. \n",
    "\n",
    "This could just as easily be done by defining the function with specific kwargs in mind."
   ]
  },
  {
   "cell_type": "code",
   "execution_count": 46,
   "metadata": {},
   "outputs": [
    {
     "name": "stdout",
     "output_type": "stream",
     "text": [
      "type: hello\n"
     ]
    }
   ],
   "source": [
    "def print_kwarg(type=None, x=None, y=None):\n",
    "    kwargs = {'type': type, 'x': x, 'y': y}\n",
    "    for key in kwargs:\n",
    "        if kwargs[key]:\n",
    "            print(f'{key}: {kwargs[key]}')\n",
    "\n",
    "print_kwarg(type='hello')"
   ]
  },
  {
   "cell_type": "code",
   "execution_count": 47,
   "metadata": {},
   "outputs": [
    {
     "ename": "TypeError",
     "evalue": "print_kwarg() got an unexpected keyword argument 'carrot'",
     "output_type": "error",
     "traceback": [
      "\u001b[0;31m--------------------------------------------------\u001b[0m",
      "\u001b[0;31mTypeError\u001b[0m        Traceback (most recent call last)",
      "\u001b[0;32m<ipython-input-47-de12ca5a8a79>\u001b[0m in \u001b[0;36m<module>\u001b[0;34m\u001b[0m\n\u001b[0;32m----> 1\u001b[0;31m \u001b[0mprint_kwarg\u001b[0m\u001b[0;34m(\u001b[0m\u001b[0mcarrot\u001b[0m\u001b[0;34m=\u001b[0m\u001b[0;36m35\u001b[0m\u001b[0;34m)\u001b[0m\u001b[0;34m\u001b[0m\u001b[0;34m\u001b[0m\u001b[0m\n\u001b[0m",
      "\u001b[0;31mTypeError\u001b[0m: print_kwarg() got an unexpected keyword argument 'carrot'"
     ]
    }
   ],
   "source": [
    "print_kwarg(carrot=35)"
   ]
  },
  {
   "cell_type": "markdown",
   "metadata": {},
   "source": [
    "This has a similar error message popping up telling the user that the keyword argument passed is not valid/is unexpected."
   ]
  },
  {
   "cell_type": "markdown",
   "metadata": {},
   "source": [
    "Multiple kwargs must be defined **after** any named kwargs in the function definition."
   ]
  },
  {
   "cell_type": "code",
   "execution_count": 48,
   "metadata": {},
   "outputs": [
    {
     "ename": "SyntaxError",
     "evalue": "invalid syntax (<ipython-input-48-3f834e35c0aa>, line 1)",
     "output_type": "error",
     "traceback": [
      "\u001b[0;36m  File \u001b[0;32m\"<ipython-input-48-3f834e35c0aa>\"\u001b[0;36m, line \u001b[0;32m1\u001b[0m\n\u001b[0;31m    def func(**kwargs, x=None):\u001b[0m\n\u001b[0m                       ^\u001b[0m\n\u001b[0;31mSyntaxError\u001b[0m\u001b[0;31m:\u001b[0m invalid syntax\n"
     ]
    }
   ],
   "source": [
    "def func(**kwargs, x=None):\n",
    "    print(kwargs)\n",
    "    print(x)"
   ]
  },
  {
   "cell_type": "code",
   "execution_count": 49,
   "metadata": {},
   "outputs": [
    {
     "name": "stdout",
     "output_type": "stream",
     "text": [
      "{}\n",
      "None\n"
     ]
    }
   ],
   "source": [
    "def func(x=None, **kwargs):\n",
    "    print(kwargs)\n",
    "    print(x)\n",
    "\n",
    "func()"
   ]
  },
  {
   "cell_type": "markdown",
   "metadata": {},
   "source": [
    "### Exercise 4.5: Polynomial with coeffecients"
   ]
  },
  {
   "cell_type": "markdown",
   "metadata": {},
   "source": [
    "The aim of this exercise it to make a function that produces a polynomial of `x`, for instance:\n",
    "\n",
    "> $a_{0} + a_{1}x + a_{2}x^{2} + a_{3}x^{3} + ... + a_{n}x^{n}$\n",
    "\n",
    "for `n` number of coeffecients. "
   ]
  },
  {
   "cell_type": "markdown",
   "metadata": {},
   "source": [
    "#### i).\n",
    "\n",
    "Firstly, write a function that takes both a single variable (`x`) and a `list` or `tuple` as an argument for the coeffecients. The function should accept **any length** of the list of coeffecients passed and output the resulting value of the polynomial for the `x` value with the corresponding `coeffs`."
   ]
  },
  {
   "cell_type": "code",
   "execution_count": null,
   "metadata": {},
   "outputs": [],
   "source": [
    "x = 3\n",
    "coeffs = [0,0,1]\n",
    "coeffs2 = [1,3,2,1,1,1]\n",
    "#-------------------------------------------------------------------------\n",
    "def polynomial(): # Make the function take `x` and coeffecients as arguments.\n",
    "#YOUR CODE HERE (remember to indent and use whitespace for the function block).\n",
    "\n",
    "\n",
    "\n",
    "\n",
    "#-------------------------------------------------------------------------\n",
    "\n",
    "y = polynomial(x, coeffs)  # Should produce `x**3`\n",
    "print(y)\n",
    "z = polynomial(x, coeffs2) # Should output 1 + 3x + 2x**2 + x**3 + x**4 + x**5 == 379\n",
    "print(z)"
   ]
  },
  {
   "cell_type": "markdown",
   "metadata": {},
   "source": [
    "#### ii).\n",
    "\n",
    "Now alter the function to take an arbitrary number of `args` instead of a list for the coeffecients, i.e. by using the `*` operator.\n",
    "\n",
    "This function should take `x` and an **arbitrary number** of coeffecients as **arguments** and produce a polynomial in `x` starting at $x^{0}$ up until the last passed non-zero coeffecient.\n",
    "\n",
    "This function should return the value of the polynomial with the given coeffecients."
   ]
  },
  {
   "cell_type": "code",
   "execution_count": null,
   "metadata": {},
   "outputs": [],
   "source": [
    "x = 3\n",
    "coeffs = [0,0,1]\n",
    "coeffs2 = [1,3,2,1,1,1]\n",
    "\n",
    "#-------------------------------------------------------------------------\n",
    "def polynomial(): # Make the function take `x` and coeffecients as arguments.\n",
    "#YOUR CODE HERE (remember to indent and use whitespace for the function block).\n",
    "\n",
    "\n",
    "\n",
    "\n",
    "\n",
    "#-------------------------------------------------------------------------\n",
    "\n",
    "y = polynomial(x, 0, 0, 1)  # Should produce `x**3`\n",
    "print(y)\n",
    "y = polynomial(x, *coeffs)  # Unpack the list into positional parameters with '*' in call.\n",
    "print(y)\n",
    "z = polynomial(x, 1, 3, 2, 1, 1, 1) # Should output 1 + 3x + 2x**2 + x**3 + x**4 + x**5 == 379\n",
    "print(z)\n",
    "z = polynomial(x, *coeffs2) # Unpack the list into positional parameters with '*' in call.\n",
    "print(z)"
   ]
  },
  {
   "cell_type": "markdown",
   "metadata": {},
   "source": [
    "**Hint**: It may come in handy to use the `range()` and `len()` functions when writing the code. Also keep in mind the `+=` operator reassigns a variable to itself **plus** a new value. Bare in mind that `*args` are passed as a tuple to the function, therefore tuple accessing is required to get individual arguments."
   ]
  },
  {
   "cell_type": "markdown",
   "metadata": {},
   "source": [
    "Test your function behaves as you expect it to by altering the value of `x` or the number of coeffs in either the coeffs list or by calling `polynomial()` with varying numbers of positional arguments. "
   ]
  },
  {
   "cell_type": "markdown",
   "metadata": {},
   "source": [
    "## Part 4.2: Calling functions from functions"
   ]
  },
  {
   "cell_type": "markdown",
   "metadata": {},
   "source": [
    "It is possible to **call** functions from other functions. This has already been demonstrated above, where in some of the functions I have defined, the function actually **calls** the in-built `print()` function with a various number of arguments all separated by a comma (i.e. the print function takes `*args` as a parameter). \n",
    "\n",
    "This can also be used with user-defined functions of course."
   ]
  },
  {
   "cell_type": "code",
   "execution_count": 50,
   "metadata": {},
   "outputs": [
    {
     "name": "stdout",
     "output_type": "stream",
     "text": [
      "[False, True, True, False, False, False, False]\n"
     ]
    }
   ],
   "source": [
    "def test_if_even(x):     # Function to test if a number is even or odd.\n",
    "    if x%2 == 0:\n",
    "        return True      # Returns the bool value 'True' if even otherwise returns 'False'\n",
    "    else:\n",
    "        return False\n",
    "    \n",
    "\n",
    "def find_even_nums(num_list):\n",
    "    even_list = []\n",
    "    for num in num_list:        # Iterates through the numbers in the num_list\n",
    "        even_list.append(test_if_even(num))    # Appends the returned value from 'test_if_even()' function call.\n",
    "    return even_list            # Returns bool list. \n",
    " \n",
    "list_of_nums = [9,8,10,3,5,7,89]\n",
    "new_list = find_even_nums(list_of_nums)\n",
    "\n",
    "print(new_list)"
   ]
  },
  {
   "cell_type": "markdown",
   "metadata": {},
   "source": [
    "In the above code, the function `find_even_nums()` **calls** the function `test_if_even()` on each element of the `num_list` parameter and then returns the result. \n",
    "\n",
    "This could be written all in one go, but we could also now add the function object as a parameter."
   ]
  },
  {
   "cell_type": "code",
   "execution_count": 51,
   "metadata": {},
   "outputs": [
    {
     "name": "stdout",
     "output_type": "stream",
     "text": [
      "[False, True, True, False, False, False, False]\n"
     ]
    }
   ],
   "source": [
    "def iterate_append(a_list, func):\n",
    "    result_list = []\n",
    "    for el in a_list:\n",
    "        result_list.append(func(el))\n",
    "    return result_list\n",
    "\n",
    "list1 = iterate_append(list_of_nums, test_if_even)\n",
    "print(list1)"
   ]
  },
  {
   "cell_type": "markdown",
   "metadata": {},
   "source": [
    "As you can see, the function `iterate_append()` produces the same result when passed the same list and specifiying the `test_if_even` function as the `func`. Note that this works because `test_if_even` is a **function object** and therefore it has a `__call__()` method meaning it can be **called** or that it is **callable**. \n",
    "\n",
    "If we were to pass an object that **does not have a call method** then we will get a `TypeError`."
   ]
  },
  {
   "cell_type": "code",
   "execution_count": 52,
   "metadata": {},
   "outputs": [
    {
     "ename": "TypeError",
     "evalue": "'list' object is not callable",
     "output_type": "error",
     "traceback": [
      "\u001b[0;31m--------------------------------------------------\u001b[0m",
      "\u001b[0;31mTypeError\u001b[0m        Traceback (most recent call last)",
      "\u001b[0;32m<ipython-input-52-1da9d02c9585>\u001b[0m in \u001b[0;36m<module>\u001b[0;34m\u001b[0m\n\u001b[0;32m----> 1\u001b[0;31m \u001b[0mlist2\u001b[0m \u001b[0;34m=\u001b[0m \u001b[0miterate_append\u001b[0m\u001b[0;34m(\u001b[0m\u001b[0mlist_of_nums\u001b[0m\u001b[0;34m,\u001b[0m \u001b[0mlist1\u001b[0m\u001b[0;34m)\u001b[0m\u001b[0;34m\u001b[0m\u001b[0;34m\u001b[0m\u001b[0m\n\u001b[0m\u001b[1;32m      2\u001b[0m \u001b[0mprint\u001b[0m\u001b[0;34m(\u001b[0m\u001b[0mlist2\u001b[0m\u001b[0;34m)\u001b[0m\u001b[0;34m\u001b[0m\u001b[0;34m\u001b[0m\u001b[0m\n",
      "\u001b[0;32m<ipython-input-51-8d8fbb958e7e>\u001b[0m in \u001b[0;36miterate_append\u001b[0;34m(a_list, func)\u001b[0m\n\u001b[1;32m      2\u001b[0m     \u001b[0mresult_list\u001b[0m \u001b[0;34m=\u001b[0m \u001b[0;34m[\u001b[0m\u001b[0;34m]\u001b[0m\u001b[0;34m\u001b[0m\u001b[0;34m\u001b[0m\u001b[0m\n\u001b[1;32m      3\u001b[0m     \u001b[0;32mfor\u001b[0m \u001b[0mel\u001b[0m \u001b[0;32min\u001b[0m \u001b[0ma_list\u001b[0m\u001b[0;34m:\u001b[0m\u001b[0;34m\u001b[0m\u001b[0;34m\u001b[0m\u001b[0m\n\u001b[0;32m----> 4\u001b[0;31m         \u001b[0mresult_list\u001b[0m\u001b[0;34m.\u001b[0m\u001b[0mappend\u001b[0m\u001b[0;34m(\u001b[0m\u001b[0mfunc\u001b[0m\u001b[0;34m(\u001b[0m\u001b[0mel\u001b[0m\u001b[0;34m)\u001b[0m\u001b[0;34m)\u001b[0m\u001b[0;34m\u001b[0m\u001b[0;34m\u001b[0m\u001b[0m\n\u001b[0m\u001b[1;32m      5\u001b[0m     \u001b[0;32mreturn\u001b[0m \u001b[0mresult_list\u001b[0m\u001b[0;34m\u001b[0m\u001b[0;34m\u001b[0m\u001b[0m\n\u001b[1;32m      6\u001b[0m \u001b[0;34m\u001b[0m\u001b[0m\n",
      "\u001b[0;31mTypeError\u001b[0m: 'list' object is not callable"
     ]
    }
   ],
   "source": [
    "list2 = iterate_append(list_of_nums, list1)\n",
    "print(list2)"
   ]
  },
  {
   "cell_type": "markdown",
   "metadata": {},
   "source": [
    "This is saying that a `list` object does not have the `__call__()` method required to execute the line `result_list.append(list1(el))` as the `list1` object cannot be **called**. \n",
    "\n",
    "The built-in function `callable()` evaluates whether an object **can** or **cannot** be called by returning `True` or `False` accordingly."
   ]
  },
  {
   "cell_type": "code",
   "execution_count": 53,
   "metadata": {},
   "outputs": [
    {
     "name": "stdout",
     "output_type": "stream",
     "text": [
      "False\n",
      "True\n"
     ]
    }
   ],
   "source": [
    "print(callable(list1))\n",
    "print(callable(iterate_append))"
   ]
  },
  {
   "cell_type": "markdown",
   "metadata": {},
   "source": [
    "This gives information on what **objects** have a `__call__()` method."
   ]
  },
  {
   "cell_type": "markdown",
   "metadata": {},
   "source": [
    "The more general form of `iterate_append()` can now allow us to use a different function instead of `test_if_even()` for instance."
   ]
  },
  {
   "cell_type": "code",
   "execution_count": 54,
   "metadata": {},
   "outputs": [
    {
     "name": "stdout",
     "output_type": "stream",
     "text": [
      "[90, 80, 100, 30, 50, 70, 890]\n"
     ]
    }
   ],
   "source": [
    "def multiplyBy10(x):\n",
    "    return x*10\n",
    "\n",
    "print(iterate_append(list_of_nums, multiplyBy10))"
   ]
  },
  {
   "cell_type": "markdown",
   "metadata": {},
   "source": [
    "This means the function is much more general for something we would like to do."
   ]
  },
  {
   "cell_type": "markdown",
   "metadata": {},
   "source": [
    "However for operations involving applying a function to each element of an iterator, the built-in function `map()` can already do this.\n",
    "\n",
    "`map()` takes two arguments, the first is a **callable object** or a function, and the second is an **iterator** or **iterable** object. It returns a `map` **object** and therefore to view the result we can convert it to a list by using the `list()` constructor."
   ]
  },
  {
   "cell_type": "code",
   "execution_count": 55,
   "metadata": {},
   "outputs": [
    {
     "name": "stdout",
     "output_type": "stream",
     "text": [
      "[90, 80, 100, 30, 50, 70, 890]\n",
      "[False, True, True, False, False, False, False]\n"
     ]
    }
   ],
   "source": [
    "print(list(map(multiplyBy10, list_of_nums)))\n",
    "print(list(map(test_if_even, list_of_nums)))"
   ]
  },
  {
   "cell_type": "markdown",
   "metadata": {},
   "source": [
    "As you can see this produces the same result as our above function. \n",
    "\n",
    "The main takeaway from this section is that a user-defined function can **call** other user-defined functions. In fact any function in the **global** scope is still a **global** variable and therefore can be directly accessed by a function's **local scope** if required, or a **callable** object can be passed into a function to **call** that object if required. "
   ]
  },
  {
   "cell_type": "markdown",
   "metadata": {},
   "source": [
    "## Part 4.3: Functions defined inside functions"
   ]
  },
  {
   "cell_type": "markdown",
   "metadata": {},
   "source": [
    "An **inner** function can also be defined within the **local scope** of a function by including a `def` keyword inside the function block:"
   ]
  },
  {
   "cell_type": "code",
   "execution_count": 56,
   "metadata": {},
   "outputs": [
    {
     "name": "stdout",
     "output_type": "stream",
     "text": [
      "27\n"
     ]
    }
   ],
   "source": [
    "def expand(x, y):          # Define outer function with parameters `x` and `y`. \n",
    "    def expand_degree(z):  # Define inner function with parameter `z`.\n",
    "        h = (x + y)**z     # Create expansion of degree `z`.\n",
    "        return h           # Return that expansion.\n",
    "    return expand_degree   # Return the inner function as an object.\n",
    "\n",
    "an_expansion = expand(3, 0)   # This calls the outer function 'expand()' which returns the inner function 'expand_degree()'\n",
    "print(an_expansion(3))     # Since 'an_expansion' has been assigned to expand_degree(), it returns 'h'."
   ]
  },
  {
   "cell_type": "markdown",
   "metadata": {},
   "source": [
    "This might look complicated at first, but essentially it boils down to the fact that the outer function **returns the inner function** but with `x` and `y` initialised to the values given when then outer function was **called**. \n",
    "\n",
    "This means that `an_expansion` is actually a **callable** function, i.e. it is actually `expand_degree()` where the `x` and `y` values are equal to `3` and `0` respectively. \n",
    "\n",
    "To show that `an_expansion` is actaully a **callable** object, we can use `callable()`."
   ]
  },
  {
   "cell_type": "code",
   "execution_count": 57,
   "metadata": {},
   "outputs": [
    {
     "name": "stdout",
     "output_type": "stream",
     "text": [
      "True\n"
     ]
    }
   ],
   "source": [
    "print(callable(an_expansion))"
   ]
  },
  {
   "cell_type": "markdown",
   "metadata": {},
   "source": [
    "### Exercise 4.6: Polynomial with initialised coefficients"
   ]
  },
  {
   "cell_type": "markdown",
   "metadata": {},
   "source": [
    "In the previous exercise with polynomials, we have to call the `polynomial` function with the correct coeffecients each time in the function call. \n",
    "\n",
    "In this exercise, we will use the fact that a function can be defined in a function to initialise the coeffecients for a given polynomial and then call that function with various values of `x` to evaluate.\n",
    "\n",
    "The workflow should go similar to this:\n",
    "\n",
    "- Make outer function take coeffecients as arguments (varying number of coeffecients).\n",
    "- Make inner function take `x` as an argument.\n",
    "- Inner function should return the polynomial of the coeffecients multiplied by `x` in a similar way as before.\n",
    "- Outer function should return the inner function."
   ]
  },
  {
   "cell_type": "code",
   "execution_count": null,
   "metadata": {},
   "outputs": [],
   "source": [
    "x = 3\n",
    "\n",
    "coeffs = [0,1,4,3,2]    # Different lists of polynomial coeffecients\n",
    "coeffs2 = [9,1,0]\n",
    "\n",
    "#-------------------------------------------------------------------------\n",
    "def polynomialModel():     # Make sure to include the coeffs as parameters.\n",
    "    def p_evaluate():  # Make sure to include `x` as a parameter.\n",
    "    #YOUR CODE HERE\n",
    "\n",
    "\n",
    "\n",
    "\n",
    "\n",
    "#-------------------------------------------------------------------------\n",
    "\n",
    "p1 = polynomialModel()    # UNPACK coeffs LIST AS ARGS USING *.\n",
    "p2 = polynomialModel()    # UNPACK coeffs2 LIST AS ARGS USING *.\n",
    "\n",
    "#-------------------------------------------------------------------------\n",
    "\n",
    "print(p1(x))      # Print evaluation of polynomials for 'x'.\n",
    "print(p2(x))      \n",
    "\n",
    "\n",
    "x_list = [1,2,3,4,5]     # Multiple 'x' values.\n",
    "\n",
    "#-------------------------------------------------------------------------\n",
    "\n",
    "p1_x = list(map())  # Use map to evaluate p1 for each value in x_list.\n",
    "p2_x = list(map())  # Use map to evaluate p1 for each value in x_list.\n",
    "\n",
    "#-------------------------------------------------------------------------\n",
    "\n",
    "print(p1_x)       # Print evaluation of p1 and p2 with each x in x_list.\n",
    "print(p2_x)       "
   ]
  },
  {
   "cell_type": "markdown",
   "metadata": {},
   "source": [
    "### Exercise 4.7: Mean sum of squared errors"
   ]
  },
  {
   "cell_type": "markdown",
   "metadata": {},
   "source": [
    "In this exercise we will be doing a similar outer-inner function program to calculate the mean sum of squared errors or squared residuals for a function given some `x` and `y` data. \n",
    "\n",
    "This is useful to gauge how well a model $h(x)$ fits data. \n",
    "\n",
    "The equation for the mean sum of squared errors is:\n",
    "\n",
    "> $R = \\frac{1}{N} \\sum\\limits_{i=0}^N (y_i-h(x_i))^2$\n",
    "\n",
    "Where $h(x)$ is a model function, $x$ is x data and $y$ is the observed value. Of course, the closer the prediction $h(x_i)$ is to the observed value $y_i$ the closer $R$ will be to zero, meaning that the model function $h(x)$ has fit the data well. \n",
    "\n",
    "In this exercise therefore, we will define a linear function to fit the `x` and `y` data. By simply looking at the values, it is clear that an equation of:\n",
    "\n",
    ">$h(x) = 2x + 0$\n",
    "\n",
    "would fit the data quite well, therefore we would expect to retrieve a low number back from the meanSquareError function for $m = 2$ and $c = 0$ and higher for different values.\n",
    "\n",
    "For this exercise, there could be many ways to sort the **inner and outer function parameters**. \n",
    "\n",
    "For instance, the **outer function** parameters could be the type of $h()$ function as a parameter as well as its corresponding `*args` (i.e. $m$ and $c$). The **inner function** could then take the datasets $x$ and $y$ as parameters. This would allow testing the same model on multiple datasets, since once the model has been initiated with $h()$ and its `*args`, different `x` and `y` data could be passed into the same model. \n",
    "\n",
    "Alternatively, the outer function could take the `x` and `y` datasets and then the inner function could take a different $h()$ and different `*args`. This would allow the meanSquareError for the same dataset to be computed for various models $h()$ or `*args` (i.e. different $m$ and $c$ values in this case).\n",
    "\n",
    "In summary:\n",
    "\n",
    "1. **Outer function** takes (`func`, `*args`) arguments and **inner function** takes (`x`, `y`) --> provides testing **same model** on **different datasets**.\n",
    "2. **Outer function** takes (`x`, `y`) arguments and **inner function** takes (`func`, `*args`) --> allows testing **different models** on **same dataset**. \n",
    "\n",
    "For this exercise I would like you to **implement type 2**, therefore we can test **different linear models** on the **same dataset** to see how well fit they are.\n",
    "\n",
    "#### i). \n",
    "\n",
    "For this first part, write a linear function taking (x, m, c) as parameters. Then write a `meanSquareError` function that takes `x` and `y` as parameters and returns the inner function `evaluate()`. Let `evaluate()` take a function or `func` as a parameter as well as `*args`. Then have `evaluate()` return the `R` or mean squared error. \n",
    "\n",
    "**Hint**: Have `evaluate()` pass `*args` to the `func` function when evaluating the $y_i-h(x_i)$ part for $h(x_i)$. The use of a `for` loop to iterate over the sum is very useful."
   ]
  },
  {
   "cell_type": "markdown",
   "metadata": {},
   "source": [
    "**Hint**: This can be tricky, make sure to first put the correct parameters for both inner and outer functions, then for the outer function, have it `return` the inner function, and have the inner function actually compute the mean squared error. If the outer function takes all the parameters in, you will have to call the outer function with all the parameters in one go, which gives no benefit from a single function on its own."
   ]
  },
  {
   "cell_type": "code",
   "execution_count": null,
   "metadata": {},
   "outputs": [],
   "source": [
    "def linear(x, m, c):\n",
    "#-------------------------------------------------------------------------\n",
    "# RETURN A LINEAR FUNCTION.\n",
    "    \n",
    "#-------------------------------------------------------------------------\n",
    "def meanSquareError(x, y):  \n",
    "    def evaluate(func, *args):  # Remember whitespace and the number of 'return' keywords.\n",
    "# YOUR CODE HERE\n",
    "       \n",
    "    \n",
    "    \n",
    "    \n",
    "    \n",
    "    \n",
    "    \n",
    "#-------------------------------------------------------------------------\n",
    "\n",
    "# Dataset\n",
    "x = [0.0, 1.0, 2.0, 3.0, 4.0, 5.0, 6.0, 7.0, 8.0, 9.0, 10.0]\n",
    "y = [0.0, 2.2, 3.9, 5.7, 8.2, 10.9, 12.1, 15.0, 16.5, 19.0, 21.0]\n",
    "\n",
    "mse = meanSquareError(x, y)  # Return the evaluate function using the 'x' and 'y' dataset.\n",
    "\n",
    "print(mse(linear, 2, 0))     # Compute the mean square error for a linear function of m = 2, c = 0.\n",
    "print(mse(linear, 1, 0))     \n",
    "print(mse(linear, 2, 5))\n",
    "print(mse(polynomial, 0, 2)) # Note polynomial function with args 0, 2 should be exactly the same as linear(2, 0)\n",
    "                             # if your polynomial function is correct."
   ]
  },
  {
   "cell_type": "markdown",
   "metadata": {},
   "source": [
    "#### ii). \n",
    "\n",
    "For this second part, change `meanSquaredError` to take a model `h` instead. For this part, the function `linearModel` will have an outer and inner function, similar to `polynomialModel` in exercise 4.6.\n",
    "\n",
    "Due to this, we do not necessarily need to make `meanSquaredError` contain a function inside a function and can instead have `meanSquaredError` take `x`, `y` and `h` as arguments where `h` is the model to compute. Much of the code for evaluating the squared error is the same as before, except now we can define linear models as `l1`, `l2`, etc. and pass them into the `meanSquaredError` function to evaluate that model on the `x` and `y` datasets."
   ]
  },
  {
   "cell_type": "code",
   "execution_count": null,
   "metadata": {},
   "outputs": [],
   "source": [
    "#-------------------------------------------------------------------------\n",
    "# RETURN A LINEAR MODEL.\n",
    "\n",
    "def linearModel(m, c):\n",
    "    def linearModelCompute(x):\n",
    "\n",
    "    \n",
    "\n",
    "#-------------------------------------------------------------------------\n",
    "# MEAN SQUARE ERROR.\n",
    "\n",
    "def meanSquareError(x, y, h):      \n",
    "\n",
    "    \n",
    "    \n",
    "    \n",
    "\n",
    "#-------------------------------------------------------------------------\n",
    "\n",
    "# DATASET\n",
    "x = [0.0, 1.0, 2.0, 3.0, 4.0, 5.0, 6.0, 7.0, 8.0, 9.0, 10.0]\n",
    "y = [0.0, 2.2, 3.9, 5.7, 8.2, 10.9, 12.1, 15.0, 16.5, 19.0, 21.0]\n",
    "\n",
    "l1 = linearModel(2, 0)\n",
    "l2 = linearModel(1, 0)\n",
    "l3 = linearModel(2, 5)\n",
    "p1 = polynomialModel(0, 2)\n",
    "\n",
    "print(meanSquareError(x, y, l1))\n",
    "print(meanSquareError(x, y, l2))\n",
    "print(meanSquareError(x, y, l3))\n",
    "print(meanSquareError(x, y, p1))  # Note polynomial model with args 0, 2 should be exactly the same as linear(2, 0)"
   ]
  },
  {
   "cell_type": "markdown",
   "metadata": {},
   "source": [
    "#### iii).\n",
    "\n",
    "Part iii). involves implementing part ii).'s code but utilising a list comprehension instead of a `for` loop to calculate `R`. List comprehensions appeared in Python Coding Club Part 3.\n",
    "\n",
    "Instead of using a `for` loop try to define `R_list` as a list of squared residuals. Then simply find `R` as `sum(R_list)/len(R_list)`."
   ]
  },
  {
   "cell_type": "code",
   "execution_count": null,
   "metadata": {},
   "outputs": [],
   "source": [
    "\n",
    "#-------------------------------------------------------------------------\n",
    "# MEAN SQUARE ERROR.\n",
    "\n",
    "def meanSquareError(x, y, h):      # This is type 2, i.e. can apply different functions to the same dataset.\n",
    "\n",
    "\n",
    "\n",
    "#-------------------------------------------------------------------------\n",
    "\n",
    "# DATASET\n",
    "x = [0.0, 1.0, 2.0, 3.0, 4.0, 5.0, 6.0, 7.0, 8.0, 9.0, 10.0]\n",
    "y = [0.0, 2.2, 3.9, 5.7, 8.2, 10.9, 12.1, 15.0, 16.5, 19.0, 21.0]\n",
    "\n",
    "l1 = linearModel(2, 0)\n",
    "l2 = linearModel(1, 0)\n",
    "l3 = linearModel(2, 5)\n",
    "p1 = polynomialModel(0, 2)\n",
    "\n",
    "print(meanSquareError(x, y, l1))\n",
    "print(meanSquareError(x, y, l2))\n",
    "print(meanSquareError(x, y, l3))\n",
    "print(meanSquareError(x, y, p1))  # Note polynomial model with args 0, 2 should be exactly the same as linear(2, 0)"
   ]
  },
  {
   "cell_type": "markdown",
   "metadata": {},
   "source": [
    "#### iv). \n",
    "\n",
    "Part iv). of this exercise involves building on part ii).'s code using the same model based evaluations but this time instead of using a `for` loop, utilising the `map()` function to map a function to each element of an iterable."
   ]
  },
  {
   "cell_type": "markdown",
   "metadata": {},
   "source": [
    "**Hint**: Using the `map()` function involves the first argument to be a function that takes `m` arguments, whilst the subsequent arguments to `map()` should be iterables. If the function takes `m` arguments, there should be `m` iterables/lists, map will then take each element of each list and pass them as arguments to the function argument.\n",
    "\n",
    "For instance:\n",
    "\n",
    "for\n",
    "$x = [x_0, x_1, x_2,..., x_n]$, $y = [y_0, y_1, y_2,..., y_n]$, $z = [z_0, z_1, z_2,..., z_n]$\n",
    "and $f(x, y, z)$\n",
    "\n",
    "then `h = map(f, x, y, z)` makes a list of $h = [f(x_0, y_0, z_0), f(x_1, y_1, z_1), ..., f(x_n, y_n, z_n)]$\n",
    "\n",
    "**NOTE** the first argument to `map()` is always the **callable** function. \n",
    "\n",
    "**Hint**: It may be useful to define a **square error** function that returns $(y-y_{predict})^2$ for $y_{predict} = h(x)$."
   ]
  },
  {
   "cell_type": "code",
   "execution_count": null,
   "metadata": {},
   "outputs": [],
   "source": [
    "#-------------------------------------------------------------------------\n",
    "    \n",
    "def squareError(y, y_pred):\n",
    "    \n",
    "    \n",
    "\n",
    "#-------------------------------------------------------------------------\n",
    "\n",
    "def meanSquareError(x, y, h):\n",
    "    \n",
    "    \n",
    "    \n",
    "    \n",
    "#-------------------------------------------------------------------------\n",
    "# DATASET\n",
    "x = [0.0, 1.0, 2.0, 3.0, 4.0, 5.0, 6.0, 7.0, 8.0, 9.0, 10.0]\n",
    "y = [0.0, 2.2, 3.9, 5.7, 8.2, 10.9, 12.1, 15.0, 16.5, 19.0, 21.0]\n",
    "\n",
    "l1 = linearModel(2, 0)\n",
    "l2 = linearModel(1, 0)\n",
    "l3 = linearModel(2, 5)\n",
    "p1 = polynomialModel(0, 2)\n",
    "\n",
    "print(meanSquareError(x, y, l1))\n",
    "print(meanSquareError(x, y, l2))\n",
    "print(meanSquareError(x, y, l3))\n",
    "print(meanSquareError(x, y, p1))"
   ]
  },
  {
   "cell_type": "markdown",
   "metadata": {},
   "source": [
    "**Summary**: This exercise had many parts and was quite long, but the point is there are **many ways to achieve the same result**. Mainly it comes down to **if your functions need to interface with any other functions** but otherwise it is **simply personal preference** or **speed** (some implentations may be quicker than others, research will be required for figuring out which implementation is quicker). \n",
    "\n",
    "Hopefully seeing some of the ways that this same exercise can be approached will open your horizons on **how to approach different problems** both with **function design** and actual **implementation**. "
   ]
  },
  {
   "cell_type": "markdown",
   "metadata": {},
   "source": [
    "## Part 4.4: Lambda functions"
   ]
  },
  {
   "cell_type": "markdown",
   "metadata": {},
   "source": [
    "Lambda functions are simple, quick, one line functions implemented using the `lambda` keyword. \n",
    "\n",
    "Lambda functions are functions with a singular line of code and can be implemented like so:"
   ]
  },
  {
   "cell_type": "code",
   "execution_count": 58,
   "metadata": {},
   "outputs": [
    {
     "name": "stdout",
     "output_type": "stream",
     "text": [
      "Hello\n"
     ]
    }
   ],
   "source": [
    "f = lambda: print(\"Hello\")\n",
    "f()"
   ]
  },
  {
   "cell_type": "markdown",
   "metadata": {},
   "source": [
    "Here the `lambda` function is started straight after the keyword and does not use indentation or whitespace. \n",
    "\n",
    "Lambda functions can take parameters by typing the parameter name straight after `lambda`, followed by a colon, followed by the returning value."
   ]
  },
  {
   "cell_type": "code",
   "execution_count": 59,
   "metadata": {},
   "outputs": [
    {
     "name": "stdout",
     "output_type": "stream",
     "text": [
      "16\n"
     ]
    }
   ],
   "source": [
    "lambda_func = lambda x: x**2\n",
    "print(lambda_func(4))"
   ]
  },
  {
   "cell_type": "markdown",
   "metadata": {},
   "source": [
    "Lambda functions can do more complicated things, so long as the function is still one line long."
   ]
  },
  {
   "cell_type": "code",
   "execution_count": 60,
   "metadata": {},
   "outputs": [
    {
     "name": "stdout",
     "output_type": "stream",
     "text": [
      "[(0, 'apples'), (1, 'oranges'), (2, 'limes'), (3, 'blueberries')]\n"
     ]
    }
   ],
   "source": [
    "index_el = lambda l: [(i, l[i]) for i in range(len(l))]\n",
    "fruit_list = [\"apples\", \"oranges\", \"limes\", \"blueberries\"]\n",
    "print(index_el(fruit_list))"
   ]
  },
  {
   "cell_type": "markdown",
   "metadata": {},
   "source": [
    "Lambda functions can even be used instead of other functions. "
   ]
  },
  {
   "cell_type": "code",
   "execution_count": 61,
   "metadata": {},
   "outputs": [
    {
     "name": "stdout",
     "output_type": "stream",
     "text": [
      "11\n",
      "11\n"
     ]
    }
   ],
   "source": [
    "def lin(x, m, c):\n",
    "    return x*m + c\n",
    "\n",
    "lin2 = lambda x,m,c: x*m + c\n",
    "\n",
    "print(lin(3, 2, 5))\n",
    "print(lin2(3, 2, 5))"
   ]
  },
  {
   "cell_type": "markdown",
   "metadata": {},
   "source": [
    "Similarly, lambda functions can call other functions, and can even be used in a similar way to how we used functions within functions."
   ]
  },
  {
   "cell_type": "code",
   "execution_count": 62,
   "metadata": {},
   "outputs": [
    {
     "name": "stdout",
     "output_type": "stream",
     "text": [
      "11\n"
     ]
    }
   ],
   "source": [
    "lin3 = lambda x: lin(x, 2, 5)\n",
    "print(lin3(3))"
   ]
  },
  {
   "cell_type": "markdown",
   "metadata": {},
   "source": [
    "This means that instead of defining a `linearModel` function with inner and outer functions, we could simply use a `lambda` function to make a function that calls the `linear` function with specific parameters. \n",
    "\n",
    "Alternatively, they could be used in the other way, by specifying the `x` values but allowing the `m` and `c` values to be changed."
   ]
  },
  {
   "cell_type": "markdown",
   "metadata": {},
   "source": [
    "When you find yourself writing only one line for a function, consider using a lambda function."
   ]
  },
  {
   "cell_type": "code",
   "execution_count": 63,
   "metadata": {},
   "outputs": [
    {
     "name": "stdout",
     "output_type": "stream",
     "text": [
      "11\n"
     ]
    }
   ],
   "source": [
    "x = 3\n",
    "dataset_model = lambda m, c: lin(x, m, c)\n",
    "print(dataset_model(2, 5))"
   ]
  },
  {
   "cell_type": "markdown",
   "metadata": {},
   "source": [
    "Here the function knows what `x` is as `x` is in the **global** scope. "
   ]
  },
  {
   "cell_type": "markdown",
   "metadata": {},
   "source": [
    "For the previous residual mean squared errors exercise, we could also have used lambda functions.\n",
    "\n",
    "The below code does a similar thing, all in one line. Admittedly its more difficult to process exactly what is going on, therefore it may not always be the best idea to use `lambda` functions for every instance. Also, to try out different linear relationships or other functions instead of linear functions, the code would have to be written out again."
   ]
  },
  {
   "cell_type": "code",
   "execution_count": 64,
   "metadata": {},
   "outputs": [
    {
     "name": "stdout",
     "output_type": "stream",
     "text": [
      "41.75\n"
     ]
    }
   ],
   "source": [
    "x = [0.0, 1.0, 2.0, 3.0, 4.0, 5.0, 6.0, 7.0, 8.0, 9.0, 10.0]\n",
    "y = [0.0, 2.2, 3.9, 5.7, 8.2, 10.9, 12.1, 15.0, 16.5, 19.0, 21.0]\n",
    "\n",
    "R = sum(list(map(lambda y,h: (y-h)**2, y, map(lambda x: lin(x, 1, 0), x))))/len(y)\n",
    "\n",
    "print(R)"
   ]
  },
  {
   "cell_type": "markdown",
   "metadata": {},
   "source": [
    "To explain what the above code is doing:\n",
    "\n",
    "1. Firstly it uses `map(lambda x: lin(x, 1, 0), x)` to map the function `lambda x: lin(x, 1, 0)` to the iterable `x` dataset. The function `lambda x: lin(x, 1, 0)` takes one argument, namely `x` and outputs `lin(x, 1, 0)` which calls the `lin()` function with `m=1` and `c=0`. The map function creates a `map` object of each element in `x` going through the `lambda x: lin(x, 1, 0)` function, this essentially produces a `y_predict` iterable.\n",
    "\n",
    "Now we have:\n",
    "\n",
    "`R = sum(list(map(lambda y,h: (y-h)**2, y, y_predict)))/len(y)`\n",
    "\n",
    "2. Now, the second `map(lambda y,h: (y-h)**2, y, y_predict)` maps the `lambda y,h: (y-h)**2` function to both `y` and `y_predict`. This passes each the elements of `y` as `y` and `y_predict` as `h` to the `lambda y,h: (y-h)**2` function and returns a `map` iterable object with `(y-y_predict)**2` for the elements. \n",
    "\n",
    "Now we have:\n",
    "\n",
    "`R = sum(list(residual_errors))/len(y)`\n",
    "\n",
    "3. Then we convert the `map` object into a `list`, take the `sum()` of that `list` and divide it by the `len()` of `y` to return the **mean squared error**."
   ]
  },
  {
   "cell_type": "markdown",
   "metadata": {},
   "source": [
    "Whilst the above code is extremely compact, it is not very intuitive to read or process easily, but it can be done that way if that is your preference."
   ]
  },
  {
   "cell_type": "markdown",
   "metadata": {},
   "source": [
    "### Exercise 4.8: Lambda functions"
   ]
  },
  {
   "cell_type": "markdown",
   "metadata": {},
   "source": [
    "In this exercise, we will use `lambda` functions to create a lorentzian peak model function.\n",
    "\n",
    "The expression for a lorentzian distribution is:\n",
    "$$\n",
    "l(x) = \\frac{A}{1+(\\frac{x-m}{w})^2}\n",
    "$$\n",
    "\n",
    "where $A$ is the amplitude/height of the distribution, $m$ is the center point or mean of the distribution and $w$ is the width, concretely the half-width at half-maximum of the peak.\n",
    "\n",
    "**Hint**: The code is similar to how we defined `polynomialModel` and `linearModel` before, except now instead of using functions within functions, we return a `lambda` function since the returned line can be written on one line."
   ]
  },
  {
   "cell_type": "code",
   "execution_count": null,
   "metadata": {},
   "outputs": [],
   "source": [
    "def lorentzian(A, m, w):\n",
    "#---------------------------------------------------------------\n",
    "# YOUR CODE HERE\n",
    "\n",
    "\n",
    "\n",
    "#---------------------------------------------------------------\n",
    "# Change the peak centers and re-execute the code to see the ouput.\n",
    "centers = [1000, 1200]\n",
    "l1 = lorentzian(1, centers[0], 100)     # Making one lorenztian peak.\n",
    "l2 = lorentzian(0.5, centers[1], 100)   # Making a second lorenztian peak.\n",
    "\n",
    "# List of x values of peak centers and inbetween both peaks.\n",
    "x_values = [centers[0], sum(centers)/len(centers), centers[1]]\n",
    "\n",
    "# Evaluating the peaks at different values of 'x'.\n",
    "#---------------------------------------------------------------\n",
    "for x_value in x_values:\n",
    "    print(f'peak 1 at x = {x_value}: {l1(x_value)}') # Output from peaks at each x value.\n",
    "    print(f'peak 2 at x = {x_value}: {l2(x_value)}')\n",
    "    print(f'peak 1 + peak 2 at x = {x_value}: {l1(x_value)+l2(x_value)}')  # Output from both peaks.\n",
    "\n",
    "#---------------------------------------------------------------\n",
    "# VISUALISING THE RESULTS\n",
    "%matplotlib inline\n",
    "\n",
    "import matplotlib.pyplot as plt\n",
    "import numpy as np\n",
    "\n",
    "x = np.linspace(0, 2000, 500)\n",
    "y = l1(x) + l2(x)\n",
    "peak1 = l1(x)\n",
    "peak2 = l2(x)\n",
    "\n",
    "plt.plot(x, peak1, 'r-', label='peak 1')\n",
    "plt.plot(x, peak2, 'g-', label='peak 2')\n",
    "plt.plot(x, y, 'm--', label= 'peak 1 + peak 2')\n",
    "for x_value in x_values:\n",
    "    plt.vlines(x_value, linestyle=':', color='k', ymin=0, ymax=max(y))\n",
    "plt.axhline(0.0, linestyle='--', color='k')\n",
    "plt.legend()\n",
    "plt.show()"
   ]
  },
  {
   "cell_type": "markdown",
   "metadata": {},
   "source": [
    "When evaluated correctly, executing this cell should produce the output of the two specified peaks, as well as plotting a small plot showing each peak and their summation. \n",
    "\n",
    "More on plotting libraries like `matplotlib` and numerical python libraries like `numpy` in subsequent parts."
   ]
  },
  {
   "cell_type": "markdown",
   "metadata": {},
   "source": [
    "## Part 4.5: Recursive functions"
   ]
  },
  {
   "cell_type": "markdown",
   "metadata": {},
   "source": [
    "Python supports recursive functions. Recursive functions are functions that **call themselves** when called. This means that during the function call the function can continually call itself if a `break` statement is not involved.\n",
    "\n",
    "This is useful if you do not want to write out a large number of terms for an equation, you can simply make the function re-call itself until a certain point."
   ]
  },
  {
   "cell_type": "markdown",
   "metadata": {},
   "source": [
    "One such example could be:"
   ]
  },
  {
   "cell_type": "code",
   "execution_count": 65,
   "metadata": {},
   "outputs": [
    {
     "name": "stdout",
     "output_type": "stream",
     "text": [
      "blueberries\n",
      "limes\n",
      "oranges\n",
      "apples\n"
     ]
    }
   ],
   "source": [
    "def recur_func(a_list):\n",
    "    if len(a_list) == 0:\n",
    "        return\n",
    "    print(a_list.pop())\n",
    "    return recur_func(a_list)\n",
    "\n",
    "recur_func(fruit_list)"
   ]
  },
  {
   "cell_type": "markdown",
   "metadata": {},
   "source": [
    "As you can see here, we did not use a loop, simply we used `list.pop()` to **pop** the last element of the list off, which we printed.\n",
    "\n",
    "Then the function called itself again with the list after popping, meaning the `len(fruit_list) - len(fruit_list.pop()) == 1` meaning that each time `.pop()` is called, it makes the length of the list **one less**. At the point at which the length of the list is `0`, the function `return`'s. \n",
    "\n",
    "The same can be done with numbers:"
   ]
  },
  {
   "cell_type": "code",
   "execution_count": 66,
   "metadata": {},
   "outputs": [
    {
     "name": "stdout",
     "output_type": "stream",
     "text": [
      "273\n",
      "90\n"
     ]
    }
   ],
   "source": [
    "def addAll(*args):\n",
    "    if len(args) == 1:\n",
    "        return args[0]\n",
    "    return args[0]+addAll(*args[1:])\n",
    "\n",
    "print(addAll(89,73,12,34,43,2,4,5,6,3,2))\n",
    "print(addAll(90))"
   ]
  },
  {
   "cell_type": "markdown",
   "metadata": {},
   "source": [
    "The above code takes an arbitrary number of positional arguments `*args`. It checks the length of `args`, if it is equal to `1` it simply returns the **first element** of `args`. Otherwise it returns the first element `args[0]` plus it calls `addAll()` with `args` unpacked (`*args`) from the second element to the last as the `*args`, (`*args[1:]`). \n",
    "\n",
    "This then is an arbitrary number of `args` with one less than the input, hence `[1:]`. Therefore at one point the length of `args` passed to `addAll()` will be `1`, and therefore the recursion will stop.\n",
    "\n",
    "It is very similar to this:\n",
    "\n",
    "if $x = [x_0, x_1, x_2, x_3, ... , x_n]$\n",
    "\n",
    "\n",
    "addAll$(x) = x_0 +$ addAll$(x_1, ..., x_n) +$ addAll$(x_2, ..., x_n) +, ..., + $addAll$(x_n)$"
   ]
  },
  {
   "cell_type": "markdown",
   "metadata": {},
   "source": [
    "Whilst this is a very simple example, recursive functions can be very powerful. "
   ]
  },
  {
   "cell_type": "markdown",
   "metadata": {},
   "source": [
    "For instance we can make a factorial function easily:"
   ]
  },
  {
   "cell_type": "code",
   "execution_count": 67,
   "metadata": {},
   "outputs": [
    {
     "name": "stdout",
     "output_type": "stream",
     "text": [
      "120\n"
     ]
    }
   ],
   "source": [
    "def factorial(n):\n",
    "    if n == 0:\n",
    "        return 1\n",
    "    return n*factorial(n-1)\n",
    "\n",
    "print(factorial(5))"
   ]
  },
  {
   "cell_type": "markdown",
   "metadata": {},
   "source": [
    "This takes the value `n`, checks to see if it is equal to `0`, if it is not, it returns `n*factorial(n-1)` meaning it calls itself but this time with `n-1`. Therefore at one point `n-1 == 0` and the conditional will be `True` and the function will return `1`. \n",
    "\n",
    "This time it is similar to this:\n",
    "\n",
    "factorial$(x) = x$factorial$(x-1)$<br>\n",
    "factorial$(x-1) = (x-1)$factorial$(x-2)$<br>\n",
    ":<br>\n",
    ":\n",
    "factorial(0) = 1\n",
    "\n",
    "Therefore:<br>\n",
    "factorial$(x) = x(x-1)(x-2)(x-3)(x-4)....(2)(1)$"
   ]
  },
  {
   "cell_type": "markdown",
   "metadata": {},
   "source": [
    "This could also be written using a `for` loop and the `*=` operator and numerous other ways, however function recursion is powerful.\n",
    "\n",
    "It can even be written on a single line using a compact `lambda` function."
   ]
  },
  {
   "cell_type": "code",
   "execution_count": 68,
   "metadata": {},
   "outputs": [
    {
     "name": "stdout",
     "output_type": "stream",
     "text": [
      "120\n"
     ]
    }
   ],
   "source": [
    "factor = lambda n: n*factor(n-1) if n != 0 else 1\n",
    "\n",
    "print(factor(5))"
   ]
  },
  {
   "cell_type": "markdown",
   "metadata": {},
   "source": [
    "This `lambda` function has the syntax where the `return` value is equal to `n*factor(n-1)` if `n != 0` i.e. if `n` is not equal (`!=`) to `0`, otherwise it returns `1`. Without the `if` statement, the function would recurse infinitely and will receieve a `RecursionError`. "
   ]
  },
  {
   "cell_type": "markdown",
   "metadata": {},
   "source": [
    "### Exercise 4.9: Recursive functions"
   ]
  },
  {
   "cell_type": "markdown",
   "metadata": {},
   "source": [
    "In this exercise, we shall use recursion to create recursive functions."
   ]
  },
  {
   "cell_type": "markdown",
   "metadata": {},
   "source": [
    "#### i).\n",
    "\n",
    "Part i). starts with creating a function to produce an $n$ order power of `x`. \n",
    "\n",
    "For instance:\n",
    "\n",
    "$$\n",
    "f(x, n) = x^n + x^{n-1} + x^{n-2} + x^{n-2} + ... + x^{1} + x^{0} \n",
    "$$\n",
    "\n",
    "We can do this by passing `n` and `x` as arguments to the function and utilising recursion."
   ]
  },
  {
   "cell_type": "code",
   "execution_count": null,
   "metadata": {},
   "outputs": [],
   "source": [
    "def power_order(x, n):\n",
    "#---------------------------------------------------------------\n",
    "# YOUR CODE HERE\n",
    "\n",
    "\n",
    "\n",
    "#---------------------------------------------------------------\n",
    "\n",
    "print(power_order(5, 2))    # These values should be the same if correct.\n",
    "print(5**2 + 5**1 + 5**0)\n",
    "\n",
    "print(power_order(2, 1))\n",
    "print(2**1 + 2**0)\n",
    "\n",
    "print(power_order(4, 5))\n",
    "print(4**5 + 4**4 + 4**3 + 4**2 + 4**1 + 4**0)"
   ]
  },
  {
   "cell_type": "markdown",
   "metadata": {},
   "source": [
    "#### ii). \n",
    "\n",
    "Part ii). builds on the previous code by utilising coeffecients for a recursive polynomial. \n",
    "\n",
    "A polynomial of:\n",
    "$$\n",
    "p(x) = \\sum\\limits_{i=0}^N a_ix^i = a_nx^n + a_{n-1}x^{n-1} + ... + a_1x^1 + a_0x^0\n",
    "$$\n",
    "\n",
    "can also be written as \n",
    "$$\n",
    "p(x) = a_0 + x(a_1 + x(a_2 + ... x(a_{n-1} + xa_n)))\n",
    "$$"
   ]
  },
  {
   "cell_type": "markdown",
   "metadata": {},
   "source": [
    "Use this form of a polynomial to write a function `polynom` that takes `x` and `*coeffs` as arguments and returns the value for the polynomial for that value of `x`. Use function recursion to call the function itself to achieve this. "
   ]
  },
  {
   "cell_type": "markdown",
   "metadata": {},
   "source": [
    "**Hint**: Think about how `coeffs` is getting passed into the function and how to access/pass a separate slice back into the function when recursing. Make sure to include a break point to end the recursion at."
   ]
  },
  {
   "cell_type": "code",
   "execution_count": null,
   "metadata": {},
   "outputs": [],
   "source": [
    "def polynom(x, *coeffs):\n",
    "#---------------------------------------------------------------\n",
    "# YOUR CODE HERE\n",
    "\n",
    "\n",
    "\n",
    "#---------------------------------------------------------------\n",
    "\n",
    "print(polynom(3, 0, 0, 2))           # These values should be the same if your code is correct. \n",
    "print(0*3**0 + 0*3**1 + 2*3**2)\n",
    "print(0 + 3*(0 + 3*(2)))\n",
    "\n",
    "print(polynom(2, 0, 1, 1, 1, 1, 1))\n",
    "print(0*2**0 + 1*2**1 + 1*2**2 + 1*2**3 + 1*2**4 + 1*2**5)\n",
    "print(0 + 2*(1 + 2*(1 + 2*(1 + 2*(1 + 2*(1))))))"
   ]
  },
  {
   "cell_type": "markdown",
   "metadata": {},
   "source": [
    "As you can see, function recursion can be a powerful feature to implement when iterating large numbers of terms."
   ]
  },
  {
   "cell_type": "markdown",
   "metadata": {},
   "source": [
    "## Part 4.6: Generator functions"
   ]
  },
  {
   "cell_type": "markdown",
   "metadata": {},
   "source": [
    "The final part of Part 4 will be on generator functions. \n",
    "\n",
    "These are less used but it is useful to understand how they work.\n",
    "\n",
    "Generator functions do not use the `return` keyword, instead, they use the `yield` keyword. They are typically used to **generate** an **iterator** object through the use of loops.\n",
    "\n",
    "For instance:"
   ]
  },
  {
   "cell_type": "code",
   "execution_count": 69,
   "metadata": {},
   "outputs": [
    {
     "name": "stdout",
     "output_type": "stream",
     "text": [
      "['apples', 'oranges', 'lemons', 'limes']\n",
      "<generator object genFunc at 0x10c83c200>\n"
     ]
    }
   ],
   "source": [
    "fruit_list = ['apples', 'oranges', 'lemons', 'limes']\n",
    "\n",
    "def genFunc(a_list):\n",
    "    for el in a_list:\n",
    "        yield el.capitalize()\n",
    "\n",
    "print(fruit_list)\n",
    "print(genFunc(fruit_list))"
   ]
  },
  {
   "cell_type": "markdown",
   "metadata": {},
   "source": [
    "As you can see, the function  returns a generator object, which is an iterator and can therefore either be iterated through or converted to another data container such as a `list` or a `tuple` to view the contents."
   ]
  },
  {
   "cell_type": "code",
   "execution_count": 70,
   "metadata": {},
   "outputs": [
    {
     "name": "stdout",
     "output_type": "stream",
     "text": [
      "Apples\n",
      "Oranges\n",
      "Lemons\n",
      "Limes\n",
      "['Apples', 'Oranges', 'Lemons', 'Limes']\n"
     ]
    }
   ],
   "source": [
    "for element in genFunc(fruit_list):\n",
    "    print(element)\n",
    "    \n",
    "print(list(genFunc(fruit_list)))"
   ]
  },
  {
   "cell_type": "markdown",
   "metadata": {},
   "source": [
    "The `genFunc()` has acted on each element of the list by capitalizing them, and instead of returning a list, it `yield`'s each element, which creates a generator. "
   ]
  },
  {
   "cell_type": "markdown",
   "metadata": {},
   "source": [
    "# Summary"
   ]
  },
  {
   "cell_type": "markdown",
   "metadata": {},
   "source": [
    "This part has had a heavy focus on one of the most powerful and useful concepts in programming languages, namely, functions.\n",
    "\n",
    "Functions are essential when working with any kind of data to make code reusable and viewer friendly. They promote code which does not repeat itself and are therefore very useful when working with large quantities of data effeciently. \n",
    "\n",
    "Hopefully this part has given you a flavour of how to use functions, the various ways they can be implemented, and allowed you to be on the lookout for when you think a function is being called/used in the future. \n",
    "\n",
    "Part 5 will be on defining our own types of objects or **classes**.\n",
    "\n",
    "If you are stuck on any of the exercises, be sure to check the solutions, and if not, drop me an email!\n",
    "\n",
    "Happy coding!"
   ]
  }
 ],
 "metadata": {
  "kernelspec": {
   "display_name": "Python 3",
   "language": "python",
   "name": "python3"
  },
  "language_info": {
   "codemirror_mode": {
    "name": "ipython",
    "version": 3
   },
   "file_extension": ".py",
   "mimetype": "text/x-python",
   "name": "python",
   "nbconvert_exporter": "python",
   "pygments_lexer": "ipython3",
   "version": "3.8.1"
  }
 },
 "nbformat": 4,
 "nbformat_minor": 4
}
